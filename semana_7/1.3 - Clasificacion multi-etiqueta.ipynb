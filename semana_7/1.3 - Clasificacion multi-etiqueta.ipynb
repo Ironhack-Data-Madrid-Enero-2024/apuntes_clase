{
 "cells": [
  {
   "cell_type": "markdown",
   "id": "b918d378",
   "metadata": {},
   "source": [
    "# 1.3 - Clasificacion multi-etiqueta\n",
    "\n",
    "![mlr](images/mlr.png)\n",
    "\n",
    "\n",
    "![telecom](images/telecom.jpeg)"
   ]
  },
  {
   "cell_type": "code",
   "execution_count": null,
   "id": "a3059703",
   "metadata": {},
   "outputs": [],
   "source": [
    "import pandas as pd                                # panel data, for handling dataframes\n",
    "pd.set_option('display.max_columns', None)         # show all columns of the dataframe\n",
    "\n",
    "import numpy as np                                 # numerical python, linear algebra library\n",
    "\n",
    "import pylab as plt                                # plotting library\n",
    "import seaborn as sns                              # plotting library\n",
    "sns.set(style='white')                             # seaborn style\n",
    "\n",
    "\n",
    "from sklearn.linear_model import LogisticRegression            # logistic regression model            \n",
    "from sklearn.preprocessing import StandardScaler               # standarized\n",
    "from sklearn.preprocessing import LabelEncoder               \n",
    "\n",
    "from sklearn.model_selection import train_test_split as tts    # split data into train and test sets"
   ]
  },
  {
   "cell_type": "markdown",
   "id": "be7c8e40",
   "metadata": {},
   "source": [
    "### Datos"
   ]
  },
  {
   "cell_type": "code",
   "execution_count": null,
   "id": "2f214247",
   "metadata": {},
   "outputs": [],
   "source": [
    "df=pd.read_csv('../data/churn.csv')\n",
    "\n",
    "df.head()"
   ]
  },
  {
   "cell_type": "code",
   "execution_count": null,
   "id": "b451e0ad",
   "metadata": {},
   "outputs": [],
   "source": [
    "df.Contract.value_counts()"
   ]
  },
  {
   "cell_type": "code",
   "execution_count": null,
   "id": "f06816be",
   "metadata": {},
   "outputs": [],
   "source": [
    "(df.Contract.value_counts()/len(df)).plot.bar(color=['b', 'r', 'g'],    \n",
    "                                           figsize=(10, 6),\n",
    "                                           title='Contract type',\n",
    "                                           rot=0,\n",
    "                                           fontsize=12);"
   ]
  },
  {
   "cell_type": "markdown",
   "id": "3bfda80b",
   "metadata": {},
   "source": [
    "### Transformacion"
   ]
  },
  {
   "cell_type": "code",
   "execution_count": null,
   "id": "1e353511",
   "metadata": {},
   "outputs": [],
   "source": [
    "data_num=pd.DataFrame(StandardScaler().fit_transform(df._get_numeric_data()),  # standardize numeric columns\n",
    "                      columns=df._get_numeric_data().columns)\n",
    "\n",
    "data_obj=df.select_dtypes(include='object')  # get categoric columns\n",
    "\n",
    "\n",
    "data=pd.concat([data_num, data_obj], axis=1)   # concatenate both dataframes"
   ]
  },
  {
   "cell_type": "code",
   "execution_count": null,
   "id": "3990580c",
   "metadata": {},
   "outputs": [],
   "source": [
    "# label encoding \n",
    "\n",
    "le=LabelEncoder()\n",
    "\n",
    "for c in data.columns:\n",
    "    if data.dtypes[c]==object:\n",
    "        le.fit(data[c].astype(str))\n",
    "        data[c]=le.transform(data[c].astype(str))"
   ]
  },
  {
   "cell_type": "code",
   "execution_count": null,
   "id": "972e877c",
   "metadata": {},
   "outputs": [],
   "source": [
    "data.head()"
   ]
  },
  {
   "cell_type": "markdown",
   "id": "5edcbfcc",
   "metadata": {},
   "source": [
    "### Modelado"
   ]
  },
  {
   "cell_type": "code",
   "execution_count": null,
   "id": "19a5c7ec",
   "metadata": {},
   "outputs": [],
   "source": [
    "X=data.drop('Contract', axis=1)   # all data except target\n",
    "\n",
    "y=data.Contract               # target data"
   ]
  },
  {
   "cell_type": "code",
   "execution_count": null,
   "id": "cce6860d",
   "metadata": {},
   "outputs": [],
   "source": [
    "y.unique()"
   ]
  },
  {
   "cell_type": "code",
   "execution_count": null,
   "id": "412be40a",
   "metadata": {},
   "outputs": [],
   "source": [
    "X_train, X_test, y_train, y_test=tts(X, y, random_state=42)"
   ]
  },
  {
   "cell_type": "code",
   "execution_count": null,
   "id": "4ca1f956",
   "metadata": {},
   "outputs": [],
   "source": [
    "logreg=LogisticRegression(max_iter=2000)\n",
    "\n",
    "logreg.fit(X_train, y_train)"
   ]
  },
  {
   "cell_type": "code",
   "execution_count": null,
   "id": "9a100e77",
   "metadata": {},
   "outputs": [],
   "source": [
    "y_pred=logreg.predict(X_test)   \n",
    "\n",
    "y_pred[:10]"
   ]
  },
  {
   "cell_type": "code",
   "execution_count": null,
   "id": "b5c84614",
   "metadata": {},
   "outputs": [],
   "source": [
    "sum(y_pred==y_test)/y_pred.shape[0]*100  # acierto, accuracy"
   ]
  },
  {
   "cell_type": "code",
   "execution_count": null,
   "id": "9200fb51",
   "metadata": {},
   "outputs": [],
   "source": [
    "y_prob=logreg.predict_proba(X_test)   \n",
    "\n",
    "y_prob[:10]"
   ]
  },
  {
   "cell_type": "code",
   "execution_count": null,
   "id": "d9e74bae",
   "metadata": {},
   "outputs": [],
   "source": []
  }
 ],
 "metadata": {
  "kernelspec": {
   "display_name": "clase",
   "language": "python",
   "name": "clase"
  },
  "language_info": {
   "codemirror_mode": {
    "name": "ipython",
    "version": 3
   },
   "file_extension": ".py",
   "mimetype": "text/x-python",
   "name": "python",
   "nbconvert_exporter": "python",
   "pygments_lexer": "ipython3",
   "version": "3.9.12"
  }
 },
 "nbformat": 4,
 "nbformat_minor": 5
}
