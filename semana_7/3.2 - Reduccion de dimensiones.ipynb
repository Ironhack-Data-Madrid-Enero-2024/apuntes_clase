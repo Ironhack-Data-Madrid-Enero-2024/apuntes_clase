{
 "cells": [
  {
   "cell_type": "markdown",
   "id": "c3c95002",
   "metadata": {},
   "source": [
    "# 3.2 - Reduccion de dimensiones\n",
    "\n",
    "### PCA  (análisis de componente principal)\n",
    "\n",
    "**PCA** es una transformación lineal usada para reducir dimensiones en los datos.\n",
    "\n",
    "¿Por qué reducir dimensiones?\n",
    "\n",
    "Existen varias razones, entre ellas:\n",
    "+ Mejora de la performance\n",
    "+ Mejor manejo de la dispersión de los datos\n",
    "+ Maldición de las dimensiones (ojo-también existe la bendición)\n",
    "+ etc...\n",
    "\n",
    "\n",
    "Hay dos maneras diferentes de hacer ésta transformación:\n",
    "\n",
    "+ A través de la matriz de correlaciones (dimensiones no homogéneas)\n",
    "+ A través de la matriz de covarianzas (dimensiones homogéneas)\n",
    "\n",
    "Ambas matrices son simétricas y diagonalizables. De hecho, el Teorema Espectral dice que si una matriz es hermítica, cuadrada y de dimensión finita, entonces existe una base de vectores propios donde dicha matriz puede ser representada.\n",
    "Esto quiere decir que podemos cambiar de base para después proyectar, reduciendo las dimensiones e intentando conservar la máxima información en el nuevo subespacio."
   ]
  },
  {
   "cell_type": "markdown",
   "id": "f21d4834",
   "metadata": {},
   "source": [
    "![gio1](images/gioconda.jpeg)\n",
    "![gio2](images/gioconda_lego.png)"
   ]
  },
  {
   "cell_type": "markdown",
   "id": "d9237d55",
   "metadata": {},
   "source": [
    "#### Ejemplo intuitivo"
   ]
  },
  {
   "cell_type": "code",
   "execution_count": null,
   "id": "7be371c7",
   "metadata": {},
   "outputs": [],
   "source": [
    "import pylab as plt\n",
    "%matplotlib inline"
   ]
  },
  {
   "cell_type": "code",
   "execution_count": null,
   "id": "918c2dd8",
   "metadata": {},
   "outputs": [],
   "source": [
    "plt.figure(figsize=(10, 5))\n",
    "plt.scatter([i for i in range(15)],\n",
    "            [i+1 if i%2==0 else i-1 for i in range(15)])\n",
    "\n",
    "plt.quiver(7, 7, 9, 4, color='r', scale=20)\n",
    "plt.quiver(7, 7, -9, -4, color='r', scale=20)\n",
    "plt.plot(7, 8, marker='$PC1$', ms=30, color='r')\n",
    "\n",
    "plt.quiver(9, 9, -5, 4, color='b', scale=40)\n",
    "plt.quiver(9, 9, 5, -4, color='b', scale=40)\n",
    "plt.plot(8, 12, marker='$PC2$', ms=30, color='b');"
   ]
  },
  {
   "cell_type": "markdown",
   "id": "32fe9a13",
   "metadata": {},
   "source": [
    "Se rota y se proyecta, resultando:"
   ]
  },
  {
   "cell_type": "code",
   "execution_count": null,
   "id": "d8a43b84",
   "metadata": {},
   "outputs": [],
   "source": [
    "plt.figure(figsize=(10, 5))\n",
    "plt.scatter([i for i in range(15)],\n",
    "            [6 for i in range(15)])\n",
    "\n",
    "plt.quiver(7, 6, 7, 0, color='r', scale=20)\n",
    "plt.quiver(7, 6, -7, 0, color='r', scale=20)\n",
    "plt.plot(7, 6.25, marker='$PC1$', ms=30, color='r');"
   ]
  },
  {
   "cell_type": "markdown",
   "id": "4c6799d9",
   "metadata": {},
   "source": [
    "##### Resumen PCA\n",
    "\n",
    "+ Normalización de los datos\n",
    "+ Obtener base de vectores propios desde matriz de correlacion o covarianza\n",
    "+ Ordenar los vectores propios de mayor a menor según sus dimensiones en el nuevo subespacio\n",
    "+ Matriz de proyección, con los autovectores seleccionados (W)\n",
    "+ Se transforma X (los datos) según W (matriz de proyección)"
   ]
  },
  {
   "cell_type": "code",
   "execution_count": null,
   "id": "be22e444",
   "metadata": {},
   "outputs": [],
   "source": [
    "import pandas as pd\n",
    "import numpy as np\n",
    "\n",
    "from sklearn.preprocessing import StandardScaler, MinMaxScaler  # normalizacion\n",
    "\n",
    "from sklearn.decomposition import PCA    # PCA\n",
    "\n",
    "import warnings\n",
    "warnings.simplefilter('ignore')"
   ]
  },
  {
   "cell_type": "code",
   "execution_count": null,
   "id": "9029aba5",
   "metadata": {},
   "outputs": [],
   "source": [
    "data=pd.read_csv('../data/pulsar_stars.csv')\n",
    "\n",
    "data.head()"
   ]
  },
  {
   "cell_type": "code",
   "execution_count": null,
   "id": "c8b0fed4",
   "metadata": {},
   "outputs": [],
   "source": [
    "data=data.drop(columns=['target_class'])"
   ]
  },
  {
   "cell_type": "code",
   "execution_count": null,
   "id": "be710909",
   "metadata": {},
   "outputs": [],
   "source": [
    "data.shape"
   ]
  },
  {
   "cell_type": "markdown",
   "id": "14526b4a",
   "metadata": {},
   "source": [
    "#### normalización\n",
    "\n",
    "Recordemos, el primer paso de PCA es la normalización de los datos. \n",
    "\n",
    "Primero, veamos la **estandarización**  ($N(\\mu, \\sigma)$):\n",
    "\n",
    "$$\\frac{x-\\mu}{\\frac{\\sigma}{\\sqrt{n}}}$$"
   ]
  },
  {
   "cell_type": "code",
   "execution_count": null,
   "id": "9ac2461c",
   "metadata": {},
   "outputs": [],
   "source": [
    "data_n_mano = (data - data.mean()) / data.std()\n",
    "\n",
    "data_n = StandardScaler().fit_transform(data)\n",
    "\n",
    "np.sum(data_n_mano - data_n)"
   ]
  },
  {
   "cell_type": "markdown",
   "id": "9e378a25",
   "metadata": {},
   "source": [
    "Ahora el **MinMax** :\n",
    "\n",
    "$$\\frac{x-min}{max-min}$$"
   ]
  },
  {
   "cell_type": "code",
   "execution_count": null,
   "id": "c2b84c7d",
   "metadata": {},
   "outputs": [],
   "source": [
    "data_mm_mano=(data - np.min(data))/(np.max(data) - np.min(data))\n",
    "\n",
    "data_mm=MinMaxScaler().fit_transform(data)\n",
    "\n",
    "np.sum(data_mm_mano - data_mm)"
   ]
  },
  {
   "cell_type": "markdown",
   "id": "cfeff355",
   "metadata": {},
   "source": [
    "Se usa la standarización:"
   ]
  },
  {
   "cell_type": "code",
   "execution_count": null,
   "id": "4c3e9f5b",
   "metadata": {},
   "outputs": [],
   "source": [
    "data = StandardScaler().fit_transform(data)"
   ]
  },
  {
   "cell_type": "markdown",
   "id": "a022dc71",
   "metadata": {},
   "source": [
    "Se aplica **PCA**"
   ]
  },
  {
   "cell_type": "code",
   "execution_count": null,
   "id": "12184a2f",
   "metadata": {},
   "outputs": [],
   "source": [
    "pca = PCA()\n",
    "\n",
    "pca.fit(data)\n",
    "\n",
    "print(data.shape)\n",
    "\n",
    "pca.explained_variance_ratio_"
   ]
  },
  {
   "cell_type": "code",
   "execution_count": null,
   "id": "8ebe3cf5",
   "metadata": {},
   "outputs": [],
   "source": [
    "plt.figure(figsize=(10, 5))\n",
    "\n",
    "plt.plot(np.cumsum(pca.explained_variance_ratio_))\n",
    "\n",
    "plt.xlabel('Numero de componentes')\n",
    "plt.ylabel('% varianza')\n",
    "plt.ylim([0, 1.01]);"
   ]
  },
  {
   "cell_type": "code",
   "execution_count": null,
   "id": "eeee2409",
   "metadata": {},
   "outputs": [],
   "source": [
    "pca = PCA(n_components=4)\n",
    "\n",
    "\n",
    "data_pca = pca.fit_transform(data)\n",
    "\n",
    "\n",
    "df = pd.DataFrame(data_pca)\n",
    "\n",
    "df.head()"
   ]
  },
  {
   "cell_type": "code",
   "execution_count": null,
   "id": "8f6f309b",
   "metadata": {},
   "outputs": [],
   "source": [
    "df.shape"
   ]
  },
  {
   "cell_type": "code",
   "execution_count": null,
   "id": "009581dd",
   "metadata": {},
   "outputs": [],
   "source": [
    "sum(pca.explained_variance_ratio_)"
   ]
  },
  {
   "cell_type": "code",
   "execution_count": null,
   "id": "53d5e4d2",
   "metadata": {},
   "outputs": [],
   "source": [
    "pd.DataFrame(data).head()"
   ]
  },
  {
   "cell_type": "code",
   "execution_count": null,
   "id": "08bb8d81",
   "metadata": {},
   "outputs": [],
   "source": [
    "pd.DataFrame(pca.inverse_transform(df)).head()"
   ]
  },
  {
   "cell_type": "code",
   "execution_count": null,
   "id": "32a4be4f",
   "metadata": {},
   "outputs": [],
   "source": [
    "data=pd.read_csv('../data/pulsar_stars.csv')\n",
    "\n",
    "X = data.drop('target_class', axis=1)\n",
    "\n",
    "y = data.target_class"
   ]
  },
  {
   "cell_type": "code",
   "execution_count": null,
   "id": "204b5ebf",
   "metadata": {},
   "outputs": [],
   "source": [
    "from sklearn.ensemble import RandomForestClassifier as RFC\n",
    "\n",
    "from sklearn.model_selection import train_test_split as tts\n",
    "\n",
    "from sklearn.metrics import f1_score as f1"
   ]
  },
  {
   "cell_type": "code",
   "execution_count": null,
   "id": "53b4af8c",
   "metadata": {},
   "outputs": [],
   "source": [
    "%%time\n",
    "\n",
    "# SIN PCA\n",
    "\n",
    "X_norm = StandardScaler().fit_transform(X)\n",
    "\n",
    "X_train, X_test, y_train, y_test = tts(X_norm, y, train_size=0.8)\n",
    "\n",
    "rfc=RFC()\n",
    "\n",
    "rfc.fit(X_train, y_train)\n",
    "\n",
    "y_pred = rfc.predict(X_test)\n",
    "\n",
    "print(X_norm.shape)\n",
    "\n",
    "f1(y_test, y_pred)"
   ]
  },
  {
   "cell_type": "code",
   "execution_count": null,
   "id": "3b7f3257",
   "metadata": {},
   "outputs": [],
   "source": [
    "%%time\n",
    "\n",
    "# CON PCA\n",
    "\n",
    "X_norm = StandardScaler().fit_transform(X)\n",
    "\n",
    "pca = PCA(n_components=4)\n",
    "\n",
    "X_norm = pca.fit_transform(X_norm)\n",
    "\n",
    "X_train, X_test, y_train, y_test = tts(X_norm, y, train_size=0.8)\n",
    "\n",
    "rfc=RFC()\n",
    "\n",
    "rfc.fit(X_train, y_train)\n",
    "\n",
    "y_pred = rfc.predict(X_test)\n",
    "\n",
    "print(X_norm.shape)\n",
    "\n",
    "f1(y_test, y_pred)"
   ]
  },
  {
   "cell_type": "markdown",
   "id": "784737e7",
   "metadata": {},
   "source": [
    "### UMAP (uniform manifold aprox and projection)\n",
    "\n",
    "Tiene dos pasos:\n",
    "\n",
    "+ KNN con pesos, según topología (grafo)\n",
    "+ Se reduce la dimensión basándose en esa topología\n",
    "\n",
    "https://umap-learn.readthedocs.io/en/latest/"
   ]
  },
  {
   "cell_type": "code",
   "execution_count": null,
   "id": "e4fefcf2",
   "metadata": {},
   "outputs": [],
   "source": [
    "%pip install umap-learn"
   ]
  },
  {
   "cell_type": "code",
   "execution_count": null,
   "id": "56ac5ecd",
   "metadata": {},
   "outputs": [],
   "source": [
    "import umap\n",
    "\n",
    "import seaborn as sns\n",
    "\n",
    "from sklearn.datasets import load_iris"
   ]
  },
  {
   "cell_type": "code",
   "execution_count": null,
   "id": "7f139748",
   "metadata": {},
   "outputs": [],
   "source": [
    "load_iris().data.shape"
   ]
  },
  {
   "cell_type": "code",
   "execution_count": null,
   "id": "6525acc9",
   "metadata": {},
   "outputs": [],
   "source": [
    "data=load_iris().data"
   ]
  },
  {
   "cell_type": "code",
   "execution_count": null,
   "id": "866a9f08",
   "metadata": {},
   "outputs": [],
   "source": [
    "reduc=umap.UMAP(n_components=2).fit_transform(data)\n",
    "\n",
    "reduc.shape"
   ]
  },
  {
   "cell_type": "code",
   "execution_count": null,
   "id": "fb46cfd2",
   "metadata": {},
   "outputs": [],
   "source": [
    "load_iris().target"
   ]
  },
  {
   "cell_type": "code",
   "execution_count": null,
   "id": "0ed87db9",
   "metadata": {},
   "outputs": [],
   "source": [
    "import pylab as plt\n",
    "\n",
    "plt.scatter(reduc[:,0], # x\n",
    "            reduc[:, 1],# y \n",
    "            c=[sns.color_palette()[x] for x in load_iris().target])\n",
    "\n",
    "\n",
    "plt.gca().set_aspect('equal', 'datalim')\n",
    "plt.title('Proyeccion UMAP');"
   ]
  },
  {
   "cell_type": "code",
   "execution_count": null,
   "id": "e6be0753",
   "metadata": {},
   "outputs": [],
   "source": [
    "%%time\n",
    "\n",
    "# SIN UMAP\n",
    "\n",
    "X_norm = StandardScaler().fit_transform(X)\n",
    "\n",
    "X_train, X_test, y_train, y_test = tts(X_norm, y, train_size=0.8)\n",
    "\n",
    "rfc=RFC()\n",
    "\n",
    "rfc.fit(X_train, y_train)\n",
    "\n",
    "y_pred = rfc.predict(X_test)\n",
    "\n",
    "print(X_norm.shape)\n",
    "\n",
    "f1(y_test, y_pred)"
   ]
  },
  {
   "cell_type": "code",
   "execution_count": null,
   "id": "942a1054",
   "metadata": {},
   "outputs": [],
   "source": [
    "%%time\n",
    "\n",
    "# CON UMAP\n",
    "\n",
    "X_norm = StandardScaler().fit_transform(X)\n",
    "\n",
    "X_norm = umap.UMAP(n_components=4).fit_transform(X_norm)\n",
    "\n",
    "X_train, X_test, y_train, y_test = tts(X_norm, y, train_size=0.8)\n",
    "\n",
    "rfc=RFC()\n",
    "\n",
    "rfc.fit(X_train, y_train)\n",
    "\n",
    "y_pred = rfc.predict(X_test)\n",
    "\n",
    "print(X_norm.shape)\n",
    "\n",
    "f1(y_test, y_pred)"
   ]
  },
  {
   "cell_type": "markdown",
   "id": "24a6fc1c",
   "metadata": {},
   "source": [
    "### t-SNE\n",
    "\n",
    "**t-Distributed Stochastic Neighbor Embbeding**\n",
    "\n",
    "Convierte similitudes entre los datos en probabilidad conjunta y trata de minimizar la divergencia _Kullback-Leibler_ (entropía relativa):\n",
    "\n",
    "$$D_{KL}(P|Q)=\\sum P(x)log(\\frac{P(x)}{Q(x)})$$\n",
    "\n",
    "https://scikit-learn.org/stable/auto_examples/manifold/plot_t_sne_perplexity.html"
   ]
  },
  {
   "cell_type": "code",
   "execution_count": null,
   "id": "30f77a8d",
   "metadata": {},
   "outputs": [],
   "source": [
    "from sklearn.manifold import TSNE"
   ]
  },
  {
   "cell_type": "code",
   "execution_count": null,
   "id": "4a69d05a",
   "metadata": {},
   "outputs": [],
   "source": [
    "tsne = TSNE(n_components=2, perplexity=10)\n",
    "\n",
    "emb = tsne.fit_transform(load_iris().data)\n",
    "\n",
    "emb = pd.DataFrame(emb, columns=['e1', 'e2'])\n",
    "\n",
    "emb.head()"
   ]
  },
  {
   "cell_type": "code",
   "execution_count": null,
   "id": "bfcb86b8",
   "metadata": {},
   "outputs": [],
   "source": [
    "emb.plot.scatter(x='e1', \n",
    "                 y='e2', \n",
    "                 c=[sns.color_palette()[x] for x in load_iris().target])\n",
    "\n",
    "plt.title('Proyeccion t-SNE');"
   ]
  },
  {
   "cell_type": "code",
   "execution_count": null,
   "id": "734d74e8",
   "metadata": {},
   "outputs": [],
   "source": [
    "%%time\n",
    "\n",
    "# SIN TSNE\n",
    "\n",
    "X_norm = StandardScaler().fit_transform(X)\n",
    "\n",
    "X_train, X_test, y_train, y_test = tts(X_norm, y, train_size=0.8)\n",
    "\n",
    "rfc=RFC()\n",
    "\n",
    "rfc.fit(X_train, y_train)\n",
    "\n",
    "y_pred = rfc.predict(X_test)\n",
    "\n",
    "print(X_norm.shape)\n",
    "\n",
    "f1(y_test, y_pred)"
   ]
  },
  {
   "cell_type": "code",
   "execution_count": null,
   "id": "5bc59f3c",
   "metadata": {},
   "outputs": [],
   "source": [
    "%%time\n",
    "\n",
    "# CON TSNE\n",
    "\n",
    "X_norm = StandardScaler().fit_transform(X)\n",
    "\n",
    "X_norm = TSNE(n_components=2, perplexity=10).fit_transform(X_norm)\n",
    "\n",
    "X_train, X_test, y_train, y_test = tts(X_norm, y, train_size=0.8)\n",
    "\n",
    "rfc=RFC()\n",
    "\n",
    "rfc.fit(X_train, y_train)\n",
    "\n",
    "y_pred = rfc.predict(X_test)\n",
    "\n",
    "print(X_norm.shape)\n",
    "\n",
    "f1(y_test, y_pred)"
   ]
  },
  {
   "cell_type": "markdown",
   "id": "9a36eacf",
   "metadata": {},
   "source": [
    "## Guardar modelo de machine learning"
   ]
  },
  {
   "cell_type": "code",
   "execution_count": null,
   "id": "444fd8fc",
   "metadata": {},
   "outputs": [],
   "source": [
    "rfc.predict(X_test)[:10]"
   ]
  },
  {
   "cell_type": "code",
   "execution_count": null,
   "id": "d0e38eb9",
   "metadata": {},
   "outputs": [],
   "source": [
    "rfc"
   ]
  },
  {
   "cell_type": "code",
   "execution_count": null,
   "id": "ac78ebb7",
   "metadata": {},
   "outputs": [],
   "source": [
    "# guardar modelo ML\n",
    "\n",
    "import pickle\n",
    "\n",
    "pickle.dump(rfc, open('random_forest_pulsar.pk', 'wb')) # escribe en binario"
   ]
  },
  {
   "cell_type": "code",
   "execution_count": null,
   "id": "6499094c",
   "metadata": {},
   "outputs": [],
   "source": [
    "# cargar modelo\n",
    "\n",
    "modelo_rf = pickle.load(open('random_forest_pulsar.pk', 'rb')) # lee en binario"
   ]
  },
  {
   "cell_type": "code",
   "execution_count": null,
   "id": "0c9ec022",
   "metadata": {},
   "outputs": [],
   "source": [
    "modelo_rf"
   ]
  },
  {
   "cell_type": "code",
   "execution_count": null,
   "id": "01a1fbf6",
   "metadata": {},
   "outputs": [],
   "source": [
    "y_pred = modelo_rf.predict(X_test)\n",
    "\n",
    "f1(y_test, y_pred)"
   ]
  },
  {
   "cell_type": "code",
   "execution_count": null,
   "id": "ee62c877",
   "metadata": {},
   "outputs": [],
   "source": [
    "pickle.dump(pca, open('pca_pulsar.pk', 'wb')) # escribe en binario"
   ]
  },
  {
   "cell_type": "code",
   "execution_count": null,
   "id": "7f8ae330",
   "metadata": {},
   "outputs": [],
   "source": [
    "pickle.load(open('pca_pulsar.pk', 'rb')) # lee en binario"
   ]
  },
  {
   "cell_type": "code",
   "execution_count": null,
   "id": "85323060",
   "metadata": {},
   "outputs": [],
   "source": [
    "modelo_rf"
   ]
  },
  {
   "cell_type": "code",
   "execution_count": null,
   "id": "7be95aa6",
   "metadata": {},
   "outputs": [],
   "source": [
    "# reentrenado desde el actual \n",
    "\n",
    "modelo_rf.fit(X_test, y_test)\n",
    "\n",
    "y_pred = modelo_rf.predict(X_test)\n",
    "\n",
    "f1(y_test, y_pred)"
   ]
  },
  {
   "cell_type": "code",
   "execution_count": null,
   "id": "b864364e",
   "metadata": {},
   "outputs": [],
   "source": []
  }
 ],
 "metadata": {
  "finalized": {
   "timestamp": 1663753257836,
   "trusted": true
  },
  "kernelspec": {
   "display_name": "clase",
   "language": "python",
   "name": "clase"
  },
  "language_info": {
   "codemirror_mode": {
    "name": "ipython",
    "version": 3
   },
   "file_extension": ".py",
   "mimetype": "text/x-python",
   "name": "python",
   "nbconvert_exporter": "python",
   "pygments_lexer": "ipython3",
   "version": "3.9.12"
  },
  "varInspector": {
   "cols": {
    "lenName": 16,
    "lenType": 16,
    "lenVar": 40
   },
   "kernels_config": {
    "python": {
     "delete_cmd_postfix": "",
     "delete_cmd_prefix": "del ",
     "library": "var_list.py",
     "varRefreshCmd": "print(var_dic_list())"
    },
    "r": {
     "delete_cmd_postfix": ") ",
     "delete_cmd_prefix": "rm(",
     "library": "var_list.r",
     "varRefreshCmd": "cat(var_dic_list()) "
    }
   },
   "types_to_exclude": [
    "module",
    "function",
    "builtin_function_or_method",
    "instance",
    "_Feature"
   ],
   "window_display": false
  }
 },
 "nbformat": 4,
 "nbformat_minor": 5
}
