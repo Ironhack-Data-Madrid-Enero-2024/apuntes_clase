{
 "cells": [
  {
   "cell_type": "markdown",
   "metadata": {},
   "source": [
    "# 4.2 - Más modelos USL"
   ]
  },
  {
   "cell_type": "code",
   "execution_count": null,
   "metadata": {},
   "outputs": [],
   "source": [
    "import pylab as plt\n",
    "%matplotlib inline\n",
    "\n",
    "from sklearn.datasets import make_moons"
   ]
  },
  {
   "cell_type": "code",
   "execution_count": null,
   "metadata": {},
   "outputs": [],
   "source": [
    "moons=make_moons(n_samples=100, shuffle=True, noise=0.05)\n",
    "\n",
    "plt.scatter(moons[0][:,0],   # x\n",
    "            moons[0][:,1],   # y\n",
    "            c=moons[1]);     # color"
   ]
  },
  {
   "cell_type": "markdown",
   "metadata": {},
   "source": [
    "# DBSCAN \n",
    "\n",
    "**Density Based Spatial Clustering of Applications with Noise**\n",
    "\n",
    "![dbscan](images/dbscan.png)\n",
    "\n",
    "\n",
    "DBSCAN requiere de dos parámetros:\n",
    "\n",
    "+ $\\epsilon$ : distancia de la vecindad\n",
    "+ Número mínimo de puntos para considerarla vecindad\n",
    "\n",
    "Se comienza con un punto arbitrario que no haya sido visitado. La $\\epsilon$-vecindad de éste punto se evalúa, para determinar su densidad y si tiene suficientes puntos se clusteriza, si no, se considera que el punto es ruido.\n",
    "\n",
    "\n",
    "**Ventajas**\n",
    "+ No necesita saber el nº de clusters\n",
    "+ Se reduce el single-link (un cluster dentro de otro)\n",
    "+ Tiene noción del ruido (detecta muy bien outliers)\n",
    "+ Solo dos parámetros\n",
    "\n",
    "\n",
    "**Desventajas**\n",
    "+ No es determinista en los límites del cluster\n",
    "+ Depende de la distancia\n",
    "+ No puede manejar grandes diferencias de densidad\n",
    "\n",
    "\n",
    "https://www.naftaliharris.com/blog/visualizing-dbscan-clustering/"
   ]
  },
  {
   "cell_type": "code",
   "execution_count": null,
   "metadata": {},
   "outputs": [],
   "source": [
    "from sklearn.cluster import DBSCAN"
   ]
  },
  {
   "cell_type": "code",
   "execution_count": null,
   "metadata": {},
   "outputs": [],
   "source": [
    "dbscan=DBSCAN()\n",
    "\n",
    "dbscan.fit(moons[0])"
   ]
  },
  {
   "cell_type": "code",
   "execution_count": null,
   "metadata": {},
   "outputs": [],
   "source": [
    "#help(DBSCAN)"
   ]
  },
  {
   "cell_type": "code",
   "execution_count": null,
   "metadata": {},
   "outputs": [],
   "source": [
    "plt.scatter(moons[0][:,0],   # x\n",
    "            moons[0][:,1],   # y\n",
    "            c=dbscan.labels_);     # color"
   ]
  },
  {
   "cell_type": "code",
   "execution_count": null,
   "metadata": {},
   "outputs": [],
   "source": [
    "#help(DBSCAN)"
   ]
  },
  {
   "cell_type": "code",
   "execution_count": null,
   "metadata": {},
   "outputs": [],
   "source": [
    "dbscan=DBSCAN(eps=0.3, min_samples=3)\n",
    "\n",
    "dbscan.fit(moons[0])"
   ]
  },
  {
   "cell_type": "code",
   "execution_count": null,
   "metadata": {},
   "outputs": [],
   "source": [
    "plt.scatter(moons[0][:,0],   # x\n",
    "            moons[0][:,1],   # y\n",
    "            c=dbscan.labels_);     # color"
   ]
  },
  {
   "cell_type": "code",
   "execution_count": null,
   "metadata": {},
   "outputs": [],
   "source": [
    "dbscan.labels_"
   ]
  },
  {
   "cell_type": "markdown",
   "metadata": {},
   "source": [
    "# HDBSCAN\n",
    "\n",
    "**Hierarchical DBSCAN**\n",
    "\n",
    "https://hdbscan.readthedocs.io/en/latest/how_hdbscan_works.html\n",
    "\n",
    "Extiende DBSCAN haciéndolo jerárquico. El algoritmo se basa en:\n",
    "\n",
    "1) Transformar el espacio según densidad\n",
    "\n",
    "2) Grafo de árboles de distancias\n",
    "\n",
    "3) Cluster jerárquicos\n",
    "\n",
    "4) Condensar los clusters basándose en el tamaño\n",
    "\n",
    "5) Extraer clusters estables desde el árbol"
   ]
  },
  {
   "cell_type": "code",
   "execution_count": null,
   "metadata": {},
   "outputs": [],
   "source": [
    "%pip install hdbscan"
   ]
  },
  {
   "cell_type": "code",
   "execution_count": null,
   "metadata": {},
   "outputs": [],
   "source": [
    "from hdbscan import HDBSCAN"
   ]
  },
  {
   "cell_type": "code",
   "execution_count": null,
   "metadata": {},
   "outputs": [],
   "source": [
    "hdbscan=HDBSCAN(gen_min_span_tree=True)"
   ]
  },
  {
   "cell_type": "code",
   "execution_count": null,
   "metadata": {},
   "outputs": [],
   "source": [
    "hdbscan.fit(moons[0])"
   ]
  },
  {
   "cell_type": "code",
   "execution_count": null,
   "metadata": {},
   "outputs": [],
   "source": [
    "plt.scatter(moons[0][:,0], \n",
    "            moons[0][:,1], \n",
    "            c=hdbscan.labels_);"
   ]
  },
  {
   "cell_type": "code",
   "execution_count": null,
   "metadata": {},
   "outputs": [],
   "source": [
    "hdbscan.labels_"
   ]
  },
  {
   "cell_type": "code",
   "execution_count": null,
   "metadata": {},
   "outputs": [],
   "source": [
    "plt.scatter(moons[0][:,0], \n",
    "            moons[0][:,1], \n",
    "            c=hdbscan.probabilities_);"
   ]
  },
  {
   "cell_type": "code",
   "execution_count": null,
   "metadata": {},
   "outputs": [],
   "source": [
    "hdbscan.probabilities_[:10]"
   ]
  },
  {
   "cell_type": "code",
   "execution_count": null,
   "metadata": {},
   "outputs": [],
   "source": [
    "hdbscan.probabilities_.min()"
   ]
  },
  {
   "cell_type": "code",
   "execution_count": null,
   "metadata": {},
   "outputs": [],
   "source": [
    "import pandas as pd\n",
    "\n",
    "df=pd.DataFrame(moons[0])\n",
    "\n",
    "df['label']=hdbscan.labels_\n",
    "\n",
    "df['prob']=hdbscan.probabilities_\n",
    "\n",
    "df[df.prob<0.7]"
   ]
  },
  {
   "cell_type": "code",
   "execution_count": null,
   "metadata": {},
   "outputs": [],
   "source": [
    "hdbscan.minimum_spanning_tree_.plot(edge_cmap='viridis',\n",
    "                                    edge_alpha=0.6,\n",
    "                                    node_size=10,\n",
    "                                    edge_linewidth=1.2);"
   ]
  },
  {
   "cell_type": "code",
   "execution_count": null,
   "metadata": {},
   "outputs": [],
   "source": [
    "hdbscan.single_linkage_tree_.plot(cmap='viridis',\n",
    "                                  colorbar=True);"
   ]
  },
  {
   "cell_type": "code",
   "execution_count": null,
   "metadata": {},
   "outputs": [],
   "source": [
    "hdbscan.condensed_tree_.plot();"
   ]
  },
  {
   "cell_type": "code",
   "execution_count": null,
   "metadata": {},
   "outputs": [],
   "source": [
    "import seaborn as sns\n",
    "\n",
    "hdbscan.condensed_tree_.plot(select_clusters=True,\n",
    "                             selection_palette=sns.color_palette());"
   ]
  },
  {
   "cell_type": "markdown",
   "metadata": {},
   "source": [
    "# OPTICS\n",
    "\n",
    "**Ordering Points To Identify the Clustering Structure**\n",
    "\n",
    "Generalización del DBSCAN, busca el núcleo de la muestra con la más alta densidad y expande los clusteres desde ahí.\n",
    "\n",
    "![optics](images/optics.png)"
   ]
  },
  {
   "cell_type": "code",
   "execution_count": null,
   "metadata": {},
   "outputs": [],
   "source": [
    "from sklearn.cluster import OPTICS"
   ]
  },
  {
   "cell_type": "code",
   "execution_count": null,
   "metadata": {},
   "outputs": [],
   "source": [
    "opt=OPTICS(max_eps=1, eps=0.5, min_samples=5)\n",
    "\n",
    "opt.fit(moons[0])"
   ]
  },
  {
   "cell_type": "code",
   "execution_count": null,
   "metadata": {},
   "outputs": [],
   "source": [
    "plt.scatter(moons[0][:,0], \n",
    "            moons[0][:,1], \n",
    "            c=opt.labels_);"
   ]
  },
  {
   "cell_type": "code",
   "execution_count": null,
   "metadata": {},
   "outputs": [],
   "source": [
    "opt.labels_"
   ]
  },
  {
   "cell_type": "code",
   "execution_count": null,
   "metadata": {},
   "outputs": [],
   "source": [
    "opt=OPTICS(max_eps=0.3, eps=0.2, min_samples=3)\n",
    "\n",
    "opt.fit(moons[0])\n",
    "\n",
    "plt.scatter(moons[0][:,0], \n",
    "            moons[0][:,1], \n",
    "            c=opt.labels_);"
   ]
  },
  {
   "cell_type": "markdown",
   "metadata": {},
   "source": [
    "# GMM\n",
    "\n",
    "**Gaussian Mixture Models**\n",
    "\n",
    "Se asume que los datos son mezclas de un nº finito de distribuciones gaussianas de parámetros desconocidos (N($\\mu$,$\\sigma$))\n",
    "\n",
    "\n",
    "![gmm](images/gmm.png)\n",
    "\n",
    "\n",
    "![gmm2](images/gmm2.png)"
   ]
  },
  {
   "cell_type": "code",
   "execution_count": null,
   "metadata": {},
   "outputs": [],
   "source": [
    "from sklearn.mixture import GaussianMixture as GM"
   ]
  },
  {
   "cell_type": "code",
   "execution_count": null,
   "metadata": {},
   "outputs": [],
   "source": [
    "gm=GM(n_components=2, \n",
    "      covariance_type='full')\n",
    "\n",
    "gm.fit(moons[0])\n",
    "\n",
    "gm.means_"
   ]
  },
  {
   "cell_type": "code",
   "execution_count": null,
   "metadata": {},
   "outputs": [],
   "source": [
    "gm.covariances_"
   ]
  },
  {
   "cell_type": "code",
   "execution_count": null,
   "metadata": {},
   "outputs": [],
   "source": [
    "plt.scatter(moons[0][:,0], \n",
    "            moons[0][:,1], \n",
    "            c=gm.predict(moons[0]));"
   ]
  },
  {
   "cell_type": "code",
   "execution_count": null,
   "metadata": {},
   "outputs": [],
   "source": [
    "gm.predict(moons[0])"
   ]
  },
  {
   "cell_type": "code",
   "execution_count": null,
   "metadata": {},
   "outputs": [],
   "source": [
    "plt.scatter(moons[0][:,0], \n",
    "            moons[0][:,1], \n",
    "            c=gm.predict_proba(moons[0])[:, 1]);"
   ]
  },
  {
   "cell_type": "code",
   "execution_count": null,
   "metadata": {},
   "outputs": [],
   "source": [
    "from sklearn.datasets import make_classification as mc"
   ]
  },
  {
   "cell_type": "code",
   "execution_count": null,
   "metadata": {},
   "outputs": [],
   "source": [
    "X=mc(n_features=2, \n",
    "     n_redundant=0, \n",
    "     n_informative=2, \n",
    "     n_clusters_per_class=1)"
   ]
  },
  {
   "cell_type": "code",
   "execution_count": null,
   "metadata": {},
   "outputs": [],
   "source": [
    "plt.scatter(X[0][:,0], X[0][:,1]);"
   ]
  },
  {
   "cell_type": "code",
   "execution_count": null,
   "metadata": {},
   "outputs": [],
   "source": [
    "gm=GM(n_components=2, covariance_type='full')\n",
    "\n",
    "gm.fit(X[0])\n",
    "\n",
    "gm.means_"
   ]
  },
  {
   "cell_type": "code",
   "execution_count": null,
   "metadata": {},
   "outputs": [],
   "source": [
    "plt.scatter(X[0][:,0], X[0][:,1], c=gm.predict(X[0]));"
   ]
  },
  {
   "cell_type": "code",
   "execution_count": null,
   "metadata": {},
   "outputs": [],
   "source": [
    "gm.predict(X[0])"
   ]
  },
  {
   "cell_type": "code",
   "execution_count": null,
   "metadata": {},
   "outputs": [],
   "source": [
    "plt.scatter(X[0][:,0], X[0][:,1], c=gm.predict_proba(X[0])[:, 1]);"
   ]
  },
  {
   "cell_type": "markdown",
   "metadata": {},
   "source": [
    "![](data/usl_models.png)"
   ]
  },
  {
   "cell_type": "markdown",
   "metadata": {},
   "source": [
    "![usl_models](images/usl_models.png)"
   ]
  }
 ],
 "metadata": {
  "finalized": {
   "timestamp": 1624209442958,
   "trusted": false
  },
  "kernelspec": {
   "display_name": "clase",
   "language": "python",
   "name": "clase"
  },
  "language_info": {
   "codemirror_mode": {
    "name": "ipython",
    "version": 3
   },
   "file_extension": ".py",
   "mimetype": "text/x-python",
   "name": "python",
   "nbconvert_exporter": "python",
   "pygments_lexer": "ipython3",
   "version": "3.9.12"
  },
  "varInspector": {
   "cols": {
    "lenName": 16,
    "lenType": 16,
    "lenVar": 40
   },
   "kernels_config": {
    "python": {
     "delete_cmd_postfix": "",
     "delete_cmd_prefix": "del ",
     "library": "var_list.py",
     "varRefreshCmd": "print(var_dic_list())"
    },
    "r": {
     "delete_cmd_postfix": ") ",
     "delete_cmd_prefix": "rm(",
     "library": "var_list.r",
     "varRefreshCmd": "cat(var_dic_list()) "
    }
   },
   "types_to_exclude": [
    "module",
    "function",
    "builtin_function_or_method",
    "instance",
    "_Feature"
   ],
   "window_display": false
  }
 },
 "nbformat": 4,
 "nbformat_minor": 2
}
