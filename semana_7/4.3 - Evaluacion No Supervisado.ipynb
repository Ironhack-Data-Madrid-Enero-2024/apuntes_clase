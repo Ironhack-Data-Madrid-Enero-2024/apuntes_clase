{
 "cells": [
  {
   "cell_type": "markdown",
   "metadata": {},
   "source": [
    "# 4.3 - Evaluación\n",
    "\n",
    "### Silhoutte Score"
   ]
  },
  {
   "cell_type": "markdown",
   "metadata": {},
   "source": [
    "$$S=\\frac{b(v)-a(v)}{max(a,b)}$$\n",
    "\n",
    "donde:\n",
    "\n",
    "+ v:= vector de datos\n",
    "+ a(v):=distancia media desde v al resto de vectores del mismo cluster\n",
    "+ b(v):=distancia media desde v a los vectores del cluster más cercano\n",
    "\n"
   ]
  },
  {
   "cell_type": "markdown",
   "metadata": {},
   "source": [
    "S pertenece al intervalo [-1,1], de tal manera que:\n",
    "\n",
    "+ S=1  => buena clusterizacion\n",
    "+ S=0  => overlapping\n",
    "+ S=-1 => mala clusterizacion"
   ]
  },
  {
   "cell_type": "code",
   "execution_count": null,
   "metadata": {},
   "outputs": [],
   "source": [
    "from sklearn import cluster, datasets\n",
    "\n",
    "from sklearn.preprocessing import StandardScaler\n",
    "\n",
    "import matplotlib.pyplot as plt\n",
    "from matplotlib.lines import Line2D\n",
    "%matplotlib inline\n",
    "\n",
    "from mpl_toolkits.mplot3d import Axes3D\n",
    "\n",
    "\n",
    "import numpy as np"
   ]
  },
  {
   "cell_type": "code",
   "execution_count": null,
   "metadata": {},
   "outputs": [],
   "source": [
    "X,y=datasets.make_moons(n_samples=1500, noise=.05)"
   ]
  },
  {
   "cell_type": "code",
   "execution_count": null,
   "metadata": {},
   "outputs": [],
   "source": [
    "X=StandardScaler().fit_transform(X)"
   ]
  },
  {
   "cell_type": "code",
   "execution_count": null,
   "metadata": {},
   "outputs": [],
   "source": [
    "single=cluster.AgglomerativeClustering(n_clusters=2, linkage='single')\n",
    "single.fit(X)\n",
    "\n",
    "y1_pred=single.labels_"
   ]
  },
  {
   "cell_type": "code",
   "execution_count": null,
   "metadata": {},
   "outputs": [],
   "source": [
    "kmeans=cluster.KMeans(n_clusters=2)\n",
    "kmeans.fit(X)\n",
    "\n",
    "y2_pred=kmeans.predict(X)"
   ]
  },
  {
   "cell_type": "markdown",
   "metadata": {},
   "source": [
    "**plots**"
   ]
  },
  {
   "cell_type": "code",
   "execution_count": null,
   "metadata": {},
   "outputs": [],
   "source": [
    "fig,ax = plt.subplots(1, 2, figsize=(15, 8))\n",
    "\n",
    "colors=np.array(['blue', 'red'])\n",
    "\n",
    "legend_e=[Line2D([0],[0], color=c, marker='o', linestyle='',\n",
    "                 label='Clase {}'.format(i))  for i,c in enumerate(colors)]\n",
    "\n",
    "\n",
    "ax[0].scatter(X[:,0], X[:, 1], color=colors[y1_pred])\n",
    "ax[0].legend(handles=legend_e, loc='upper right')\n",
    "\n",
    "\n",
    "ax[1].scatter(X[:,0], X[:, 1], color=colors[y2_pred])\n",
    "ax[1].legend(handles=legend_e, loc='upper right');"
   ]
  },
  {
   "cell_type": "code",
   "execution_count": null,
   "metadata": {},
   "outputs": [],
   "source": [
    "from sklearn.metrics import silhouette_score"
   ]
  },
  {
   "cell_type": "code",
   "execution_count": null,
   "metadata": {},
   "outputs": [],
   "source": [
    "silhouette_score(X, y1_pred)"
   ]
  },
  {
   "cell_type": "code",
   "execution_count": null,
   "metadata": {},
   "outputs": [],
   "source": [
    "print ('Modelo 1 - Hierarchical : Silhouette Score:{}'.format(silhouette_score(X, y1_pred)))\n",
    "print ('Modelo 2 - KMeans       : Silhouette Score:{}'.format(silhouette_score(X, y2_pred)))"
   ]
  },
  {
   "cell_type": "code",
   "execution_count": null,
   "metadata": {},
   "outputs": [],
   "source": [
    "from sklearn.metrics import silhouette_samples\n",
    "\n",
    "\n",
    "silhouette_samples(X, y1_pred)[:10]"
   ]
  },
  {
   "cell_type": "markdown",
   "metadata": {},
   "source": [
    "https://scikit-learn.org/stable/auto_examples/cluster/plot_kmeans_silhouette_analysis.html"
   ]
  },
  {
   "cell_type": "markdown",
   "metadata": {},
   "source": [
    "# Elbow\n",
    "\n",
    "**nº óptimo de clusters**\n",
    "\n",
    "\n",
    "![elbow](images/elbow.png)"
   ]
  },
  {
   "cell_type": "markdown",
   "metadata": {},
   "source": [
    "$$WSS=Inercia=\\sum_{i=0}^{n} min(|x_i - \\bar{x}|^{2})$$"
   ]
  },
  {
   "cell_type": "code",
   "execution_count": null,
   "metadata": {},
   "outputs": [],
   "source": [
    "import warnings\n",
    "warnings.filterwarnings('ignore')"
   ]
  },
  {
   "cell_type": "code",
   "execution_count": null,
   "metadata": {},
   "outputs": [],
   "source": [
    "X,y=datasets.make_blobs(n_features=3, centers=2)"
   ]
  },
  {
   "cell_type": "code",
   "execution_count": null,
   "metadata": {},
   "outputs": [],
   "source": [
    "fig=plt.figure()\n",
    "\n",
    "ax=fig.add_subplot(111, projection='3d')\n",
    "\n",
    "ax.scatter(X[:,0], X[:,1], X[:,2], c=y);"
   ]
  },
  {
   "cell_type": "code",
   "execution_count": null,
   "metadata": {},
   "outputs": [],
   "source": [
    "cluster.KMeans(n_clusters=4).fit(X).inertia_"
   ]
  },
  {
   "cell_type": "code",
   "execution_count": null,
   "metadata": {},
   "outputs": [],
   "source": [
    "[cluster.KMeans(n_clusters=i+1).fit(X).inertia_ for i in range(10)]"
   ]
  },
  {
   "cell_type": "code",
   "execution_count": null,
   "metadata": {},
   "outputs": [],
   "source": [
    "n_clusters, inercia = zip(*[(k, cluster.KMeans(n_clusters=k).fit(X).inertia_) for k in range(1, 10)])"
   ]
  },
  {
   "cell_type": "code",
   "execution_count": null,
   "metadata": {},
   "outputs": [],
   "source": [
    "n_clusters, inercia"
   ]
  },
  {
   "cell_type": "code",
   "execution_count": null,
   "metadata": {},
   "outputs": [],
   "source": [
    "fig=plt.figure()\n",
    "\n",
    "ax=fig.add_subplot()\n",
    "\n",
    "ax.plot(n_clusters, inercia)\n",
    "\n",
    "plt.xlabel('N clusters')\n",
    "plt.ylabel('Inercia');"
   ]
  },
  {
   "cell_type": "code",
   "execution_count": null,
   "metadata": {},
   "outputs": [],
   "source": [
    "%pip install yellowbrick"
   ]
  },
  {
   "cell_type": "code",
   "execution_count": null,
   "metadata": {},
   "outputs": [],
   "source": [
    "from yellowbrick.cluster import KElbowVisualizer"
   ]
  },
  {
   "cell_type": "code",
   "execution_count": null,
   "metadata": {},
   "outputs": [],
   "source": [
    "modelo=cluster.KMeans()\n",
    "\n",
    "visual=KElbowVisualizer(modelo, k=(1, 15))\n",
    "\n",
    "visual.fit(X)\n",
    "\n",
    "visual.poof();"
   ]
  },
  {
   "cell_type": "code",
   "execution_count": null,
   "metadata": {},
   "outputs": [],
   "source": [
    "X,y=datasets.make_moons(n_samples=1500, noise=.05)\n",
    "X=StandardScaler().fit_transform(X)"
   ]
  },
  {
   "cell_type": "code",
   "execution_count": null,
   "metadata": {},
   "outputs": [],
   "source": [
    "inercias=[]\n",
    "\n",
    "for i in range(1, 10):\n",
    "    \n",
    "    kmeans=cluster.KMeans(n_clusters=i).fit(X)\n",
    "    \n",
    "    inercias.append(kmeans.inertia_)"
   ]
  },
  {
   "cell_type": "code",
   "execution_count": null,
   "metadata": {},
   "outputs": [],
   "source": [
    "plt.plot(range(1, 10), inercias);"
   ]
  },
  {
   "cell_type": "code",
   "execution_count": null,
   "metadata": {},
   "outputs": [],
   "source": [
    "visual=KElbowVisualizer(modelo, k=(1, 15))\n",
    "visual.fit(X)\n",
    "\n",
    "visual.poof();"
   ]
  },
  {
   "cell_type": "markdown",
   "metadata": {},
   "source": [
    "# Rand Score"
   ]
  },
  {
   "cell_type": "markdown",
   "metadata": {},
   "source": [
    "$$R=\\frac{(a+b)}{(a+b+c+d)}$$\n",
    "\n",
    "\n",
    "pertece al intervalo [0,1]"
   ]
  },
  {
   "cell_type": "markdown",
   "metadata": {},
   "source": [
    "Sea  S={ s_1, $\\ldots{}$, s_n }; X={ x_1, $\\ldots{}$, x_n } partición de S e Y={ y_1, $\\ldots{}$, y_n } partición de S, entonces:\n",
    "\n",
    "+ a:=nº de pares de elementos en S que están en el mismo subconjunto de X e Y\n",
    "+ b:=nº de pares de elementos en S que están en diferentes subconjuntos de X e Y\n",
    "+ c:=nº de pares de elementos en S que están en el mismo subconjunto de X y en diferente subconjunto de Y\n",
    "+ d:=nº de pares de elementos en S que están en diferente subconjunto de X y en el mismo subconjunto de Y\n",
    "\n",
    "\n",
    "\n",
    "Intuitivamente, _a+b_ es la correspondencia entre X e Y, c+d es la discordancia.\n",
    "\n",
    "\n",
    "https://es.wikipedia.org/wiki/Partici%C3%B3n_de_un_conjunto\n",
    "\n",
    "http://i3campus.co/CONTENIDOS/wikipedia/content/a/partici%25c3%25b3n_(matem%25c3%25a1tica).html#:~:text=En%20matem%C3%A1ticas%2C%20una%20partici%C3%B3n%20de,en%20subconjuntos%20disjuntos%20no%20vac%C3%ADos."
   ]
  },
  {
   "cell_type": "markdown",
   "metadata": {},
   "source": [
    "**Adjusted Rand Score**\n",
    "\n",
    "\n",
    "$$AR=\\frac{R - ExpectedR}{max(R) - ExpectedR}$$"
   ]
  },
  {
   "cell_type": "code",
   "execution_count": null,
   "metadata": {},
   "outputs": [],
   "source": [
    "X,y=datasets.make_moons(n_samples=1500, noise=.05)\n",
    "X=StandardScaler().fit_transform(X)"
   ]
  },
  {
   "cell_type": "code",
   "execution_count": null,
   "metadata": {},
   "outputs": [],
   "source": [
    "single=cluster.AgglomerativeClustering(n_clusters=2, linkage='single')\n",
    "single.fit(X)\n",
    "\n",
    "y1_pred=single.labels_"
   ]
  },
  {
   "cell_type": "code",
   "execution_count": null,
   "metadata": {},
   "outputs": [],
   "source": [
    "kmeans=cluster.KMeans(n_clusters=2)\n",
    "kmeans.fit(X)\n",
    "\n",
    "y2_pred=kmeans.predict(X)"
   ]
  },
  {
   "cell_type": "code",
   "execution_count": null,
   "metadata": {},
   "outputs": [],
   "source": [
    "from sklearn.metrics import adjusted_rand_score as ars"
   ]
  },
  {
   "cell_type": "code",
   "execution_count": null,
   "metadata": {},
   "outputs": [],
   "source": [
    "ars(y, y1_pred)      # jerarquico"
   ]
  },
  {
   "cell_type": "code",
   "execution_count": null,
   "metadata": {},
   "outputs": [],
   "source": [
    "ars(y, y2_pred)      # kmeans"
   ]
  },
  {
   "cell_type": "markdown",
   "metadata": {},
   "source": [
    "# Visualización de Clusters"
   ]
  },
  {
   "cell_type": "code",
   "execution_count": null,
   "metadata": {},
   "outputs": [],
   "source": [
    "X, _= datasets.make_blobs(n_samples=1500, centers=4, cluster_std=1.5)"
   ]
  },
  {
   "cell_type": "code",
   "execution_count": null,
   "metadata": {},
   "outputs": [],
   "source": [
    "X.shape"
   ]
  },
  {
   "cell_type": "code",
   "execution_count": null,
   "metadata": {},
   "outputs": [],
   "source": [
    "kmeans=cluster.KMeans(n_clusters=4).fit(X)"
   ]
  },
  {
   "cell_type": "code",
   "execution_count": null,
   "metadata": {},
   "outputs": [],
   "source": [
    "y_pred=kmeans.predict(X)\n",
    "\n",
    "y_pred[:10]"
   ]
  },
  {
   "cell_type": "code",
   "execution_count": null,
   "metadata": {},
   "outputs": [],
   "source": [
    "plt.figure(figsize=(12,6))\n",
    "\n",
    "plt.scatter(X[:,0], X[:,1], \n",
    "            c=y_pred);"
   ]
  },
  {
   "cell_type": "code",
   "execution_count": null,
   "metadata": {},
   "outputs": [],
   "source": [
    "centers=kmeans.cluster_centers_"
   ]
  },
  {
   "cell_type": "code",
   "execution_count": null,
   "metadata": {},
   "outputs": [],
   "source": [
    "plt.figure(figsize=(12,6))\n",
    "plt.scatter(X[:,0], X[:,1], c=y_pred)\n",
    "\n",
    "plt.scatter(centers[:,0], centers[:,1], c='red', s=50, alpha=0.75);"
   ]
  },
  {
   "cell_type": "markdown",
   "metadata": {},
   "source": [
    "**otro plot en 3D**"
   ]
  },
  {
   "cell_type": "code",
   "execution_count": null,
   "metadata": {},
   "outputs": [],
   "source": [
    "from scipy.spatial.transform import Rotation as R"
   ]
  },
  {
   "cell_type": "code",
   "execution_count": null,
   "metadata": {},
   "outputs": [],
   "source": [
    "X, _= datasets.make_blobs(n_samples=1500, centers=4, cluster_std=1.)\n",
    "\n",
    "X=np.c_[X, 0.5*np.random.randn(X.shape[0], 1)]\n",
    "\n",
    "rot=R.from_euler('y', 45, degrees=True)\n",
    "\n",
    "X=rot.apply(X)"
   ]
  },
  {
   "cell_type": "code",
   "execution_count": null,
   "metadata": {},
   "outputs": [],
   "source": [
    "fig=plt.figure(figsize=(12, 8))\n",
    "\n",
    "ax=fig.add_subplot(111, projection='3d')\n",
    "\n",
    "ax.scatter(X[:,0],X[:,1],X[:,2])\n",
    "ax.set_xlim(-7, 7)\n",
    "ax.set_ylim(-7, 7)\n",
    "ax.set_zlim(-7, 7)\n",
    "ax.view_init(elev=25, azim=45)\n",
    "plt.show();"
   ]
  },
  {
   "cell_type": "markdown",
   "metadata": {},
   "source": [
    "**reduccion de dimensiones-viz**"
   ]
  },
  {
   "cell_type": "code",
   "execution_count": null,
   "metadata": {},
   "outputs": [],
   "source": [
    "from sklearn.decomposition import PCA"
   ]
  },
  {
   "cell_type": "code",
   "execution_count": null,
   "metadata": {},
   "outputs": [],
   "source": [
    "X.shape"
   ]
  },
  {
   "cell_type": "code",
   "execution_count": null,
   "metadata": {},
   "outputs": [],
   "source": [
    "pca=PCA().fit(X)\n",
    "\n",
    "pca_x=pca.transform(X)\n",
    "\n",
    "pca_x.shape"
   ]
  },
  {
   "cell_type": "code",
   "execution_count": null,
   "metadata": {},
   "outputs": [],
   "source": [
    "fig=plt.figure(figsize=(12, 8))\n",
    "\n",
    "ax=[plt.subplot2grid((6, 1), (0, 0), rowspan=4),\n",
    "    plt.subplot2grid((6, 1), (5, 0))]\n",
    "\n",
    "ax[0].scatter(pca_x[:,0], pca_x[:,1])\n",
    "\n",
    "ax[0].set_xlabel('PCA 1')\n",
    "ax[0].set_ylabel('PCA 2')\n",
    "\n",
    "ax[1].set_title('PCA 3', pad=-5)\n",
    "ax[1].hlines(1, -7, 20)\n",
    "\n",
    "y=np.ones(X.shape[0])\n",
    "\n",
    "ax[1].plot(pca_x[:,2], y, '|', ms='20')\n",
    "ax[1].axis('off')\n",
    "\n",
    "plt.show();"
   ]
  },
  {
   "cell_type": "markdown",
   "metadata": {},
   "source": [
    "**t-SNE**"
   ]
  },
  {
   "cell_type": "code",
   "execution_count": null,
   "metadata": {},
   "outputs": [],
   "source": [
    "from sklearn.manifold import TSNE"
   ]
  },
  {
   "cell_type": "code",
   "execution_count": null,
   "metadata": {},
   "outputs": [],
   "source": [
    "X,y = datasets.load_iris(return_X_y=True)"
   ]
  },
  {
   "cell_type": "code",
   "execution_count": null,
   "metadata": {},
   "outputs": [],
   "source": [
    "fig, ax = plt.subplots(1, 4, figsize=(15, 7))\n",
    "\n",
    "for i,p in enumerate([5, 30, 50, 100]):\n",
    "    \n",
    "    tsne=TSNE(perplexity=p)\n",
    "    \n",
    "    x_emb=tsne.fit_transform(X)\n",
    "    \n",
    "    ax[i].scatter(x_emb[:,0], x_emb[:,1], c=y)\n",
    "    ax[i].set_title('Perplexity={}'.format(p))\n",
    "    \n",
    "plt.show();"
   ]
  },
  {
   "cell_type": "markdown",
   "metadata": {},
   "source": [
    "**UMAP - MNIST**"
   ]
  },
  {
   "cell_type": "code",
   "execution_count": null,
   "metadata": {},
   "outputs": [],
   "source": [
    "digitos=datasets.load_digits()\n",
    "\n",
    "digitos.data.shape"
   ]
  },
  {
   "cell_type": "code",
   "execution_count": null,
   "metadata": {},
   "outputs": [],
   "source": [
    "digitos.data[300].reshape(8, 8)"
   ]
  },
  {
   "cell_type": "code",
   "execution_count": null,
   "metadata": {},
   "outputs": [],
   "source": [
    "digitos.target[300]"
   ]
  },
  {
   "cell_type": "code",
   "execution_count": null,
   "metadata": {},
   "outputs": [],
   "source": [
    "plt.imshow(digitos.data[300].reshape(8, 8));"
   ]
  },
  {
   "cell_type": "code",
   "execution_count": null,
   "metadata": {},
   "outputs": [],
   "source": [
    "import pandas as pd\n",
    "\n",
    "import warnings\n",
    "warnings.simplefilter('ignore')\n",
    "\n",
    "from umap import UMAP"
   ]
  },
  {
   "cell_type": "code",
   "execution_count": null,
   "metadata": {},
   "outputs": [],
   "source": [
    "def get_umap(data, n):\n",
    "    \n",
    "    umap=UMAP(n_components=n)\n",
    "    emb=umap.fit_transform(data)\n",
    "    \n",
    "    return pd.DataFrame(emb, columns=[f'emb_{i+1}' for i in range(n)])"
   ]
  },
  {
   "cell_type": "code",
   "execution_count": null,
   "metadata": {},
   "outputs": [],
   "source": [
    "umap_df = get_umap(digitos.data, 2)\n",
    "\n",
    "umap_df.head()"
   ]
  },
  {
   "cell_type": "code",
   "execution_count": null,
   "metadata": {},
   "outputs": [],
   "source": [
    "digitos.data.shape"
   ]
  },
  {
   "cell_type": "code",
   "execution_count": null,
   "metadata": {},
   "outputs": [],
   "source": [
    "umap_df.shape"
   ]
  },
  {
   "cell_type": "code",
   "execution_count": null,
   "metadata": {
    "scrolled": false
   },
   "outputs": [],
   "source": [
    "plt.scatter(umap_df.emb_1, \n",
    "            umap_df.emb_2, \n",
    "            c=digitos.target, \n",
    "            cmap='Spectral', \n",
    "            s=5)\n",
    "\n",
    "\n",
    "plt.gca().set_aspect('equal', 'datalim')\n",
    "\n",
    "plt.colorbar(boundaries=np.arange(11)-0.5).set_ticks(np.arange(10))\n",
    "\n",
    "plt.title('UMAP Projection');"
   ]
  },
  {
   "cell_type": "markdown",
   "metadata": {},
   "source": [
    "**umap supervisado**"
   ]
  },
  {
   "cell_type": "code",
   "execution_count": null,
   "metadata": {},
   "outputs": [],
   "source": [
    "emb = UMAP().fit_transform(digitos.data, y=digitos.target)\n",
    "\n",
    "\n",
    "umap_df=pd.DataFrame(emb, columns=['emb_1', 'emb_2'])\n",
    "\n",
    "\n",
    "plt.scatter(umap_df.emb_1, umap_df.emb_2, c=digitos.target, cmap='Spectral', s=5)\n",
    "\n",
    "plt.gca().set_aspect('equal', 'datalim')\n",
    "\n",
    "plt.colorbar(boundaries=np.arange(11)-0.5).set_ticks(np.arange(10))\n",
    "\n",
    "plt.title('UMAP Projection');\n"
   ]
  },
  {
   "cell_type": "code",
   "execution_count": null,
   "metadata": {},
   "outputs": [],
   "source": [
    "umap_df[umap_df.emb_1<-14].head()"
   ]
  },
  {
   "cell_type": "code",
   "execution_count": null,
   "metadata": {},
   "outputs": [],
   "source": [
    "emb = UMAP().fit(digitos.data, y=digitos.target)\n",
    "\n",
    "emb"
   ]
  },
  {
   "cell_type": "code",
   "execution_count": null,
   "metadata": {},
   "outputs": [],
   "source": [
    "inverso = emb.inverse_transform([[3, -3]])\n",
    "\n",
    "plt.imshow(inverso.reshape(8, 8));"
   ]
  },
  {
   "cell_type": "markdown",
   "metadata": {},
   "source": [
    "**umap en moons y en blobs**"
   ]
  },
  {
   "cell_type": "code",
   "execution_count": null,
   "metadata": {},
   "outputs": [],
   "source": [
    "X,y=datasets.make_moons(n_samples=500, shuffle=True, noise=.05)\n",
    "\n",
    "plt.scatter(X[:,0], X[:,1]);"
   ]
  },
  {
   "cell_type": "code",
   "execution_count": null,
   "metadata": {},
   "outputs": [],
   "source": [
    "umap_df=get_umap(X, 2)\n",
    "\n",
    "plt.scatter(umap_df.emb_1, umap_df.emb_2);"
   ]
  },
  {
   "cell_type": "code",
   "execution_count": null,
   "metadata": {},
   "outputs": [],
   "source": [
    "umap_df=get_umap(X, 3)\n",
    "\n",
    "fig=plt.figure()\n",
    "ax=fig.add_subplot(111, projection='3d')\n",
    "\n",
    "ax.scatter(umap_df.emb_1, umap_df.emb_2, umap_df.emb_3);"
   ]
  },
  {
   "cell_type": "code",
   "execution_count": null,
   "metadata": {},
   "outputs": [],
   "source": [
    "# blobs\n",
    "\n",
    "X,y=datasets.make_blobs(n_features=8, centers=5)\n",
    "\n",
    "plt.scatter(X[:,2], X[:,1]);"
   ]
  },
  {
   "cell_type": "code",
   "execution_count": null,
   "metadata": {},
   "outputs": [],
   "source": [
    "X.shape"
   ]
  },
  {
   "cell_type": "code",
   "execution_count": null,
   "metadata": {},
   "outputs": [],
   "source": [
    "umap_df=get_umap(X, 2)\n",
    "\n",
    "plt.scatter(umap_df.emb_1, umap_df.emb_2);"
   ]
  },
  {
   "cell_type": "code",
   "execution_count": null,
   "metadata": {},
   "outputs": [],
   "source": [
    "umap_df=get_umap(X, 3)\n",
    "\n",
    "fig=plt.figure()\n",
    "ax=fig.add_subplot(111, projection='3d')\n",
    "\n",
    "ax.scatter(umap_df.emb_1, umap_df.emb_2, umap_df.emb_3);"
   ]
  },
  {
   "cell_type": "code",
   "execution_count": null,
   "metadata": {},
   "outputs": [],
   "source": [
    "from sklearn.cluster import DBSCAN"
   ]
  },
  {
   "cell_type": "code",
   "execution_count": null,
   "metadata": {},
   "outputs": [],
   "source": [
    "dbscan=DBSCAN()\n",
    "\n",
    "pred=dbscan.fit(umap_df).labels_"
   ]
  },
  {
   "cell_type": "code",
   "execution_count": null,
   "metadata": {},
   "outputs": [],
   "source": [
    "pred"
   ]
  },
  {
   "cell_type": "code",
   "execution_count": null,
   "metadata": {},
   "outputs": [],
   "source": [
    "fig=plt.figure()\n",
    "ax=fig.add_subplot(111, projection='3d')\n",
    "\n",
    "ax.scatter(umap_df.emb_1, umap_df.emb_2, umap_df.emb_3, c=pred);"
   ]
  },
  {
   "cell_type": "code",
   "execution_count": null,
   "metadata": {},
   "outputs": [],
   "source": [
    "ars(y, pred)"
   ]
  },
  {
   "cell_type": "markdown",
   "metadata": {},
   "source": [
    "https://towardsdatascience.com/how-to-evaluate-unsupervised-learning-models-3aa85bd98aa2\n",
    "\n",
    "\n",
    "https://towardsdatascience.com/evaluating-goodness-of-clustering-for-unsupervised-learning-case-ccebcfd1d4f1"
   ]
  }
 ],
 "metadata": {
  "finalized": {
   "timestamp": 1663840211754,
   "trusted": true
  },
  "kernelspec": {
   "display_name": "clase",
   "language": "python",
   "name": "clase"
  },
  "language_info": {
   "codemirror_mode": {
    "name": "ipython",
    "version": 3
   },
   "file_extension": ".py",
   "mimetype": "text/x-python",
   "name": "python",
   "nbconvert_exporter": "python",
   "pygments_lexer": "ipython3",
   "version": "3.9.12"
  },
  "varInspector": {
   "cols": {
    "lenName": 16,
    "lenType": 16,
    "lenVar": 40
   },
   "kernels_config": {
    "python": {
     "delete_cmd_postfix": "",
     "delete_cmd_prefix": "del ",
     "library": "var_list.py",
     "varRefreshCmd": "print(var_dic_list())"
    },
    "r": {
     "delete_cmd_postfix": ") ",
     "delete_cmd_prefix": "rm(",
     "library": "var_list.r",
     "varRefreshCmd": "cat(var_dic_list()) "
    }
   },
   "types_to_exclude": [
    "module",
    "function",
    "builtin_function_or_method",
    "instance",
    "_Feature"
   ],
   "window_display": false
  }
 },
 "nbformat": 4,
 "nbformat_minor": 2
}
