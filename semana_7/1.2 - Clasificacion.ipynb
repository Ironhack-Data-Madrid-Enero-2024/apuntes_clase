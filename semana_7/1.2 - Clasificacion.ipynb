{
 "cells": [
  {
   "cell_type": "markdown",
   "id": "f8fa0a2d",
   "metadata": {},
   "source": [
    "# 1.2 - Clasificación"
   ]
  },
  {
   "cell_type": "markdown",
   "id": "89368115",
   "metadata": {},
   "source": [
    "![blr](images/blr.jpeg)"
   ]
  },
  {
   "cell_type": "markdown",
   "id": "9e10d528",
   "metadata": {},
   "source": [
    "### Ejemplo Churn\n",
    "\n",
    "![churn](images/churn.png)\n",
    "\n",
    "\n",
    "![churn2](images/churn2.png)\n",
    "\n"
   ]
  },
  {
   "cell_type": "code",
   "execution_count": null,
   "id": "1b09d7e0",
   "metadata": {},
   "outputs": [],
   "source": [
    "import pandas as pd                                # panel data, for handling dataframes\n",
    "pd.set_option('display.max_columns', None)         # show all columns of the dataframe\n",
    "\n",
    "import numpy as np                                 # numerical python, linear algebra library\n",
    "\n",
    "import pylab as plt                                # plotting library\n",
    "import seaborn as sns                              # plotting library\n",
    "sns.set(style='white')                             # seaborn style\n",
    "\n",
    "\n",
    "from sklearn.linear_model import LogisticRegression            # clasificar, logistic regression model   \n",
    "\n",
    "from sklearn.preprocessing import StandardScaler               # standarized\n",
    "from sklearn.preprocessing import LabelEncoder               \n",
    "\n",
    "from sklearn.model_selection import train_test_split as tts    # split data into train and test sets\n"
   ]
  },
  {
   "cell_type": "markdown",
   "id": "c010749b",
   "metadata": {},
   "source": [
    "### Datos"
   ]
  },
  {
   "cell_type": "code",
   "execution_count": null,
   "id": "712a5115",
   "metadata": {},
   "outputs": [],
   "source": [
    "df=pd.read_csv('../data/churn.csv')\n",
    "\n",
    "df.head()"
   ]
  },
  {
   "cell_type": "code",
   "execution_count": null,
   "id": "3cdda114",
   "metadata": {},
   "outputs": [],
   "source": [
    "df.shape"
   ]
  },
  {
   "cell_type": "code",
   "execution_count": null,
   "id": "4aaa3aba",
   "metadata": {},
   "outputs": [],
   "source": [
    "df.info()"
   ]
  },
  {
   "cell_type": "code",
   "execution_count": null,
   "id": "bc4f82e9",
   "metadata": {},
   "outputs": [],
   "source": [
    "df.Churn.value_counts()"
   ]
  },
  {
   "cell_type": "code",
   "execution_count": null,
   "id": "945c83e4",
   "metadata": {},
   "outputs": [],
   "source": [
    "(df.Churn.value_counts()/len(df)).plot.bar(color=['b', 'r'],    # plot customer churn rate\n",
    "                                           figsize=(10, 6),\n",
    "                                           title='Churn Rate',\n",
    "                                           rot=0,\n",
    "                                           fontsize=12);\n",
    "\n",
    "\n",
    "df.Churn.value_counts()/len(df)"
   ]
  },
  {
   "cell_type": "markdown",
   "id": "56f58d2d",
   "metadata": {},
   "source": [
    "### Transformacion"
   ]
  },
  {
   "cell_type": "code",
   "execution_count": null,
   "id": "26d04bc9",
   "metadata": {},
   "outputs": [],
   "source": [
    "corr=df.corr()   # correlation matrix\n",
    "\n",
    "corr"
   ]
  },
  {
   "cell_type": "code",
   "execution_count": null,
   "id": "83a624a8",
   "metadata": {},
   "outputs": [],
   "source": [
    "fig, ax=plt.subplots(figsize=(10,10))\n",
    "\n",
    "\n",
    "mask=np.triu(np.ones_like(corr, dtype=bool))           # mask for superior triangular matrix\n",
    "\n",
    "\n",
    "color_map=sns.diverging_palette(0, 10, as_cmap=True)   # color palette\n",
    "\n",
    "\n",
    "# correlation heatmap\n",
    "sns.heatmap(corr,                       # data\n",
    "            mask=mask,                  # white mask\n",
    "            cmap=color_map,             # color\n",
    "            vmax=1,                     # vertical edge\n",
    "            center=0,                   # plot center\n",
    "            square=True,                # data square representation\n",
    "            linewidth=.5,               # linewidth\n",
    "            cbar_kws={'shrink': .5},    # lateral bar legend\n",
    "            ax=ax                       # axes for plot size\n",
    "           );"
   ]
  },
  {
   "cell_type": "markdown",
   "id": "7a1ceec7",
   "metadata": {},
   "source": [
    "### Normalizacion"
   ]
  },
  {
   "cell_type": "code",
   "execution_count": null,
   "id": "833570b8",
   "metadata": {},
   "outputs": [],
   "source": [
    "data_num=pd.DataFrame(StandardScaler().fit_transform(df._get_numeric_data()),\n",
    "                      \n",
    "                      columns=df._get_numeric_data().columns)\n",
    "\n",
    "\n",
    "data_obj=df.select_dtypes(include='object')\n",
    "\n",
    "data=pd.concat([data_num, data_obj], axis=1)\n",
    "\n",
    "data.head()"
   ]
  },
  {
   "cell_type": "markdown",
   "id": "09120e54",
   "metadata": {},
   "source": [
    "### Label Encoding"
   ]
  },
  {
   "cell_type": "code",
   "execution_count": null,
   "id": "8de3d8d9",
   "metadata": {},
   "outputs": [],
   "source": [
    "le=LabelEncoder()\n",
    "\n",
    "for c in data.columns:\n",
    "    \n",
    "    if data.dtypes[c]==object:\n",
    "        \n",
    "        le.fit(data[c].astype(str))\n",
    "        \n",
    "        data[c]=le.transform(data[c].astype(str))"
   ]
  },
  {
   "cell_type": "code",
   "execution_count": null,
   "id": "748847cd",
   "metadata": {},
   "outputs": [],
   "source": [
    "data.shape"
   ]
  },
  {
   "cell_type": "code",
   "execution_count": null,
   "id": "91cbd6f3",
   "metadata": {},
   "outputs": [],
   "source": [
    "data.head()"
   ]
  },
  {
   "cell_type": "code",
   "execution_count": null,
   "id": "8aa56674",
   "metadata": {},
   "outputs": [],
   "source": [
    "data.info()"
   ]
  },
  {
   "cell_type": "markdown",
   "id": "228a974b",
   "metadata": {},
   "source": [
    "### Modelado"
   ]
  },
  {
   "cell_type": "code",
   "execution_count": null,
   "id": "12831501",
   "metadata": {},
   "outputs": [],
   "source": [
    "X=data.drop(['Churn', 'ChurnBinary', 'customerID'], axis=1)  # separacion X y\n",
    "\n",
    "y=data.Churn"
   ]
  },
  {
   "cell_type": "code",
   "execution_count": null,
   "id": "0cc13d86",
   "metadata": {},
   "outputs": [],
   "source": [
    "X.shape, y.shape"
   ]
  },
  {
   "cell_type": "code",
   "execution_count": null,
   "id": "961c18d3",
   "metadata": {},
   "outputs": [],
   "source": [
    "# stratify mantiene la distribucion del objetivo\n",
    "\n",
    "X_train, X_test, y_train, y_test=tts(X, y, \n",
    "                                     random_state=42,  # la semilla de numeros aleatorios\n",
    "                                     stratify=y)"
   ]
  },
  {
   "cell_type": "code",
   "execution_count": null,
   "id": "f7473056",
   "metadata": {},
   "outputs": [],
   "source": [
    "#help(tts)"
   ]
  },
  {
   "cell_type": "code",
   "execution_count": null,
   "id": "f0572ba2",
   "metadata": {},
   "outputs": [],
   "source": [
    "y_train.value_counts(), y_test.value_counts()"
   ]
  },
  {
   "cell_type": "code",
   "execution_count": null,
   "id": "3cbb3e6a",
   "metadata": {},
   "outputs": [],
   "source": [
    "X_train.shape, X_test.shape, y_train.shape, y_test.shape"
   ]
  },
  {
   "cell_type": "code",
   "execution_count": null,
   "id": "2bfd735b",
   "metadata": {},
   "outputs": [],
   "source": [
    "# modelo\n",
    "\n",
    "logreg=LogisticRegression(max_iter=2000)"
   ]
  },
  {
   "cell_type": "code",
   "execution_count": null,
   "id": "2168b0a0",
   "metadata": {},
   "outputs": [],
   "source": [
    "#help(LogisticRegression)"
   ]
  },
  {
   "cell_type": "code",
   "execution_count": null,
   "id": "06443247",
   "metadata": {},
   "outputs": [],
   "source": [
    "logreg.fit(X_train, y_train)"
   ]
  },
  {
   "cell_type": "code",
   "execution_count": null,
   "id": "1cd2ab71",
   "metadata": {},
   "outputs": [],
   "source": [
    "y_pred=logreg.predict(X_test)\n",
    "\n",
    "y_pred[:10]"
   ]
  },
  {
   "cell_type": "code",
   "execution_count": null,
   "id": "8baa11c9",
   "metadata": {},
   "outputs": [],
   "source": [
    "y_prob=logreg.predict_proba(X_test)\n",
    "\n",
    "y_prob[:10]"
   ]
  },
  {
   "cell_type": "code",
   "execution_count": null,
   "id": "d97bca40",
   "metadata": {},
   "outputs": [],
   "source": [
    "# umbral 0.7\n",
    "\n",
    "[1 if e[1]>0.7 else 0 for e in y_prob][:10]"
   ]
  },
  {
   "cell_type": "code",
   "execution_count": null,
   "id": "1b4c2af2",
   "metadata": {},
   "outputs": [],
   "source": [
    "sum(y_pred==y_test)/y_pred.shape[0] * 100   # acierto, accuracy"
   ]
  },
  {
   "cell_type": "code",
   "execution_count": null,
   "id": "ab81d375",
   "metadata": {},
   "outputs": [],
   "source": [
    "logreg.intercept_"
   ]
  },
  {
   "cell_type": "code",
   "execution_count": null,
   "id": "7a91b654",
   "metadata": {},
   "outputs": [],
   "source": [
    "logreg.coef_"
   ]
  },
  {
   "cell_type": "code",
   "execution_count": null,
   "id": "0c75d4b3",
   "metadata": {},
   "outputs": [],
   "source": [
    "dict(zip(X.columns, logreg.coef_[0]))"
   ]
  },
  {
   "cell_type": "code",
   "execution_count": null,
   "id": "39000b16",
   "metadata": {},
   "outputs": [],
   "source": [
    "y_pred_prime=[0 if e[1]<0.25 else 1 for e in y_prob]   # 1 si prob>0.25\n",
    "\n",
    "y_pred_prime[:10]"
   ]
  },
  {
   "cell_type": "code",
   "execution_count": null,
   "id": "722ad58c",
   "metadata": {},
   "outputs": [],
   "source": [
    "sum(y_pred_prime==y_test)/y_test.shape[0] * 100   # acierto, accuracy"
   ]
  },
  {
   "cell_type": "code",
   "execution_count": null,
   "id": "d8f74c78",
   "metadata": {},
   "outputs": [],
   "source": []
  }
 ],
 "metadata": {
  "kernelspec": {
   "display_name": "clase",
   "language": "python",
   "name": "clase"
  },
  "language_info": {
   "codemirror_mode": {
    "name": "ipython",
    "version": 3
   },
   "file_extension": ".py",
   "mimetype": "text/x-python",
   "name": "python",
   "nbconvert_exporter": "python",
   "pygments_lexer": "ipython3",
   "version": "3.9.12"
  }
 },
 "nbformat": 4,
 "nbformat_minor": 5
}
