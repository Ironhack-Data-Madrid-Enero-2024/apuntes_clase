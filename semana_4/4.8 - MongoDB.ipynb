{
 "cells": [
  {
   "cell_type": "markdown",
   "id": "3ef23232",
   "metadata": {},
   "source": [
    "# 4.8 - MongoDB\n",
    "\n",
    "![mongo](images/mongodb.jpeg)\n",
    "\n",
    "https://docs.mongodb.com/manual/administration/install-community/\n",
    "\n",
    "https://docs.mongodb.com/compass/current/install/\n",
    "\n",
    "MongoDB es una base de datos orientada a documentos. Esto quiere decir que en lugar de guardar los datos en registros, guarda los datos en documentos. Estos documentos son almacenados en BSON, que es una representación binaria de JSON.\n",
    "\n",
    "Una de las diferencias más importantes con respecto a las bases de datos relacionales, es que no es necesario seguir un esquema. Los documentos de una misma colección, concepto similar a una tabla de una base de datos relacional, pueden tener esquemas diferentes."
   ]
  },
  {
   "cell_type": "code",
   "execution_count": null,
   "id": "ef210561",
   "metadata": {},
   "outputs": [],
   "source": [
    "%pip install pymongo"
   ]
  },
  {
   "cell_type": "code",
   "execution_count": 1,
   "id": "17c9a2b6",
   "metadata": {},
   "outputs": [],
   "source": [
    "from pymongo import MongoClient"
   ]
  },
  {
   "cell_type": "code",
   "execution_count": 2,
   "id": "c0b66b69",
   "metadata": {},
   "outputs": [
    {
     "data": {
      "text/plain": [
       "MongoClient(host=['localhost:27017'], document_class=dict, tz_aware=False, connect=True)"
      ]
     },
     "execution_count": 2,
     "metadata": {},
     "output_type": "execute_result"
    }
   ],
   "source": [
    "cursor=MongoClient()   # no esta escrita la string de conexion\n",
    "\n",
    "cursor"
   ]
  },
  {
   "cell_type": "code",
   "execution_count": 3,
   "id": "51a4a3a8",
   "metadata": {},
   "outputs": [
    {
     "data": {
      "text/plain": [
       "MongoClient(host=['localhost:27017'], document_class=dict, tz_aware=False, connect=True)"
      ]
     },
     "execution_count": 3,
     "metadata": {},
     "output_type": "execute_result"
    }
   ],
   "source": [
    "str_conn='mongodb://localhost:27017'  # str_conn por defecto\n",
    "\n",
    "cursor=MongoClient(str_conn)\n",
    "\n",
    "cursor"
   ]
  },
  {
   "cell_type": "code",
   "execution_count": 5,
   "id": "c75fc216",
   "metadata": {},
   "outputs": [
    {
     "data": {
      "text/plain": [
       "['admin',\n",
       " 'campus_tools_data',\n",
       " 'comp',\n",
       " 'companies',\n",
       " 'config',\n",
       " 'ironcomes',\n",
       " 'local',\n",
       " 'quizzes']"
      ]
     },
     "execution_count": 5,
     "metadata": {},
     "output_type": "execute_result"
    }
   ],
   "source": [
    "cursor.list_database_names()"
   ]
  },
  {
   "cell_type": "code",
   "execution_count": 6,
   "id": "248d704a",
   "metadata": {},
   "outputs": [],
   "source": [
    "db = cursor.nueva_db   # crea base de datos vacia"
   ]
  },
  {
   "cell_type": "code",
   "execution_count": 7,
   "id": "0699d1c4",
   "metadata": {},
   "outputs": [
    {
     "data": {
      "text/plain": [
       "['admin',\n",
       " 'campus_tools_data',\n",
       " 'comp',\n",
       " 'companies',\n",
       " 'config',\n",
       " 'ironcomes',\n",
       " 'local',\n",
       " 'quizzes']"
      ]
     },
     "execution_count": 7,
     "metadata": {},
     "output_type": "execute_result"
    }
   ],
   "source": [
    "cursor.list_database_names()"
   ]
  },
  {
   "cell_type": "code",
   "execution_count": 8,
   "id": "6853b92f",
   "metadata": {},
   "outputs": [],
   "source": [
    "colec = db.n_colec"
   ]
  },
  {
   "cell_type": "code",
   "execution_count": 9,
   "id": "50f2c688",
   "metadata": {},
   "outputs": [
    {
     "data": {
      "text/plain": [
       "[]"
      ]
     },
     "execution_count": 9,
     "metadata": {},
     "output_type": "execute_result"
    }
   ],
   "source": [
    "db.list_collection_names()"
   ]
  },
  {
   "cell_type": "code",
   "execution_count": 10,
   "id": "8677a376",
   "metadata": {},
   "outputs": [],
   "source": [
    "dictio = {'nombre': 'Manolo', 'oficio': 'vendedor', 'edad': 56, '4': [1,2,3,4]}"
   ]
  },
  {
   "cell_type": "code",
   "execution_count": 11,
   "id": "7ecc998c",
   "metadata": {},
   "outputs": [
    {
     "data": {
      "text/plain": [
       "{'nombre': 'Manolo', 'oficio': 'vendedor', 'edad': 56, '4': [1, 2, 3, 4]}"
      ]
     },
     "execution_count": 11,
     "metadata": {},
     "output_type": "execute_result"
    }
   ],
   "source": [
    "dictio"
   ]
  },
  {
   "cell_type": "code",
   "execution_count": 12,
   "id": "ef04fed7",
   "metadata": {},
   "outputs": [
    {
     "data": {
      "text/plain": [
       "<pymongo.results.InsertOneResult at 0x107485730>"
      ]
     },
     "execution_count": 12,
     "metadata": {},
     "output_type": "execute_result"
    }
   ],
   "source": [
    "colec.insert_one(dictio)"
   ]
  },
  {
   "cell_type": "code",
   "execution_count": 13,
   "id": "9f939a83",
   "metadata": {},
   "outputs": [
    {
     "data": {
      "text/plain": [
       "['admin',\n",
       " 'campus_tools_data',\n",
       " 'comp',\n",
       " 'companies',\n",
       " 'config',\n",
       " 'ironcomes',\n",
       " 'local',\n",
       " 'nueva_db',\n",
       " 'quizzes']"
      ]
     },
     "execution_count": 13,
     "metadata": {},
     "output_type": "execute_result"
    }
   ],
   "source": [
    "cursor.list_database_names()"
   ]
  },
  {
   "cell_type": "code",
   "execution_count": 14,
   "id": "8db71665",
   "metadata": {},
   "outputs": [
    {
     "data": {
      "text/plain": [
       "['n_colec']"
      ]
     },
     "execution_count": 14,
     "metadata": {},
     "output_type": "execute_result"
    }
   ],
   "source": [
    "db.list_collection_names()"
   ]
  },
  {
   "cell_type": "code",
   "execution_count": 15,
   "id": "b9e59f16",
   "metadata": {},
   "outputs": [
    {
     "data": {
      "text/plain": [
       "{'_id': 1, 'hola': 'carahuevo', 'altura': 0.39, 'que te pasa': 0}"
      ]
     },
     "execution_count": 15,
     "metadata": {},
     "output_type": "execute_result"
    }
   ],
   "source": [
    "dictio = {'_id': 1, 'hola': 'carahuevo', 'altura': 0.39,'que te pasa':0}\n",
    "\n",
    "dictio"
   ]
  },
  {
   "cell_type": "code",
   "execution_count": 16,
   "id": "f45ca082",
   "metadata": {},
   "outputs": [
    {
     "data": {
      "text/plain": [
       "<pymongo.results.InsertOneResult at 0x108a66ca0>"
      ]
     },
     "execution_count": 16,
     "metadata": {},
     "output_type": "execute_result"
    }
   ],
   "source": [
    "colec.insert_one(dictio)"
   ]
  },
  {
   "cell_type": "code",
   "execution_count": 17,
   "id": "1b4f7e4b",
   "metadata": {},
   "outputs": [
    {
     "data": {
      "text/plain": [
       "<pymongo.results.InsertManyResult at 0x1074aa580>"
      ]
     },
     "execution_count": 17,
     "metadata": {},
     "output_type": "execute_result"
    }
   ],
   "source": [
    "# insertar varios\n",
    "\n",
    "# Equivalente SQL\n",
    "\n",
    "# insert into colec (columnas) values (valores);\n",
    "\n",
    "json=[{'nombre': 'yo', 'edad': 38},\n",
    "      {'_id': 3, 'actividad': 'natacion', 'lugar': 'aqui'}]\n",
    "\n",
    "\n",
    "\n",
    "colec.insert_many(json)"
   ]
  },
  {
   "cell_type": "code",
   "execution_count": 18,
   "id": "f3fdf015",
   "metadata": {},
   "outputs": [
    {
     "data": {
      "text/plain": [
       "<pymongo.cursor.Cursor at 0x108bc6760>"
      ]
     },
     "execution_count": 18,
     "metadata": {},
     "output_type": "execute_result"
    }
   ],
   "source": [
    "# select * from colec;\n",
    "\n",
    "colec.find()"
   ]
  },
  {
   "cell_type": "code",
   "execution_count": 19,
   "id": "7783ef0e",
   "metadata": {},
   "outputs": [
    {
     "data": {
      "text/plain": [
       "[{'_id': ObjectId('65c5f48495fce0a63069e915'),\n",
       "  'nombre': 'Manolo',\n",
       "  'oficio': 'vendedor',\n",
       "  'edad': 56,\n",
       "  '4': [1, 2, 3, 4]},\n",
       " {'_id': 1, 'hola': 'carahuevo', 'altura': 0.39, 'que te pasa': 0},\n",
       " {'_id': ObjectId('65c5f5d195fce0a63069e916'), 'nombre': 'yo', 'edad': 38},\n",
       " {'_id': 3, 'actividad': 'natacion', 'lugar': 'aqui'}]"
      ]
     },
     "execution_count": 19,
     "metadata": {},
     "output_type": "execute_result"
    }
   ],
   "source": [
    "list(colec.find())"
   ]
  },
  {
   "cell_type": "code",
   "execution_count": 20,
   "id": "364d584a",
   "metadata": {},
   "outputs": [],
   "source": [
    "res = list(colec.find())"
   ]
  },
  {
   "cell_type": "code",
   "execution_count": 21,
   "id": "6a2664bc",
   "metadata": {},
   "outputs": [],
   "source": [
    "import pandas as pd"
   ]
  },
  {
   "cell_type": "code",
   "execution_count": 22,
   "id": "0c8853d8",
   "metadata": {},
   "outputs": [
    {
     "data": {
      "text/html": [
       "<div>\n",
       "<style scoped>\n",
       "    .dataframe tbody tr th:only-of-type {\n",
       "        vertical-align: middle;\n",
       "    }\n",
       "\n",
       "    .dataframe tbody tr th {\n",
       "        vertical-align: top;\n",
       "    }\n",
       "\n",
       "    .dataframe thead th {\n",
       "        text-align: right;\n",
       "    }\n",
       "</style>\n",
       "<table border=\"1\" class=\"dataframe\">\n",
       "  <thead>\n",
       "    <tr style=\"text-align: right;\">\n",
       "      <th></th>\n",
       "      <th>_id</th>\n",
       "      <th>nombre</th>\n",
       "      <th>oficio</th>\n",
       "      <th>edad</th>\n",
       "      <th>4</th>\n",
       "      <th>hola</th>\n",
       "      <th>altura</th>\n",
       "      <th>que te pasa</th>\n",
       "      <th>actividad</th>\n",
       "      <th>lugar</th>\n",
       "    </tr>\n",
       "  </thead>\n",
       "  <tbody>\n",
       "    <tr>\n",
       "      <th>0</th>\n",
       "      <td>65c5f48495fce0a63069e915</td>\n",
       "      <td>Manolo</td>\n",
       "      <td>vendedor</td>\n",
       "      <td>56.0</td>\n",
       "      <td>[1, 2, 3, 4]</td>\n",
       "      <td>NaN</td>\n",
       "      <td>NaN</td>\n",
       "      <td>NaN</td>\n",
       "      <td>NaN</td>\n",
       "      <td>NaN</td>\n",
       "    </tr>\n",
       "    <tr>\n",
       "      <th>1</th>\n",
       "      <td>1</td>\n",
       "      <td>NaN</td>\n",
       "      <td>NaN</td>\n",
       "      <td>NaN</td>\n",
       "      <td>NaN</td>\n",
       "      <td>carahuevo</td>\n",
       "      <td>0.39</td>\n",
       "      <td>0.0</td>\n",
       "      <td>NaN</td>\n",
       "      <td>NaN</td>\n",
       "    </tr>\n",
       "    <tr>\n",
       "      <th>2</th>\n",
       "      <td>65c5f5d195fce0a63069e916</td>\n",
       "      <td>yo</td>\n",
       "      <td>NaN</td>\n",
       "      <td>38.0</td>\n",
       "      <td>NaN</td>\n",
       "      <td>NaN</td>\n",
       "      <td>NaN</td>\n",
       "      <td>NaN</td>\n",
       "      <td>NaN</td>\n",
       "      <td>NaN</td>\n",
       "    </tr>\n",
       "    <tr>\n",
       "      <th>3</th>\n",
       "      <td>3</td>\n",
       "      <td>NaN</td>\n",
       "      <td>NaN</td>\n",
       "      <td>NaN</td>\n",
       "      <td>NaN</td>\n",
       "      <td>NaN</td>\n",
       "      <td>NaN</td>\n",
       "      <td>NaN</td>\n",
       "      <td>natacion</td>\n",
       "      <td>aqui</td>\n",
       "    </tr>\n",
       "  </tbody>\n",
       "</table>\n",
       "</div>"
      ],
      "text/plain": [
       "                        _id  nombre    oficio  edad             4       hola  \\\n",
       "0  65c5f48495fce0a63069e915  Manolo  vendedor  56.0  [1, 2, 3, 4]        NaN   \n",
       "1                         1     NaN       NaN   NaN           NaN  carahuevo   \n",
       "2  65c5f5d195fce0a63069e916      yo       NaN  38.0           NaN        NaN   \n",
       "3                         3     NaN       NaN   NaN           NaN        NaN   \n",
       "\n",
       "   altura  que te pasa actividad lugar  \n",
       "0     NaN          NaN       NaN   NaN  \n",
       "1    0.39          0.0       NaN   NaN  \n",
       "2     NaN          NaN       NaN   NaN  \n",
       "3     NaN          NaN  natacion  aqui  "
      ]
     },
     "execution_count": 22,
     "metadata": {},
     "output_type": "execute_result"
    }
   ],
   "source": [
    "pd.DataFrame(res)"
   ]
  },
  {
   "cell_type": "code",
   "execution_count": 23,
   "id": "f58eb744",
   "metadata": {},
   "outputs": [
    {
     "data": {
      "text/html": [
       "<div>\n",
       "<style scoped>\n",
       "    .dataframe tbody tr th:only-of-type {\n",
       "        vertical-align: middle;\n",
       "    }\n",
       "\n",
       "    .dataframe tbody tr th {\n",
       "        vertical-align: top;\n",
       "    }\n",
       "\n",
       "    .dataframe thead th {\n",
       "        text-align: right;\n",
       "    }\n",
       "</style>\n",
       "<table border=\"1\" class=\"dataframe\">\n",
       "  <thead>\n",
       "    <tr style=\"text-align: right;\">\n",
       "      <th></th>\n",
       "      <th>id</th>\n",
       "      <th>track_name</th>\n",
       "      <th>size_bytes</th>\n",
       "      <th>price</th>\n",
       "      <th>rating_count_tot</th>\n",
       "      <th>rating_count_ver</th>\n",
       "      <th>user_rating</th>\n",
       "      <th>user_rating_ver</th>\n",
       "      <th>prime_genre</th>\n",
       "    </tr>\n",
       "  </thead>\n",
       "  <tbody>\n",
       "    <tr>\n",
       "      <th>0</th>\n",
       "      <td>281656475</td>\n",
       "      <td>PAC-MAN Premium</td>\n",
       "      <td>100788224</td>\n",
       "      <td>3.99</td>\n",
       "      <td>21292</td>\n",
       "      <td>26</td>\n",
       "      <td>4.0</td>\n",
       "      <td>4.5</td>\n",
       "      <td>Games</td>\n",
       "    </tr>\n",
       "    <tr>\n",
       "      <th>1</th>\n",
       "      <td>281796108</td>\n",
       "      <td>Evernote - stay organized</td>\n",
       "      <td>158578688</td>\n",
       "      <td>0.00</td>\n",
       "      <td>161065</td>\n",
       "      <td>26</td>\n",
       "      <td>4.0</td>\n",
       "      <td>3.5</td>\n",
       "      <td>Productivity</td>\n",
       "    </tr>\n",
       "    <tr>\n",
       "      <th>2</th>\n",
       "      <td>281940292</td>\n",
       "      <td>WeatherBug - Local Weather, Radar, Maps, Alerts</td>\n",
       "      <td>100524032</td>\n",
       "      <td>0.00</td>\n",
       "      <td>188583</td>\n",
       "      <td>2822</td>\n",
       "      <td>3.5</td>\n",
       "      <td>4.5</td>\n",
       "      <td>Weather</td>\n",
       "    </tr>\n",
       "    <tr>\n",
       "      <th>3</th>\n",
       "      <td>282614216</td>\n",
       "      <td>eBay: Best App to Buy, Sell, Save! Online Shop...</td>\n",
       "      <td>128512000</td>\n",
       "      <td>0.00</td>\n",
       "      <td>262241</td>\n",
       "      <td>649</td>\n",
       "      <td>4.0</td>\n",
       "      <td>4.5</td>\n",
       "      <td>Shopping</td>\n",
       "    </tr>\n",
       "    <tr>\n",
       "      <th>4</th>\n",
       "      <td>282935706</td>\n",
       "      <td>Bible</td>\n",
       "      <td>92774400</td>\n",
       "      <td>0.00</td>\n",
       "      <td>985920</td>\n",
       "      <td>5320</td>\n",
       "      <td>4.5</td>\n",
       "      <td>5.0</td>\n",
       "      <td>Reference</td>\n",
       "    </tr>\n",
       "  </tbody>\n",
       "</table>\n",
       "</div>"
      ],
      "text/plain": [
       "          id                                         track_name  size_bytes  \\\n",
       "0  281656475                                    PAC-MAN Premium   100788224   \n",
       "1  281796108                          Evernote - stay organized   158578688   \n",
       "2  281940292    WeatherBug - Local Weather, Radar, Maps, Alerts   100524032   \n",
       "3  282614216  eBay: Best App to Buy, Sell, Save! Online Shop...   128512000   \n",
       "4  282935706                                              Bible    92774400   \n",
       "\n",
       "   price  rating_count_tot  rating_count_ver  user_rating  user_rating_ver  \\\n",
       "0   3.99             21292                26          4.0              4.5   \n",
       "1   0.00            161065                26          4.0              3.5   \n",
       "2   0.00            188583              2822          3.5              4.5   \n",
       "3   0.00            262241               649          4.0              4.5   \n",
       "4   0.00            985920              5320          4.5              5.0   \n",
       "\n",
       "    prime_genre  \n",
       "0         Games  \n",
       "1  Productivity  \n",
       "2       Weather  \n",
       "3      Shopping  \n",
       "4     Reference  "
      ]
     },
     "execution_count": 23,
     "metadata": {},
     "output_type": "execute_result"
    }
   ],
   "source": [
    "data = pd.read_csv('data/apple_store.csv')\n",
    "\n",
    "data.head()"
   ]
  },
  {
   "cell_type": "code",
   "execution_count": 31,
   "id": "4cc88d92",
   "metadata": {},
   "outputs": [],
   "source": [
    "import json\n",
    "\n",
    "_json = json.loads(data.tail().to_json(orient='records'))"
   ]
  },
  {
   "cell_type": "code",
   "execution_count": 32,
   "id": "3662bee4",
   "metadata": {},
   "outputs": [
    {
     "data": {
      "text/plain": [
       "<pymongo.results.InsertManyResult at 0x1074aa9a0>"
      ]
     },
     "execution_count": 32,
     "metadata": {},
     "output_type": "execute_result"
    }
   ],
   "source": [
    "colec.insert_many(_json)"
   ]
  },
  {
   "cell_type": "code",
   "execution_count": 33,
   "id": "53fc8009",
   "metadata": {},
   "outputs": [
    {
     "data": {
      "text/html": [
       "<div>\n",
       "<style scoped>\n",
       "    .dataframe tbody tr th:only-of-type {\n",
       "        vertical-align: middle;\n",
       "    }\n",
       "\n",
       "    .dataframe tbody tr th {\n",
       "        vertical-align: top;\n",
       "    }\n",
       "\n",
       "    .dataframe thead th {\n",
       "        text-align: right;\n",
       "    }\n",
       "</style>\n",
       "<table border=\"1\" class=\"dataframe\">\n",
       "  <thead>\n",
       "    <tr style=\"text-align: right;\">\n",
       "      <th></th>\n",
       "      <th>_id</th>\n",
       "      <th>nombre</th>\n",
       "      <th>oficio</th>\n",
       "      <th>edad</th>\n",
       "      <th>4</th>\n",
       "      <th>hola</th>\n",
       "      <th>altura</th>\n",
       "      <th>que te pasa</th>\n",
       "      <th>actividad</th>\n",
       "      <th>lugar</th>\n",
       "      <th>id</th>\n",
       "      <th>track_name</th>\n",
       "      <th>size_bytes</th>\n",
       "      <th>price</th>\n",
       "      <th>rating_count_tot</th>\n",
       "      <th>rating_count_ver</th>\n",
       "      <th>user_rating</th>\n",
       "      <th>user_rating_ver</th>\n",
       "      <th>prime_genre</th>\n",
       "    </tr>\n",
       "  </thead>\n",
       "  <tbody>\n",
       "    <tr>\n",
       "      <th>0</th>\n",
       "      <td>65c5f48495fce0a63069e915</td>\n",
       "      <td>Manolo</td>\n",
       "      <td>vendedor</td>\n",
       "      <td>56.0</td>\n",
       "      <td>[1, 2, 3, 4]</td>\n",
       "      <td>NaN</td>\n",
       "      <td>NaN</td>\n",
       "      <td>NaN</td>\n",
       "      <td>NaN</td>\n",
       "      <td>NaN</td>\n",
       "      <td>NaN</td>\n",
       "      <td>NaN</td>\n",
       "      <td>NaN</td>\n",
       "      <td>NaN</td>\n",
       "      <td>NaN</td>\n",
       "      <td>NaN</td>\n",
       "      <td>NaN</td>\n",
       "      <td>NaN</td>\n",
       "      <td>NaN</td>\n",
       "    </tr>\n",
       "    <tr>\n",
       "      <th>1</th>\n",
       "      <td>1</td>\n",
       "      <td>NaN</td>\n",
       "      <td>NaN</td>\n",
       "      <td>NaN</td>\n",
       "      <td>NaN</td>\n",
       "      <td>carahuevo</td>\n",
       "      <td>0.39</td>\n",
       "      <td>0.0</td>\n",
       "      <td>NaN</td>\n",
       "      <td>NaN</td>\n",
       "      <td>NaN</td>\n",
       "      <td>NaN</td>\n",
       "      <td>NaN</td>\n",
       "      <td>NaN</td>\n",
       "      <td>NaN</td>\n",
       "      <td>NaN</td>\n",
       "      <td>NaN</td>\n",
       "      <td>NaN</td>\n",
       "      <td>NaN</td>\n",
       "    </tr>\n",
       "    <tr>\n",
       "      <th>2</th>\n",
       "      <td>65c5f5d195fce0a63069e916</td>\n",
       "      <td>yo</td>\n",
       "      <td>NaN</td>\n",
       "      <td>38.0</td>\n",
       "      <td>NaN</td>\n",
       "      <td>NaN</td>\n",
       "      <td>NaN</td>\n",
       "      <td>NaN</td>\n",
       "      <td>NaN</td>\n",
       "      <td>NaN</td>\n",
       "      <td>NaN</td>\n",
       "      <td>NaN</td>\n",
       "      <td>NaN</td>\n",
       "      <td>NaN</td>\n",
       "      <td>NaN</td>\n",
       "      <td>NaN</td>\n",
       "      <td>NaN</td>\n",
       "      <td>NaN</td>\n",
       "      <td>NaN</td>\n",
       "    </tr>\n",
       "    <tr>\n",
       "      <th>3</th>\n",
       "      <td>3</td>\n",
       "      <td>NaN</td>\n",
       "      <td>NaN</td>\n",
       "      <td>NaN</td>\n",
       "      <td>NaN</td>\n",
       "      <td>NaN</td>\n",
       "      <td>NaN</td>\n",
       "      <td>NaN</td>\n",
       "      <td>natacion</td>\n",
       "      <td>aqui</td>\n",
       "      <td>NaN</td>\n",
       "      <td>NaN</td>\n",
       "      <td>NaN</td>\n",
       "      <td>NaN</td>\n",
       "      <td>NaN</td>\n",
       "      <td>NaN</td>\n",
       "      <td>NaN</td>\n",
       "      <td>NaN</td>\n",
       "      <td>NaN</td>\n",
       "    </tr>\n",
       "    <tr>\n",
       "      <th>4</th>\n",
       "      <td>65c5f82c95fce0a63069e917</td>\n",
       "      <td>NaN</td>\n",
       "      <td>NaN</td>\n",
       "      <td>NaN</td>\n",
       "      <td>NaN</td>\n",
       "      <td>NaN</td>\n",
       "      <td>NaN</td>\n",
       "      <td>NaN</td>\n",
       "      <td>NaN</td>\n",
       "      <td>NaN</td>\n",
       "      <td>1.187617e+09</td>\n",
       "      <td>Kubik</td>\n",
       "      <td>126644224.0</td>\n",
       "      <td>0.00</td>\n",
       "      <td>142.0</td>\n",
       "      <td>75.0</td>\n",
       "      <td>4.5</td>\n",
       "      <td>4.5</td>\n",
       "      <td>Games</td>\n",
       "    </tr>\n",
       "    <tr>\n",
       "      <th>5</th>\n",
       "      <td>65c5f82c95fce0a63069e918</td>\n",
       "      <td>NaN</td>\n",
       "      <td>NaN</td>\n",
       "      <td>NaN</td>\n",
       "      <td>NaN</td>\n",
       "      <td>NaN</td>\n",
       "      <td>NaN</td>\n",
       "      <td>NaN</td>\n",
       "      <td>NaN</td>\n",
       "      <td>NaN</td>\n",
       "      <td>1.187682e+09</td>\n",
       "      <td>VR Roller-Coaster</td>\n",
       "      <td>120760320.0</td>\n",
       "      <td>0.00</td>\n",
       "      <td>30.0</td>\n",
       "      <td>30.0</td>\n",
       "      <td>4.5</td>\n",
       "      <td>4.5</td>\n",
       "      <td>Games</td>\n",
       "    </tr>\n",
       "    <tr>\n",
       "      <th>6</th>\n",
       "      <td>65c5f82c95fce0a63069e919</td>\n",
       "      <td>NaN</td>\n",
       "      <td>NaN</td>\n",
       "      <td>NaN</td>\n",
       "      <td>NaN</td>\n",
       "      <td>NaN</td>\n",
       "      <td>NaN</td>\n",
       "      <td>NaN</td>\n",
       "      <td>NaN</td>\n",
       "      <td>NaN</td>\n",
       "      <td>1.187780e+09</td>\n",
       "      <td>Bret Michaels Emojis + Lyric Keyboard</td>\n",
       "      <td>111322112.0</td>\n",
       "      <td>1.99</td>\n",
       "      <td>15.0</td>\n",
       "      <td>0.0</td>\n",
       "      <td>4.5</td>\n",
       "      <td>0.0</td>\n",
       "      <td>Utilities</td>\n",
       "    </tr>\n",
       "    <tr>\n",
       "      <th>7</th>\n",
       "      <td>65c5f82c95fce0a63069e91a</td>\n",
       "      <td>NaN</td>\n",
       "      <td>NaN</td>\n",
       "      <td>NaN</td>\n",
       "      <td>NaN</td>\n",
       "      <td>NaN</td>\n",
       "      <td>NaN</td>\n",
       "      <td>NaN</td>\n",
       "      <td>NaN</td>\n",
       "      <td>NaN</td>\n",
       "      <td>1.187839e+09</td>\n",
       "      <td>VR Roller Coaster World - Virtual Reality</td>\n",
       "      <td>97235968.0</td>\n",
       "      <td>0.00</td>\n",
       "      <td>85.0</td>\n",
       "      <td>32.0</td>\n",
       "      <td>4.5</td>\n",
       "      <td>4.5</td>\n",
       "      <td>Games</td>\n",
       "    </tr>\n",
       "    <tr>\n",
       "      <th>8</th>\n",
       "      <td>65c5f82c95fce0a63069e91b</td>\n",
       "      <td>NaN</td>\n",
       "      <td>NaN</td>\n",
       "      <td>NaN</td>\n",
       "      <td>NaN</td>\n",
       "      <td>NaN</td>\n",
       "      <td>NaN</td>\n",
       "      <td>NaN</td>\n",
       "      <td>NaN</td>\n",
       "      <td>NaN</td>\n",
       "      <td>1.188376e+09</td>\n",
       "      <td>Escape the Sweet Shop Series</td>\n",
       "      <td>90898432.0</td>\n",
       "      <td>0.00</td>\n",
       "      <td>3.0</td>\n",
       "      <td>3.0</td>\n",
       "      <td>5.0</td>\n",
       "      <td>5.0</td>\n",
       "      <td>Games</td>\n",
       "    </tr>\n",
       "  </tbody>\n",
       "</table>\n",
       "</div>"
      ],
      "text/plain": [
       "                        _id  nombre    oficio  edad             4       hola  \\\n",
       "0  65c5f48495fce0a63069e915  Manolo  vendedor  56.0  [1, 2, 3, 4]        NaN   \n",
       "1                         1     NaN       NaN   NaN           NaN  carahuevo   \n",
       "2  65c5f5d195fce0a63069e916      yo       NaN  38.0           NaN        NaN   \n",
       "3                         3     NaN       NaN   NaN           NaN        NaN   \n",
       "4  65c5f82c95fce0a63069e917     NaN       NaN   NaN           NaN        NaN   \n",
       "5  65c5f82c95fce0a63069e918     NaN       NaN   NaN           NaN        NaN   \n",
       "6  65c5f82c95fce0a63069e919     NaN       NaN   NaN           NaN        NaN   \n",
       "7  65c5f82c95fce0a63069e91a     NaN       NaN   NaN           NaN        NaN   \n",
       "8  65c5f82c95fce0a63069e91b     NaN       NaN   NaN           NaN        NaN   \n",
       "\n",
       "   altura  que te pasa actividad lugar            id  \\\n",
       "0     NaN          NaN       NaN   NaN           NaN   \n",
       "1    0.39          0.0       NaN   NaN           NaN   \n",
       "2     NaN          NaN       NaN   NaN           NaN   \n",
       "3     NaN          NaN  natacion  aqui           NaN   \n",
       "4     NaN          NaN       NaN   NaN  1.187617e+09   \n",
       "5     NaN          NaN       NaN   NaN  1.187682e+09   \n",
       "6     NaN          NaN       NaN   NaN  1.187780e+09   \n",
       "7     NaN          NaN       NaN   NaN  1.187839e+09   \n",
       "8     NaN          NaN       NaN   NaN  1.188376e+09   \n",
       "\n",
       "                                  track_name   size_bytes  price  \\\n",
       "0                                        NaN          NaN    NaN   \n",
       "1                                        NaN          NaN    NaN   \n",
       "2                                        NaN          NaN    NaN   \n",
       "3                                        NaN          NaN    NaN   \n",
       "4                                      Kubik  126644224.0   0.00   \n",
       "5                          VR Roller-Coaster  120760320.0   0.00   \n",
       "6      Bret Michaels Emojis + Lyric Keyboard  111322112.0   1.99   \n",
       "7  VR Roller Coaster World - Virtual Reality   97235968.0   0.00   \n",
       "8               Escape the Sweet Shop Series   90898432.0   0.00   \n",
       "\n",
       "   rating_count_tot  rating_count_ver  user_rating  user_rating_ver  \\\n",
       "0               NaN               NaN          NaN              NaN   \n",
       "1               NaN               NaN          NaN              NaN   \n",
       "2               NaN               NaN          NaN              NaN   \n",
       "3               NaN               NaN          NaN              NaN   \n",
       "4             142.0              75.0          4.5              4.5   \n",
       "5              30.0              30.0          4.5              4.5   \n",
       "6              15.0               0.0          4.5              0.0   \n",
       "7              85.0              32.0          4.5              4.5   \n",
       "8               3.0               3.0          5.0              5.0   \n",
       "\n",
       "  prime_genre  \n",
       "0         NaN  \n",
       "1         NaN  \n",
       "2         NaN  \n",
       "3         NaN  \n",
       "4       Games  \n",
       "5       Games  \n",
       "6   Utilities  \n",
       "7       Games  \n",
       "8       Games  "
      ]
     },
     "execution_count": 33,
     "metadata": {},
     "output_type": "execute_result"
    }
   ],
   "source": [
    "res = list(colec.find())\n",
    "\n",
    "pd.DataFrame(res)"
   ]
  },
  {
   "cell_type": "markdown",
   "id": "30dd8724",
   "metadata": {},
   "source": [
    "# Queries"
   ]
  },
  {
   "cell_type": "code",
   "execution_count": 35,
   "id": "06da7ebd",
   "metadata": {},
   "outputs": [
    {
     "data": {
      "text/plain": [
       "[{'_id': ObjectId('65c5f48495fce0a63069e915'),\n",
       "  'nombre': 'Manolo',\n",
       "  'oficio': 'vendedor',\n",
       "  'edad': 56,\n",
       "  '4': [1, 2, 3, 4]},\n",
       " {'_id': 1, 'hola': 'carahuevo', 'altura': 0.39, 'que te pasa': 0},\n",
       " {'_id': ObjectId('65c5f5d195fce0a63069e916'), 'nombre': 'yo', 'edad': 38},\n",
       " {'_id': 3, 'actividad': 'natacion', 'lugar': 'aqui'},\n",
       " {'_id': ObjectId('65c5f82c95fce0a63069e917'),\n",
       "  'id': 1187617475,\n",
       "  'track_name': 'Kubik',\n",
       "  'size_bytes': 126644224,\n",
       "  'price': 0.0,\n",
       "  'rating_count_tot': 142,\n",
       "  'rating_count_ver': 75,\n",
       "  'user_rating': 4.5,\n",
       "  'user_rating_ver': 4.5,\n",
       "  'prime_genre': 'Games'}]"
      ]
     },
     "execution_count": 35,
     "metadata": {},
     "output_type": "execute_result"
    }
   ],
   "source": [
    "# select * from colec;\n",
    "\n",
    "list(colec.find())[:5]"
   ]
  },
  {
   "cell_type": "code",
   "execution_count": 37,
   "id": "4990d246",
   "metadata": {},
   "outputs": [
    {
     "data": {
      "text/plain": [
       "[{'_id': ObjectId('65c5f48495fce0a63069e915'),\n",
       "  'nombre': 'Manolo',\n",
       "  'oficio': 'vendedor',\n",
       "  'edad': 56,\n",
       "  '4': [1, 2, 3, 4]}]"
      ]
     },
     "execution_count": 37,
     "metadata": {},
     "output_type": "execute_result"
    }
   ],
   "source": [
    "# select * from colec where edad=56;\n",
    "\n",
    "query={'edad': 56}\n",
    "\n",
    "list(colec.find(query))"
   ]
  },
  {
   "cell_type": "code",
   "execution_count": 38,
   "id": "68b9dc0d",
   "metadata": {},
   "outputs": [
    {
     "data": {
      "text/plain": [
       "[{'_id': ObjectId('65c5f48495fce0a63069e915'),\n",
       "  'nombre': 'Manolo',\n",
       "  'oficio': 'vendedor',\n",
       "  'edad': 56,\n",
       "  '4': [1, 2, 3, 4]}]"
      ]
     },
     "execution_count": 38,
     "metadata": {},
     "output_type": "execute_result"
    }
   ],
   "source": [
    "# select * from colec where edad>=39;\n",
    "\n",
    "query={'edad': {'$gte': 39}}\n",
    "\n",
    "list(colec.find(query))"
   ]
  },
  {
   "cell_type": "code",
   "execution_count": 39,
   "id": "17bd5741",
   "metadata": {},
   "outputs": [
    {
     "data": {
      "text/plain": [
       "[{'_id': ObjectId('65c5f48495fce0a63069e915'),\n",
       "  'nombre': 'Manolo',\n",
       "  'oficio': 'vendedor',\n",
       "  'edad': 56,\n",
       "  '4': [1, 2, 3, 4]}]"
      ]
     },
     "execution_count": 39,
     "metadata": {},
     "output_type": "execute_result"
    }
   ],
   "source": [
    "# select * from colec where edad>39;\n",
    "\n",
    "query={'edad': {'$gt': 39}}\n",
    "\n",
    "list(colec.find(query))"
   ]
  },
  {
   "cell_type": "code",
   "execution_count": 40,
   "id": "b449fb96",
   "metadata": {},
   "outputs": [
    {
     "data": {
      "text/plain": [
       "[{'_id': ObjectId('65c5f5d195fce0a63069e916'), 'nombre': 'yo', 'edad': 38}]"
      ]
     },
     "execution_count": 40,
     "metadata": {},
     "output_type": "execute_result"
    }
   ],
   "source": [
    "# select * from colec where edad<39;\n",
    "\n",
    "query={'edad': {'$lt': 39}}\n",
    "\n",
    "list(colec.find(query))"
   ]
  },
  {
   "cell_type": "code",
   "execution_count": 41,
   "id": "b449bae7",
   "metadata": {},
   "outputs": [
    {
     "data": {
      "text/plain": [
       "[{'_id': ObjectId('65c5f5d195fce0a63069e916'), 'nombre': 'yo', 'edad': 38}]"
      ]
     },
     "execution_count": 41,
     "metadata": {},
     "output_type": "execute_result"
    }
   ],
   "source": [
    "# select * from colec where edad<=39;\n",
    "\n",
    "query={'edad': {'$lte': 39}}\n",
    "\n",
    "list(colec.find(query))"
   ]
  },
  {
   "cell_type": "code",
   "execution_count": 43,
   "id": "b498c2fd",
   "metadata": {},
   "outputs": [
    {
     "data": {
      "text/plain": [
       "[{'_id': ObjectId('65c5f48495fce0a63069e915'),\n",
       "  'nombre': 'Manolo',\n",
       "  'oficio': 'vendedor',\n",
       "  'edad': 56,\n",
       "  '4': [1, 2, 3, 4]},\n",
       " {'_id': ObjectId('65c5f5d195fce0a63069e916'), 'nombre': 'yo', 'edad': 38}]"
      ]
     },
     "execution_count": 43,
     "metadata": {},
     "output_type": "execute_result"
    }
   ],
   "source": [
    "# select * from colec where edad<57 and edad>24;\n",
    "# select * from colec where edad between (57, 24);\n",
    "\n",
    "\n",
    "query={'$and': [{'edad': {'$lt': 57}},\n",
    "                {'edad': {'$gt': 24}}]}\n",
    "\n",
    "list(colec.find(query))"
   ]
  },
  {
   "cell_type": "code",
   "execution_count": 48,
   "id": "a99672e3",
   "metadata": {},
   "outputs": [
    {
     "data": {
      "text/plain": [
       "list"
      ]
     },
     "execution_count": 48,
     "metadata": {},
     "output_type": "execute_result"
    }
   ],
   "source": [
    "res = list(colec.find(query))\n",
    "\n",
    "type(res)"
   ]
  },
  {
   "cell_type": "code",
   "execution_count": 46,
   "id": "1ef719aa",
   "metadata": {},
   "outputs": [
    {
     "data": {
      "text/plain": [
       "'vendedor'"
      ]
     },
     "execution_count": 46,
     "metadata": {},
     "output_type": "execute_result"
    }
   ],
   "source": [
    "res[0]['oficio']"
   ]
  },
  {
   "cell_type": "code",
   "execution_count": 47,
   "id": "09752401",
   "metadata": {},
   "outputs": [
    {
     "data": {
      "text/plain": [
       "[{'_id': ObjectId('65c5f48495fce0a63069e915'),\n",
       "  'nombre': 'Manolo',\n",
       "  'oficio': 'vendedor',\n",
       "  'edad': 56,\n",
       "  '4': [1, 2, 3, 4]},\n",
       " {'_id': ObjectId('65c5f5d195fce0a63069e916'), 'nombre': 'yo', 'edad': 38}]"
      ]
     },
     "execution_count": 47,
     "metadata": {},
     "output_type": "execute_result"
    }
   ],
   "source": [
    "# select * from colec where edad<40 or edad>24;\n",
    "\n",
    "query={'$or': [{'edad': {'$lt': 40}},\n",
    "                {'edad': {'$gt': 24}}]}\n",
    "\n",
    "list(colec.find(query))"
   ]
  },
  {
   "cell_type": "code",
   "execution_count": 49,
   "id": "fdf55c80",
   "metadata": {},
   "outputs": [
    {
     "data": {
      "text/plain": [
       "[{'_id': ObjectId('65c5f48495fce0a63069e915'),\n",
       "  'nombre': 'Manolo',\n",
       "  'oficio': 'vendedor',\n",
       "  'edad': 56,\n",
       "  '4': [1, 2, 3, 4]},\n",
       " {'_id': 1, 'hola': 'carahuevo', 'altura': 0.39, 'que te pasa': 0}]"
      ]
     },
     "execution_count": 49,
     "metadata": {},
     "output_type": "execute_result"
    }
   ],
   "source": [
    "# select * from colec where edad!=38 limit 2;\n",
    "\n",
    "query={'edad': {'$ne': 38}}\n",
    "\n",
    "list(colec.find(query).limit(2))"
   ]
  },
  {
   "cell_type": "code",
   "execution_count": 50,
   "id": "839937c9",
   "metadata": {},
   "outputs": [
    {
     "data": {
      "text/plain": [
       "[{'_id': ObjectId('65c5f48495fce0a63069e915'),\n",
       "  'nombre': 'Manolo',\n",
       "  'oficio': 'vendedor',\n",
       "  'edad': 56,\n",
       "  '4': [1, 2, 3, 4]},\n",
       " {'_id': 3, 'actividad': 'natacion', 'lugar': 'aqui'},\n",
       " {'_id': 1, 'hola': 'carahuevo', 'altura': 0.39, 'que te pasa': 0}]"
      ]
     },
     "execution_count": 50,
     "metadata": {},
     "output_type": "execute_result"
    }
   ],
   "source": [
    "# select * from colec where edad!=38 order by edad desc limit 3;\n",
    "\n",
    "query={'edad': {'$ne': 38}}\n",
    "\n",
    "res=colec.find(query).sort('edad', -1).limit(3)\n",
    "\n",
    "list(res)   # sort 1 asc, sort -1 desc"
   ]
  },
  {
   "cell_type": "code",
   "execution_count": 51,
   "id": "e27e04fd",
   "metadata": {},
   "outputs": [
    {
     "data": {
      "text/plain": [
       "[{'_id': '', 'count': 9}]"
      ]
     },
     "execution_count": 51,
     "metadata": {},
     "output_type": "execute_result"
    }
   ],
   "source": [
    "# select count(*) from colec group by _id;     #por cada id suma 1\n",
    "\n",
    "list(colec.aggregate([{'$group': {'_id': '', \n",
    "                                  'count': {'$sum': \n",
    "                                            1}}}]))"
   ]
  },
  {
   "cell_type": "code",
   "execution_count": 52,
   "id": "75d54c10",
   "metadata": {},
   "outputs": [],
   "source": [
    "db=cursor.companies"
   ]
  },
  {
   "cell_type": "code",
   "execution_count": 57,
   "id": "ea1f7eb6",
   "metadata": {},
   "outputs": [],
   "source": [
    "colec=db.coleccion"
   ]
  },
  {
   "cell_type": "code",
   "execution_count": 63,
   "id": "3148ef52",
   "metadata": {},
   "outputs": [
    {
     "data": {
      "text/plain": [
       "dict_keys(['_id', 'name', 'permalink', 'crunchbase_url', 'homepage_url', 'blog_url', 'blog_feed_url', 'twitter_username', 'category_code', 'number_of_employees', 'founded_year', 'founded_month', 'founded_day', 'deadpooled_year', 'tag_list', 'alias_list', 'email_address', 'phone_number', 'description', 'created_at', 'updated_at', 'overview', 'image', 'products', 'relationships', 'competitions', 'providerships', 'total_money_raised', 'funding_rounds', 'investments', 'acquisition', 'acquisitions', 'offices', 'milestones', 'video_embeds', 'screenshots', 'external_links', 'partners'])"
      ]
     },
     "execution_count": 63,
     "metadata": {},
     "output_type": "execute_result"
    }
   ],
   "source": [
    "res=colec.find().limit(1)\n",
    "\n",
    "list(res)[0].keys()"
   ]
  },
  {
   "cell_type": "code",
   "execution_count": 64,
   "id": "47019e3e",
   "metadata": {},
   "outputs": [
    {
     "data": {
      "text/plain": [
       "<pymongo.cursor.Cursor at 0x11ebafb50>"
      ]
     },
     "execution_count": 64,
     "metadata": {},
     "output_type": "execute_result"
    }
   ],
   "source": [
    "colec.find()"
   ]
  },
  {
   "cell_type": "code",
   "execution_count": 62,
   "id": "bc9e261a",
   "metadata": {},
   "outputs": [
    {
     "data": {
      "text/plain": [
       "[{'name': 'Wetpaint', 'category_code': 'web'},\n",
       " {'name': 'Postini', 'category_code': 'web'},\n",
       " {'name': 'Geni', 'category_code': 'web'},\n",
       " {'name': 'Fox Interactive Media', 'category_code': 'web'},\n",
       " {'name': 'StumbleUpon', 'category_code': 'web'},\n",
       " {'name': 'Gizmoz', 'category_code': 'web'},\n",
       " {'name': 'eBay', 'category_code': 'web'},\n",
       " {'name': 'Viacom', 'category_code': 'web'},\n",
       " {'name': 'Plaxo', 'category_code': 'web'},\n",
       " {'name': 'Yahoo!', 'category_code': 'web'}]"
      ]
     },
     "execution_count": 62,
     "metadata": {},
     "output_type": "execute_result"
    }
   ],
   "source": [
    "# select name, category_code from colec where category_code in ('web', 'ecommerce') limit 10;\n",
    "\n",
    "\n",
    "# por \"filas\", dame los registros con estos category_code\n",
    "query={'$or': [{'category_code': 'web'},\n",
    "               {'category_code': 'ecommerce'}]}\n",
    "\n",
    "\n",
    "\n",
    "# por columnas, dame solo las dos columnas\n",
    "select={'name': True, 'category_code': True, '_id': False}\n",
    "\n",
    "\n",
    "res = colec.find(query, select).limit(10)\n",
    "\n",
    "list(res)"
   ]
  },
  {
   "cell_type": "code",
   "execution_count": 65,
   "id": "396a954c",
   "metadata": {},
   "outputs": [
    {
     "data": {
      "text/plain": [
       "[{'name': 'Postini', 'category_code': 'web', 'founded_year': 1999},\n",
       " {'name': 'Fox Interactive Media',\n",
       "  'category_code': 'web',\n",
       "  'founded_year': 1979},\n",
       " {'name': 'StumbleUpon', 'category_code': 'web', 'founded_year': 2002},\n",
       " {'name': 'eBay', 'category_code': 'web', 'founded_year': 1995},\n",
       " {'name': 'Viacom', 'category_code': 'web', 'founded_year': 1971},\n",
       " {'name': 'Plaxo', 'category_code': 'web', 'founded_year': 2002},\n",
       " {'name': 'Yahoo!', 'category_code': 'web', 'founded_year': 1994},\n",
       " {'name': 'Meetup', 'category_code': 'web', 'founded_year': 2002},\n",
       " {'name': 'Topix', 'category_code': 'web', 'founded_year': 2002},\n",
       " {'name': 'Steorn', 'category_code': 'web', 'founded_year': 2000}]"
      ]
     },
     "execution_count": 65,
     "metadata": {},
     "output_type": "execute_result"
    }
   ],
   "source": [
    "# select founded_year, name \n",
    "# from colec where category_code=web and founded_year<=2002 limit 10;\n",
    "\n",
    "# por \"filas\", dame los registros category_code\n",
    "query={'$and': [{'category_code': 'web'},\n",
    "                {'founded_year': {'$lte': 2002}}]}\n",
    "\n",
    "\n",
    "# por columnas, dame solo las dos columnas\n",
    "select={'name': True, 'founded_year': True, 'category_code': True, '_id': False}\n",
    "\n",
    "\n",
    "\n",
    "list(colec.find(query, select).limit(10))"
   ]
  },
  {
   "cell_type": "code",
   "execution_count": null,
   "id": "7525b625",
   "metadata": {},
   "outputs": [],
   "source": []
  }
 ],
 "metadata": {
  "kernelspec": {
   "display_name": "clase",
   "language": "python",
   "name": "clase"
  },
  "language_info": {
   "codemirror_mode": {
    "name": "ipython",
    "version": 3
   },
   "file_extension": ".py",
   "mimetype": "text/x-python",
   "name": "python",
   "nbconvert_exporter": "python",
   "pygments_lexer": "ipython3",
   "version": "3.9.12"
  }
 },
 "nbformat": 4,
 "nbformat_minor": 5
}
