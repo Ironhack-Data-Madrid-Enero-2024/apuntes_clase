{
 "cells": [
  {
   "cell_type": "markdown",
   "metadata": {},
   "source": [
    "# 3.1 - Web Scraping (selenium)\n",
    "\n",
    "**[Documentación](https://selenium-python.readthedocs.io/)**\n",
    "\n",
    "\n",
    "$$$$\n",
    "\n",
    "Selenium es un entorno de pruebas de software para aplicaciones basadas en la web. Selenium provee una herramienta de grabar/reproducir para crear pruebas sin usar un lenguaje de scripting para pruebas (Selenium IDE). Incluye también un lenguaje específico de dominio para pruebas (Selenese) para escribir pruebas en un amplio número de lenguajes de programación populares incluyendo Java, C#, Ruby, Groovy, Perl, Php y Python. Las pruebas pueden ejecutarse entonces usando la mayoría de los navegadores web modernos en diferentes sistemas operativos como Windows, Linux y OSX.\n",
    "\n",
    "Selenium fue originalmente desarrollado por Jason Huggins en 2004 y pronto se unieron al esfuerzo otras personas especialistas en pruebas y programación. Es un software de código abierto bajo la licencia apache 2.0 que puede ser descargada y usada sin cargo. El nombre proviene de una broma hecha por Huggins burlándose de un competidor llamado Mercury (mercurio) diciendo que el envenenamiento por mercurio puede ser curado tomando complementos de Selenium. Los participantes tomaron el nombre y siguieron con él. Existen otros proyectos que se desarrollan alrededor de Selenium como Selenium Grid, para probar concurrencia de múltiples pruebas concurrentes de clientes remotos o locales, así como Flash Selenium para probar programas escritos en Adobe Flex o Selenium Silverlight.\n",
    "\n",
    "\n",
    "### Componentes\n",
    "\n",
    "**Selenium IDE**\n",
    "\n",
    "Selenium IDE es un entorno de desarrollo integrado para pruebas con Selenium. Está implementado como una extensión de Firefox y permite grabar, editar y depurar pruebas. Originalmente se le conoció como Selenium Recorder.\n",
    "\n",
    "Se pueden desarrollar automáticamente scripts al crear una grabación y de esa manera se puede editar manualmente con sentencias y comandos para que la reproducción de nuestra grabación sea correcta\n",
    "\n",
    "Los scripts se generan en Selanese, un lenguaje de scripting especial para Selenium. Selanese provee comandos que ejecutan acciones sobre objetos en el navegador, como hacer clic en un enlace, seleccionar de una lista de opciones, verificar la presencia de un texto en particular así como para tomar la totalidad de la página producto de las acciones.\n",
    "\n",
    "Características:\n",
    "\n",
    "+ Grabación y reproducción fácil\n",
    "+ Selección inteligente de campos usando ID, nombre o XPath según se necesite.\n",
    "+ Compleción automática de los comandos de Selenium más comunes.\n",
    "+ Pruebas de revisión cruzada\n",
    "+ Depuración y puntos de verificación (breakpoint)\n",
    "+ Almacenar las pruebas como Selanese, Ruby, Java y otros formatos.\n",
    "+ Soporte al archivo user-extensions.js\n",
    "+ Opción para asertar el título de la página.\n",
    "+ Opción de modificarle a la medida con el uso de complementos\n",
    "\n",
    "\n",
    "**Selenium Client API**\n",
    "\n",
    "Interfaz de programación de aplicaciones (API) de clientes Como alternativa a escribir pruebas en Selanese, las pruebas pueden escribirse en varios lenguajes de programación, éstos se comunican con Selenium mediante llamadas a los métodos de Selenium Client API. Actualmente Selenium provee API para Java, C#, Ruby y Python. Con Selenium 2 se presentó una nueva API de clientes, con WebDriver como componente central, aunque la anterior API puede seguirse usando llamando a la clase Selenium.\n",
    "\n",
    "\n",
    "**Selenium Remote Control**\n",
    "\n",
    "Selenium Remote Control (RC) es un servidor escrito en Java que acepta comandos al navegador vía HTTP. RC hace posible escribir pruebas automatizadas para aplicaciones web, en cualquier lenguaje de programación lo que permite una mejor integración de Selenium a entornos de prueba existentes. Para hacer la escritura de pruebas más fácil, Selenium actualmente provee controladores de dispositivos para PHP, Python, Ruby,.NET, Perl y Java. El controlador de Java puede usarse para Javascript vía el motor Rhino. Selenium Remote Control fue una refactorización de Driven Selenium o Selenium B, la versión original lanzaba directamente un proceso para el navegador en cuestión desde el lenguaje de prueba; el protocolo de cable (confusamente llamado Selanese también en aquel tiempo) fue reimplementado al portarse a cada lenguaje. Después de la refactorización, hubo un proceso intermediario demonio entre el script controlador y el navegador. Los beneficios incluyeron la capacidad de controlar navegadores remotos y reducir la necesidad de portar el código a un número creciente de lenguajes. Con la liberación de Selenium 2, Selenium RC fue oficialmente descartado en favor de Selenium WebDriver.\n",
    "\n",
    "\n",
    "**Selenium WebDriver**\n",
    "\n",
    "Selenium WebDriver es el sucesor de Selenium RC. Selenium WebDriver acepta comandos (enviados en Selenese o vía el API de cliente) y los envía a un navegador. Esto se implementa a través de un controlador del navegador específico para cada navegador que envía los comandos y trae los resultados de regreso. La mayoría de los controladores del navegador lanzan y acceden a la aplicación de navegador (como Mozilla Firefox o Internet Explorer), pero también hay un controlador para HtmlUnit que simula un navegador. A diferencia de Selenium 1, donde el servidor Selenium RC era indispensable, en Selenium WebDriver no se requiere de un servidor especial para ejecutar las pruebas, en vez de ello WebDriver inicia una instancia del navegador y lo controla; sin embargo puede usarse Selenium Grid (ver abajo) para ejecutar pruebas en sistemas remotos (ver más abajo). Desde inicios de 2012, Simon Stewart de Google (inventor del WebDriver) y David Burns de la Fundación Mozilla se encuentran negociando con el W3C que WebDriver se convierta en un estándar de Internet, como tal Selenium-Webdriver (Selenium 2.0) apunta a ser la implementación de referencia del estándar WebDriver en varios lenguajes de programación. Selenium-WebDriver está completamente implementado y soportado en Java, Ruby, Python y C#. En la práctica, esto significa que la API de Selenium 2.0 tiene significativamente menos llamadas que el API de Selenium 1.0. Donde Selenium 1.0 intentaba proveer una interfaz rica en muchas operaciones, Selenium 2.0 intenta proveer de los bloques de construcción básicos con los cuales los desarrolladores puedan programar su propio lenguaje específico de dominio. Uno de ellos ya existe y es el proyecto Watir en Ruby que tiene una historia rica en buen diseño. Watir-WebDriver implementa el API de Watir como un envolvente del Selenium-Webdriver en Ruby. Watir-WebDriver se crea de forma completamente automática, basado en las especificaciones del WebDriver y HTML.\n",
    "\n",
    "**Selenium Grid**\n",
    "\n",
    "Selenium Grid es un servidor que permite usar instancias de navegador ejecutándose en máquinas remotas. Con Selenium Grid, uno de los servidores actúa como concentrador. Las pruebas contactan al concentrador para obtener acceso a instancias de navegadores; el concentrador lleva una lista de instancias de los navegadores (Nodos de WebDriver) y permiten a las pruebas usar estas instancias. Selenium Grid permite ejecutar pruebas en paralelo en múltiples máquinas y manejar diferentes versiones y configuraciones de manera centralizada."
   ]
  },
  {
   "cell_type": "markdown",
   "metadata": {},
   "source": [
    "Nosotros usaremos fundamentalmente el Webdriver en Python.\n",
    "\n",
    "https://chromedriver.chromium.org/downloads\n",
    "\n",
    "\n",
    "https://googlechromelabs.github.io/chrome-for-testing/#stable"
   ]
  },
  {
   "cell_type": "markdown",
   "metadata": {},
   "source": [
    "# Amazon\n",
    "\n",
    "https://www.amazon.es/"
   ]
  },
  {
   "cell_type": "code",
   "execution_count": 1,
   "metadata": {},
   "outputs": [],
   "source": [
    "import requests as req\n",
    "\n",
    "from bs4 import BeautifulSoup as bs"
   ]
  },
  {
   "cell_type": "code",
   "execution_count": 2,
   "metadata": {},
   "outputs": [],
   "source": [
    "url = 'https://www.amazon.es/'"
   ]
  },
  {
   "cell_type": "code",
   "execution_count": 4,
   "metadata": {},
   "outputs": [],
   "source": [
    "html=req.get(url).text\n",
    "\n",
    "sopa=bs(html, 'html.parser')\n"
   ]
  },
  {
   "cell_type": "code",
   "execution_count": 5,
   "metadata": {},
   "outputs": [],
   "source": [
    "from selenium import webdriver   # driver de selenium\n",
    "\n",
    "from selenium.webdriver.chrome.options import Options   # opciones del driver\n",
    "\n",
    "from selenium.webdriver.common.by import By # By es para buscar por tag, clase, id...\n",
    "\n",
    "from selenium.webdriver.common.keys import Keys  # para usar teclado"
   ]
  },
  {
   "cell_type": "code",
   "execution_count": 6,
   "metadata": {},
   "outputs": [],
   "source": [
    "PATH = 'driver/chromedriver'"
   ]
  },
  {
   "cell_type": "code",
   "execution_count": 7,
   "metadata": {},
   "outputs": [],
   "source": [
    "# opciones del driver\n",
    "opciones=Options()\n",
    "\n",
    "# quita la bandera de ser robot\n",
    "opciones.add_experimental_option('excludeSwitches', ['enable-automation'])\n",
    "opciones.add_experimental_option('useAutomationExtension', False)\n",
    "\n",
    "\n",
    "# guardar las cookies\n",
    "opciones.add_argument('user-data-dir=cookies')    # mantiene las coockies\n"
   ]
  },
  {
   "cell_type": "code",
   "execution_count": 8,
   "metadata": {},
   "outputs": [
    {
     "name": "stderr",
     "output_type": "stream",
     "text": [
      "/var/folders/95/ms6dwls51ls1jq0t456d3r200000gn/T/ipykernel_97433/71906687.py:1: DeprecationWarning: executable_path has been deprecated, please pass in a Service object\n",
      "  driver = webdriver.Chrome(PATH, options=opciones)   # abre una ventana de chrome\n"
     ]
    }
   ],
   "source": [
    "driver = webdriver.Chrome(PATH, options=opciones)   # abre una ventana de chrome\n",
    "\n",
    "driver.get(url)   # entra en la pagina"
   ]
  },
  {
   "cell_type": "code",
   "execution_count": 10,
   "metadata": {},
   "outputs": [],
   "source": [
    "driver.find_element(By.XPATH, '//*[@id=\"sp-cc-accept\"]').click()  # aceptar cookies"
   ]
  },
  {
   "cell_type": "code",
   "execution_count": 12,
   "metadata": {},
   "outputs": [],
   "source": [
    "texto = driver.find_element(By.CSS_SELECTOR, '#twotabsearchtextbox')\n",
    "\n",
    "texto.send_keys('juguetes lego')"
   ]
  },
  {
   "cell_type": "code",
   "execution_count": 13,
   "metadata": {},
   "outputs": [],
   "source": [
    "texto.send_keys(Keys.ENTER)"
   ]
  },
  {
   "cell_type": "code",
   "execution_count": 15,
   "metadata": {},
   "outputs": [
    {
     "data": {
      "text/plain": [
       "91"
      ]
     },
     "execution_count": 15,
     "metadata": {},
     "output_type": "execute_result"
    }
   ],
   "source": [
    "productos = driver.find_elements(By.CLASS_NAME, 'sg-col-inner')\n",
    "\n",
    "len(productos)"
   ]
  },
  {
   "cell_type": "code",
   "execution_count": 23,
   "metadata": {},
   "outputs": [
    {
     "data": {
      "text/plain": [
       "['Patrocinado',\n",
       " 'LEGO Marvel Armadura Robótica de Máquina de Guerra, Figura de Acción de Juguete con Armas: 3 Cañones Que Disparan, Personaje Superhéroe UCM, Regalo para Cinéfilos, Niños y Niñas de 6 Años o Más 76277',\n",
       " '13',\n",
       " '300+ comprados el mes pasado',\n",
       " '14',\n",
       " '99€',\n",
       " 'Entrega GRATIS el vie, 2 de feb en tu primer pedido',\n",
       " 'Entrega más rápida mañana, 31 de ene',\n",
       " 'Edades: 6 años y más']"
      ]
     },
     "execution_count": 23,
     "metadata": {},
     "output_type": "execute_result"
    }
   ],
   "source": [
    "productos[5].text.split('\\n')"
   ]
  },
  {
   "cell_type": "code",
   "execution_count": 26,
   "metadata": {},
   "outputs": [
    {
     "data": {
      "text/plain": [
       "'LEGO Marvel Armadura Robótica de Máquina de Guerra, Figura de Acción de Juguete con Armas: 3 Cañones Que Disparan, Personaje Superhéroe UCM, Regalo para Cinéfilos, Niños y Niñas de 6 Años o Más 76277'"
      ]
     },
     "execution_count": 26,
     "metadata": {},
     "output_type": "execute_result"
    }
   ],
   "source": [
    "nombre = productos[5].find_element(By.TAG_NAME, 'h2').text\n",
    "\n",
    "nombre"
   ]
  },
  {
   "cell_type": "code",
   "execution_count": 29,
   "metadata": {},
   "outputs": [],
   "source": [
    "precio = productos[5].find_element(By.CSS_SELECTOR, '#search > div.s-desktop-width-max.s-desktop-content.s-opposite-dir.s-wide-grid-style.sg-row > div.sg-col-20-of-24.s-matching-dir.sg-col-16-of-20.sg-col.sg-col-8-of-12.sg-col-12-of-16 > div > span.rush-component.s-latency-cf-section > div.s-main-slot.s-result-list.s-search-results.sg-row > div:nth-child(7) > div > div > div > div > span > div > div > div.a-section.a-spacing-small.puis-padding-left-small.puis-padding-right-small > div.a-section.a-spacing-none.a-spacing-top-small.s-price-instructions-style > div > div:nth-child(1) > a > span > span:nth-child(2)').text"
   ]
  },
  {
   "cell_type": "code",
   "execution_count": 33,
   "metadata": {},
   "outputs": [],
   "source": [
    "precio = float(precio.replace('€', '').replace('\\n', '.'))"
   ]
  },
  {
   "cell_type": "code",
   "execution_count": 34,
   "metadata": {},
   "outputs": [
    {
     "data": {
      "text/plain": [
       "14.99"
      ]
     },
     "execution_count": 34,
     "metadata": {},
     "output_type": "execute_result"
    }
   ],
   "source": [
    "precio"
   ]
  },
  {
   "cell_type": "code",
   "execution_count": 40,
   "metadata": {},
   "outputs": [],
   "source": [
    "data = []\n",
    "\n",
    "for p in productos[5:10]:\n",
    "    \n",
    "    nombre = p.find_element(By.TAG_NAME, 'h2').text\n",
    "\n",
    "    #precio = p.find_element(By.CSS_SELECTOR, 'div.s-desktop-width-max.s-desktop-content.s-opposite-dir.s-wide-grid-style.sg-row > div.sg-col-20-of-24.s-matching-dir.sg-col-16-of-20.sg-col.sg-col-8-of-12.sg-col-12-of-16 > div > span.rush-component.s-latency-cf-section > div.s-main-slot.s-result-list.s-search-results.sg-row > div:nth-child(7) > div > div > div > div > span > div > div > div.a-section.a-spacing-small.puis-padding-left-small.puis-padding-right-small > div.a-section.a-spacing-none.a-spacing-top-small.s-price-instructions-style > div > div:nth-child(1) > a > span > span:nth-child(2)').text\n",
    "    \n",
    "    #precio = float(precio.replace('€', '').replace('\\n', '.'))\n",
    "    \n",
    "    \n",
    "    dictio = {'nombre': nombre, 'precio': precio}\n",
    "    \n",
    "    data.append(dictio)"
   ]
  },
  {
   "cell_type": "code",
   "execution_count": 41,
   "metadata": {},
   "outputs": [
    {
     "data": {
      "text/plain": [
       "[{'nombre': 'LEGO Marvel Armadura Robótica de Máquina de Guerra, Figura de Acción de Juguete con Armas: 3 Cañones Que Disparan, Personaje Superhéroe UCM, Regalo para Cinéfilos, Niños y Niñas de 6 Años o Más 76277',\n",
       "  'precio': 14.99},\n",
       " {'nombre': 'LEGO 76260 Marvel Motos de la Viuda Negra y el Capitán América, Set de Avengers: Edad de Ultron con 2 Motos de Juguete de Super Héroe para niños y niñas de 6 años en adelante',\n",
       "  'precio': 14.99},\n",
       " {'nombre': 'LEGO Marvel Coche de Carreras de Spider-Man y Duende Verde Venomizado, Persecución con Minifiguras de Superhéroes y Vehículo de Juguete de Construcción, Regalo para Niños y Niñas de 7 Años o Más 76279',\n",
       "  'precio': 14.99},\n",
       " {'nombre': 'LEGO City Nave Espacial Interestelar, Juguete de Construcción del Espacio, Regalo Divertido para Niños y Niñas de 6 Años o Más, Juego Creativo con Vehículo y Minifigura de Astronauta 60430',\n",
       "  'precio': 14.99},\n",
       " {'nombre': 'LEGO 31058 Creator Grandes Dinosaurios, Regalo de Reyes para Niños y Niñas de 7 Años o Más, Maqueta 3en1 de Pterodáctilo, Triceratops y T-Rex, Figura de Animales de Juguete de Parque Jurásico',\n",
       "  'precio': 14.99}]"
      ]
     },
     "execution_count": 41,
     "metadata": {},
     "output_type": "execute_result"
    }
   ],
   "source": [
    "data"
   ]
  },
  {
   "cell_type": "code",
   "execution_count": 42,
   "metadata": {},
   "outputs": [],
   "source": [
    "driver.get('https://www.espn.com/soccer/team/stats/_/id/104/league/ITA.1/view/discipline')"
   ]
  },
  {
   "cell_type": "code",
   "execution_count": 44,
   "metadata": {},
   "outputs": [],
   "source": [
    "tabla = driver.find_element(By.TAG_NAME, 'table')"
   ]
  },
  {
   "cell_type": "code",
   "execution_count": 46,
   "metadata": {},
   "outputs": [
    {
     "data": {
      "text/plain": [
       "['RK NAME P YC RC PTS',\n",
       " '1 Leandro Paredes 20 10 0 10',\n",
       " '2 Bryan Cristante 20 5 0 5',\n",
       " 'Gianluca Mancini 20 5 0 5',\n",
       " '4 Nicola Zalewski 14 1 1 4',\n",
       " 'Rasmus Kristensen 20 4 0 4',\n",
       " 'Diego Llorente 19 4 0 4',\n",
       " '7 Houssem Aouar 9 3 0 3',\n",
       " 'Lorenzo Pellegrini 13 3 0 3',\n",
       " '9 Edoardo Bove 19 2 0 2',\n",
       " 'Renato Sanches 5 2 0 2',\n",
       " 'Evan Ndicka 15 2 0 2',\n",
       " '12 Dean Huijsen 4 1 0 1',\n",
       " 'Rick Karsdorp 11 1 0 1',\n",
       " '14 Luigi Cherubini 0 0 0 0',\n",
       " 'Lovro Golic 0 0 0 0',\n",
       " 'Jan Oliveras 0 0 0 0',\n",
       " 'Zeki Celik 9 0 0 0',\n",
       " 'Leonardo Spinazzola 16 0 0 0',\n",
       " 'Chris Smalling 3 0 0 0',\n",
       " 'Renato Marin 0 0 0 0',\n",
       " 'Pietro Boer 0 0 0 0',\n",
       " 'Mile Svilar 1 0 0 0',\n",
       " 'Rui Patrício 20 0 0 0']"
      ]
     },
     "execution_count": 46,
     "metadata": {},
     "output_type": "execute_result"
    }
   ],
   "source": [
    "tabla.text.split('\\n')"
   ]
  },
  {
   "cell_type": "code",
   "execution_count": 50,
   "metadata": {},
   "outputs": [],
   "source": [
    "cabeceras = tabla.find_element(By.TAG_NAME, 'thead').text.split()"
   ]
  },
  {
   "cell_type": "code",
   "execution_count": 52,
   "metadata": {},
   "outputs": [],
   "source": [
    "cuerpo = tabla.find_element(By.TAG_NAME, 'tbody')"
   ]
  },
  {
   "cell_type": "code",
   "execution_count": 54,
   "metadata": {},
   "outputs": [],
   "source": [
    "filas = cuerpo.find_elements(By.TAG_NAME, 'tr')"
   ]
  },
  {
   "cell_type": "code",
   "execution_count": 56,
   "metadata": {},
   "outputs": [
    {
     "data": {
      "text/plain": [
       "['1', 'Leandro', 'Paredes', '20', '10', '0', '10']"
      ]
     },
     "execution_count": 56,
     "metadata": {},
     "output_type": "execute_result"
    }
   ],
   "source": [
    "filas[0].text.split()"
   ]
  },
  {
   "cell_type": "code",
   "execution_count": 57,
   "metadata": {},
   "outputs": [],
   "source": [
    "data = [f.text.split() for f in filas]"
   ]
  },
  {
   "cell_type": "code",
   "execution_count": 58,
   "metadata": {},
   "outputs": [
    {
     "data": {
      "text/plain": [
       "[['1', 'Leandro', 'Paredes', '20', '10', '0', '10'],\n",
       " ['2', 'Bryan', 'Cristante', '20', '5', '0', '5'],\n",
       " ['Gianluca', 'Mancini', '20', '5', '0', '5'],\n",
       " ['4', 'Nicola', 'Zalewski', '14', '1', '1', '4'],\n",
       " ['Rasmus', 'Kristensen', '20', '4', '0', '4'],\n",
       " ['Diego', 'Llorente', '19', '4', '0', '4'],\n",
       " ['7', 'Houssem', 'Aouar', '9', '3', '0', '3'],\n",
       " ['Lorenzo', 'Pellegrini', '13', '3', '0', '3'],\n",
       " ['9', 'Edoardo', 'Bove', '19', '2', '0', '2'],\n",
       " ['Renato', 'Sanches', '5', '2', '0', '2'],\n",
       " ['Evan', 'Ndicka', '15', '2', '0', '2'],\n",
       " ['12', 'Dean', 'Huijsen', '4', '1', '0', '1'],\n",
       " ['Rick', 'Karsdorp', '11', '1', '0', '1'],\n",
       " ['14', 'Luigi', 'Cherubini', '0', '0', '0', '0'],\n",
       " ['Lovro', 'Golic', '0', '0', '0', '0'],\n",
       " ['Jan', 'Oliveras', '0', '0', '0', '0'],\n",
       " ['Zeki', 'Celik', '9', '0', '0', '0'],\n",
       " ['Leonardo', 'Spinazzola', '16', '0', '0', '0'],\n",
       " ['Chris', 'Smalling', '3', '0', '0', '0'],\n",
       " ['Renato', 'Marin', '0', '0', '0', '0'],\n",
       " ['Pietro', 'Boer', '0', '0', '0', '0'],\n",
       " ['Mile', 'Svilar', '1', '0', '0', '0'],\n",
       " ['Rui', 'Patrício', '20', '0', '0', '0']]"
      ]
     },
     "execution_count": 58,
     "metadata": {},
     "output_type": "execute_result"
    }
   ],
   "source": [
    "data"
   ]
  },
  {
   "cell_type": "code",
   "execution_count": 61,
   "metadata": {},
   "outputs": [
    {
     "data": {
      "text/plain": [
       "['RK', 'NAME', 'P', 'YC', 'RC', 'PTS']"
      ]
     },
     "execution_count": 61,
     "metadata": {},
     "output_type": "execute_result"
    }
   ],
   "source": [
    "cabeceras"
   ]
  },
  {
   "cell_type": "code",
   "execution_count": 59,
   "metadata": {},
   "outputs": [],
   "source": [
    "import pandas as pd"
   ]
  },
  {
   "cell_type": "code",
   "execution_count": 64,
   "metadata": {},
   "outputs": [
    {
     "data": {
      "text/plain": [
       "['1', 'Leandro Paredes', '20', '10', '0', '10']"
      ]
     },
     "execution_count": 64,
     "metadata": {},
     "output_type": "execute_result"
    }
   ],
   "source": [
    "[e.text for e in filas[0].find_elements(By.TAG_NAME, 'td')]"
   ]
  },
  {
   "cell_type": "code",
   "execution_count": 65,
   "metadata": {},
   "outputs": [
    {
     "data": {
      "text/plain": [
       "[['1', 'Leandro Paredes', '20', '10', '0', '10'],\n",
       " ['2', 'Bryan Cristante', '20', '5', '0', '5'],\n",
       " ['', 'Gianluca Mancini', '20', '5', '0', '5'],\n",
       " ['4', 'Nicola Zalewski', '14', '1', '1', '4'],\n",
       " ['', 'Rasmus Kristensen', '20', '4', '0', '4'],\n",
       " ['', 'Diego Llorente', '19', '4', '0', '4'],\n",
       " ['7', 'Houssem Aouar', '9', '3', '0', '3'],\n",
       " ['', 'Lorenzo Pellegrini', '13', '3', '0', '3'],\n",
       " ['9', 'Edoardo Bove', '19', '2', '0', '2'],\n",
       " ['', 'Renato Sanches', '5', '2', '0', '2'],\n",
       " ['', 'Evan Ndicka', '15', '2', '0', '2'],\n",
       " ['12', 'Dean Huijsen', '4', '1', '0', '1'],\n",
       " ['', 'Rick Karsdorp', '11', '1', '0', '1'],\n",
       " ['14', 'Luigi Cherubini', '0', '0', '0', '0'],\n",
       " ['', 'Lovro Golic', '0', '0', '0', '0'],\n",
       " ['', 'Jan Oliveras', '0', '0', '0', '0'],\n",
       " ['', 'Zeki Celik', '9', '0', '0', '0'],\n",
       " ['', 'Leonardo Spinazzola', '16', '0', '0', '0'],\n",
       " ['', 'Chris Smalling', '3', '0', '0', '0'],\n",
       " ['', 'Renato Marin', '0', '0', '0', '0'],\n",
       " ['', 'Pietro Boer', '0', '0', '0', '0'],\n",
       " ['', 'Mile Svilar', '1', '0', '0', '0'],\n",
       " ['', 'Rui Patrício', '20', '0', '0', '0']]"
      ]
     },
     "execution_count": 65,
     "metadata": {},
     "output_type": "execute_result"
    }
   ],
   "source": [
    "data = [[e.text for e in f.find_elements(By.TAG_NAME, 'td')] for f in filas]\n",
    "\n",
    "data"
   ]
  },
  {
   "cell_type": "code",
   "execution_count": 67,
   "metadata": {},
   "outputs": [
    {
     "data": {
      "text/html": [
       "<div>\n",
       "<style scoped>\n",
       "    .dataframe tbody tr th:only-of-type {\n",
       "        vertical-align: middle;\n",
       "    }\n",
       "\n",
       "    .dataframe tbody tr th {\n",
       "        vertical-align: top;\n",
       "    }\n",
       "\n",
       "    .dataframe thead th {\n",
       "        text-align: right;\n",
       "    }\n",
       "</style>\n",
       "<table border=\"1\" class=\"dataframe\">\n",
       "  <thead>\n",
       "    <tr style=\"text-align: right;\">\n",
       "      <th></th>\n",
       "      <th>RK</th>\n",
       "      <th>NAME</th>\n",
       "      <th>P</th>\n",
       "      <th>YC</th>\n",
       "      <th>RC</th>\n",
       "      <th>PTS</th>\n",
       "    </tr>\n",
       "  </thead>\n",
       "  <tbody>\n",
       "    <tr>\n",
       "      <th>0</th>\n",
       "      <td>1</td>\n",
       "      <td>Leandro Paredes</td>\n",
       "      <td>20</td>\n",
       "      <td>10</td>\n",
       "      <td>0</td>\n",
       "      <td>10</td>\n",
       "    </tr>\n",
       "    <tr>\n",
       "      <th>1</th>\n",
       "      <td>2</td>\n",
       "      <td>Bryan Cristante</td>\n",
       "      <td>20</td>\n",
       "      <td>5</td>\n",
       "      <td>0</td>\n",
       "      <td>5</td>\n",
       "    </tr>\n",
       "    <tr>\n",
       "      <th>2</th>\n",
       "      <td></td>\n",
       "      <td>Gianluca Mancini</td>\n",
       "      <td>20</td>\n",
       "      <td>5</td>\n",
       "      <td>0</td>\n",
       "      <td>5</td>\n",
       "    </tr>\n",
       "    <tr>\n",
       "      <th>3</th>\n",
       "      <td>4</td>\n",
       "      <td>Nicola Zalewski</td>\n",
       "      <td>14</td>\n",
       "      <td>1</td>\n",
       "      <td>1</td>\n",
       "      <td>4</td>\n",
       "    </tr>\n",
       "    <tr>\n",
       "      <th>4</th>\n",
       "      <td></td>\n",
       "      <td>Rasmus Kristensen</td>\n",
       "      <td>20</td>\n",
       "      <td>4</td>\n",
       "      <td>0</td>\n",
       "      <td>4</td>\n",
       "    </tr>\n",
       "    <tr>\n",
       "      <th>5</th>\n",
       "      <td></td>\n",
       "      <td>Diego Llorente</td>\n",
       "      <td>19</td>\n",
       "      <td>4</td>\n",
       "      <td>0</td>\n",
       "      <td>4</td>\n",
       "    </tr>\n",
       "    <tr>\n",
       "      <th>6</th>\n",
       "      <td>7</td>\n",
       "      <td>Houssem Aouar</td>\n",
       "      <td>9</td>\n",
       "      <td>3</td>\n",
       "      <td>0</td>\n",
       "      <td>3</td>\n",
       "    </tr>\n",
       "    <tr>\n",
       "      <th>7</th>\n",
       "      <td></td>\n",
       "      <td>Lorenzo Pellegrini</td>\n",
       "      <td>13</td>\n",
       "      <td>3</td>\n",
       "      <td>0</td>\n",
       "      <td>3</td>\n",
       "    </tr>\n",
       "    <tr>\n",
       "      <th>8</th>\n",
       "      <td>9</td>\n",
       "      <td>Edoardo Bove</td>\n",
       "      <td>19</td>\n",
       "      <td>2</td>\n",
       "      <td>0</td>\n",
       "      <td>2</td>\n",
       "    </tr>\n",
       "    <tr>\n",
       "      <th>9</th>\n",
       "      <td></td>\n",
       "      <td>Renato Sanches</td>\n",
       "      <td>5</td>\n",
       "      <td>2</td>\n",
       "      <td>0</td>\n",
       "      <td>2</td>\n",
       "    </tr>\n",
       "    <tr>\n",
       "      <th>10</th>\n",
       "      <td></td>\n",
       "      <td>Evan Ndicka</td>\n",
       "      <td>15</td>\n",
       "      <td>2</td>\n",
       "      <td>0</td>\n",
       "      <td>2</td>\n",
       "    </tr>\n",
       "    <tr>\n",
       "      <th>11</th>\n",
       "      <td>12</td>\n",
       "      <td>Dean Huijsen</td>\n",
       "      <td>4</td>\n",
       "      <td>1</td>\n",
       "      <td>0</td>\n",
       "      <td>1</td>\n",
       "    </tr>\n",
       "    <tr>\n",
       "      <th>12</th>\n",
       "      <td></td>\n",
       "      <td>Rick Karsdorp</td>\n",
       "      <td>11</td>\n",
       "      <td>1</td>\n",
       "      <td>0</td>\n",
       "      <td>1</td>\n",
       "    </tr>\n",
       "    <tr>\n",
       "      <th>13</th>\n",
       "      <td>14</td>\n",
       "      <td>Luigi Cherubini</td>\n",
       "      <td>0</td>\n",
       "      <td>0</td>\n",
       "      <td>0</td>\n",
       "      <td>0</td>\n",
       "    </tr>\n",
       "    <tr>\n",
       "      <th>14</th>\n",
       "      <td></td>\n",
       "      <td>Lovro Golic</td>\n",
       "      <td>0</td>\n",
       "      <td>0</td>\n",
       "      <td>0</td>\n",
       "      <td>0</td>\n",
       "    </tr>\n",
       "    <tr>\n",
       "      <th>15</th>\n",
       "      <td></td>\n",
       "      <td>Jan Oliveras</td>\n",
       "      <td>0</td>\n",
       "      <td>0</td>\n",
       "      <td>0</td>\n",
       "      <td>0</td>\n",
       "    </tr>\n",
       "    <tr>\n",
       "      <th>16</th>\n",
       "      <td></td>\n",
       "      <td>Zeki Celik</td>\n",
       "      <td>9</td>\n",
       "      <td>0</td>\n",
       "      <td>0</td>\n",
       "      <td>0</td>\n",
       "    </tr>\n",
       "    <tr>\n",
       "      <th>17</th>\n",
       "      <td></td>\n",
       "      <td>Leonardo Spinazzola</td>\n",
       "      <td>16</td>\n",
       "      <td>0</td>\n",
       "      <td>0</td>\n",
       "      <td>0</td>\n",
       "    </tr>\n",
       "    <tr>\n",
       "      <th>18</th>\n",
       "      <td></td>\n",
       "      <td>Chris Smalling</td>\n",
       "      <td>3</td>\n",
       "      <td>0</td>\n",
       "      <td>0</td>\n",
       "      <td>0</td>\n",
       "    </tr>\n",
       "    <tr>\n",
       "      <th>19</th>\n",
       "      <td></td>\n",
       "      <td>Renato Marin</td>\n",
       "      <td>0</td>\n",
       "      <td>0</td>\n",
       "      <td>0</td>\n",
       "      <td>0</td>\n",
       "    </tr>\n",
       "    <tr>\n",
       "      <th>20</th>\n",
       "      <td></td>\n",
       "      <td>Pietro Boer</td>\n",
       "      <td>0</td>\n",
       "      <td>0</td>\n",
       "      <td>0</td>\n",
       "      <td>0</td>\n",
       "    </tr>\n",
       "    <tr>\n",
       "      <th>21</th>\n",
       "      <td></td>\n",
       "      <td>Mile Svilar</td>\n",
       "      <td>1</td>\n",
       "      <td>0</td>\n",
       "      <td>0</td>\n",
       "      <td>0</td>\n",
       "    </tr>\n",
       "    <tr>\n",
       "      <th>22</th>\n",
       "      <td></td>\n",
       "      <td>Rui Patrício</td>\n",
       "      <td>20</td>\n",
       "      <td>0</td>\n",
       "      <td>0</td>\n",
       "      <td>0</td>\n",
       "    </tr>\n",
       "  </tbody>\n",
       "</table>\n",
       "</div>"
      ],
      "text/plain": [
       "    RK                 NAME   P  YC RC PTS\n",
       "0    1      Leandro Paredes  20  10  0  10\n",
       "1    2      Bryan Cristante  20   5  0   5\n",
       "2          Gianluca Mancini  20   5  0   5\n",
       "3    4      Nicola Zalewski  14   1  1   4\n",
       "4         Rasmus Kristensen  20   4  0   4\n",
       "5            Diego Llorente  19   4  0   4\n",
       "6    7        Houssem Aouar   9   3  0   3\n",
       "7        Lorenzo Pellegrini  13   3  0   3\n",
       "8    9         Edoardo Bove  19   2  0   2\n",
       "9            Renato Sanches   5   2  0   2\n",
       "10              Evan Ndicka  15   2  0   2\n",
       "11  12         Dean Huijsen   4   1  0   1\n",
       "12            Rick Karsdorp  11   1  0   1\n",
       "13  14      Luigi Cherubini   0   0  0   0\n",
       "14              Lovro Golic   0   0  0   0\n",
       "15             Jan Oliveras   0   0  0   0\n",
       "16               Zeki Celik   9   0  0   0\n",
       "17      Leonardo Spinazzola  16   0  0   0\n",
       "18           Chris Smalling   3   0  0   0\n",
       "19             Renato Marin   0   0  0   0\n",
       "20              Pietro Boer   0   0  0   0\n",
       "21              Mile Svilar   1   0  0   0\n",
       "22             Rui Patrício  20   0  0   0"
      ]
     },
     "execution_count": 67,
     "metadata": {},
     "output_type": "execute_result"
    }
   ],
   "source": [
    "pd.DataFrame(data, columns=cabeceras)"
   ]
  },
  {
   "cell_type": "code",
   "execution_count": 68,
   "metadata": {},
   "outputs": [
    {
     "data": {
      "text/plain": [
       "'https://www.espn.com/soccer/team/stats/_/id/104/league/ITA.1/view/discipline'"
      ]
     },
     "execution_count": 68,
     "metadata": {},
     "output_type": "execute_result"
    }
   ],
   "source": [
    "driver.current_url"
   ]
  },
  {
   "cell_type": "code",
   "execution_count": null,
   "metadata": {},
   "outputs": [],
   "source": [
    "driver.page_source"
   ]
  },
  {
   "cell_type": "code",
   "execution_count": null,
   "metadata": {},
   "outputs": [],
   "source": [
    "driver.quit()"
   ]
  }
 ],
 "metadata": {
  "kernelspec": {
   "display_name": "clase",
   "language": "python",
   "name": "clase"
  },
  "language_info": {
   "codemirror_mode": {
    "name": "ipython",
    "version": 3
   },
   "file_extension": ".py",
   "mimetype": "text/x-python",
   "name": "python",
   "nbconvert_exporter": "python",
   "pygments_lexer": "ipython3",
   "version": "3.9.12"
  },
  "varInspector": {
   "cols": {
    "lenName": 16,
    "lenType": 16,
    "lenVar": 40
   },
   "kernels_config": {
    "python": {
     "delete_cmd_postfix": "",
     "delete_cmd_prefix": "del ",
     "library": "var_list.py",
     "varRefreshCmd": "print(var_dic_list())"
    },
    "r": {
     "delete_cmd_postfix": ") ",
     "delete_cmd_prefix": "rm(",
     "library": "var_list.r",
     "varRefreshCmd": "cat(var_dic_list()) "
    }
   },
   "types_to_exclude": [
    "module",
    "function",
    "builtin_function_or_method",
    "instance",
    "_Feature"
   ],
   "window_display": false
  }
 },
 "nbformat": 4,
 "nbformat_minor": 4
}
