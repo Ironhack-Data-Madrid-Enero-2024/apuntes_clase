{
 "cells": [
  {
   "cell_type": "markdown",
   "id": "35870f3e-1791-4fc3-ba77-6b01a78bca50",
   "metadata": {},
   "source": [
    "# APIS "
   ]
  },
  {
   "cell_type": "markdown",
   "id": "a6795d4c-fdfe-4f6d-ad6b-2479d9b0826d",
   "metadata": {
    "toc": true
   },
   "source": [
    "<h1>Table of Contents<span class=\"tocSkip\"></span></h1>\n",
    "<div class=\"toc\"><ul class=\"toc-item\"><li><span><a href=\"#APIS\" data-toc-modified-id=\"APIS-1\"><span class=\"toc-item-num\">1&nbsp;&nbsp;</span>APIS</a></span><ul class=\"toc-item\"><li><span><a href=\"#Internet,-DNS,-IPs\" data-toc-modified-id=\"Internet,-DNS,-IPs-1.1\"><span class=\"toc-item-num\">1.1&nbsp;&nbsp;</span>Internet, DNS, IPs</a></span></li><li><span><a href=\"#HTTP\" data-toc-modified-id=\"HTTP-1.2\"><span class=\"toc-item-num\">1.2&nbsp;&nbsp;</span>HTTP</a></span><ul class=\"toc-item\"><li><span><a href=\"#Requests\" data-toc-modified-id=\"Requests-1.2.1\"><span class=\"toc-item-num\">1.2.1&nbsp;&nbsp;</span>Requests</a></span></li><li><span><a href=\"#Response\" data-toc-modified-id=\"Response-1.2.2\"><span class=\"toc-item-num\">1.2.2&nbsp;&nbsp;</span>Response</a></span></li></ul></li><li><span><a href=\"#API\" data-toc-modified-id=\"API-1.3\"><span class=\"toc-item-num\">1.3&nbsp;&nbsp;</span>API</a></span><ul class=\"toc-item\"><li><span><a href=\"#API\" data-toc-modified-id=\"API-1.3.1\"><span class=\"toc-item-num\">1.3.1&nbsp;&nbsp;</span>API</a></span></li><li><span><a href=\"#RESTful-APIs\" data-toc-modified-id=\"RESTful-APIs-1.3.2\"><span class=\"toc-item-num\">1.3.2&nbsp;&nbsp;</span>RESTful APIs</a></span></li></ul></li><li><span><a href=\"#Requests-in-Python\" data-toc-modified-id=\"Requests-in-Python-1.4\"><span class=\"toc-item-num\">1.4&nbsp;&nbsp;</span>Requests in Python</a></span><ul class=\"toc-item\"><li><span><a href=\"#GET\" data-toc-modified-id=\"GET-1.4.1\"><span class=\"toc-item-num\">1.4.1&nbsp;&nbsp;</span>GET</a></span></li><li><span><a href=\"#JSON-response\" data-toc-modified-id=\"JSON-response-1.4.2\"><span class=\"toc-item-num\">1.4.2&nbsp;&nbsp;</span>JSON response</a></span></li><li><span><a href=\"#Parameters\" data-toc-modified-id=\"Parameters-1.4.3\"><span class=\"toc-item-num\">1.4.3&nbsp;&nbsp;</span>Parameters</a></span><ul class=\"toc-item\"><li><span><a href=\"#More-URL-params\" data-toc-modified-id=\"More-URL-params-1.4.3.1\"><span class=\"toc-item-num\">1.4.3.1&nbsp;&nbsp;</span>More URL params</a></span></li></ul></li><li><span><a href=\"#Headers\" data-toc-modified-id=\"Headers-1.4.4\"><span class=\"toc-item-num\">1.4.4&nbsp;&nbsp;</span>Headers</a></span></li><li><span><a href=\"#API-keys\" data-toc-modified-id=\"API-keys-1.4.5\"><span class=\"toc-item-num\">1.4.5&nbsp;&nbsp;</span>API keys</a></span></li></ul></li><li><span><a href=\"#Ejemplos-de-APIs\" data-toc-modified-id=\"Ejemplos-de-APIs-1.5\"><span class=\"toc-item-num\">1.5&nbsp;&nbsp;</span>Ejemplos de APIs</a></span><ul class=\"toc-item\"><li><span><a href=\"#NewsAPI-endpoints-playground\" data-toc-modified-id=\"NewsAPI-endpoints-playground-1.5.1\"><span class=\"toc-item-num\">1.5.1&nbsp;&nbsp;</span>NewsAPI endpoints playground</a></span></li><li><span><a href=\"#Another-example-API\" data-toc-modified-id=\"Another-example-API-1.5.2\"><span class=\"toc-item-num\">1.5.2&nbsp;&nbsp;</span>Another example API</a></span></li><li><span><a href=\"#Github-API-v3\" data-toc-modified-id=\"Github-API-v3-1.5.3\"><span class=\"toc-item-num\">1.5.3&nbsp;&nbsp;</span>Github API v3</a></span></li><li><span><a href=\"#Pokemon-API\" data-toc-modified-id=\"Pokemon-API-1.5.4\"><span class=\"toc-item-num\">1.5.4&nbsp;&nbsp;</span>Pokemon API</a></span></li></ul></li><li><span><a href=\"#Errors\" data-toc-modified-id=\"Errors-1.6\"><span class=\"toc-item-num\">1.6&nbsp;&nbsp;</span>Errors</a></span></li><li><span><a href=\"#Chunks\" data-toc-modified-id=\"Chunks-1.7\"><span class=\"toc-item-num\">1.7&nbsp;&nbsp;</span>Chunks</a></span></li><li><span><a href=\"#Other-HTTP-Methods\" data-toc-modified-id=\"Other-HTTP-Methods-1.8\"><span class=\"toc-item-num\">1.8&nbsp;&nbsp;</span>Other HTTP Methods</a></span></li><li><span><a href=\"#Sending-Mails\" data-toc-modified-id=\"Sending-Mails-1.9\"><span class=\"toc-item-num\">1.9&nbsp;&nbsp;</span>Sending Mails</a></span></li><li><span><a href=\"#API-Wrappers\" data-toc-modified-id=\"API-Wrappers-1.10\"><span class=\"toc-item-num\">1.10&nbsp;&nbsp;</span>API Wrappers</a></span><ul class=\"toc-item\"><li><span><a href=\"#Acceder-a-la-API-de-Twitter-con-Python\" data-toc-modified-id=\"Acceder-a-la-API-de-Twitter-con-Python-1.10.1\"><span class=\"toc-item-num\">1.10.1&nbsp;&nbsp;</span>Acceder a la API de Twitter con Python</a></span><ul class=\"toc-item\"><li><span><a href=\"#Twitter-V2-API\" data-toc-modified-id=\"Twitter-V2-API-1.10.1.1\"><span class=\"toc-item-num\">1.10.1.1&nbsp;&nbsp;</span>Twitter V2 API</a></span></li></ul></li><li><span><a href=\"#¿Almacenar-los-tweets-de-una-cuenta-abierta?\" data-toc-modified-id=\"¿Almacenar-los-tweets-de-una-cuenta-abierta?-1.10.2\"><span class=\"toc-item-num\">1.10.2&nbsp;&nbsp;</span>¿Almacenar los tweets de una cuenta abierta?</a></span></li></ul></li><li><span><a href=\"#Observaciones\" data-toc-modified-id=\"Observaciones-1.11\"><span class=\"toc-item-num\">1.11&nbsp;&nbsp;</span>Observaciones</a></span></li><li><span><a href=\"#Resumen\" data-toc-modified-id=\"Resumen-1.12\"><span class=\"toc-item-num\">1.12&nbsp;&nbsp;</span>Resumen</a></span><ul class=\"toc-item\"><li><span><a href=\"#Recorrido:\" data-toc-modified-id=\"Recorrido:-1.12.1\"><span class=\"toc-item-num\">1.12.1&nbsp;&nbsp;</span>Recorrido:</a></span></li></ul></li><li><span><a href=\"#Glosario\" data-toc-modified-id=\"Glosario-1.13\"><span class=\"toc-item-num\">1.13&nbsp;&nbsp;</span>Glosario</a></span></li><li><span><a href=\"#Further-materials\" data-toc-modified-id=\"Further-materials-1.14\"><span class=\"toc-item-num\">1.14&nbsp;&nbsp;</span>Further materials</a></span></li></ul></li></ul></div>"
   ]
  },
  {
   "cell_type": "markdown",
   "id": "78337d49-bd91-4990-b1d6-fd2d4c03e6df",
   "metadata": {},
   "source": [
    "## Web Communication Fundamentals"
   ]
  },
  {
   "cell_type": "markdown",
   "id": "582db4b0-9f2d-4847-b52c-f11eb6ae8933",
   "metadata": {},
   "source": [
    "### DNS, IP"
   ]
  },
  {
   "cell_type": "markdown",
   "id": "1e7a9565-1961-4631-a6a1-71735dae6f16",
   "metadata": {},
   "source": [
    "[How do we connect to www.google.com?](https://www.youtube.com/watch?v=sUhEqT_HSBI&ab_channel=ProfeSang)\n",
    "* **DNS (Domain Name System)**: it's essentially the phonebook of the internet. Humans access information online through domain names, like \"google.com\". Web browsers, however, interact through Internet Protocol (IP) addresses. In this example, the DNS maps the internet address www.google.com to the server's IP: 216.58.222.196\n",
    " * **IP**: Server identification. A code that allows information to be sent and received by the correct parties\n",
    " * **Domain Providers**: Sell and purchase Internet domains"
   ]
  },
  {
   "cell_type": "markdown",
   "id": "7d42f993-6f37-42c7-8f04-4c5526c0825e",
   "metadata": {},
   "source": [
    "*When making API calls to specific domains, the DNS translates the human-readable domain name into an IP address.*"
   ]
  },
  {
   "cell_type": "markdown",
   "id": "216e4441-45eb-4a0a-b578-f4f056a724b1",
   "metadata": {},
   "source": [
    "### HTTP"
   ]
  },
  {
   "cell_type": "markdown",
   "id": "6d120e37-ac79-44c9-8fc5-3fe07f4ad7f6",
   "metadata": {},
   "source": [
    "**H**yper **T**ext **T**ransfer **P**rotocol\n",
    "- HTTP is a communications protocol that provides a structure for requests between the client and the server on a network.\n",
    "- For example, the web browser on the user's computer (the client) uses the HTTP protocol to request information from a website on a server.\n",
    "\n",
    "*We will use APIs that employ the **HTTP** protocol as transport.*"
   ]
  },
  {
   "cell_type": "markdown",
   "id": "1b9f3b1b-af11-419a-bd55-771a937b72dc",
   "metadata": {},
   "source": [
    "### URL\n",
    "Contains information about the resource being requested from the **server**."
   ]
  },
  {
   "cell_type": "markdown",
   "id": "c6a7522a-6679-4d2d-9587-6b583c41a55f",
   "metadata": {},
   "source": [
    "![](https://github.com/data-bootcamp-v4/lessons/blob/main/img/http.png?raw=true)"
   ]
  },
  {
   "cell_type": "markdown",
   "id": "246020a7-6a89-4857-98c4-8f29c1d3c827",
   "metadata": {},
   "source": [
    "Examples:\n",
    "\n",
    "- https://www.google.com/webhp?authuser=2\n",
    "- https://www.towardsdatascience.com\n",
    "- https://www.ironhack.com/\n",
    "    - Protocol: https (https == http is the same, but https is encrypted)\n",
    "    - Domain Name --> ironhack\n",
    "    - TLD (Top-Level Domain) --> .com"
   ]
  },
  {
   "cell_type": "markdown",
   "id": "dd726622-8824-4e1f-a166-bb0d7e94fd08",
   "metadata": {},
   "source": [
    "*When calling an API, you specify the URL of the API endpoint, which tells the system where to send the request.*"
   ]
  },
  {
   "cell_type": "markdown",
   "id": "5fd2c3c5-1e3e-44a2-923b-c6dc1bb19f7c",
   "metadata": {},
   "source": [
    "## HTTP Requests and Responses"
   ]
  },
  {
   "cell_type": "markdown",
   "id": "1b658ec7-5230-44ab-b10b-f8cc1c65edab",
   "metadata": {},
   "source": [
    "![](https://github.com/data-bootcamp-v4/lessons/blob/main/img/request-response.png?raw=true)"
   ]
  },
  {
   "cell_type": "markdown",
   "id": "4941c601-e2f2-41bd-a0f3-c5e33fc8e282",
   "metadata": {},
   "source": [
    "**Requests** and **responses** are fundamental components of the client-server communication model."
   ]
  },
  {
   "cell_type": "markdown",
   "id": "b75d6570-aae7-492a-bcd0-86da6d102545",
   "metadata": {},
   "source": [
    "### Requests"
   ]
  },
  {
   "cell_type": "markdown",
   "id": "6d39d707-2230-4f72-af04-8c49abeb413e",
   "metadata": {},
   "source": [
    "These are queries or calls **sent by the client** (such as a web browser or other software) **to the server** in order to receive information (a **response**). \n",
    "\n",
    "A request typically consists of:\n",
    "- A method (such as GET, POST, PUT, DELETE) that defines the action to be performed\n",
    "     * GET: read the information of the resource, without modifying it in any way. Accessing the website from the browser **gets** information.\n",
    "- The URL or endpoint specifying the resource\n",
    "- Optional additional information such as:\n",
    "    - Headers (metadata): User-Agent, Accept-Language\n",
    "    - Parameters\n",
    "    - Body content. \n",
    "    \n",
    "For example, a client might send a GET request to retrieve information from a web page or a POST request to submit form data."
   ]
  },
  {
   "cell_type": "markdown",
   "id": "03152bb9-ab13-458c-94d2-f5cb53117056",
   "metadata": {},
   "source": [
    "### Response"
   ]
  },
  {
   "cell_type": "markdown",
   "id": "fc180f91-d6bf-4cb9-bf07-443d47ba0c4f",
   "metadata": {},
   "source": [
    "These are the answers or data sent **by the server back to the client in reply to a request**. \n",
    "\n",
    "A response typically includes:\n",
    "- A status code that indicates the success or failure of the request\n",
    "- Headers with meta-information about the server's behavior\n",
    "- The actual content or data (if applicable), such as HTML, JSON (similar to a Python dictionary), images, or other media types.\n",
    "\n",
    "An important part of the **header** is the **status code**. This code is a numerical value that indicates the server's result. There are different status codes depending on whether the server has managed to carry out the request or has not managed to do anything. These are some groups of status codes:\n",
    "\n",
    "- **2xx successful**: the request was successfully received, understood, and accepted\n",
    "- **3xx redirection**: more actions are required to complete the request\n",
    "- **4xx client error**: the request contains incorrect syntax or cannot be fulfilled\n",
    "- **5xx server error**: the server has failed to complete an apparently valid request\n",
    "\n",
    "Complete list:\n",
    "https://en.wikipedia.org/wiki/List_of_HTTP_status_codes\n",
    "\n",
    "Much more fun:\n",
    "https://http.cat/"
   ]
  },
  {
   "cell_type": "markdown",
   "id": "1f1ad409-99e9-4701-b879-f81d13ece283",
   "metadata": {
    "tags": []
   },
   "source": [
    "## APIs"
   ]
  },
  {
   "cell_type": "markdown",
   "id": "492c462e-3d81-4330-828f-ff2b027989d8",
   "metadata": {},
   "source": [
    "**A**pplication **P**rogramming **I**nterface\n",
    "\n",
    "- APIs define a set of rules and protocols that allow different software applications to communicate with each other.\n",
    "- The client calls the server through an API, and the server responds.\n",
    "-  Within a project, the backend may want to share information with the frontend without access to the database."
   ]
  },
  {
   "cell_type": "markdown",
   "id": "0849403b-d633-4756-82d2-cb74ac4d254b",
   "metadata": {},
   "source": [
    "![](https://github.com/data-bootcamp-v4/lessons/blob/main/img/api.png?raw=true)"
   ]
  },
  {
   "cell_type": "markdown",
   "id": "b86f18cb-8590-4a6e-896b-c5e465e7719f",
   "metadata": {},
   "source": [
    "### RESTful APIs"
   ]
  },
  {
   "cell_type": "markdown",
   "id": "62891457-6b5c-4443-9fb5-77f901ea7571",
   "metadata": {},
   "source": [
    "As a data analyst, you often need to access data from various sources. RESTful APIs provide a **standardized way** to retrieve, update, or delete data from other systems."
   ]
  },
  {
   "cell_type": "markdown",
   "id": "5c2bea7b-f629-45f3-94b3-6cb6eac1272e",
   "metadata": {},
   "source": [
    "- Usually, **we (the client) send a request, and they (the server) return a response, often in JSON - JavaScript Object Notation - format**. While JSON looks similar to the dictionaries we're used to in Python, it's worth noting that when represented as raw text (e.g., in an API response), the entire JSON structure is a *string*. However, within that structure, JSON can represent various data types like numbers, booleans, and arrays, not just strings.\n",
    "\n",
    "- APIs always need to provide documentation for their various services: **endpoints**.  Each endpoint is a different URL.  \n",
    "- Sometimes we have to pass **parameters** to an API endpoint, similar to when we pass parameters to a Python function.\n",
    "\n",
    "At this point in the Bootcamp, **reading documentation becomes essential**, as each API will \"work\" differently, and to use it, we will need to know what it requires.\n",
    "\n",
    "[Here](https://github.com/public-apis/public-apis) is a repository where you can find several free APIs if you feel like exploring a bit."
   ]
  },
  {
   "cell_type": "markdown",
   "id": "33c6c206-715a-42b8-929c-691d9c66fe4d",
   "metadata": {},
   "source": [
    "## Requests in Python"
   ]
  },
  {
   "cell_type": "markdown",
   "id": "515484d8-81ec-48c1-abad-c778232b583f",
   "metadata": {},
   "source": [
    "You can make requests to RESTful APIs using libraries like `requests`. "
   ]
  },
  {
   "cell_type": "code",
   "execution_count": 1,
   "id": "54d23d14-7425-45c6-8ba5-74e5db2c047a",
   "metadata": {},
   "outputs": [],
   "source": [
    "import requests as req   # el alias es cosa mia"
   ]
  },
  {
   "cell_type": "markdown",
   "id": "da5aff9d-8a79-4171-96b1-b7f0d2daf1cd",
   "metadata": {},
   "source": [
    "### GET"
   ]
  },
  {
   "cell_type": "markdown",
   "id": "2018fa77-7bce-437e-a806-69844737210b",
   "metadata": {},
   "source": [
    "Making a `GET request` to the API is simply a call to a `URL` that returns information when provided with the appropriate `parameters`. We will only perform **GET** requests."
   ]
  },
  {
   "cell_type": "markdown",
   "id": "718172e2-5654-4536-bd72-594d80b31f8c",
   "metadata": {},
   "source": [
    "Here is an example on how to make a request with Python:\n",
    "\n",
    "```python\n",
    "url = \"https://api.example.com/products\"\n",
    "response = requests.get(url)\n",
    "\n",
    "if response.status_code == 200:\n",
    "    products = response.json()\n",
    "    # Now you can analyze and work with the products data in Python\n",
    "```"
   ]
  },
  {
   "cell_type": "markdown",
   "id": "307395ef-cfd3-4175-99d5-a6ce6213adb1",
   "metadata": {},
   "source": [
    "#### Accessing an endpoint\n",
    "\n",
    "As we mentioned above, APIs always need to provide documentation for their various services: **endpoints**.  Each endpoint is a different URL.  \n",
    "\n",
    "**Example: ISS API**"
   ]
  },
  {
   "cell_type": "markdown",
   "id": "792140dd-3cda-4355-86bd-dd6732880803",
   "metadata": {},
   "source": [
    "Let's get information from ISS (International Space Station)! We'll start looking at the [ISS API documentation](https://wheretheiss.at/w/developer)"
   ]
  },
  {
   "cell_type": "markdown",
   "id": "a2be4164-137b-411d-a78c-38bdd94ce9ed",
   "metadata": {},
   "source": [
    "This API allows you to access various data related to the International Space Station (ISS), including its current, past, or future position, timezone information for specific coordinates, and more.\n",
    "\n",
    "**Key Features**\n",
    "- **Authentication**: No authentication is currently required, but future endpoints may include this.\n",
    "- **Rate Limiting**: Limited to approximately 1 request per second.\n",
    "- **Responses**: Default to JSON format, with optional parameters to modify response appearance.\n",
    "- **Endpoints**: Several endpoints provide different types of information:\n",
    "    - **satellites**: Information about satellites, including the ISS.\n",
    "    - **satellites/[id]**: Position, velocity, and related information for a satellite.\n",
    "    - **satellites/[id]/positions**: Position data for specific timestamps.\n",
    "    - **satellites/[id]/tles**: TLE (Two-Line Element Set) data in either JSON or text format.\n",
    "    - **coordinates/[lat,lon]**: Timezone information for specific coordinates.\n"
   ]
  },
  {
   "cell_type": "markdown",
   "id": "f1272582-bc6d-4f43-9e39-47d39ffd1bfd",
   "metadata": {},
   "source": [
    "**Examples**\n",
    "- Satellite details: `https://api.wheretheiss.at/v1/satellites`\n",
    "- ISS position: `https://api.wheretheiss.at/v1/satellites/25544`\n",
    "- Coordinates information: `https://api.wheretheiss.at/v1/coordinates/37.795517,-122.393693`\n",
    "\n"
   ]
  },
  {
   "cell_type": "markdown",
   "id": "5ca5b7da-eec0-41ca-924b-67687f794e23",
   "metadata": {},
   "source": [
    "**Endpoint satellites**"
   ]
  },
  {
   "cell_type": "code",
   "execution_count": 2,
   "id": "db35f908-34ac-459a-804d-54a335a7b34c",
   "metadata": {},
   "outputs": [],
   "source": [
    "url = 'https://api.wheretheiss.at/v1/satellites/25544'"
   ]
  },
  {
   "cell_type": "code",
   "execution_count": 3,
   "id": "aab9fc2a",
   "metadata": {},
   "outputs": [
    {
     "data": {
      "text/plain": [
       "<Response [200]>"
      ]
     },
     "execution_count": 3,
     "metadata": {},
     "output_type": "execute_result"
    }
   ],
   "source": [
    "req.get(url)"
   ]
  },
  {
   "cell_type": "code",
   "execution_count": 4,
   "id": "378e711a",
   "metadata": {},
   "outputs": [
    {
     "data": {
      "text/plain": [
       "200"
      ]
     },
     "execution_count": 4,
     "metadata": {},
     "output_type": "execute_result"
    }
   ],
   "source": [
    "req.get(url).status_code"
   ]
  },
  {
   "cell_type": "code",
   "execution_count": 5,
   "id": "dea361b8",
   "metadata": {},
   "outputs": [
    {
     "data": {
      "text/plain": [
       "requests.models.Response"
      ]
     },
     "execution_count": 5,
     "metadata": {},
     "output_type": "execute_result"
    }
   ],
   "source": [
    "res = req.get(url)\n",
    "\n",
    "type(res)"
   ]
  },
  {
   "cell_type": "code",
   "execution_count": 7,
   "id": "5503cba0",
   "metadata": {},
   "outputs": [
    {
     "data": {
      "text/plain": [
       "bytes"
      ]
     },
     "execution_count": 7,
     "metadata": {},
     "output_type": "execute_result"
    }
   ],
   "source": [
    "type(res.content)"
   ]
  },
  {
   "cell_type": "code",
   "execution_count": 9,
   "id": "e93907d4",
   "metadata": {},
   "outputs": [
    {
     "data": {
      "text/plain": [
       "str"
      ]
     },
     "execution_count": 9,
     "metadata": {},
     "output_type": "execute_result"
    }
   ],
   "source": [
    "type(res.text)"
   ]
  },
  {
   "cell_type": "code",
   "execution_count": 11,
   "id": "8c50493c",
   "metadata": {},
   "outputs": [
    {
     "data": {
      "text/plain": [
       "dict"
      ]
     },
     "execution_count": 11,
     "metadata": {},
     "output_type": "execute_result"
    }
   ],
   "source": [
    "type(res.json())"
   ]
  },
  {
   "cell_type": "code",
   "execution_count": 12,
   "id": "5f0c159a",
   "metadata": {},
   "outputs": [
    {
     "data": {
      "text/plain": [
       "{'name': 'iss',\n",
       " 'id': 25544,\n",
       " 'latitude': -47.420452294777,\n",
       " 'longitude': -88.651416411549,\n",
       " 'altitude': 434.66335886806,\n",
       " 'velocity': 27539.3591384,\n",
       " 'visibility': 'daylight',\n",
       " 'footprint': 4581.3241430336,\n",
       " 'timestamp': 1706177061,\n",
       " 'daynum': 2460334.9196875,\n",
       " 'solar_lat': -19.035381442587,\n",
       " 'solar_lon': 31.957839048399,\n",
       " 'units': 'kilometers'}"
      ]
     },
     "execution_count": 12,
     "metadata": {},
     "output_type": "execute_result"
    }
   ],
   "source": [
    "res.json()"
   ]
  },
  {
   "cell_type": "markdown",
   "id": "903f3024-0998-459d-bb20-60a639def27e",
   "metadata": {},
   "source": [
    "#### Response headers \n",
    "\n",
    "Response headers are part of the HTTP response that a server sends back to the client after a request has been made. These headers provide meta-information about the response and can affect how the client handles the response.\n",
    "\n",
    "Here are some common response headers and what they typically represent:\n",
    "\n",
    "1. **`Date`**: Represents the date and time at which the response was sent.\n",
    "\n",
    "2. **`Server`**: Provides information about the software used by the originating server.\n",
    "\n",
    "3. **`X-Rate-Limit`**: Sometimes used in APIs to inform the client about rate limiting policies, such as the number of allowed requests in a given time frame.\n",
    "\n",
    "4. **`Content-Type`**: Specifies the media type of the resource or data the server is sending back. For example, it could be `application/json` for a JSON object, `text/html` for an HTML page, or `image/png` for an image.\n",
    "\n",
    "And more."
   ]
  },
  {
   "cell_type": "markdown",
   "id": "a46967a4-763f-4d4e-bca9-c3a37742f65e",
   "metadata": {},
   "source": [
    "#### Parameters"
   ]
  },
  {
   "cell_type": "markdown",
   "id": "69017232-6063-4ee5-a13c-0eb40f182b1e",
   "metadata": {},
   "source": [
    "As we mentioned above, sometimes we can pass **parameters** to an API endpoint, similar to when we pass parameters to a Python function."
   ]
  },
  {
   "cell_type": "markdown",
   "id": "4dbf1646-5953-44b9-a2e3-a7dbee7f1a4e",
   "metadata": {},
   "source": [
    "In the example above, we didn't use any parameters in the endpoint `satellites` since the [documentation](\"https://wheretheiss.at/w/developer\") said *Parameters: None*."
   ]
  },
  {
   "cell_type": "markdown",
   "id": "ed0d4cf7-fa4d-4c83-8d56-4a25accc3d01",
   "metadata": {},
   "source": [
    "API parameters are specific values that you include in a request to an API endpoint to filter, sort, or detail the data that you want to retrieve. They allow you to customize the request to get exactly the information you need."
   ]
  },
  {
   "cell_type": "markdown",
   "id": "dbf6baed-1967-46ea-908f-bff2fd59dc46",
   "metadata": {},
   "source": [
    "There are several types of parameters that can be used in API requests, such as Path Parameters, Query Parameters, Header Parameters and Request Body Parameters. Let's look at them with an example using another endpoint."
   ]
  },
  {
   "cell_type": "markdown",
   "id": "f854df58-1a0a-4759-9991-30816cf45c92",
   "metadata": {},
   "source": [
    "##### 1. **Path Parameters**\n",
    "\n",
    "These are embedded in the URL path and are used to identify a specific resource. For example, in the URL above `https://api.wheretheiss.at/v1/satellites/25544`, the number `25544` is a path parameter that identifies a specific sattelite."
   ]
  },
  {
   "cell_type": "code",
   "execution_count": 15,
   "id": "3829586a",
   "metadata": {},
   "outputs": [
    {
     "data": {
      "text/plain": [
       "{'name': 'iss',\n",
       " 'id': 25544,\n",
       " 'latitude': -50.177510184939,\n",
       " 'longitude': -77.410730060498,\n",
       " 'altitude': 436.16730229839,\n",
       " 'velocity': 27535.516954185,\n",
       " 'visibility': 'daylight',\n",
       " 'footprint': 4588.8174869852,\n",
       " 'timestamp': 1706177189,\n",
       " 'daynum': 2460334.921169,\n",
       " 'solar_lat': -19.035018570225,\n",
       " 'solar_lon': 31.424592315078,\n",
       " 'units': 'kilometers'}"
      ]
     },
     "execution_count": 15,
     "metadata": {},
     "output_type": "execute_result"
    }
   ],
   "source": [
    "req.get(url).json()"
   ]
  },
  {
   "cell_type": "code",
   "execution_count": 17,
   "id": "70b06c68",
   "metadata": {},
   "outputs": [],
   "source": [
    "import pandas as pd\n",
    "\n",
    "import time"
   ]
  },
  {
   "cell_type": "code",
   "execution_count": 18,
   "id": "917ecd62",
   "metadata": {},
   "outputs": [],
   "source": [
    "data = []\n",
    "\n",
    "\n",
    "for i in range(20):\n",
    "    \n",
    "    data.append(req.get(url).json())\n",
    "    \n",
    "    time.sleep(0.5)"
   ]
  },
  {
   "cell_type": "code",
   "execution_count": 19,
   "id": "b9cbf0c2",
   "metadata": {},
   "outputs": [
    {
     "data": {
      "text/plain": [
       "[{'name': 'iss',\n",
       "  'id': 25544,\n",
       "  'latitude': -51.215632162397,\n",
       "  'longitude': -70.099180705826,\n",
       "  'altitude': 436.79703999015,\n",
       "  'velocity': 27533.804377133,\n",
       "  'visibility': 'daylight',\n",
       "  'footprint': 4591.9506771376,\n",
       "  'timestamp': 1706177266,\n",
       "  'daynum': 2460334.9220602,\n",
       "  'solar_lat': -19.034800273699,\n",
       "  'solar_lon': 31.103811111552,\n",
       "  'units': 'kilometers'},\n",
       " {'name': 'iss',\n",
       "  'id': 25544,\n",
       "  'latitude': -51.225785492708,\n",
       "  'longitude': -70.002173307277,\n",
       "  'altitude': 436.8037780641,\n",
       "  'velocity': 27533.785251262,\n",
       "  'visibility': 'daylight',\n",
       "  'footprint': 4591.9841874922,\n",
       "  'timestamp': 1706177267,\n",
       "  'daynum': 2460334.9220718,\n",
       "  'solar_lat': -19.034797438663,\n",
       "  'solar_lon': 31.099645143646,\n",
       "  'units': 'kilometers'}]"
      ]
     },
     "execution_count": 19,
     "metadata": {},
     "output_type": "execute_result"
    }
   ],
   "source": [
    "data[:2]"
   ]
  },
  {
   "cell_type": "code",
   "execution_count": 20,
   "id": "e1caa43d",
   "metadata": {},
   "outputs": [
    {
     "data": {
      "text/html": [
       "<div>\n",
       "<style scoped>\n",
       "    .dataframe tbody tr th:only-of-type {\n",
       "        vertical-align: middle;\n",
       "    }\n",
       "\n",
       "    .dataframe tbody tr th {\n",
       "        vertical-align: top;\n",
       "    }\n",
       "\n",
       "    .dataframe thead th {\n",
       "        text-align: right;\n",
       "    }\n",
       "</style>\n",
       "<table border=\"1\" class=\"dataframe\">\n",
       "  <thead>\n",
       "    <tr style=\"text-align: right;\">\n",
       "      <th></th>\n",
       "      <th>name</th>\n",
       "      <th>id</th>\n",
       "      <th>latitude</th>\n",
       "      <th>longitude</th>\n",
       "      <th>altitude</th>\n",
       "      <th>velocity</th>\n",
       "      <th>visibility</th>\n",
       "      <th>footprint</th>\n",
       "      <th>timestamp</th>\n",
       "      <th>daynum</th>\n",
       "      <th>solar_lat</th>\n",
       "      <th>solar_lon</th>\n",
       "      <th>units</th>\n",
       "    </tr>\n",
       "  </thead>\n",
       "  <tbody>\n",
       "    <tr>\n",
       "      <th>0</th>\n",
       "      <td>iss</td>\n",
       "      <td>25544</td>\n",
       "      <td>-51.215632</td>\n",
       "      <td>-70.099181</td>\n",
       "      <td>436.797040</td>\n",
       "      <td>27533.804377</td>\n",
       "      <td>daylight</td>\n",
       "      <td>4591.950677</td>\n",
       "      <td>1706177266</td>\n",
       "      <td>2.460335e+06</td>\n",
       "      <td>-19.034800</td>\n",
       "      <td>31.103811</td>\n",
       "      <td>kilometers</td>\n",
       "    </tr>\n",
       "    <tr>\n",
       "      <th>1</th>\n",
       "      <td>iss</td>\n",
       "      <td>25544</td>\n",
       "      <td>-51.225785</td>\n",
       "      <td>-70.002173</td>\n",
       "      <td>436.803778</td>\n",
       "      <td>27533.785251</td>\n",
       "      <td>daylight</td>\n",
       "      <td>4591.984187</td>\n",
       "      <td>1706177267</td>\n",
       "      <td>2.460335e+06</td>\n",
       "      <td>-19.034797</td>\n",
       "      <td>31.099645</td>\n",
       "      <td>kilometers</td>\n",
       "    </tr>\n",
       "    <tr>\n",
       "      <th>2</th>\n",
       "      <td>iss</td>\n",
       "      <td>25544</td>\n",
       "      <td>-51.235851</td>\n",
       "      <td>-69.905122</td>\n",
       "      <td>436.810479</td>\n",
       "      <td>27533.766206</td>\n",
       "      <td>daylight</td>\n",
       "      <td>4592.017511</td>\n",
       "      <td>1706177268</td>\n",
       "      <td>2.460335e+06</td>\n",
       "      <td>-19.034795</td>\n",
       "      <td>31.095479</td>\n",
       "      <td>kilometers</td>\n",
       "    </tr>\n",
       "    <tr>\n",
       "      <th>3</th>\n",
       "      <td>iss</td>\n",
       "      <td>25544</td>\n",
       "      <td>-51.245830</td>\n",
       "      <td>-69.808022</td>\n",
       "      <td>436.817142</td>\n",
       "      <td>27533.747242</td>\n",
       "      <td>daylight</td>\n",
       "      <td>4592.050649</td>\n",
       "      <td>1706177269</td>\n",
       "      <td>2.460335e+06</td>\n",
       "      <td>-19.034792</td>\n",
       "      <td>31.091313</td>\n",
       "      <td>kilometers</td>\n",
       "    </tr>\n",
       "    <tr>\n",
       "      <th>4</th>\n",
       "      <td>iss</td>\n",
       "      <td>25544</td>\n",
       "      <td>-51.265524</td>\n",
       "      <td>-69.613702</td>\n",
       "      <td>436.830355</td>\n",
       "      <td>27533.709558</td>\n",
       "      <td>daylight</td>\n",
       "      <td>4592.116360</td>\n",
       "      <td>1706177271</td>\n",
       "      <td>2.460335e+06</td>\n",
       "      <td>-19.034786</td>\n",
       "      <td>31.082981</td>\n",
       "      <td>kilometers</td>\n",
       "    </tr>\n",
       "    <tr>\n",
       "      <th>5</th>\n",
       "      <td>iss</td>\n",
       "      <td>25544</td>\n",
       "      <td>-51.275240</td>\n",
       "      <td>-69.516477</td>\n",
       "      <td>436.836905</td>\n",
       "      <td>27533.690838</td>\n",
       "      <td>daylight</td>\n",
       "      <td>4592.148934</td>\n",
       "      <td>1706177272</td>\n",
       "      <td>2.460335e+06</td>\n",
       "      <td>-19.034783</td>\n",
       "      <td>31.078815</td>\n",
       "      <td>kilometers</td>\n",
       "    </tr>\n",
       "    <tr>\n",
       "      <th>6</th>\n",
       "      <td>iss</td>\n",
       "      <td>25544</td>\n",
       "      <td>-51.284868</td>\n",
       "      <td>-69.419210</td>\n",
       "      <td>436.843418</td>\n",
       "      <td>27533.672200</td>\n",
       "      <td>daylight</td>\n",
       "      <td>4592.181321</td>\n",
       "      <td>1706177273</td>\n",
       "      <td>2.460335e+06</td>\n",
       "      <td>-19.034780</td>\n",
       "      <td>31.074649</td>\n",
       "      <td>kilometers</td>\n",
       "    </tr>\n",
       "    <tr>\n",
       "      <th>7</th>\n",
       "      <td>iss</td>\n",
       "      <td>25544</td>\n",
       "      <td>-51.294408</td>\n",
       "      <td>-69.321901</td>\n",
       "      <td>436.849893</td>\n",
       "      <td>27533.653642</td>\n",
       "      <td>daylight</td>\n",
       "      <td>4592.213521</td>\n",
       "      <td>1706177274</td>\n",
       "      <td>2.460335e+06</td>\n",
       "      <td>-19.034778</td>\n",
       "      <td>31.070483</td>\n",
       "      <td>kilometers</td>\n",
       "    </tr>\n",
       "    <tr>\n",
       "      <th>8</th>\n",
       "      <td>iss</td>\n",
       "      <td>25544</td>\n",
       "      <td>-51.303860</td>\n",
       "      <td>-69.224550</td>\n",
       "      <td>436.856330</td>\n",
       "      <td>27533.635166</td>\n",
       "      <td>daylight</td>\n",
       "      <td>4592.245533</td>\n",
       "      <td>1706177275</td>\n",
       "      <td>2.460335e+06</td>\n",
       "      <td>-19.034775</td>\n",
       "      <td>31.066317</td>\n",
       "      <td>kilometers</td>\n",
       "    </tr>\n",
       "    <tr>\n",
       "      <th>9</th>\n",
       "      <td>iss</td>\n",
       "      <td>25544</td>\n",
       "      <td>-51.313224</td>\n",
       "      <td>-69.127154</td>\n",
       "      <td>436.862730</td>\n",
       "      <td>27533.616771</td>\n",
       "      <td>daylight</td>\n",
       "      <td>4592.277358</td>\n",
       "      <td>1706177276</td>\n",
       "      <td>2.460335e+06</td>\n",
       "      <td>-19.034772</td>\n",
       "      <td>31.062151</td>\n",
       "      <td>kilometers</td>\n",
       "    </tr>\n",
       "    <tr>\n",
       "      <th>10</th>\n",
       "      <td>iss</td>\n",
       "      <td>25544</td>\n",
       "      <td>-51.322501</td>\n",
       "      <td>-69.029721</td>\n",
       "      <td>436.869092</td>\n",
       "      <td>27533.598458</td>\n",
       "      <td>daylight</td>\n",
       "      <td>4592.308994</td>\n",
       "      <td>1706177277</td>\n",
       "      <td>2.460335e+06</td>\n",
       "      <td>-19.034769</td>\n",
       "      <td>31.057985</td>\n",
       "      <td>kilometers</td>\n",
       "    </tr>\n",
       "    <tr>\n",
       "      <th>11</th>\n",
       "      <td>iss</td>\n",
       "      <td>25544</td>\n",
       "      <td>-51.331689</td>\n",
       "      <td>-68.932247</td>\n",
       "      <td>436.875416</td>\n",
       "      <td>27533.580226</td>\n",
       "      <td>daylight</td>\n",
       "      <td>4592.340443</td>\n",
       "      <td>1706177278</td>\n",
       "      <td>2.460335e+06</td>\n",
       "      <td>-19.034766</td>\n",
       "      <td>31.053819</td>\n",
       "      <td>kilometers</td>\n",
       "    </tr>\n",
       "    <tr>\n",
       "      <th>12</th>\n",
       "      <td>iss</td>\n",
       "      <td>25544</td>\n",
       "      <td>-51.340789</td>\n",
       "      <td>-68.834733</td>\n",
       "      <td>436.881702</td>\n",
       "      <td>27533.562076</td>\n",
       "      <td>daylight</td>\n",
       "      <td>4592.371704</td>\n",
       "      <td>1706177279</td>\n",
       "      <td>2.460335e+06</td>\n",
       "      <td>-19.034763</td>\n",
       "      <td>31.049653</td>\n",
       "      <td>kilometers</td>\n",
       "    </tr>\n",
       "    <tr>\n",
       "      <th>13</th>\n",
       "      <td>iss</td>\n",
       "      <td>25544</td>\n",
       "      <td>-51.349800</td>\n",
       "      <td>-68.737179</td>\n",
       "      <td>436.887951</td>\n",
       "      <td>27533.544007</td>\n",
       "      <td>daylight</td>\n",
       "      <td>4592.402776</td>\n",
       "      <td>1706177280</td>\n",
       "      <td>2.460335e+06</td>\n",
       "      <td>-19.034761</td>\n",
       "      <td>31.045487</td>\n",
       "      <td>kilometers</td>\n",
       "    </tr>\n",
       "    <tr>\n",
       "      <th>14</th>\n",
       "      <td>iss</td>\n",
       "      <td>25544</td>\n",
       "      <td>-51.367559</td>\n",
       "      <td>-68.541953</td>\n",
       "      <td>436.900334</td>\n",
       "      <td>27533.508115</td>\n",
       "      <td>daylight</td>\n",
       "      <td>4592.464356</td>\n",
       "      <td>1706177282</td>\n",
       "      <td>2.460335e+06</td>\n",
       "      <td>-19.034755</td>\n",
       "      <td>31.037155</td>\n",
       "      <td>kilometers</td>\n",
       "    </tr>\n",
       "    <tr>\n",
       "      <th>15</th>\n",
       "      <td>iss</td>\n",
       "      <td>25544</td>\n",
       "      <td>-51.376306</td>\n",
       "      <td>-68.444281</td>\n",
       "      <td>436.906470</td>\n",
       "      <td>27533.490291</td>\n",
       "      <td>daylight</td>\n",
       "      <td>4592.494864</td>\n",
       "      <td>1706177283</td>\n",
       "      <td>2.460335e+06</td>\n",
       "      <td>-19.034752</td>\n",
       "      <td>31.032989</td>\n",
       "      <td>kilometers</td>\n",
       "    </tr>\n",
       "    <tr>\n",
       "      <th>16</th>\n",
       "      <td>iss</td>\n",
       "      <td>25544</td>\n",
       "      <td>-51.384964</td>\n",
       "      <td>-68.346568</td>\n",
       "      <td>436.912567</td>\n",
       "      <td>27533.472549</td>\n",
       "      <td>daylight</td>\n",
       "      <td>4592.525185</td>\n",
       "      <td>1706177284</td>\n",
       "      <td>2.460335e+06</td>\n",
       "      <td>-19.034749</td>\n",
       "      <td>31.028823</td>\n",
       "      <td>kilometers</td>\n",
       "    </tr>\n",
       "    <tr>\n",
       "      <th>17</th>\n",
       "      <td>iss</td>\n",
       "      <td>25544</td>\n",
       "      <td>-51.393534</td>\n",
       "      <td>-68.248819</td>\n",
       "      <td>436.918627</td>\n",
       "      <td>27533.454888</td>\n",
       "      <td>daylight</td>\n",
       "      <td>4592.555316</td>\n",
       "      <td>1706177285</td>\n",
       "      <td>2.460335e+06</td>\n",
       "      <td>-19.034746</td>\n",
       "      <td>31.024657</td>\n",
       "      <td>kilometers</td>\n",
       "    </tr>\n",
       "    <tr>\n",
       "      <th>18</th>\n",
       "      <td>iss</td>\n",
       "      <td>25544</td>\n",
       "      <td>-51.402015</td>\n",
       "      <td>-68.151034</td>\n",
       "      <td>436.924648</td>\n",
       "      <td>27533.437310</td>\n",
       "      <td>daylight</td>\n",
       "      <td>4592.585258</td>\n",
       "      <td>1706177286</td>\n",
       "      <td>2.460335e+06</td>\n",
       "      <td>-19.034744</td>\n",
       "      <td>31.020491</td>\n",
       "      <td>kilometers</td>\n",
       "    </tr>\n",
       "    <tr>\n",
       "      <th>19</th>\n",
       "      <td>iss</td>\n",
       "      <td>25544</td>\n",
       "      <td>-51.410408</td>\n",
       "      <td>-68.053211</td>\n",
       "      <td>436.930632</td>\n",
       "      <td>27533.419813</td>\n",
       "      <td>daylight</td>\n",
       "      <td>4592.615011</td>\n",
       "      <td>1706177287</td>\n",
       "      <td>2.460335e+06</td>\n",
       "      <td>-19.034741</td>\n",
       "      <td>31.016325</td>\n",
       "      <td>kilometers</td>\n",
       "    </tr>\n",
       "  </tbody>\n",
       "</table>\n",
       "</div>"
      ],
      "text/plain": [
       "   name     id   latitude  longitude    altitude      velocity visibility  \\\n",
       "0   iss  25544 -51.215632 -70.099181  436.797040  27533.804377   daylight   \n",
       "1   iss  25544 -51.225785 -70.002173  436.803778  27533.785251   daylight   \n",
       "2   iss  25544 -51.235851 -69.905122  436.810479  27533.766206   daylight   \n",
       "3   iss  25544 -51.245830 -69.808022  436.817142  27533.747242   daylight   \n",
       "4   iss  25544 -51.265524 -69.613702  436.830355  27533.709558   daylight   \n",
       "5   iss  25544 -51.275240 -69.516477  436.836905  27533.690838   daylight   \n",
       "6   iss  25544 -51.284868 -69.419210  436.843418  27533.672200   daylight   \n",
       "7   iss  25544 -51.294408 -69.321901  436.849893  27533.653642   daylight   \n",
       "8   iss  25544 -51.303860 -69.224550  436.856330  27533.635166   daylight   \n",
       "9   iss  25544 -51.313224 -69.127154  436.862730  27533.616771   daylight   \n",
       "10  iss  25544 -51.322501 -69.029721  436.869092  27533.598458   daylight   \n",
       "11  iss  25544 -51.331689 -68.932247  436.875416  27533.580226   daylight   \n",
       "12  iss  25544 -51.340789 -68.834733  436.881702  27533.562076   daylight   \n",
       "13  iss  25544 -51.349800 -68.737179  436.887951  27533.544007   daylight   \n",
       "14  iss  25544 -51.367559 -68.541953  436.900334  27533.508115   daylight   \n",
       "15  iss  25544 -51.376306 -68.444281  436.906470  27533.490291   daylight   \n",
       "16  iss  25544 -51.384964 -68.346568  436.912567  27533.472549   daylight   \n",
       "17  iss  25544 -51.393534 -68.248819  436.918627  27533.454888   daylight   \n",
       "18  iss  25544 -51.402015 -68.151034  436.924648  27533.437310   daylight   \n",
       "19  iss  25544 -51.410408 -68.053211  436.930632  27533.419813   daylight   \n",
       "\n",
       "      footprint   timestamp        daynum  solar_lat  solar_lon       units  \n",
       "0   4591.950677  1706177266  2.460335e+06 -19.034800  31.103811  kilometers  \n",
       "1   4591.984187  1706177267  2.460335e+06 -19.034797  31.099645  kilometers  \n",
       "2   4592.017511  1706177268  2.460335e+06 -19.034795  31.095479  kilometers  \n",
       "3   4592.050649  1706177269  2.460335e+06 -19.034792  31.091313  kilometers  \n",
       "4   4592.116360  1706177271  2.460335e+06 -19.034786  31.082981  kilometers  \n",
       "5   4592.148934  1706177272  2.460335e+06 -19.034783  31.078815  kilometers  \n",
       "6   4592.181321  1706177273  2.460335e+06 -19.034780  31.074649  kilometers  \n",
       "7   4592.213521  1706177274  2.460335e+06 -19.034778  31.070483  kilometers  \n",
       "8   4592.245533  1706177275  2.460335e+06 -19.034775  31.066317  kilometers  \n",
       "9   4592.277358  1706177276  2.460335e+06 -19.034772  31.062151  kilometers  \n",
       "10  4592.308994  1706177277  2.460335e+06 -19.034769  31.057985  kilometers  \n",
       "11  4592.340443  1706177278  2.460335e+06 -19.034766  31.053819  kilometers  \n",
       "12  4592.371704  1706177279  2.460335e+06 -19.034763  31.049653  kilometers  \n",
       "13  4592.402776  1706177280  2.460335e+06 -19.034761  31.045487  kilometers  \n",
       "14  4592.464356  1706177282  2.460335e+06 -19.034755  31.037155  kilometers  \n",
       "15  4592.494864  1706177283  2.460335e+06 -19.034752  31.032989  kilometers  \n",
       "16  4592.525185  1706177284  2.460335e+06 -19.034749  31.028823  kilometers  \n",
       "17  4592.555316  1706177285  2.460335e+06 -19.034746  31.024657  kilometers  \n",
       "18  4592.585258  1706177286  2.460335e+06 -19.034744  31.020491  kilometers  \n",
       "19  4592.615011  1706177287  2.460335e+06 -19.034741  31.016325  kilometers  "
      ]
     },
     "execution_count": 20,
     "metadata": {},
     "output_type": "execute_result"
    }
   ],
   "source": [
    "pd.DataFrame(data)"
   ]
  },
  {
   "cell_type": "code",
   "execution_count": 23,
   "id": "282fc988",
   "metadata": {},
   "outputs": [],
   "source": [
    "from tqdm.notebook import tqdm"
   ]
  },
  {
   "cell_type": "code",
   "execution_count": 24,
   "id": "862d0d6c",
   "metadata": {},
   "outputs": [
    {
     "data": {
      "application/vnd.jupyter.widget-view+json": {
       "model_id": "77bc5f7072a94a53860689698ae9910d",
       "version_major": 2,
       "version_minor": 0
      },
      "text/plain": [
       "  0%|          | 0/20 [00:00<?, ?it/s]"
      ]
     },
     "metadata": {},
     "output_type": "display_data"
    }
   ],
   "source": [
    "data = []\n",
    "\n",
    "\n",
    "for i in tqdm(range(20)):\n",
    "    \n",
    "    data.append(req.get(url).json())\n",
    "    \n",
    "    time.sleep(0.5)"
   ]
  },
  {
   "cell_type": "markdown",
   "id": "df9a0f8c-b363-4ceb-bcc6-04128ec2bffc",
   "metadata": {
    "tags": []
   },
   "source": [
    "**Endpoint satellites/id**"
   ]
  },
  {
   "cell_type": "markdown",
   "id": "f7f1892c-1908-438d-a072-a77fc2214e52",
   "metadata": {},
   "source": [
    "Lets use endpoint satellites/[id] with the id we got from the previous endpoint.\n",
    "Important, we need to provide the whole url for the endpoint as a `string`."
   ]
  },
  {
   "cell_type": "markdown",
   "id": "204abde8-009b-4217-8295-51fbde187742",
   "metadata": {
    "tags": []
   },
   "source": [
    "\n",
    "##### 2. **Query Parameters**\n",
    "\n",
    "These are added to the end of the URL after a question mark (`?`) and are often used to filter or sort the response. \n",
    "\n",
    "For example, in the ISS documentation, it mentions that there is a parameter `units` that can take values `miles` or `kilometers`. So in the URL `https://api.wheretheiss.at/v1/satellites/25544?units=miles`, we added `units=miles` which is a query parameter that shows the data in \"miles\". \n",
    "\n",
    "In general, we add the parameters like this `?param1=value1&param2=value2...` at the end of the URL."
   ]
  },
  {
   "cell_type": "code",
   "execution_count": 25,
   "id": "b252f4b2-f739-4d78-8a14-7933b946c309",
   "metadata": {},
   "outputs": [
    {
     "data": {
      "text/plain": [
       "{'name': 'iss',\n",
       " 'id': 25544,\n",
       " 'latitude': -50.6625658859,\n",
       " 'longitude': -43.382474729113,\n",
       " 'altitude': 271.67199279063,\n",
       " 'velocity': 17107.380875055,\n",
       " 'visibility': 'daylight',\n",
       " 'footprint': 2854.5926106903,\n",
       " 'timestamp': 1706177538,\n",
       " 'daynum': 2460334.9252083,\n",
       " 'solar_lat': -19.034029111154,\n",
       " 'solar_lon': 29.970661623259,\n",
       " 'units': 'miles'}"
      ]
     },
     "execution_count": 25,
     "metadata": {},
     "output_type": "execute_result"
    }
   ],
   "source": [
    "url = 'https://api.wheretheiss.at/v1/satellites/25544?units=miles'\n",
    "\n",
    "res = req.get(url)\n",
    "\n",
    "data = res.json()\n",
    "\n",
    "data"
   ]
  },
  {
   "cell_type": "code",
   "execution_count": 26,
   "id": "79ce737d",
   "metadata": {},
   "outputs": [
    {
     "data": {
      "text/plain": [
       "{'name': 'iss',\n",
       " 'id': 25544,\n",
       " 'latitude': -50.186128281607,\n",
       " 'longitude': -40.479547242133,\n",
       " 'altitude': 437.08170294177,\n",
       " 'velocity': 27531.818773762,\n",
       " 'visibility': 'daylight',\n",
       " 'footprint': 4593.3661253718,\n",
       " 'timestamp': 1706177569,\n",
       " 'daynum': 2460334.9255671,\n",
       " 'solar_lat': -19.033941217674,\n",
       " 'solar_lon': 29.84151594379,\n",
       " 'units': 'kilometers'}"
      ]
     },
     "execution_count": 26,
     "metadata": {},
     "output_type": "execute_result"
    }
   ],
   "source": [
    "url = 'https://api.wheretheiss.at/v1/satellites/25544?units=kilometers'\n",
    "\n",
    "res = req.get(url)\n",
    "\n",
    "data = res.json()\n",
    "\n",
    "data"
   ]
  },
  {
   "cell_type": "markdown",
   "id": "6aea75ed-be20-475d-98c1-86f4e9d2b1fd",
   "metadata": {},
   "source": [
    "\n",
    "##### 3. **Header Parameters**\n",
    "\n",
    "These are included in the request header and can be used for various purposes, such as authentication (e.g., sending an API key or token), content negotiation (e.g., defining the response format), or custom settings defined by the API. If the API requires authentication, you might include an `Authorization` header with your API key."
   ]
  },
  {
   "cell_type": "markdown",
   "id": "78131fa0-a203-4d64-8fc2-939ee0ebf064",
   "metadata": {},
   "source": [
    "ISS API mentions that *currently there is no authentication required*. So we'll look at an example with a different API of `authentication` in `header parameters`."
   ]
  },
  {
   "cell_type": "markdown",
   "id": "69484a90-65de-44b0-87bb-b591274f27b5",
   "metadata": {},
   "source": [
    "#### Request Headers"
   ]
  },
  {
   "cell_type": "markdown",
   "id": "a5782c9a-84ad-434e-b4a5-5657f17592f1",
   "metadata": {},
   "source": [
    "Request headers are key-value pairs sent in an HTTP request to provide information about the request itself."
   ]
  },
  {
   "cell_type": "markdown",
   "id": "70c5dec7-204a-4c3b-a9e4-8c7bbf516b10",
   "metadata": {},
   "source": [
    "Some request headers are:\n",
    "\n",
    "1. **Content-Type**: Specifies the media type of the resource or data. Common examples include \"application/json\" for JSON data, \"text/html\" for HTML content, and \"application/xml\" for XML data.\n",
    "\n",
    "3. **Authorization**: Contains credentials for authenticating the client with the server, often used with tokens or other forms of authentication.\n",
    "\n",
    "4. **User-Agent**: Provides information about the client (browser or other client), including its version and operating system.\n",
    "\n",
    "\n",
    "In Python's `requests` library, you can include headers in a request by using the `headers` argument, like this:\n",
    "\n",
    "```python\n",
    "headers = {'Content-Type': 'application/json', 'Authorization': 'Bearer YOUR_TOKEN'}\n",
    "response = requests.get(url, headers=headers)\n",
    "```\n"
   ]
  },
  {
   "cell_type": "markdown",
   "id": "a5311048-ef5e-4b04-9e4b-8ed700ab3076",
   "metadata": {},
   "source": [
    "⚠️🚨 ¡Careful with the authentication token! ⚠️🚨  A token is a personal credential for accessing an API, through which your request quota to the API is managed. Therefore, the ideal procedure is to ensure security by storing the token as a variable in an .env file. This way, you can call the environment variable without having to publicly display the token."
   ]
  },
  {
   "cell_type": "markdown",
   "id": "b3cf22bc-d4e1-4e51-876e-f4df41b70f05",
   "metadata": {},
   "source": [
    "**Example: News API**"
   ]
  },
  {
   "cell_type": "markdown",
   "id": "a6b35b6f-4cb4-4b89-af23-3c9c65fb2686",
   "metadata": {},
   "source": [
    "The *News API* lets you locate articles and breaking news headlines from news sources and blogs across the web."
   ]
  },
  {
   "cell_type": "markdown",
   "id": "58123f1a-b5e4-4b20-a02d-47077a4a3635",
   "metadata": {},
   "source": [
    "- Let's look at the [NewsAPI Authentication documentation](https://newsapi.org/docs/authentication). It mentions: \n",
    "```\n",
    "You can attach your API key to a request in one of three ways:\n",
    "\n",
    "- Via the apiKey querystring parameter.\n",
    "- Via the X-Api-Key HTTP header.\n",
    "- Via the Authorization HTTP header. Including Bearer is optional, and be sure not to base 64 encode it like you may have seen in other authentication tutorials.\n",
    "We strongly recommend the either of last two so that your API key isn't visible to others in logs or via request sniffing.\n",
    "\n",
    "If you don't append your API key correctly, or your API key is invalid, you will receive a 401 - Unauthorized HTTP error.\n",
    "```\n",
    "\n",
    "- Let's look at the documentation for the endpoints to see what **parameters** they accept: [NewsAPI endpoints](https://newsapi.org/docs/endpoints). We see we have the endpoint `/v2/top-headlines` – *returns breaking news headlines for countries, categories, and singular publishers. This is perfect for use with news tickers or anywhere you want to use live up-to-date news headlines.*\n",
    "If we look at the [documentation of that endpoint](https://newsapi.org/docs/endpoints/top-headlines) we see we have more parameters we can add such as `country` or `category`."
   ]
  },
  {
   "cell_type": "markdown",
   "id": "a0ae416d-0215-4acd-9479-2ba49dab313b",
   "metadata": {},
   "source": [
    "##### Saving the API Key"
   ]
  },
  {
   "cell_type": "markdown",
   "id": "2c509a90-72f3-4bba-9b29-bc4316bd3111",
   "metadata": {},
   "source": [
    "Storing an API key directly in your code can expose sensitive information, especially if your code is publicly available (e.g., on a public GitHub repository). The best practice for saving and loading an API key in your code involves the following steps:\n",
    "\n",
    "1. **Storing the API Key**:\n",
    "    - **Use Environment Variables**: Store your API key in an environment variable on your system. This keeps the key out of your codebase and allows you to change it without altering your code.\n",
    "\n",
    "\n",
    "    - **Create a .env File**: If you prefer, you can create a `.env` file (just call it `.env` nothing else before the `.`) in your project directory to store the API key. Inside this file, you would have something like:\n",
    "   \n",
    "       ```\n",
    "       API_KEY=your-api-key-here\n",
    "       ```\n",
    "\n",
    "        - **Add .env to .gitignore**: If you're using a version control system like Git, make sure to add the `.env` file to your `.gitignore` file. This prevents the `.env` file (and therefore your API key) from being uploaded to any public repositories. We'll talk about Git and .gitignore in more detail soon.\n",
    "\n",
    "2. **Load the Key in Your Code**: \n",
    "\n",
    "    You can use libraries like `python-dotenv` to load the key into your code. \n",
    "    You would need to install `python-dotenv` first.\n",
    "    ```python \n",
    "    !pip install python-dotenv\n",
    "\n",
    "    from dotenv import load_dotenv\n",
    "    import os\n",
    "\n",
    "    load_dotenv()\n",
    "    api_key = os.getenv(\"API_KEY\")\n",
    "    ```\n",
    "\n",
    "       \n",
    "    Now, `api_key` contains the value of your API key, and you can use it to authenticate your requests to the API.\n",
    "       \n"
   ]
  },
  {
   "cell_type": "markdown",
   "id": "98b7f771-e230-4223-a5a7-4353ee337934",
   "metadata": {},
   "source": [
    "Lets do the second approach. Lets save it in an env file and save it in a variable."
   ]
  },
  {
   "cell_type": "markdown",
   "id": "3766f8a4-3e0a-4b18-8b16-d5e0d64c4dbd",
   "metadata": {},
   "source": [
    "`Make sure your file is named .env and not .env.txt! Is one of the most common errors. If you need, look at the document properties to make sure it doesn't have .txt at the end even if its not showing the .txt when looking at your folder.`"
   ]
  },
  {
   "cell_type": "code",
   "execution_count": 27,
   "id": "eb07a572-50ca-41b0-b3b3-ec82d0cd3f5f",
   "metadata": {
    "scrolled": true
   },
   "outputs": [
    {
     "name": "stdout",
     "output_type": "stream",
     "text": [
      "Requirement already satisfied: python-dotenv in /opt/homebrew/Caskroom/miniconda/base/envs/pathfinder/lib/python3.9/site-packages (0.19.2)\n",
      "Note: you may need to restart the kernel to use updated packages.\n"
     ]
    }
   ],
   "source": [
    "%pip install python-dotenv"
   ]
  },
  {
   "cell_type": "code",
   "execution_count": 28,
   "id": "4641af66",
   "metadata": {},
   "outputs": [],
   "source": [
    "import os\n",
    "from dotenv import load_dotenv, find_dotenv\n",
    "\n",
    "load_dotenv()\n",
    "\n",
    "my_key = os.getenv(\"lewknfoi345gnoierngoino\")"
   ]
  },
  {
   "cell_type": "code",
   "execution_count": 30,
   "id": "2c53bb92",
   "metadata": {},
   "outputs": [
    {
     "name": "stdout",
     "output_type": "stream",
     "text": [
      "None\n"
     ]
    }
   ],
   "source": [
    "print(my_key)"
   ]
  },
  {
   "cell_type": "code",
   "execution_count": 31,
   "id": "e7c0ab42",
   "metadata": {},
   "outputs": [
    {
     "data": {
      "text/plain": [
       "'/Users/iudh/apuntes_clase/semana_2'"
      ]
     },
     "execution_count": 31,
     "metadata": {},
     "output_type": "execute_result"
    }
   ],
   "source": [
    "os.getcwd()"
   ]
  },
  {
   "cell_type": "markdown",
   "id": "b6e5c398-c333-4831-b15c-230c63e7ac9c",
   "metadata": {},
   "source": [
    "## APIs examples"
   ]
  },
  {
   "cell_type": "markdown",
   "id": "99d3ab93-1f0f-4c3d-9a4d-ebdf7337641b",
   "metadata": {},
   "source": [
    "### NewsAPI"
   ]
  },
  {
   "cell_type": "code",
   "execution_count": 32,
   "id": "52a61b64-8df2-4682-a17e-9ecb805c9dfb",
   "metadata": {},
   "outputs": [],
   "source": [
    "url_top_headlines = \"http://newsapi.org/v2/top-headlines\""
   ]
  },
  {
   "cell_type": "code",
   "execution_count": 33,
   "id": "666fe7d0-9ba9-44c1-b66d-4bc58a9b964c",
   "metadata": {},
   "outputs": [],
   "source": [
    "parameters = {\"country\": \"us\", \"category\": \"science\"}"
   ]
  },
  {
   "cell_type": "code",
   "execution_count": 34,
   "id": "ecc32feb",
   "metadata": {},
   "outputs": [],
   "source": [
    "headers = {\"X-Api-Key\": my_key}"
   ]
  },
  {
   "cell_type": "code",
   "execution_count": 36,
   "id": "f02653f2",
   "metadata": {},
   "outputs": [],
   "source": [
    "response = req.get(\n",
    "                        url=url_top_headlines, \n",
    "                        params=parameters, \n",
    "                        headers=headers\n",
    "                    )"
   ]
  },
  {
   "cell_type": "code",
   "execution_count": 37,
   "id": "bb0d5806",
   "metadata": {},
   "outputs": [
    {
     "data": {
      "text/plain": [
       "<Response [401]>"
      ]
     },
     "execution_count": 37,
     "metadata": {},
     "output_type": "execute_result"
    }
   ],
   "source": [
    "response"
   ]
  },
  {
   "cell_type": "markdown",
   "id": "48ca730a-10fe-4a69-ad11-01bf8759a938",
   "metadata": {},
   "source": [
    "### Pokemon API"
   ]
  },
  {
   "cell_type": "markdown",
   "id": "be8f6d65-359d-408b-aeb4-64379614377f",
   "metadata": {},
   "source": [
    "[PokeAPI](https://pokeapi.co/) is a full RESTful API linked to an extensive database detailing everything about the Pokémon main game series.\n",
    "\n",
    "In the documentation we see that we can get lot's of data. Let's look at the endpoint *pokemon*: ```https://pokeapi.co/api/v2/pokemon/{id or name}/``` "
   ]
  },
  {
   "cell_type": "code",
   "execution_count": 38,
   "id": "32e0e235-9857-4636-8bde-6d24ad68c615",
   "metadata": {},
   "outputs": [],
   "source": [
    "url = 'https://pokeapi.co/api/v2/pokemon/25'"
   ]
  },
  {
   "cell_type": "code",
   "execution_count": 40,
   "id": "a2ace141",
   "metadata": {},
   "outputs": [],
   "source": [
    "res = req.get(url)\n",
    "\n",
    "data = res.json()"
   ]
  },
  {
   "cell_type": "code",
   "execution_count": 70,
   "id": "7c3eaee9",
   "metadata": {},
   "outputs": [],
   "source": [
    "url = 'https://pokeapi.co/api/v2/pokemon/25'\n",
    "\n",
    "res = req.get(url)\n",
    "\n",
    "data = res.json()"
   ]
  },
  {
   "cell_type": "code",
   "execution_count": 75,
   "id": "04fb051f",
   "metadata": {},
   "outputs": [
    {
     "data": {
      "text/plain": [
       "[{'ability': {'name': 'static', 'url': 'https://pokeapi.co/api/v2/ability/9/'},\n",
       "  'is_hidden': False,\n",
       "  'slot': 1},\n",
       " {'ability': {'name': 'lightning-rod',\n",
       "   'url': 'https://pokeapi.co/api/v2/ability/31/'},\n",
       "  'is_hidden': True,\n",
       "  'slot': 3}]"
      ]
     },
     "execution_count": 75,
     "metadata": {},
     "output_type": "execute_result"
    }
   ],
   "source": [
    "data['abilities']"
   ]
  },
  {
   "cell_type": "code",
   "execution_count": 76,
   "id": "71be8c78",
   "metadata": {},
   "outputs": [
    {
     "data": {
      "text/html": [
       "<div>\n",
       "<style scoped>\n",
       "    .dataframe tbody tr th:only-of-type {\n",
       "        vertical-align: middle;\n",
       "    }\n",
       "\n",
       "    .dataframe tbody tr th {\n",
       "        vertical-align: top;\n",
       "    }\n",
       "\n",
       "    .dataframe thead th {\n",
       "        text-align: right;\n",
       "    }\n",
       "</style>\n",
       "<table border=\"1\" class=\"dataframe\">\n",
       "  <thead>\n",
       "    <tr style=\"text-align: right;\">\n",
       "      <th></th>\n",
       "      <th>is_hidden</th>\n",
       "      <th>slot</th>\n",
       "      <th>ability.name</th>\n",
       "      <th>ability.url</th>\n",
       "    </tr>\n",
       "  </thead>\n",
       "  <tbody>\n",
       "    <tr>\n",
       "      <th>0</th>\n",
       "      <td>False</td>\n",
       "      <td>1</td>\n",
       "      <td>static</td>\n",
       "      <td>https://pokeapi.co/api/v2/ability/9/</td>\n",
       "    </tr>\n",
       "    <tr>\n",
       "      <th>1</th>\n",
       "      <td>True</td>\n",
       "      <td>3</td>\n",
       "      <td>lightning-rod</td>\n",
       "      <td>https://pokeapi.co/api/v2/ability/31/</td>\n",
       "    </tr>\n",
       "  </tbody>\n",
       "</table>\n",
       "</div>"
      ],
      "text/plain": [
       "   is_hidden  slot   ability.name                            ability.url\n",
       "0      False     1         static   https://pokeapi.co/api/v2/ability/9/\n",
       "1       True     3  lightning-rod  https://pokeapi.co/api/v2/ability/31/"
      ]
     },
     "execution_count": 76,
     "metadata": {},
     "output_type": "execute_result"
    }
   ],
   "source": [
    "df = pd.json_normalize(data['abilities'])  # desenreda el json\n",
    "\n",
    "df.head()"
   ]
  },
  {
   "cell_type": "code",
   "execution_count": 77,
   "id": "d597a586",
   "metadata": {},
   "outputs": [
    {
     "name": "stdout",
     "output_type": "stream",
     "text": [
      "<class 'pandas.core.frame.DataFrame'>\n",
      "RangeIndex: 2 entries, 0 to 1\n",
      "Data columns (total 4 columns):\n",
      " #   Column        Non-Null Count  Dtype \n",
      "---  ------        --------------  ----- \n",
      " 0   is_hidden     2 non-null      bool  \n",
      " 1   slot          2 non-null      int64 \n",
      " 2   ability.name  2 non-null      object\n",
      " 3   ability.url   2 non-null      object\n",
      "dtypes: bool(1), int64(1), object(2)\n",
      "memory usage: 178.0+ bytes\n"
     ]
    }
   ],
   "source": [
    "df.info()"
   ]
  },
  {
   "cell_type": "code",
   "execution_count": 74,
   "id": "27666c50",
   "metadata": {},
   "outputs": [
    {
     "data": {
      "text/html": [
       "<div>\n",
       "<style scoped>\n",
       "    .dataframe tbody tr th:only-of-type {\n",
       "        vertical-align: middle;\n",
       "    }\n",
       "\n",
       "    .dataframe tbody tr th {\n",
       "        vertical-align: top;\n",
       "    }\n",
       "\n",
       "    .dataframe thead th {\n",
       "        text-align: right;\n",
       "    }\n",
       "</style>\n",
       "<table border=\"1\" class=\"dataframe\">\n",
       "  <thead>\n",
       "    <tr style=\"text-align: right;\">\n",
       "      <th></th>\n",
       "      <th>ability</th>\n",
       "      <th>is_hidden</th>\n",
       "      <th>slot</th>\n",
       "    </tr>\n",
       "  </thead>\n",
       "  <tbody>\n",
       "    <tr>\n",
       "      <th>0</th>\n",
       "      <td>{'name': 'static', 'url': 'https://pokeapi.co/...</td>\n",
       "      <td>False</td>\n",
       "      <td>1</td>\n",
       "    </tr>\n",
       "    <tr>\n",
       "      <th>1</th>\n",
       "      <td>{'name': 'lightning-rod', 'url': 'https://poke...</td>\n",
       "      <td>True</td>\n",
       "      <td>3</td>\n",
       "    </tr>\n",
       "  </tbody>\n",
       "</table>\n",
       "</div>"
      ],
      "text/plain": [
       "                                             ability  is_hidden  slot\n",
       "0  {'name': 'static', 'url': 'https://pokeapi.co/...      False     1\n",
       "1  {'name': 'lightning-rod', 'url': 'https://poke...       True     3"
      ]
     },
     "execution_count": 74,
     "metadata": {},
     "output_type": "execute_result"
    }
   ],
   "source": [
    "pd.DataFrame(data['abilities'])"
   ]
  },
  {
   "cell_type": "code",
   "execution_count": null,
   "id": "ab20455f",
   "metadata": {},
   "outputs": [],
   "source": []
  },
  {
   "cell_type": "code",
   "execution_count": 42,
   "id": "4b4594f0",
   "metadata": {},
   "outputs": [
    {
     "data": {
      "text/plain": [
       "dict_keys(['abilities', 'base_experience', 'forms', 'game_indices', 'height', 'held_items', 'id', 'is_default', 'location_area_encounters', 'moves', 'name', 'order', 'past_abilities', 'past_types', 'species', 'sprites', 'stats', 'types', 'weight'])"
      ]
     },
     "execution_count": 42,
     "metadata": {},
     "output_type": "execute_result"
    }
   ],
   "source": [
    "data.keys()"
   ]
  },
  {
   "cell_type": "code",
   "execution_count": 44,
   "id": "d4a51b62",
   "metadata": {},
   "outputs": [
    {
     "data": {
      "text/plain": [
       "[{'ability': {'name': 'static', 'url': 'https://pokeapi.co/api/v2/ability/9/'},\n",
       "  'is_hidden': False,\n",
       "  'slot': 1},\n",
       " {'ability': {'name': 'lightning-rod',\n",
       "   'url': 'https://pokeapi.co/api/v2/ability/31/'},\n",
       "  'is_hidden': True,\n",
       "  'slot': 3}]"
      ]
     },
     "execution_count": 44,
     "metadata": {},
     "output_type": "execute_result"
    }
   ],
   "source": [
    "data['abilities']"
   ]
  },
  {
   "cell_type": "code",
   "execution_count": 47,
   "id": "7a183700",
   "metadata": {},
   "outputs": [
    {
     "data": {
      "text/plain": [
       "'https://pokeapi.co/api/v2/ability/9/'"
      ]
     },
     "execution_count": 47,
     "metadata": {},
     "output_type": "execute_result"
    }
   ],
   "source": [
    "data['abilities'][0]['ability']['url']"
   ]
  },
  {
   "cell_type": "code",
   "execution_count": 54,
   "id": "e632c5eb",
   "metadata": {},
   "outputs": [
    {
     "data": {
      "text/plain": [
       "{'is_hidden': False,\n",
       " 'pokemon': {'name': 'pikachu',\n",
       "  'url': 'https://pokeapi.co/api/v2/pokemon/25/'},\n",
       " 'slot': 1}"
      ]
     },
     "execution_count": 54,
     "metadata": {},
     "output_type": "execute_result"
    }
   ],
   "source": [
    "req.get(data['abilities'][0]['ability']['url']).json()['pokemon'][0]"
   ]
  },
  {
   "cell_type": "markdown",
   "id": "4680fda5-270d-45e9-ab0f-abebcfe09088",
   "metadata": {},
   "source": [
    "### Coincap API"
   ]
  },
  {
   "cell_type": "markdown",
   "id": "d43ce6fe-baf5-42da-9e40-d31f2c8e3b27",
   "metadata": {},
   "source": [
    "CoinCap is a useful tool for real-time pricing and market activity for over 1,000 cryptocurrencies. Check the documentation at https://docs.coincap.io/"
   ]
  },
  {
   "cell_type": "code",
   "execution_count": 78,
   "id": "bdfda195-9de8-4e2c-8b01-63161db18060",
   "metadata": {},
   "outputs": [],
   "source": [
    "url = \"http://api.coincap.io/v2/assets\""
   ]
  },
  {
   "cell_type": "code",
   "execution_count": 79,
   "id": "12ba1cf9",
   "metadata": {},
   "outputs": [
    {
     "data": {
      "text/plain": [
       "<Response [200]>"
      ]
     },
     "execution_count": 79,
     "metadata": {},
     "output_type": "execute_result"
    }
   ],
   "source": [
    "res = req.get(url)\n",
    "\n",
    "res"
   ]
  },
  {
   "cell_type": "code",
   "execution_count": 80,
   "id": "dfc0f4af",
   "metadata": {},
   "outputs": [
    {
     "data": {
      "text/plain": [
       "dict_keys(['data', 'timestamp'])"
      ]
     },
     "execution_count": 80,
     "metadata": {},
     "output_type": "execute_result"
    }
   ],
   "source": [
    "res.json().keys()"
   ]
  },
  {
   "cell_type": "code",
   "execution_count": 81,
   "id": "bc259a13",
   "metadata": {},
   "outputs": [
    {
     "data": {
      "text/plain": [
       "[{'id': 'bitcoin',\n",
       "  'rank': '1',\n",
       "  'symbol': 'BTC',\n",
       "  'name': 'Bitcoin',\n",
       "  'supply': '19602475.0000000000000000',\n",
       "  'maxSupply': '21000000.0000000000000000',\n",
       "  'marketCapUsd': '787911440953.2588005468177250',\n",
       "  'volumeUsd24Hr': '11737411372.9884016610478071',\n",
       "  'priceUsd': '40194.4877344957103910',\n",
       "  'changePercent24Hr': '-0.0828019507363875',\n",
       "  'vwap24Hr': '39980.8021050273437239',\n",
       "  'explorer': 'https://blockchain.info/'},\n",
       " {'id': 'ethereum',\n",
       "  'rank': '2',\n",
       "  'symbol': 'ETH',\n",
       "  'name': 'Ethereum',\n",
       "  'supply': '120177064.7486905000000000',\n",
       "  'maxSupply': None,\n",
       "  'marketCapUsd': '269145668383.0906325334787901',\n",
       "  'volumeUsd24Hr': '4042523352.9712966246732300',\n",
       "  'priceUsd': '2239.5759868650258184',\n",
       "  'changePercent24Hr': '-0.3323952274207024',\n",
       "  'vwap24Hr': '2225.7454104213134239',\n",
       "  'explorer': 'https://etherscan.io/'}]"
      ]
     },
     "execution_count": 81,
     "metadata": {},
     "output_type": "execute_result"
    }
   ],
   "source": [
    "res.json()['data'][:2]"
   ]
  },
  {
   "cell_type": "code",
   "execution_count": 82,
   "id": "01912a77",
   "metadata": {},
   "outputs": [
    {
     "data": {
      "text/html": [
       "<div>\n",
       "<style scoped>\n",
       "    .dataframe tbody tr th:only-of-type {\n",
       "        vertical-align: middle;\n",
       "    }\n",
       "\n",
       "    .dataframe tbody tr th {\n",
       "        vertical-align: top;\n",
       "    }\n",
       "\n",
       "    .dataframe thead th {\n",
       "        text-align: right;\n",
       "    }\n",
       "</style>\n",
       "<table border=\"1\" class=\"dataframe\">\n",
       "  <thead>\n",
       "    <tr style=\"text-align: right;\">\n",
       "      <th></th>\n",
       "      <th>data</th>\n",
       "      <th>timestamp</th>\n",
       "    </tr>\n",
       "  </thead>\n",
       "  <tbody>\n",
       "    <tr>\n",
       "      <th>0</th>\n",
       "      <td>{'id': 'bitcoin', 'rank': '1', 'symbol': 'BTC'...</td>\n",
       "      <td>1706181469293</td>\n",
       "    </tr>\n",
       "    <tr>\n",
       "      <th>1</th>\n",
       "      <td>{'id': 'ethereum', 'rank': '2', 'symbol': 'ETH...</td>\n",
       "      <td>1706181469293</td>\n",
       "    </tr>\n",
       "    <tr>\n",
       "      <th>2</th>\n",
       "      <td>{'id': 'tether', 'rank': '3', 'symbol': 'USDT'...</td>\n",
       "      <td>1706181469293</td>\n",
       "    </tr>\n",
       "    <tr>\n",
       "      <th>3</th>\n",
       "      <td>{'id': 'binance-coin', 'rank': '4', 'symbol': ...</td>\n",
       "      <td>1706181469293</td>\n",
       "    </tr>\n",
       "    <tr>\n",
       "      <th>4</th>\n",
       "      <td>{'id': 'solana', 'rank': '5', 'symbol': 'SOL',...</td>\n",
       "      <td>1706181469293</td>\n",
       "    </tr>\n",
       "  </tbody>\n",
       "</table>\n",
       "</div>"
      ],
      "text/plain": [
       "                                                data      timestamp\n",
       "0  {'id': 'bitcoin', 'rank': '1', 'symbol': 'BTC'...  1706181469293\n",
       "1  {'id': 'ethereum', 'rank': '2', 'symbol': 'ETH...  1706181469293\n",
       "2  {'id': 'tether', 'rank': '3', 'symbol': 'USDT'...  1706181469293\n",
       "3  {'id': 'binance-coin', 'rank': '4', 'symbol': ...  1706181469293\n",
       "4  {'id': 'solana', 'rank': '5', 'symbol': 'SOL',...  1706181469293"
      ]
     },
     "execution_count": 82,
     "metadata": {},
     "output_type": "execute_result"
    }
   ],
   "source": [
    "data = pd.DataFrame(res.json())\n",
    "\n",
    "data.head()"
   ]
  },
  {
   "cell_type": "code",
   "execution_count": 66,
   "id": "3ec25c5f",
   "metadata": {},
   "outputs": [
    {
     "name": "stdout",
     "output_type": "stream",
     "text": [
      "<class 'pandas.core.frame.DataFrame'>\n",
      "RangeIndex: 100 entries, 0 to 99\n",
      "Data columns (total 12 columns):\n",
      " #   Column             Non-Null Count  Dtype \n",
      "---  ------             --------------  ----- \n",
      " 0   id                 100 non-null    object\n",
      " 1   rank               100 non-null    object\n",
      " 2   symbol             100 non-null    object\n",
      " 3   name               100 non-null    object\n",
      " 4   supply             100 non-null    object\n",
      " 5   maxSupply          54 non-null     object\n",
      " 6   marketCapUsd       100 non-null    object\n",
      " 7   volumeUsd24Hr      100 non-null    object\n",
      " 8   priceUsd           100 non-null    object\n",
      " 9   changePercent24Hr  100 non-null    object\n",
      " 10  vwap24Hr           98 non-null     object\n",
      " 11  explorer           98 non-null     object\n",
      "dtypes: object(12)\n",
      "memory usage: 9.5+ KB\n"
     ]
    }
   ],
   "source": [
    "data.info()"
   ]
  },
  {
   "cell_type": "code",
   "execution_count": 83,
   "id": "1790a450",
   "metadata": {},
   "outputs": [
    {
     "data": {
      "text/html": [
       "<div>\n",
       "<style scoped>\n",
       "    .dataframe tbody tr th:only-of-type {\n",
       "        vertical-align: middle;\n",
       "    }\n",
       "\n",
       "    .dataframe tbody tr th {\n",
       "        vertical-align: top;\n",
       "    }\n",
       "\n",
       "    .dataframe thead th {\n",
       "        text-align: right;\n",
       "    }\n",
       "</style>\n",
       "<table border=\"1\" class=\"dataframe\">\n",
       "  <thead>\n",
       "    <tr style=\"text-align: right;\">\n",
       "      <th></th>\n",
       "      <th>data</th>\n",
       "      <th>timestamp</th>\n",
       "    </tr>\n",
       "  </thead>\n",
       "  <tbody>\n",
       "    <tr>\n",
       "      <th>0</th>\n",
       "      <td>[{'id': 'bitcoin', 'rank': '1', 'symbol': 'BTC...</td>\n",
       "      <td>1706181469293</td>\n",
       "    </tr>\n",
       "  </tbody>\n",
       "</table>\n",
       "</div>"
      ],
      "text/plain": [
       "                                                data      timestamp\n",
       "0  [{'id': 'bitcoin', 'rank': '1', 'symbol': 'BTC...  1706181469293"
      ]
     },
     "execution_count": 83,
     "metadata": {},
     "output_type": "execute_result"
    }
   ],
   "source": [
    "pd.json_normalize(res.json()).head()"
   ]
  },
  {
   "cell_type": "code",
   "execution_count": 84,
   "id": "c90cbc09",
   "metadata": {},
   "outputs": [
    {
     "data": {
      "text/plain": [
       "dict_keys(['data', 'timestamp'])"
      ]
     },
     "execution_count": 84,
     "metadata": {},
     "output_type": "execute_result"
    }
   ],
   "source": [
    "res.json().keys()"
   ]
  },
  {
   "cell_type": "code",
   "execution_count": 86,
   "id": "0b7c9186",
   "metadata": {},
   "outputs": [
    {
     "data": {
      "text/html": [
       "<div>\n",
       "<style scoped>\n",
       "    .dataframe tbody tr th:only-of-type {\n",
       "        vertical-align: middle;\n",
       "    }\n",
       "\n",
       "    .dataframe tbody tr th {\n",
       "        vertical-align: top;\n",
       "    }\n",
       "\n",
       "    .dataframe thead th {\n",
       "        text-align: right;\n",
       "    }\n",
       "</style>\n",
       "<table border=\"1\" class=\"dataframe\">\n",
       "  <thead>\n",
       "    <tr style=\"text-align: right;\">\n",
       "      <th></th>\n",
       "      <th>data</th>\n",
       "      <th>timestamp</th>\n",
       "    </tr>\n",
       "  </thead>\n",
       "  <tbody>\n",
       "    <tr>\n",
       "      <th>0</th>\n",
       "      <td>[{'id': 'bitcoin', 'rank': '1', 'symbol': 'BTC...</td>\n",
       "      <td>1706181469293</td>\n",
       "    </tr>\n",
       "  </tbody>\n",
       "</table>\n",
       "</div>"
      ],
      "text/plain": [
       "                                                data      timestamp\n",
       "0  [{'id': 'bitcoin', 'rank': '1', 'symbol': 'BTC...  1706181469293"
      ]
     },
     "execution_count": 86,
     "metadata": {},
     "output_type": "execute_result"
    }
   ],
   "source": [
    "df = pd.json_normalize(res.json())\n",
    "\n",
    "df"
   ]
  },
  {
   "cell_type": "code",
   "execution_count": 88,
   "id": "53b0de43",
   "metadata": {},
   "outputs": [
    {
     "data": {
      "text/html": [
       "<div>\n",
       "<style scoped>\n",
       "    .dataframe tbody tr th:only-of-type {\n",
       "        vertical-align: middle;\n",
       "    }\n",
       "\n",
       "    .dataframe tbody tr th {\n",
       "        vertical-align: top;\n",
       "    }\n",
       "\n",
       "    .dataframe thead th {\n",
       "        text-align: right;\n",
       "    }\n",
       "</style>\n",
       "<table border=\"1\" class=\"dataframe\">\n",
       "  <thead>\n",
       "    <tr style=\"text-align: right;\">\n",
       "      <th></th>\n",
       "      <th>data</th>\n",
       "      <th>timestamp</th>\n",
       "    </tr>\n",
       "  </thead>\n",
       "  <tbody>\n",
       "    <tr>\n",
       "      <th>0</th>\n",
       "      <td>{'id': 'bitcoin', 'rank': '1', 'symbol': 'BTC'...</td>\n",
       "      <td>1706181469293</td>\n",
       "    </tr>\n",
       "    <tr>\n",
       "      <th>0</th>\n",
       "      <td>{'id': 'ethereum', 'rank': '2', 'symbol': 'ETH...</td>\n",
       "      <td>1706181469293</td>\n",
       "    </tr>\n",
       "    <tr>\n",
       "      <th>0</th>\n",
       "      <td>{'id': 'tether', 'rank': '3', 'symbol': 'USDT'...</td>\n",
       "      <td>1706181469293</td>\n",
       "    </tr>\n",
       "    <tr>\n",
       "      <th>0</th>\n",
       "      <td>{'id': 'binance-coin', 'rank': '4', 'symbol': ...</td>\n",
       "      <td>1706181469293</td>\n",
       "    </tr>\n",
       "    <tr>\n",
       "      <th>0</th>\n",
       "      <td>{'id': 'solana', 'rank': '5', 'symbol': 'SOL',...</td>\n",
       "      <td>1706181469293</td>\n",
       "    </tr>\n",
       "  </tbody>\n",
       "</table>\n",
       "</div>"
      ],
      "text/plain": [
       "                                                data      timestamp\n",
       "0  {'id': 'bitcoin', 'rank': '1', 'symbol': 'BTC'...  1706181469293\n",
       "0  {'id': 'ethereum', 'rank': '2', 'symbol': 'ETH...  1706181469293\n",
       "0  {'id': 'tether', 'rank': '3', 'symbol': 'USDT'...  1706181469293\n",
       "0  {'id': 'binance-coin', 'rank': '4', 'symbol': ...  1706181469293\n",
       "0  {'id': 'solana', 'rank': '5', 'symbol': 'SOL',...  1706181469293"
      ]
     },
     "execution_count": 88,
     "metadata": {},
     "output_type": "execute_result"
    }
   ],
   "source": [
    "df.explode('data').head() # explota la lista. un elemento por fila"
   ]
  },
  {
   "cell_type": "code",
   "execution_count": 96,
   "id": "943ae16d",
   "metadata": {},
   "outputs": [
    {
     "data": {
      "text/html": [
       "<div>\n",
       "<style scoped>\n",
       "    .dataframe tbody tr th:only-of-type {\n",
       "        vertical-align: middle;\n",
       "    }\n",
       "\n",
       "    .dataframe tbody tr th {\n",
       "        vertical-align: top;\n",
       "    }\n",
       "\n",
       "    .dataframe thead th {\n",
       "        text-align: right;\n",
       "    }\n",
       "</style>\n",
       "<table border=\"1\" class=\"dataframe\">\n",
       "  <thead>\n",
       "    <tr style=\"text-align: right;\">\n",
       "      <th></th>\n",
       "      <th>id</th>\n",
       "      <th>rank</th>\n",
       "      <th>symbol</th>\n",
       "      <th>name</th>\n",
       "      <th>supply</th>\n",
       "      <th>maxSupply</th>\n",
       "      <th>marketCapUsd</th>\n",
       "      <th>volumeUsd24Hr</th>\n",
       "      <th>priceUsd</th>\n",
       "      <th>changePercent24Hr</th>\n",
       "      <th>vwap24Hr</th>\n",
       "      <th>explorer</th>\n",
       "    </tr>\n",
       "  </thead>\n",
       "  <tbody>\n",
       "    <tr>\n",
       "      <th>0</th>\n",
       "      <td>bitcoin</td>\n",
       "      <td>1</td>\n",
       "      <td>BTC</td>\n",
       "      <td>Bitcoin</td>\n",
       "      <td>19602475.0000000000000000</td>\n",
       "      <td>21000000.0000000000000000</td>\n",
       "      <td>787911440953.2588005468177250</td>\n",
       "      <td>11737411372.9884016610478071</td>\n",
       "      <td>40194.4877344957103910</td>\n",
       "      <td>-0.0828019507363875</td>\n",
       "      <td>39980.8021050273437239</td>\n",
       "      <td>https://blockchain.info/</td>\n",
       "    </tr>\n",
       "    <tr>\n",
       "      <th>1</th>\n",
       "      <td>ethereum</td>\n",
       "      <td>2</td>\n",
       "      <td>ETH</td>\n",
       "      <td>Ethereum</td>\n",
       "      <td>120177064.7486905000000000</td>\n",
       "      <td>None</td>\n",
       "      <td>269145668383.0906325334787901</td>\n",
       "      <td>4042523352.9712966246732300</td>\n",
       "      <td>2239.5759868650258184</td>\n",
       "      <td>-0.3323952274207024</td>\n",
       "      <td>2225.7454104213134239</td>\n",
       "      <td>https://etherscan.io/</td>\n",
       "    </tr>\n",
       "    <tr>\n",
       "      <th>2</th>\n",
       "      <td>tether</td>\n",
       "      <td>3</td>\n",
       "      <td>USDT</td>\n",
       "      <td>Tether</td>\n",
       "      <td>95060023617.7111700000000000</td>\n",
       "      <td>None</td>\n",
       "      <td>95081071251.1521846892057012</td>\n",
       "      <td>10880620338.0106704627996319</td>\n",
       "      <td>1.0002214141406661</td>\n",
       "      <td>-0.0286591172597327</td>\n",
       "      <td>1.0001460829264383</td>\n",
       "      <td>https://www.omniexplorer.info/asset/31</td>\n",
       "    </tr>\n",
       "    <tr>\n",
       "      <th>3</th>\n",
       "      <td>binance-coin</td>\n",
       "      <td>4</td>\n",
       "      <td>BNB</td>\n",
       "      <td>BNB</td>\n",
       "      <td>166801148.0000000000000000</td>\n",
       "      <td>166801148.0000000000000000</td>\n",
       "      <td>49063063659.9634330219818404</td>\n",
       "      <td>398547585.7837065199473517</td>\n",
       "      <td>294.1410430818104023</td>\n",
       "      <td>-0.2131386364941233</td>\n",
       "      <td>292.5036465063186390</td>\n",
       "      <td>https://etherscan.io/token/0xB8c77482e45F1F44d...</td>\n",
       "    </tr>\n",
       "    <tr>\n",
       "      <th>4</th>\n",
       "      <td>solana</td>\n",
       "      <td>5</td>\n",
       "      <td>SOL</td>\n",
       "      <td>Solana</td>\n",
       "      <td>432790943.2552580000000000</td>\n",
       "      <td>None</td>\n",
       "      <td>38190786064.7345926790402931</td>\n",
       "      <td>570687261.0894010621922355</td>\n",
       "      <td>88.2430343331141572</td>\n",
       "      <td>1.1995123567332493</td>\n",
       "      <td>87.3617829548861260</td>\n",
       "      <td>https://explorer.solana.com/</td>\n",
       "    </tr>\n",
       "  </tbody>\n",
       "</table>\n",
       "</div>"
      ],
      "text/plain": [
       "             id rank symbol      name                        supply  \\\n",
       "0       bitcoin    1    BTC   Bitcoin     19602475.0000000000000000   \n",
       "1      ethereum    2    ETH  Ethereum    120177064.7486905000000000   \n",
       "2        tether    3   USDT    Tether  95060023617.7111700000000000   \n",
       "3  binance-coin    4    BNB       BNB    166801148.0000000000000000   \n",
       "4        solana    5    SOL    Solana    432790943.2552580000000000   \n",
       "\n",
       "                    maxSupply                   marketCapUsd  \\\n",
       "0   21000000.0000000000000000  787911440953.2588005468177250   \n",
       "1                        None  269145668383.0906325334787901   \n",
       "2                        None   95081071251.1521846892057012   \n",
       "3  166801148.0000000000000000   49063063659.9634330219818404   \n",
       "4                        None   38190786064.7345926790402931   \n",
       "\n",
       "                  volumeUsd24Hr                priceUsd    changePercent24Hr  \\\n",
       "0  11737411372.9884016610478071  40194.4877344957103910  -0.0828019507363875   \n",
       "1   4042523352.9712966246732300   2239.5759868650258184  -0.3323952274207024   \n",
       "2  10880620338.0106704627996319      1.0002214141406661  -0.0286591172597327   \n",
       "3    398547585.7837065199473517    294.1410430818104023  -0.2131386364941233   \n",
       "4    570687261.0894010621922355     88.2430343331141572   1.1995123567332493   \n",
       "\n",
       "                 vwap24Hr                                           explorer  \n",
       "0  39980.8021050273437239                           https://blockchain.info/  \n",
       "1   2225.7454104213134239                              https://etherscan.io/  \n",
       "2      1.0001460829264383             https://www.omniexplorer.info/asset/31  \n",
       "3    292.5036465063186390  https://etherscan.io/token/0xB8c77482e45F1F44d...  \n",
       "4     87.3617829548861260                       https://explorer.solana.com/  "
      ]
     },
     "execution_count": 96,
     "metadata": {},
     "output_type": "execute_result"
    }
   ],
   "source": [
    "pd.json_normalize(df.explode('data').data).head()"
   ]
  },
  {
   "cell_type": "code",
   "execution_count": 97,
   "id": "0e388b38",
   "metadata": {},
   "outputs": [],
   "source": [
    "#help(pd.json_normalize)"
   ]
  },
  {
   "cell_type": "code",
   "execution_count": 100,
   "id": "f054ca0c",
   "metadata": {},
   "outputs": [
    {
     "data": {
      "text/plain": [
       "0    {'id': 'bitcoin', 'rank': '1', 'symbol': 'BTC'...\n",
       "0    {'id': 'ethereum', 'rank': '2', 'symbol': 'ETH...\n",
       "0    {'id': 'tether', 'rank': '3', 'symbol': 'USDT'...\n",
       "0    {'id': 'binance-coin', 'rank': '4', 'symbol': ...\n",
       "0    {'id': 'solana', 'rank': '5', 'symbol': 'SOL',...\n",
       "Name: data, dtype: object"
      ]
     },
     "execution_count": 100,
     "metadata": {},
     "output_type": "execute_result"
    }
   ],
   "source": [
    "df.explode('data')['data'].head()"
   ]
  },
  {
   "cell_type": "code",
   "execution_count": 104,
   "id": "1e2606f3",
   "metadata": {},
   "outputs": [
    {
     "data": {
      "text/plain": [
       "\"{'id': 'bitcoin', 'rank': '1'}\""
      ]
     },
     "execution_count": 104,
     "metadata": {},
     "output_type": "execute_result"
    }
   ],
   "source": [
    "str({'id': 'bitcoin', 'rank': '1'})"
   ]
  },
  {
   "cell_type": "markdown",
   "id": "52dfaadb-dd5f-4b7d-a832-c101e4d7c80a",
   "metadata": {},
   "source": [
    "### Api Jokes\n",
    "\n",
    "JokeAPI is a REST API that serves uniformly and well formatted jokes.\n",
    "It can be used without any API token, membership, registration or payment.\n",
    "It supports a variety of filters that can be applied to get just the right jokes you need.\n",
    "Check the documentation here: https://jokeapi.dev/ "
   ]
  },
  {
   "cell_type": "code",
   "execution_count": 105,
   "id": "e897b2d9-088c-47fd-9d58-fefec4332150",
   "metadata": {},
   "outputs": [
    {
     "data": {
      "text/plain": [
       "{'error': False,\n",
       " 'amount': 3,\n",
       " 'jokes': [{'category': 'Dark',\n",
       "   'type': 'twopart',\n",
       "   'setup': 'Why are there no pharmacies in Africa?',\n",
       "   'delivery': \"Because you can't use medicine on an empty stomach.\",\n",
       "   'flags': {'nsfw': False,\n",
       "    'religious': False,\n",
       "    'political': False,\n",
       "    'racist': True,\n",
       "    'sexist': False,\n",
       "    'explicit': False},\n",
       "   'id': 99,\n",
       "   'safe': False,\n",
       "   'lang': 'en'},\n",
       "  {'category': 'Dark',\n",
       "   'type': 'single',\n",
       "   'joke': 'Nowadays people are so sensitive, you can\\'t even say \"black paint\" anymore.\\nInstead, you have to say \"Jamal, please paint the fence\".',\n",
       "   'flags': {'nsfw': False,\n",
       "    'religious': False,\n",
       "    'political': False,\n",
       "    'racist': True,\n",
       "    'sexist': False,\n",
       "    'explicit': False},\n",
       "   'id': 133,\n",
       "   'safe': False,\n",
       "   'lang': 'en'},\n",
       "  {'category': 'Dark',\n",
       "   'type': 'twopart',\n",
       "   'setup': \"What's black and sits at the top of a stairwell?\",\n",
       "   'delivery': 'A paraplegic after a house fire.',\n",
       "   'flags': {'nsfw': False,\n",
       "    'religious': False,\n",
       "    'political': False,\n",
       "    'racist': False,\n",
       "    'sexist': False,\n",
       "    'explicit': False},\n",
       "   'id': 135,\n",
       "   'safe': False,\n",
       "   'lang': 'en'}]}"
      ]
     },
     "execution_count": 105,
     "metadata": {},
     "output_type": "execute_result"
    }
   ],
   "source": [
    "url_random_joke = \"https://v2.jokeapi.dev/joke/dark?amount=3\"\n",
    "\n",
    "req.get(url_random_joke).json()"
   ]
  },
  {
   "cell_type": "markdown",
   "id": "08d0de37-f0e9-4249-a1f2-3e9c091f83da",
   "metadata": {},
   "source": [
    "Choose one API from the [Public APIs list](https://github.com/public-apis/public-apis). Attempt to call your selected API, either with or without parameters, and retrieve some valuable information. Document your findings."
   ]
  },
  {
   "cell_type": "markdown",
   "id": "10d38405-f1bd-464f-a319-4a5f29a4cdc2",
   "metadata": {},
   "source": [
    "## API Wrappers\n",
    "\n",
    "A Python wrapper is a Python library or module that provides a more convenient or more \"Pythonic\" interface to another software component, such as a library in another language, a system tool, or a web API. It \"wraps\" the functionality of that component in a way that abstracts away its complexities and makes it easier to use in a Python context. 🙌🏻\n",
    "\n",
    "One example is the `tweepy` library, which makes obtaining data from Twitter's API relatively straightforward."
   ]
  },
  {
   "cell_type": "markdown",
   "id": "796f214d-01cc-46d1-a020-d4bb8d256799",
   "metadata": {},
   "source": [
    "## Summary\n",
    "- Import the `requests` library.\n",
    "- Store the necessary credentials, such as API key or OAuth tokens, if the API requires them.\n",
    "- Execute a `request.get` to the desired API endpoint (the API's documentation will provide details on available endpoints).\n",
    "- The API returns a JSON response.\n",
    "- This JSON can be converted into a dataframe, or you can further explore its elements (typically a list of dictionaries)."
   ]
  },
  {
   "cell_type": "markdown",
   "id": "092ff771-4d9a-4d84-98c6-db652fe4ff72",
   "metadata": {},
   "source": [
    "## Glossary"
   ]
  },
  {
   "cell_type": "markdown",
   "id": "32ca2f95-7c09-4481-8897-0b0533dba4c9",
   "metadata": {},
   "source": [
    "* DNS: domain name system.\n",
    "* HTTP: is the protocol used to transfer data over the web.\n",
    "* API: application programming interface.\n",
    "* REST: series of rules, architectural style."
   ]
  },
  {
   "cell_type": "markdown",
   "id": "12ba250f-82d7-450b-9038-0f32013dbaf5",
   "metadata": {},
   "source": [
    "* `requests`: Python library for interacting with APIs.\n",
    "* URL: server name you want to ask information for.\n",
    "* endpoint: server service you want to ask information for.\n",
    "* parameters: extra parameters to your query.\n",
    "* headers: metadata, invisible information."
   ]
  },
  {
   "cell_type": "code",
   "execution_count": 107,
   "id": "3a2e66b5",
   "metadata": {},
   "outputs": [],
   "source": [
    "# rick y morty\n",
    "\n",
    "\n",
    "url = 'https://rickandmortyapi.com/api/character/'\n",
    "\n",
    "\n",
    "res = req.get(url)"
   ]
  },
  {
   "cell_type": "code",
   "execution_count": 108,
   "id": "179f5ab3",
   "metadata": {},
   "outputs": [
    {
     "data": {
      "text/plain": [
       "<Response [200]>"
      ]
     },
     "execution_count": 108,
     "metadata": {},
     "output_type": "execute_result"
    }
   ],
   "source": [
    "res"
   ]
  },
  {
   "cell_type": "code",
   "execution_count": 114,
   "id": "716aa003",
   "metadata": {},
   "outputs": [
    {
     "data": {
      "text/plain": [
       "{'id': 1,\n",
       " 'name': 'Rick Sanchez',\n",
       " 'status': 'Alive',\n",
       " 'species': 'Human',\n",
       " 'type': '',\n",
       " 'gender': 'Male',\n",
       " 'origin': {'name': 'Earth (C-137)',\n",
       "  'url': 'https://rickandmortyapi.com/api/location/1'},\n",
       " 'location': {'name': 'Citadel of Ricks',\n",
       "  'url': 'https://rickandmortyapi.com/api/location/3'},\n",
       " 'image': 'https://rickandmortyapi.com/api/character/avatar/1.jpeg',\n",
       " 'episode': ['https://rickandmortyapi.com/api/episode/1',\n",
       "  'https://rickandmortyapi.com/api/episode/2',\n",
       "  'https://rickandmortyapi.com/api/episode/3',\n",
       "  'https://rickandmortyapi.com/api/episode/4',\n",
       "  'https://rickandmortyapi.com/api/episode/5',\n",
       "  'https://rickandmortyapi.com/api/episode/6',\n",
       "  'https://rickandmortyapi.com/api/episode/7',\n",
       "  'https://rickandmortyapi.com/api/episode/8',\n",
       "  'https://rickandmortyapi.com/api/episode/9',\n",
       "  'https://rickandmortyapi.com/api/episode/10',\n",
       "  'https://rickandmortyapi.com/api/episode/11',\n",
       "  'https://rickandmortyapi.com/api/episode/12',\n",
       "  'https://rickandmortyapi.com/api/episode/13',\n",
       "  'https://rickandmortyapi.com/api/episode/14',\n",
       "  'https://rickandmortyapi.com/api/episode/15',\n",
       "  'https://rickandmortyapi.com/api/episode/16',\n",
       "  'https://rickandmortyapi.com/api/episode/17',\n",
       "  'https://rickandmortyapi.com/api/episode/18',\n",
       "  'https://rickandmortyapi.com/api/episode/19',\n",
       "  'https://rickandmortyapi.com/api/episode/20',\n",
       "  'https://rickandmortyapi.com/api/episode/21',\n",
       "  'https://rickandmortyapi.com/api/episode/22',\n",
       "  'https://rickandmortyapi.com/api/episode/23',\n",
       "  'https://rickandmortyapi.com/api/episode/24',\n",
       "  'https://rickandmortyapi.com/api/episode/25',\n",
       "  'https://rickandmortyapi.com/api/episode/26',\n",
       "  'https://rickandmortyapi.com/api/episode/27',\n",
       "  'https://rickandmortyapi.com/api/episode/28',\n",
       "  'https://rickandmortyapi.com/api/episode/29',\n",
       "  'https://rickandmortyapi.com/api/episode/30',\n",
       "  'https://rickandmortyapi.com/api/episode/31',\n",
       "  'https://rickandmortyapi.com/api/episode/32',\n",
       "  'https://rickandmortyapi.com/api/episode/33',\n",
       "  'https://rickandmortyapi.com/api/episode/34',\n",
       "  'https://rickandmortyapi.com/api/episode/35',\n",
       "  'https://rickandmortyapi.com/api/episode/36',\n",
       "  'https://rickandmortyapi.com/api/episode/37',\n",
       "  'https://rickandmortyapi.com/api/episode/38',\n",
       "  'https://rickandmortyapi.com/api/episode/39',\n",
       "  'https://rickandmortyapi.com/api/episode/40',\n",
       "  'https://rickandmortyapi.com/api/episode/41',\n",
       "  'https://rickandmortyapi.com/api/episode/42',\n",
       "  'https://rickandmortyapi.com/api/episode/43',\n",
       "  'https://rickandmortyapi.com/api/episode/44',\n",
       "  'https://rickandmortyapi.com/api/episode/45',\n",
       "  'https://rickandmortyapi.com/api/episode/46',\n",
       "  'https://rickandmortyapi.com/api/episode/47',\n",
       "  'https://rickandmortyapi.com/api/episode/48',\n",
       "  'https://rickandmortyapi.com/api/episode/49',\n",
       "  'https://rickandmortyapi.com/api/episode/50',\n",
       "  'https://rickandmortyapi.com/api/episode/51'],\n",
       " 'url': 'https://rickandmortyapi.com/api/character/1',\n",
       " 'created': '2017-11-04T18:48:46.250Z'}"
      ]
     },
     "execution_count": 114,
     "metadata": {},
     "output_type": "execute_result"
    }
   ],
   "source": [
    "res.json()['results'][0]"
   ]
  },
  {
   "cell_type": "code",
   "execution_count": 115,
   "id": "c57f7038",
   "metadata": {},
   "outputs": [],
   "source": [
    "df = pd.DataFrame(res.json()['results'])"
   ]
  },
  {
   "cell_type": "code",
   "execution_count": 118,
   "id": "cb9d2002",
   "metadata": {},
   "outputs": [],
   "source": [
    "df = pd.json_normalize(res.json()['results'])"
   ]
  },
  {
   "cell_type": "code",
   "execution_count": 120,
   "id": "ef635383",
   "metadata": {},
   "outputs": [
    {
     "data": {
      "text/plain": [
       "(20, 14)"
      ]
     },
     "execution_count": 120,
     "metadata": {},
     "output_type": "execute_result"
    }
   ],
   "source": [
    "df.shape"
   ]
  },
  {
   "cell_type": "code",
   "execution_count": 122,
   "id": "d4bac2af",
   "metadata": {},
   "outputs": [
    {
     "data": {
      "text/plain": [
       "(242, 14)"
      ]
     },
     "execution_count": 122,
     "metadata": {},
     "output_type": "execute_result"
    }
   ],
   "source": [
    "df.explode('episode').shape"
   ]
  },
  {
   "cell_type": "code",
   "execution_count": 127,
   "id": "616320b5",
   "metadata": {},
   "outputs": [],
   "source": [
    "df = df.explode('episode')"
   ]
  },
  {
   "cell_type": "code",
   "execution_count": 131,
   "id": "6ed84666",
   "metadata": {},
   "outputs": [],
   "source": [
    "df['num_episode'] = df.episode.apply(lambda x: int(x.split('/')[-1]))"
   ]
  },
  {
   "cell_type": "code",
   "execution_count": 132,
   "id": "b0517c15",
   "metadata": {},
   "outputs": [
    {
     "data": {
      "text/html": [
       "<div>\n",
       "<style scoped>\n",
       "    .dataframe tbody tr th:only-of-type {\n",
       "        vertical-align: middle;\n",
       "    }\n",
       "\n",
       "    .dataframe tbody tr th {\n",
       "        vertical-align: top;\n",
       "    }\n",
       "\n",
       "    .dataframe thead th {\n",
       "        text-align: right;\n",
       "    }\n",
       "</style>\n",
       "<table border=\"1\" class=\"dataframe\">\n",
       "  <thead>\n",
       "    <tr style=\"text-align: right;\">\n",
       "      <th></th>\n",
       "      <th>id</th>\n",
       "      <th>name</th>\n",
       "      <th>status</th>\n",
       "      <th>species</th>\n",
       "      <th>type</th>\n",
       "      <th>gender</th>\n",
       "      <th>image</th>\n",
       "      <th>episode</th>\n",
       "      <th>url</th>\n",
       "      <th>created</th>\n",
       "      <th>origin.name</th>\n",
       "      <th>origin.url</th>\n",
       "      <th>location.name</th>\n",
       "      <th>location.url</th>\n",
       "      <th>num_episode</th>\n",
       "    </tr>\n",
       "  </thead>\n",
       "  <tbody>\n",
       "    <tr>\n",
       "      <th>0</th>\n",
       "      <td>1</td>\n",
       "      <td>Rick Sanchez</td>\n",
       "      <td>Alive</td>\n",
       "      <td>Human</td>\n",
       "      <td></td>\n",
       "      <td>Male</td>\n",
       "      <td>https://rickandmortyapi.com/api/character/avat...</td>\n",
       "      <td>https://rickandmortyapi.com/api/episode/1</td>\n",
       "      <td>https://rickandmortyapi.com/api/character/1</td>\n",
       "      <td>2017-11-04T18:48:46.250Z</td>\n",
       "      <td>Earth (C-137)</td>\n",
       "      <td>https://rickandmortyapi.com/api/location/1</td>\n",
       "      <td>Citadel of Ricks</td>\n",
       "      <td>https://rickandmortyapi.com/api/location/3</td>\n",
       "      <td>1</td>\n",
       "    </tr>\n",
       "    <tr>\n",
       "      <th>0</th>\n",
       "      <td>1</td>\n",
       "      <td>Rick Sanchez</td>\n",
       "      <td>Alive</td>\n",
       "      <td>Human</td>\n",
       "      <td></td>\n",
       "      <td>Male</td>\n",
       "      <td>https://rickandmortyapi.com/api/character/avat...</td>\n",
       "      <td>https://rickandmortyapi.com/api/episode/2</td>\n",
       "      <td>https://rickandmortyapi.com/api/character/1</td>\n",
       "      <td>2017-11-04T18:48:46.250Z</td>\n",
       "      <td>Earth (C-137)</td>\n",
       "      <td>https://rickandmortyapi.com/api/location/1</td>\n",
       "      <td>Citadel of Ricks</td>\n",
       "      <td>https://rickandmortyapi.com/api/location/3</td>\n",
       "      <td>2</td>\n",
       "    </tr>\n",
       "    <tr>\n",
       "      <th>0</th>\n",
       "      <td>1</td>\n",
       "      <td>Rick Sanchez</td>\n",
       "      <td>Alive</td>\n",
       "      <td>Human</td>\n",
       "      <td></td>\n",
       "      <td>Male</td>\n",
       "      <td>https://rickandmortyapi.com/api/character/avat...</td>\n",
       "      <td>https://rickandmortyapi.com/api/episode/3</td>\n",
       "      <td>https://rickandmortyapi.com/api/character/1</td>\n",
       "      <td>2017-11-04T18:48:46.250Z</td>\n",
       "      <td>Earth (C-137)</td>\n",
       "      <td>https://rickandmortyapi.com/api/location/1</td>\n",
       "      <td>Citadel of Ricks</td>\n",
       "      <td>https://rickandmortyapi.com/api/location/3</td>\n",
       "      <td>3</td>\n",
       "    </tr>\n",
       "    <tr>\n",
       "      <th>0</th>\n",
       "      <td>1</td>\n",
       "      <td>Rick Sanchez</td>\n",
       "      <td>Alive</td>\n",
       "      <td>Human</td>\n",
       "      <td></td>\n",
       "      <td>Male</td>\n",
       "      <td>https://rickandmortyapi.com/api/character/avat...</td>\n",
       "      <td>https://rickandmortyapi.com/api/episode/4</td>\n",
       "      <td>https://rickandmortyapi.com/api/character/1</td>\n",
       "      <td>2017-11-04T18:48:46.250Z</td>\n",
       "      <td>Earth (C-137)</td>\n",
       "      <td>https://rickandmortyapi.com/api/location/1</td>\n",
       "      <td>Citadel of Ricks</td>\n",
       "      <td>https://rickandmortyapi.com/api/location/3</td>\n",
       "      <td>4</td>\n",
       "    </tr>\n",
       "    <tr>\n",
       "      <th>0</th>\n",
       "      <td>1</td>\n",
       "      <td>Rick Sanchez</td>\n",
       "      <td>Alive</td>\n",
       "      <td>Human</td>\n",
       "      <td></td>\n",
       "      <td>Male</td>\n",
       "      <td>https://rickandmortyapi.com/api/character/avat...</td>\n",
       "      <td>https://rickandmortyapi.com/api/episode/5</td>\n",
       "      <td>https://rickandmortyapi.com/api/character/1</td>\n",
       "      <td>2017-11-04T18:48:46.250Z</td>\n",
       "      <td>Earth (C-137)</td>\n",
       "      <td>https://rickandmortyapi.com/api/location/1</td>\n",
       "      <td>Citadel of Ricks</td>\n",
       "      <td>https://rickandmortyapi.com/api/location/3</td>\n",
       "      <td>5</td>\n",
       "    </tr>\n",
       "  </tbody>\n",
       "</table>\n",
       "</div>"
      ],
      "text/plain": [
       "   id          name status species type gender  \\\n",
       "0   1  Rick Sanchez  Alive   Human        Male   \n",
       "0   1  Rick Sanchez  Alive   Human        Male   \n",
       "0   1  Rick Sanchez  Alive   Human        Male   \n",
       "0   1  Rick Sanchez  Alive   Human        Male   \n",
       "0   1  Rick Sanchez  Alive   Human        Male   \n",
       "\n",
       "                                               image  \\\n",
       "0  https://rickandmortyapi.com/api/character/avat...   \n",
       "0  https://rickandmortyapi.com/api/character/avat...   \n",
       "0  https://rickandmortyapi.com/api/character/avat...   \n",
       "0  https://rickandmortyapi.com/api/character/avat...   \n",
       "0  https://rickandmortyapi.com/api/character/avat...   \n",
       "\n",
       "                                     episode  \\\n",
       "0  https://rickandmortyapi.com/api/episode/1   \n",
       "0  https://rickandmortyapi.com/api/episode/2   \n",
       "0  https://rickandmortyapi.com/api/episode/3   \n",
       "0  https://rickandmortyapi.com/api/episode/4   \n",
       "0  https://rickandmortyapi.com/api/episode/5   \n",
       "\n",
       "                                           url                   created  \\\n",
       "0  https://rickandmortyapi.com/api/character/1  2017-11-04T18:48:46.250Z   \n",
       "0  https://rickandmortyapi.com/api/character/1  2017-11-04T18:48:46.250Z   \n",
       "0  https://rickandmortyapi.com/api/character/1  2017-11-04T18:48:46.250Z   \n",
       "0  https://rickandmortyapi.com/api/character/1  2017-11-04T18:48:46.250Z   \n",
       "0  https://rickandmortyapi.com/api/character/1  2017-11-04T18:48:46.250Z   \n",
       "\n",
       "     origin.name                                  origin.url  \\\n",
       "0  Earth (C-137)  https://rickandmortyapi.com/api/location/1   \n",
       "0  Earth (C-137)  https://rickandmortyapi.com/api/location/1   \n",
       "0  Earth (C-137)  https://rickandmortyapi.com/api/location/1   \n",
       "0  Earth (C-137)  https://rickandmortyapi.com/api/location/1   \n",
       "0  Earth (C-137)  https://rickandmortyapi.com/api/location/1   \n",
       "\n",
       "      location.name                                location.url  num_episode  \n",
       "0  Citadel of Ricks  https://rickandmortyapi.com/api/location/3            1  \n",
       "0  Citadel of Ricks  https://rickandmortyapi.com/api/location/3            2  \n",
       "0  Citadel of Ricks  https://rickandmortyapi.com/api/location/3            3  \n",
       "0  Citadel of Ricks  https://rickandmortyapi.com/api/location/3            4  \n",
       "0  Citadel of Ricks  https://rickandmortyapi.com/api/location/3            5  "
      ]
     },
     "execution_count": 132,
     "metadata": {},
     "output_type": "execute_result"
    }
   ],
   "source": [
    "df.head()"
   ]
  },
  {
   "cell_type": "code",
   "execution_count": 135,
   "id": "b2ab4f52",
   "metadata": {},
   "outputs": [
    {
     "data": {
      "text/html": [
       "<div>\n",
       "<style scoped>\n",
       "    .dataframe tbody tr th:only-of-type {\n",
       "        vertical-align: middle;\n",
       "    }\n",
       "\n",
       "    .dataframe tbody tr th {\n",
       "        vertical-align: top;\n",
       "    }\n",
       "\n",
       "    .dataframe thead th {\n",
       "        text-align: right;\n",
       "    }\n",
       "</style>\n",
       "<table border=\"1\" class=\"dataframe\">\n",
       "  <thead>\n",
       "    <tr style=\"text-align: right;\">\n",
       "      <th></th>\n",
       "      <th>id</th>\n",
       "      <th>name</th>\n",
       "      <th>status</th>\n",
       "      <th>species</th>\n",
       "      <th>type</th>\n",
       "      <th>gender</th>\n",
       "      <th>image</th>\n",
       "      <th>episode</th>\n",
       "      <th>url</th>\n",
       "      <th>created</th>\n",
       "      <th>origin.name</th>\n",
       "      <th>origin.url</th>\n",
       "      <th>location.name</th>\n",
       "      <th>location.url</th>\n",
       "      <th>num_episode</th>\n",
       "    </tr>\n",
       "  </thead>\n",
       "  <tbody>\n",
       "    <tr>\n",
       "      <th>0</th>\n",
       "      <td>1</td>\n",
       "      <td>Rick Sanchez</td>\n",
       "      <td>Alive</td>\n",
       "      <td>Human</td>\n",
       "      <td></td>\n",
       "      <td>Male</td>\n",
       "      <td>https://rickandmortyapi.com/api/character/avat...</td>\n",
       "      <td>https://rickandmortyapi.com/api/episode/20</td>\n",
       "      <td>https://rickandmortyapi.com/api/character/1</td>\n",
       "      <td>2017-11-04T18:48:46.250Z</td>\n",
       "      <td>Earth (C-137)</td>\n",
       "      <td>https://rickandmortyapi.com/api/location/1</td>\n",
       "      <td>Citadel of Ricks</td>\n",
       "      <td>https://rickandmortyapi.com/api/location/3</td>\n",
       "      <td>20</td>\n",
       "    </tr>\n",
       "    <tr>\n",
       "      <th>1</th>\n",
       "      <td>2</td>\n",
       "      <td>Morty Smith</td>\n",
       "      <td>Alive</td>\n",
       "      <td>Human</td>\n",
       "      <td></td>\n",
       "      <td>Male</td>\n",
       "      <td>https://rickandmortyapi.com/api/character/avat...</td>\n",
       "      <td>https://rickandmortyapi.com/api/episode/20</td>\n",
       "      <td>https://rickandmortyapi.com/api/character/2</td>\n",
       "      <td>2017-11-04T18:50:21.651Z</td>\n",
       "      <td>unknown</td>\n",
       "      <td></td>\n",
       "      <td>Citadel of Ricks</td>\n",
       "      <td>https://rickandmortyapi.com/api/location/3</td>\n",
       "      <td>20</td>\n",
       "    </tr>\n",
       "    <tr>\n",
       "      <th>2</th>\n",
       "      <td>3</td>\n",
       "      <td>Summer Smith</td>\n",
       "      <td>Alive</td>\n",
       "      <td>Human</td>\n",
       "      <td></td>\n",
       "      <td>Female</td>\n",
       "      <td>https://rickandmortyapi.com/api/character/avat...</td>\n",
       "      <td>https://rickandmortyapi.com/api/episode/20</td>\n",
       "      <td>https://rickandmortyapi.com/api/character/3</td>\n",
       "      <td>2017-11-04T19:09:56.428Z</td>\n",
       "      <td>Earth (Replacement Dimension)</td>\n",
       "      <td>https://rickandmortyapi.com/api/location/20</td>\n",
       "      <td>Earth (Replacement Dimension)</td>\n",
       "      <td>https://rickandmortyapi.com/api/location/20</td>\n",
       "      <td>20</td>\n",
       "    </tr>\n",
       "    <tr>\n",
       "      <th>3</th>\n",
       "      <td>4</td>\n",
       "      <td>Beth Smith</td>\n",
       "      <td>Alive</td>\n",
       "      <td>Human</td>\n",
       "      <td></td>\n",
       "      <td>Female</td>\n",
       "      <td>https://rickandmortyapi.com/api/character/avat...</td>\n",
       "      <td>https://rickandmortyapi.com/api/episode/20</td>\n",
       "      <td>https://rickandmortyapi.com/api/character/4</td>\n",
       "      <td>2017-11-04T19:22:43.665Z</td>\n",
       "      <td>Earth (Replacement Dimension)</td>\n",
       "      <td>https://rickandmortyapi.com/api/location/20</td>\n",
       "      <td>Earth (Replacement Dimension)</td>\n",
       "      <td>https://rickandmortyapi.com/api/location/20</td>\n",
       "      <td>20</td>\n",
       "    </tr>\n",
       "    <tr>\n",
       "      <th>4</th>\n",
       "      <td>5</td>\n",
       "      <td>Jerry Smith</td>\n",
       "      <td>Alive</td>\n",
       "      <td>Human</td>\n",
       "      <td></td>\n",
       "      <td>Male</td>\n",
       "      <td>https://rickandmortyapi.com/api/character/avat...</td>\n",
       "      <td>https://rickandmortyapi.com/api/episode/20</td>\n",
       "      <td>https://rickandmortyapi.com/api/character/5</td>\n",
       "      <td>2017-11-04T19:26:56.301Z</td>\n",
       "      <td>Earth (Replacement Dimension)</td>\n",
       "      <td>https://rickandmortyapi.com/api/location/20</td>\n",
       "      <td>Earth (Replacement Dimension)</td>\n",
       "      <td>https://rickandmortyapi.com/api/location/20</td>\n",
       "      <td>20</td>\n",
       "    </tr>\n",
       "  </tbody>\n",
       "</table>\n",
       "</div>"
      ],
      "text/plain": [
       "   id          name status species type  gender  \\\n",
       "0   1  Rick Sanchez  Alive   Human         Male   \n",
       "1   2   Morty Smith  Alive   Human         Male   \n",
       "2   3  Summer Smith  Alive   Human       Female   \n",
       "3   4    Beth Smith  Alive   Human       Female   \n",
       "4   5   Jerry Smith  Alive   Human         Male   \n",
       "\n",
       "                                               image  \\\n",
       "0  https://rickandmortyapi.com/api/character/avat...   \n",
       "1  https://rickandmortyapi.com/api/character/avat...   \n",
       "2  https://rickandmortyapi.com/api/character/avat...   \n",
       "3  https://rickandmortyapi.com/api/character/avat...   \n",
       "4  https://rickandmortyapi.com/api/character/avat...   \n",
       "\n",
       "                                      episode  \\\n",
       "0  https://rickandmortyapi.com/api/episode/20   \n",
       "1  https://rickandmortyapi.com/api/episode/20   \n",
       "2  https://rickandmortyapi.com/api/episode/20   \n",
       "3  https://rickandmortyapi.com/api/episode/20   \n",
       "4  https://rickandmortyapi.com/api/episode/20   \n",
       "\n",
       "                                           url                   created  \\\n",
       "0  https://rickandmortyapi.com/api/character/1  2017-11-04T18:48:46.250Z   \n",
       "1  https://rickandmortyapi.com/api/character/2  2017-11-04T18:50:21.651Z   \n",
       "2  https://rickandmortyapi.com/api/character/3  2017-11-04T19:09:56.428Z   \n",
       "3  https://rickandmortyapi.com/api/character/4  2017-11-04T19:22:43.665Z   \n",
       "4  https://rickandmortyapi.com/api/character/5  2017-11-04T19:26:56.301Z   \n",
       "\n",
       "                     origin.name                                   origin.url  \\\n",
       "0                  Earth (C-137)   https://rickandmortyapi.com/api/location/1   \n",
       "1                        unknown                                                \n",
       "2  Earth (Replacement Dimension)  https://rickandmortyapi.com/api/location/20   \n",
       "3  Earth (Replacement Dimension)  https://rickandmortyapi.com/api/location/20   \n",
       "4  Earth (Replacement Dimension)  https://rickandmortyapi.com/api/location/20   \n",
       "\n",
       "                   location.name                                 location.url  \\\n",
       "0               Citadel of Ricks   https://rickandmortyapi.com/api/location/3   \n",
       "1               Citadel of Ricks   https://rickandmortyapi.com/api/location/3   \n",
       "2  Earth (Replacement Dimension)  https://rickandmortyapi.com/api/location/20   \n",
       "3  Earth (Replacement Dimension)  https://rickandmortyapi.com/api/location/20   \n",
       "4  Earth (Replacement Dimension)  https://rickandmortyapi.com/api/location/20   \n",
       "\n",
       "   num_episode  \n",
       "0           20  \n",
       "1           20  \n",
       "2           20  \n",
       "3           20  \n",
       "4           20  "
      ]
     },
     "execution_count": 135,
     "metadata": {},
     "output_type": "execute_result"
    }
   ],
   "source": [
    "df[df.num_episode==20]"
   ]
  },
  {
   "cell_type": "code",
   "execution_count": 138,
   "id": "d991f249",
   "metadata": {},
   "outputs": [
    {
     "data": {
      "text/plain": [
       "20"
      ]
     },
     "execution_count": 138,
     "metadata": {},
     "output_type": "execute_result"
    }
   ],
   "source": [
    "int('https://rickandmortyapi.com/api/episode/20\t'.split('/')[-1])"
   ]
  },
  {
   "cell_type": "code",
   "execution_count": 139,
   "id": "a0bb7894",
   "metadata": {},
   "outputs": [
    {
     "name": "stdout",
     "output_type": "stream",
     "text": [
      "<class 'pandas.core.frame.DataFrame'>\n",
      "Int64Index: 242 entries, 0 to 19\n",
      "Data columns (total 15 columns):\n",
      " #   Column         Non-Null Count  Dtype \n",
      "---  ------         --------------  ----- \n",
      " 0   id             242 non-null    int64 \n",
      " 1   name           242 non-null    object\n",
      " 2   status         242 non-null    object\n",
      " 3   species        242 non-null    object\n",
      " 4   type           242 non-null    object\n",
      " 5   gender         242 non-null    object\n",
      " 6   image          242 non-null    object\n",
      " 7   episode        242 non-null    object\n",
      " 8   url            242 non-null    object\n",
      " 9   created        242 non-null    object\n",
      " 10  origin.name    242 non-null    object\n",
      " 11  origin.url     242 non-null    object\n",
      " 12  location.name  242 non-null    object\n",
      " 13  location.url   242 non-null    object\n",
      " 14  num_episode    242 non-null    int64 \n",
      "dtypes: int64(2), object(13)\n",
      "memory usage: 30.2+ KB\n"
     ]
    }
   ],
   "source": [
    "df.info()"
   ]
  },
  {
   "cell_type": "markdown",
   "id": "df2580ce-5fa4-4716-a1f1-3d6c8edd9673",
   "metadata": {},
   "source": [
    "## Further materials"
   ]
  },
  {
   "cell_type": "markdown",
   "id": "cdae6b8f-bed4-47f8-b9ae-3d8e24e8aba6",
   "metadata": {},
   "source": [
    "[5 Simple-To-Use APIs for Beginners](https://dev.to/alanconstantino/5-simple-to-use-apis-for-beginners-2e0n)"
   ]
  },
  {
   "cell_type": "markdown",
   "id": "3e747420-7bb6-4ea7-a5d9-e05c90fafd32",
   "metadata": {},
   "source": [
    "[RapidAPI](https://rapidapi.com/category/Sports): access thousands of APIs."
   ]
  }
 ],
 "metadata": {
  "kernelspec": {
   "display_name": "Python 3 (ipykernel)",
   "language": "python",
   "name": "python3"
  },
  "language_info": {
   "codemirror_mode": {
    "name": "ipython",
    "version": 3
   },
   "file_extension": ".py",
   "mimetype": "text/x-python",
   "name": "python",
   "nbconvert_exporter": "python",
   "pygments_lexer": "ipython3",
   "version": "3.9.12"
  }
 },
 "nbformat": 4,
 "nbformat_minor": 5
}
