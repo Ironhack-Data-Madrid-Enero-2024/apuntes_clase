{
 "cells": [
  {
   "cell_type": "code",
   "execution_count": 1,
   "id": "61640faa",
   "metadata": {},
   "outputs": [],
   "source": [
    "import requests as req\n",
    "\n",
    "from bs4 import BeautifulSoup as bs"
   ]
  },
  {
   "cell_type": "code",
   "execution_count": 2,
   "id": "dfc524dc",
   "metadata": {},
   "outputs": [],
   "source": [
    "url ='https://www.imdb.com/list/ls025598828/'"
   ]
  },
  {
   "cell_type": "code",
   "execution_count": 3,
   "id": "feca5019",
   "metadata": {},
   "outputs": [],
   "source": [
    "#req.get(url)"
   ]
  },
  {
   "cell_type": "code",
   "execution_count": 4,
   "id": "b016f04b",
   "metadata": {},
   "outputs": [],
   "source": [
    "html = req.get(url).text\n",
    "\n",
    "sopa = bs(html, 'html.parser')"
   ]
  },
  {
   "cell_type": "code",
   "execution_count": 6,
   "id": "00ccb913",
   "metadata": {},
   "outputs": [],
   "source": [
    "tarjetas = sopa.find_all('div', class_='lister-item mode-detail') # cada una de las pelis"
   ]
  },
  {
   "cell_type": "code",
   "execution_count": 16,
   "id": "1019ac0b",
   "metadata": {},
   "outputs": [
    {
     "data": {
      "text/plain": [
       "'1.'"
      ]
     },
     "execution_count": 16,
     "metadata": {},
     "output_type": "execute_result"
    }
   ],
   "source": [
    "indice = tarjetas[0].find('span').text\n",
    "\n",
    "indice"
   ]
  },
  {
   "cell_type": "code",
   "execution_count": 13,
   "id": "6c41994a",
   "metadata": {},
   "outputs": [
    {
     "data": {
      "text/plain": [
       "'Breaking Bad'"
      ]
     },
     "execution_count": 13,
     "metadata": {},
     "output_type": "execute_result"
    }
   ],
   "source": [
    "nombre = tarjetas[0].find_all('a')[1].text\n",
    "\n",
    "nombre"
   ]
  },
  {
   "cell_type": "code",
   "execution_count": 22,
   "id": "17218163",
   "metadata": {},
   "outputs": [
    {
     "data": {
      "text/plain": [
       "['2008', '2013']"
      ]
     },
     "execution_count": 22,
     "metadata": {},
     "output_type": "execute_result"
    }
   ],
   "source": [
    "fecha = tarjetas[0].find_all('span')[1].text\n",
    "\n",
    "fecha[1:-1].split('–')"
   ]
  },
  {
   "cell_type": "code",
   "execution_count": 25,
   "id": "0ab02a58",
   "metadata": {},
   "outputs": [
    {
     "data": {
      "text/plain": [
       "'9.5'"
      ]
     },
     "execution_count": 25,
     "metadata": {},
     "output_type": "execute_result"
    }
   ],
   "source": [
    "rate = tarjetas[0].find('span', {'class': 'ipl-rating-star__rating'}).text\n",
    "\n",
    "rate"
   ]
  },
  {
   "cell_type": "code",
   "execution_count": 29,
   "id": "7dafe230",
   "metadata": {},
   "outputs": [
    {
     "data": {
      "text/plain": [
       "'3,030 min'"
      ]
     },
     "execution_count": 29,
     "metadata": {},
     "output_type": "execute_result"
    }
   ],
   "source": [
    "duracion = tarjetas[0].find('p').find('span', class_=\"runtime\").text\n",
    "\n",
    "duracion"
   ]
  },
  {
   "cell_type": "code",
   "execution_count": 34,
   "id": "8ea596ca",
   "metadata": {},
   "outputs": [
    {
     "data": {
      "text/plain": [
       "'Crime, Drama, Thriller'"
      ]
     },
     "execution_count": 34,
     "metadata": {},
     "output_type": "execute_result"
    }
   ],
   "source": [
    "genero = tarjetas[0].find('p').find('span', class_=\"genre\").text.strip()\n",
    "\n",
    "genero"
   ]
  },
  {
   "cell_type": "code",
   "execution_count": 42,
   "id": "91ee7638",
   "metadata": {},
   "outputs": [
    {
     "data": {
      "text/plain": [
       "'Bryan Cranston, Aaron Paul, Anna Gunn, Betsy Brandt'"
      ]
     },
     "execution_count": 42,
     "metadata": {},
     "output_type": "execute_result"
    }
   ],
   "source": [
    "stars = tarjetas[0].find_all('p', {'class': 'text-muted text-small'})[1].text.replace('\\n', '').strip()[6:]\n",
    "\n",
    "stars"
   ]
  },
  {
   "cell_type": "code",
   "execution_count": 67,
   "id": "e7745e19",
   "metadata": {},
   "outputs": [
    {
     "data": {
      "text/plain": [
       "2095036"
      ]
     },
     "execution_count": 67,
     "metadata": {},
     "output_type": "execute_result"
    }
   ],
   "source": [
    "votos = int(tarjetas[0].find('span', {'name': 'nv'}).text.replace(',', ''))\n",
    "\n",
    "votos"
   ]
  },
  {
   "cell_type": "code",
   "execution_count": 73,
   "id": "74d5bd59",
   "metadata": {},
   "outputs": [
    {
     "data": {
      "text/plain": [
       "\"A chemistry teacher diagnosed with inoperable lung cancer turns to manufacturing and selling methamphetamine with a former student in order to secure his family's future.\""
      ]
     },
     "execution_count": 73,
     "metadata": {},
     "output_type": "execute_result"
    }
   ],
   "source": [
    "sinopsis = tarjetas[0].find_all('p')[1].text.strip()\n",
    "\n",
    "sinopsis"
   ]
  },
  {
   "cell_type": "code",
   "execution_count": 109,
   "id": "8ef3b313",
   "metadata": {},
   "outputs": [],
   "source": [
    "# todo\n",
    "\n",
    "data = []\n",
    "\n",
    "\n",
    "fallan = []\n",
    "\n",
    "\n",
    "for i in range(len(tarjetas)):\n",
    "    \n",
    "    \n",
    "    try:\n",
    "        \n",
    "        duracion = tarjetas[i].find('p').find('span', class_=\"runtime\").text if tarjetas[i].find('p').find('span', class_=\"runtime\") else 'No hay'\n",
    "        \n",
    "        \n",
    "        gentuki = tarjetas[i].find_all('p', {'class': 'text-muted text-small'})[1].text.replace('\\n', '').strip().split('|')\n",
    "        \n",
    "        dictio = {'indice': tarjetas[i].find('span').text,\n",
    "                  'nombre': tarjetas[i].find_all('a')[1].text,\n",
    "                  'fecha': tarjetas[i].find_all('span')[1].text,\n",
    "                  'rate': tarjetas[i].find('span', {'class': 'ipl-rating-star__rating'}).text,\n",
    "                  'duracion': duracion,\n",
    "                  'genero': tarjetas[i].find('p').find('span', class_=\"genre\").text.strip(),\n",
    "                  \n",
    "                  'stars': gentuki[1].split(':')[1] if len(gentuki)==2 else gentuki[0].split(':')[1],\n",
    "                  'director': gentuki[0].split(':')[1] if len(gentuki)==2 else 'No hay',\n",
    "                  \n",
    "                  'votos': int(tarjetas[i].find('span', {'name': 'nv'}).text.replace(',', '')),\n",
    "                  'sinopsis': tarjetas[i].find_all('p')[1].text.strip()\n",
    "\n",
    "                 }\n",
    "\n",
    "\n",
    "        data.append(dictio)\n",
    "        \n",
    "    \n",
    "    except:\n",
    "        \n",
    "        fallan.append(i)"
   ]
  },
  {
   "cell_type": "code",
   "execution_count": 110,
   "id": "8cecc8f7",
   "metadata": {},
   "outputs": [
    {
     "data": {
      "text/plain": [
       "[]"
      ]
     },
     "execution_count": 110,
     "metadata": {},
     "output_type": "execute_result"
    }
   ],
   "source": [
    "fallan"
   ]
  },
  {
   "cell_type": "code",
   "execution_count": 111,
   "id": "2456421a",
   "metadata": {},
   "outputs": [],
   "source": [
    "import pandas as pd"
   ]
  },
  {
   "cell_type": "code",
   "execution_count": 112,
   "id": "e5e799ca",
   "metadata": {},
   "outputs": [],
   "source": [
    "df = pd.DataFrame(data)"
   ]
  },
  {
   "cell_type": "code",
   "execution_count": 113,
   "id": "a4a6cd2e",
   "metadata": {},
   "outputs": [
    {
     "data": {
      "text/html": [
       "<div>\n",
       "<style scoped>\n",
       "    .dataframe tbody tr th:only-of-type {\n",
       "        vertical-align: middle;\n",
       "    }\n",
       "\n",
       "    .dataframe tbody tr th {\n",
       "        vertical-align: top;\n",
       "    }\n",
       "\n",
       "    .dataframe thead th {\n",
       "        text-align: right;\n",
       "    }\n",
       "</style>\n",
       "<table border=\"1\" class=\"dataframe\">\n",
       "  <thead>\n",
       "    <tr style=\"text-align: right;\">\n",
       "      <th></th>\n",
       "      <th>indice</th>\n",
       "      <th>nombre</th>\n",
       "      <th>fecha</th>\n",
       "      <th>rate</th>\n",
       "      <th>duracion</th>\n",
       "      <th>genero</th>\n",
       "      <th>stars</th>\n",
       "      <th>director</th>\n",
       "      <th>votos</th>\n",
       "      <th>sinopsis</th>\n",
       "    </tr>\n",
       "  </thead>\n",
       "  <tbody>\n",
       "    <tr>\n",
       "      <th>0</th>\n",
       "      <td>1.</td>\n",
       "      <td>Breaking Bad</td>\n",
       "      <td>(2008–2013)</td>\n",
       "      <td>9.5</td>\n",
       "      <td>3,030 min</td>\n",
       "      <td>Crime, Drama, Thriller</td>\n",
       "      <td>Bryan Cranston, Aaron Paul, Anna Gunn, Betsy B...</td>\n",
       "      <td>No hay</td>\n",
       "      <td>2095036</td>\n",
       "      <td>A chemistry teacher diagnosed with inoperable ...</td>\n",
       "    </tr>\n",
       "    <tr>\n",
       "      <th>1</th>\n",
       "      <td>2.</td>\n",
       "      <td>Minecraft</td>\n",
       "      <td>(2009 Video Game)</td>\n",
       "      <td>8.6</td>\n",
       "      <td>No hay</td>\n",
       "      <td>Action, Adventure, Family</td>\n",
       "      <td>Pierre Coffin, Katie Crown, CW21, Luke Harrison</td>\n",
       "      <td>Agnes Larsson</td>\n",
       "      <td>13618</td>\n",
       "      <td>Welcome to the world of Minecraft where you ca...</td>\n",
       "    </tr>\n",
       "    <tr>\n",
       "      <th>2</th>\n",
       "      <td>3.</td>\n",
       "      <td>Crank: Alto voltaje</td>\n",
       "      <td>(2009)</td>\n",
       "      <td>6.1</td>\n",
       "      <td>96 min</td>\n",
       "      <td>Action, Crime, Thriller</td>\n",
       "      <td>Jason Statham, Amy Smart, Clifton Collins Jr.,...</td>\n",
       "      <td>Mark Neveldine, Brian Taylor</td>\n",
       "      <td>157655</td>\n",
       "      <td>Chelios faces a Chinese mobster who has stolen...</td>\n",
       "    </tr>\n",
       "    <tr>\n",
       "      <th>3</th>\n",
       "      <td>4.</td>\n",
       "      <td>Django desencadenado</td>\n",
       "      <td>(2012)</td>\n",
       "      <td>8.5</td>\n",
       "      <td>165 min</td>\n",
       "      <td>Drama, Western</td>\n",
       "      <td>Jamie Foxx, Christoph Waltz, Leonardo DiCaprio...</td>\n",
       "      <td>Quentin Tarantino</td>\n",
       "      <td>1669298</td>\n",
       "      <td>With the help of a German bounty-hunter, a fre...</td>\n",
       "    </tr>\n",
       "    <tr>\n",
       "      <th>4</th>\n",
       "      <td>5.</td>\n",
       "      <td>Crank: Veneno en la sangre</td>\n",
       "      <td>(2006)</td>\n",
       "      <td>6.9</td>\n",
       "      <td>88 min</td>\n",
       "      <td>Action, Crime, Thriller</td>\n",
       "      <td>Jason Statham, Amy Smart, Carlos Sanz, Jose Pa...</td>\n",
       "      <td>Mark Neveldine, Brian Taylor</td>\n",
       "      <td>261535</td>\n",
       "      <td>Professional assassin Chev Chelios learns his ...</td>\n",
       "    </tr>\n",
       "    <tr>\n",
       "      <th>...</th>\n",
       "      <td>...</td>\n",
       "      <td>...</td>\n",
       "      <td>...</td>\n",
       "      <td>...</td>\n",
       "      <td>...</td>\n",
       "      <td>...</td>\n",
       "      <td>...</td>\n",
       "      <td>...</td>\n",
       "      <td>...</td>\n",
       "      <td>...</td>\n",
       "    </tr>\n",
       "    <tr>\n",
       "      <th>95</th>\n",
       "      <td>96.</td>\n",
       "      <td>Viernes 13</td>\n",
       "      <td>(1980)</td>\n",
       "      <td>6.4</td>\n",
       "      <td>95 min</td>\n",
       "      <td>Horror, Mystery, Thriller</td>\n",
       "      <td>Betsy Palmer, Adrienne King, Jeannine Taylor, ...</td>\n",
       "      <td>Sean S. Cunningham</td>\n",
       "      <td>155763</td>\n",
       "      <td>A group of camp counselors trying to reopen a ...</td>\n",
       "    </tr>\n",
       "    <tr>\n",
       "      <th>96</th>\n",
       "      <td>97.</td>\n",
       "      <td>Heat</td>\n",
       "      <td>(1995)</td>\n",
       "      <td>8.3</td>\n",
       "      <td>170 min</td>\n",
       "      <td>Action, Crime, Drama</td>\n",
       "      <td>Al Pacino, Robert De Niro, Val Kilmer, Jon Voight</td>\n",
       "      <td>Michael Mann</td>\n",
       "      <td>709355</td>\n",
       "      <td>A group of high-end professional thieves start...</td>\n",
       "    </tr>\n",
       "    <tr>\n",
       "      <th>97</th>\n",
       "      <td>98.</td>\n",
       "      <td>La niebla de Stephen King</td>\n",
       "      <td>(2007)</td>\n",
       "      <td>7.1</td>\n",
       "      <td>126 min</td>\n",
       "      <td>Horror, Sci-Fi, Thriller</td>\n",
       "      <td>Thomas Jane, Marcia Gay Harden, Laurie Holden,...</td>\n",
       "      <td>Frank Darabont</td>\n",
       "      <td>335575</td>\n",
       "      <td>A freak storm unleashes a species of bloodthir...</td>\n",
       "    </tr>\n",
       "    <tr>\n",
       "      <th>98</th>\n",
       "      <td>99.</td>\n",
       "      <td>V de vendetta</td>\n",
       "      <td>(2005)</td>\n",
       "      <td>8.2</td>\n",
       "      <td>132 min</td>\n",
       "      <td>Action, Drama, Sci-Fi</td>\n",
       "      <td>Hugo Weaving, Natalie Portman, Rupert Graves, ...</td>\n",
       "      <td>James McTeigue</td>\n",
       "      <td>1169590</td>\n",
       "      <td>In a future British dystopian society, a shado...</td>\n",
       "    </tr>\n",
       "    <tr>\n",
       "      <th>99</th>\n",
       "      <td>100.</td>\n",
       "      <td>El profesional (Léon)</td>\n",
       "      <td>(1994)</td>\n",
       "      <td>8.5</td>\n",
       "      <td>110 min</td>\n",
       "      <td>Action, Crime, Drama</td>\n",
       "      <td>Jean Reno, Gary Oldman, Natalie Portman, Danny...</td>\n",
       "      <td>Luc Besson</td>\n",
       "      <td>1230551</td>\n",
       "      <td>12-year-old Mathilda is reluctantly taken in b...</td>\n",
       "    </tr>\n",
       "  </tbody>\n",
       "</table>\n",
       "<p>100 rows × 10 columns</p>\n",
       "</div>"
      ],
      "text/plain": [
       "   indice                      nombre              fecha rate   duracion  \\\n",
       "0      1.                Breaking Bad        (2008–2013)  9.5  3,030 min   \n",
       "1      2.                   Minecraft  (2009 Video Game)  8.6     No hay   \n",
       "2      3.         Crank: Alto voltaje             (2009)  6.1     96 min   \n",
       "3      4.        Django desencadenado             (2012)  8.5    165 min   \n",
       "4      5.  Crank: Veneno en la sangre             (2006)  6.9     88 min   \n",
       "..    ...                         ...                ...  ...        ...   \n",
       "95    96.                  Viernes 13             (1980)  6.4     95 min   \n",
       "96    97.                        Heat             (1995)  8.3    170 min   \n",
       "97    98.   La niebla de Stephen King             (2007)  7.1    126 min   \n",
       "98    99.               V de vendetta             (2005)  8.2    132 min   \n",
       "99   100.       El profesional (Léon)             (1994)  8.5    110 min   \n",
       "\n",
       "                       genero  \\\n",
       "0      Crime, Drama, Thriller   \n",
       "1   Action, Adventure, Family   \n",
       "2     Action, Crime, Thriller   \n",
       "3              Drama, Western   \n",
       "4     Action, Crime, Thriller   \n",
       "..                        ...   \n",
       "95  Horror, Mystery, Thriller   \n",
       "96       Action, Crime, Drama   \n",
       "97   Horror, Sci-Fi, Thriller   \n",
       "98      Action, Drama, Sci-Fi   \n",
       "99       Action, Crime, Drama   \n",
       "\n",
       "                                                stars  \\\n",
       "0   Bryan Cranston, Aaron Paul, Anna Gunn, Betsy B...   \n",
       "1     Pierre Coffin, Katie Crown, CW21, Luke Harrison   \n",
       "2   Jason Statham, Amy Smart, Clifton Collins Jr.,...   \n",
       "3   Jamie Foxx, Christoph Waltz, Leonardo DiCaprio...   \n",
       "4   Jason Statham, Amy Smart, Carlos Sanz, Jose Pa...   \n",
       "..                                                ...   \n",
       "95  Betsy Palmer, Adrienne King, Jeannine Taylor, ...   \n",
       "96  Al Pacino, Robert De Niro, Val Kilmer, Jon Voight   \n",
       "97  Thomas Jane, Marcia Gay Harden, Laurie Holden,...   \n",
       "98  Hugo Weaving, Natalie Portman, Rupert Graves, ...   \n",
       "99  Jean Reno, Gary Oldman, Natalie Portman, Danny...   \n",
       "\n",
       "                        director    votos  \\\n",
       "0                         No hay  2095036   \n",
       "1                  Agnes Larsson    13618   \n",
       "2   Mark Neveldine, Brian Taylor   157655   \n",
       "3              Quentin Tarantino  1669298   \n",
       "4   Mark Neveldine, Brian Taylor   261535   \n",
       "..                           ...      ...   \n",
       "95            Sean S. Cunningham   155763   \n",
       "96                  Michael Mann   709355   \n",
       "97                Frank Darabont   335575   \n",
       "98                James McTeigue  1169590   \n",
       "99                    Luc Besson  1230551   \n",
       "\n",
       "                                             sinopsis  \n",
       "0   A chemistry teacher diagnosed with inoperable ...  \n",
       "1   Welcome to the world of Minecraft where you ca...  \n",
       "2   Chelios faces a Chinese mobster who has stolen...  \n",
       "3   With the help of a German bounty-hunter, a fre...  \n",
       "4   Professional assassin Chev Chelios learns his ...  \n",
       "..                                                ...  \n",
       "95  A group of camp counselors trying to reopen a ...  \n",
       "96  A group of high-end professional thieves start...  \n",
       "97  A freak storm unleashes a species of bloodthir...  \n",
       "98  In a future British dystopian society, a shado...  \n",
       "99  12-year-old Mathilda is reluctantly taken in b...  \n",
       "\n",
       "[100 rows x 10 columns]"
      ]
     },
     "execution_count": 113,
     "metadata": {},
     "output_type": "execute_result"
    }
   ],
   "source": [
    "df"
   ]
  },
  {
   "cell_type": "code",
   "execution_count": 141,
   "id": "e3fc8faf",
   "metadata": {},
   "outputs": [],
   "source": [
    "url = 'https://www.netflix.com/tudum/top10/es'"
   ]
  },
  {
   "cell_type": "code",
   "execution_count": 142,
   "id": "1c335168",
   "metadata": {},
   "outputs": [],
   "source": [
    "html = req.get(url).text\n",
    "\n",
    "sopa = bs(html, 'html.parser')"
   ]
  },
  {
   "cell_type": "code",
   "execution_count": 143,
   "id": "a8916498",
   "metadata": {},
   "outputs": [],
   "source": [
    "tabla = sopa.find('div', class_=\"py-2 md:py-4\").find('table')"
   ]
  },
  {
   "cell_type": "code",
   "execution_count": 144,
   "id": "53941a3c",
   "metadata": {},
   "outputs": [
    {
     "data": {
      "text/plain": [
       "['N.Âº',\n",
       " 'PelÃ\\xadculas (de habla inglesa)',\n",
       " 'Semanas en el Top 10Semanas',\n",
       " 'horas vistas',\n",
       " 'DuraciÃ³n',\n",
       " 'Visualizaciones']"
      ]
     },
     "execution_count": 144,
     "metadata": {},
     "output_type": "execute_result"
    }
   ],
   "source": [
    "cabeceras = [e.text for e in tabla.find('thead').find_all('th')]\n",
    "\n",
    "cabeceras"
   ]
  },
  {
   "cell_type": "code",
   "execution_count": 145,
   "id": "d5384b06",
   "metadata": {},
   "outputs": [],
   "source": [
    "cuerpo = tabla.find('tbody')"
   ]
  },
  {
   "cell_type": "code",
   "execution_count": 146,
   "id": "5edd2311",
   "metadata": {},
   "outputs": [],
   "source": [
    "filas = cuerpo.find_all('tr')"
   ]
  },
  {
   "cell_type": "code",
   "execution_count": 147,
   "id": "d6019946",
   "metadata": {},
   "outputs": [
    {
     "data": {
      "text/plain": [
       "10"
      ]
     },
     "execution_count": 147,
     "metadata": {},
     "output_type": "execute_result"
    }
   ],
   "source": [
    "len(filas)"
   ]
  },
  {
   "cell_type": "code",
   "execution_count": 148,
   "id": "ad986cc1",
   "metadata": {},
   "outputs": [
    {
     "data": {
      "text/plain": [
       "['1',\n",
       " 'Lift: Un robo de primera clase',\n",
       " '2',\n",
       " '65.400.000',\n",
       " '1:47',\n",
       " '36.700.000']"
      ]
     },
     "execution_count": 148,
     "metadata": {},
     "output_type": "execute_result"
    }
   ],
   "source": [
    "[e.text for e in filas[0].find_all('td')]  # primera fila"
   ]
  },
  {
   "cell_type": "code",
   "execution_count": 150,
   "id": "2f5f4dd3",
   "metadata": {},
   "outputs": [
    {
     "data": {
      "text/plain": [
       "[['1',\n",
       "  'Lift: Un robo de primera clase',\n",
       "  '2',\n",
       "  '65.400.000',\n",
       "  '1:47',\n",
       "  '36.700.000'],\n",
       " ['2', 'La leyenda de TarzÃ¡n', '1', '14.400.000', '1:50', '7.900.000'],\n",
       " ['3', 'The Kitchen', '1', '10.200.000', '1:49', '5.600.000'],\n",
       " ['4', 'CuestiÃ³n de Sangre', '1', '12.700.000', '2:19', '5.500.000'],\n",
       " ['5',\n",
       "  'El justiciero: CapÃ\\xadtulo final',\n",
       "  '3',\n",
       "  '8.300.000',\n",
       "  '1:49',\n",
       "  '4.600.000'],\n",
       " ['6', 'La Purga por siempre', '1', '7.700.000', '1:43', '4.500.000'],\n",
       " ['7', 'Estafadoras en oferta', '1', '8.100.000', '1:50', '4.400.000'],\n",
       " ['8',\n",
       "  'Super Mario Bros.: La pelÃ\\xadcula',\n",
       "  '8',\n",
       "  '6.500.000',\n",
       "  '1:32',\n",
       "  '4.200.000'],\n",
       " ['9', 'Alma salvaje', '1', '7.300.000', '1:56', '3.800.000'],\n",
       " ['10', 'Leo', '9', '5.800.000', '1:47', '3.300.000']]"
      ]
     },
     "execution_count": 150,
     "metadata": {},
     "output_type": "execute_result"
    }
   ],
   "source": [
    "data = []\n",
    "\n",
    "for f in filas:\n",
    "    \n",
    "    casillas = f.find_all('td')\n",
    "    \n",
    "    tmp_lst = []\n",
    "    \n",
    "    for c in casillas:\n",
    "        \n",
    "        tmp_lst.append(c.text)\n",
    "        \n",
    "        \n",
    "    data.append(tmp_lst)\n",
    "        \n",
    "data"
   ]
  },
  {
   "cell_type": "code",
   "execution_count": 151,
   "id": "5d93ecb5",
   "metadata": {},
   "outputs": [
    {
     "data": {
      "text/plain": [
       "[['1',\n",
       "  'Lift: Un robo de primera clase',\n",
       "  '2',\n",
       "  '65.400.000',\n",
       "  '1:47',\n",
       "  '36.700.000'],\n",
       " ['2', 'La leyenda de TarzÃ¡n', '1', '14.400.000', '1:50', '7.900.000'],\n",
       " ['3', 'The Kitchen', '1', '10.200.000', '1:49', '5.600.000'],\n",
       " ['4', 'CuestiÃ³n de Sangre', '1', '12.700.000', '2:19', '5.500.000'],\n",
       " ['5',\n",
       "  'El justiciero: CapÃ\\xadtulo final',\n",
       "  '3',\n",
       "  '8.300.000',\n",
       "  '1:49',\n",
       "  '4.600.000'],\n",
       " ['6', 'La Purga por siempre', '1', '7.700.000', '1:43', '4.500.000'],\n",
       " ['7', 'Estafadoras en oferta', '1', '8.100.000', '1:50', '4.400.000'],\n",
       " ['8',\n",
       "  'Super Mario Bros.: La pelÃ\\xadcula',\n",
       "  '8',\n",
       "  '6.500.000',\n",
       "  '1:32',\n",
       "  '4.200.000'],\n",
       " ['9', 'Alma salvaje', '1', '7.300.000', '1:56', '3.800.000'],\n",
       " ['10', 'Leo', '9', '5.800.000', '1:47', '3.300.000']]"
      ]
     },
     "execution_count": 151,
     "metadata": {},
     "output_type": "execute_result"
    }
   ],
   "source": [
    "data = [[e.text for e in f.find_all('td')] for f in filas]\n",
    "\n",
    "data"
   ]
  },
  {
   "cell_type": "code",
   "execution_count": 137,
   "id": "df26d71d",
   "metadata": {},
   "outputs": [],
   "source": [
    "df = pd.DataFrame(data, columns=cabeceras)"
   ]
  },
  {
   "cell_type": "code",
   "execution_count": 138,
   "id": "41e0fe6d",
   "metadata": {},
   "outputs": [
    {
     "data": {
      "text/html": [
       "<div>\n",
       "<style scoped>\n",
       "    .dataframe tbody tr th:only-of-type {\n",
       "        vertical-align: middle;\n",
       "    }\n",
       "\n",
       "    .dataframe tbody tr th {\n",
       "        vertical-align: top;\n",
       "    }\n",
       "\n",
       "    .dataframe thead th {\n",
       "        text-align: right;\n",
       "    }\n",
       "</style>\n",
       "<table border=\"1\" class=\"dataframe\">\n",
       "  <thead>\n",
       "    <tr style=\"text-align: right;\">\n",
       "      <th></th>\n",
       "      <th>N.Âº</th>\n",
       "      <th>PelÃ­culas (de habla inglesa)</th>\n",
       "      <th>Semanas en el Top 10Semanas</th>\n",
       "      <th>horas vistas</th>\n",
       "      <th>DuraciÃ³n</th>\n",
       "      <th>Visualizaciones</th>\n",
       "    </tr>\n",
       "  </thead>\n",
       "  <tbody>\n",
       "    <tr>\n",
       "      <th>0</th>\n",
       "      <td>1</td>\n",
       "      <td>Lift: Un robo de primera clase</td>\n",
       "      <td>2</td>\n",
       "      <td>65.400.000</td>\n",
       "      <td>1:47</td>\n",
       "      <td>36.700.000</td>\n",
       "    </tr>\n",
       "    <tr>\n",
       "      <th>1</th>\n",
       "      <td>2</td>\n",
       "      <td>La leyenda de TarzÃ¡n</td>\n",
       "      <td>1</td>\n",
       "      <td>14.400.000</td>\n",
       "      <td>1:50</td>\n",
       "      <td>7.900.000</td>\n",
       "    </tr>\n",
       "    <tr>\n",
       "      <th>2</th>\n",
       "      <td>3</td>\n",
       "      <td>The Kitchen</td>\n",
       "      <td>1</td>\n",
       "      <td>10.200.000</td>\n",
       "      <td>1:49</td>\n",
       "      <td>5.600.000</td>\n",
       "    </tr>\n",
       "    <tr>\n",
       "      <th>3</th>\n",
       "      <td>4</td>\n",
       "      <td>CuestiÃ³n de Sangre</td>\n",
       "      <td>1</td>\n",
       "      <td>12.700.000</td>\n",
       "      <td>2:19</td>\n",
       "      <td>5.500.000</td>\n",
       "    </tr>\n",
       "    <tr>\n",
       "      <th>4</th>\n",
       "      <td>5</td>\n",
       "      <td>El justiciero: CapÃ­tulo final</td>\n",
       "      <td>3</td>\n",
       "      <td>8.300.000</td>\n",
       "      <td>1:49</td>\n",
       "      <td>4.600.000</td>\n",
       "    </tr>\n",
       "    <tr>\n",
       "      <th>5</th>\n",
       "      <td>6</td>\n",
       "      <td>La Purga por siempre</td>\n",
       "      <td>1</td>\n",
       "      <td>7.700.000</td>\n",
       "      <td>1:43</td>\n",
       "      <td>4.500.000</td>\n",
       "    </tr>\n",
       "    <tr>\n",
       "      <th>6</th>\n",
       "      <td>7</td>\n",
       "      <td>Estafadoras en oferta</td>\n",
       "      <td>1</td>\n",
       "      <td>8.100.000</td>\n",
       "      <td>1:50</td>\n",
       "      <td>4.400.000</td>\n",
       "    </tr>\n",
       "    <tr>\n",
       "      <th>7</th>\n",
       "      <td>8</td>\n",
       "      <td>Super Mario Bros.: La pelÃ­cula</td>\n",
       "      <td>8</td>\n",
       "      <td>6.500.000</td>\n",
       "      <td>1:32</td>\n",
       "      <td>4.200.000</td>\n",
       "    </tr>\n",
       "    <tr>\n",
       "      <th>8</th>\n",
       "      <td>9</td>\n",
       "      <td>Alma salvaje</td>\n",
       "      <td>1</td>\n",
       "      <td>7.300.000</td>\n",
       "      <td>1:56</td>\n",
       "      <td>3.800.000</td>\n",
       "    </tr>\n",
       "    <tr>\n",
       "      <th>9</th>\n",
       "      <td>10</td>\n",
       "      <td>Leo</td>\n",
       "      <td>9</td>\n",
       "      <td>5.800.000</td>\n",
       "      <td>1:47</td>\n",
       "      <td>3.300.000</td>\n",
       "    </tr>\n",
       "  </tbody>\n",
       "</table>\n",
       "</div>"
      ],
      "text/plain": [
       "  N.Âº    PelÃ­culas (de habla inglesa) Semanas en el Top 10Semanas  \\\n",
       "0    1   Lift: Un robo de primera clase                           2   \n",
       "1    2            La leyenda de TarzÃ¡n                           1   \n",
       "2    3                      The Kitchen                           1   \n",
       "3    4              CuestiÃ³n de Sangre                           1   \n",
       "4    5   El justiciero: CapÃ­tulo final                           3   \n",
       "5    6             La Purga por siempre                           1   \n",
       "6    7            Estafadoras en oferta                           1   \n",
       "7    8  Super Mario Bros.: La pelÃ­cula                           8   \n",
       "8    9                     Alma salvaje                           1   \n",
       "9   10                              Leo                           9   \n",
       "\n",
       "  horas vistas DuraciÃ³n Visualizaciones  \n",
       "0   65.400.000      1:47      36.700.000  \n",
       "1   14.400.000      1:50       7.900.000  \n",
       "2   10.200.000      1:49       5.600.000  \n",
       "3   12.700.000      2:19       5.500.000  \n",
       "4    8.300.000      1:49       4.600.000  \n",
       "5    7.700.000      1:43       4.500.000  \n",
       "6    8.100.000      1:50       4.400.000  \n",
       "7    6.500.000      1:32       4.200.000  \n",
       "8    7.300.000      1:56       3.800.000  \n",
       "9    5.800.000      1:47       3.300.000  "
      ]
     },
     "execution_count": 138,
     "metadata": {},
     "output_type": "execute_result"
    }
   ],
   "source": [
    "df"
   ]
  },
  {
   "cell_type": "code",
   "execution_count": 139,
   "id": "f8d7b400",
   "metadata": {},
   "outputs": [],
   "source": [
    "urls = ['https://www.netflix.com/tudum/top10/es?week=2024-01-14', \n",
    "       'https://www.netflix.com/tudum/top10/es?week=2024-01-07',\n",
    "       'https://www.netflix.com/tudum/top10/es?week=2023-12-31']"
   ]
  },
  {
   "cell_type": "code",
   "execution_count": 156,
   "id": "62992971",
   "metadata": {},
   "outputs": [],
   "source": [
    "# todo\n",
    "\n",
    "df_lst = []\n",
    "\n",
    "\n",
    "for url in urls:\n",
    "    \n",
    "    html = req.get(url).text\n",
    "    sopa = bs(html, 'html.parser')\n",
    "    \n",
    "    tabla = sopa.find('div', class_=\"py-2 md:py-4\").find('table')\n",
    "    \n",
    "    cabeceras = [e.text for e in tabla.find('thead').find_all('th')]\n",
    "    \n",
    "    filas = tabla.find('tbody').find_all('tr')\n",
    "    \n",
    "    data = [[e.text for e in f.find_all('td')] for f in filas]\n",
    "    \n",
    "    df = pd.DataFrame(data, columns=cabeceras)\n",
    "    \n",
    "    date =  url.split('=')[-1].split('-')\n",
    "    \n",
    "    df['year'] = date[0]\n",
    "    df['month'] = date[1]\n",
    "    df['day'] = date[2]\n",
    "    \n",
    "    df_lst.append(df)\n",
    "    \n",
    "    \n",
    "    \n",
    "data_final = pd.concat(df_lst)\n",
    "    "
   ]
  },
  {
   "cell_type": "code",
   "execution_count": 157,
   "id": "e2444550",
   "metadata": {},
   "outputs": [
    {
     "data": {
      "text/html": [
       "<div>\n",
       "<style scoped>\n",
       "    .dataframe tbody tr th:only-of-type {\n",
       "        vertical-align: middle;\n",
       "    }\n",
       "\n",
       "    .dataframe tbody tr th {\n",
       "        vertical-align: top;\n",
       "    }\n",
       "\n",
       "    .dataframe thead th {\n",
       "        text-align: right;\n",
       "    }\n",
       "</style>\n",
       "<table border=\"1\" class=\"dataframe\">\n",
       "  <thead>\n",
       "    <tr style=\"text-align: right;\">\n",
       "      <th></th>\n",
       "      <th>N.Âº</th>\n",
       "      <th>PelÃ­culas (de habla inglesa)</th>\n",
       "      <th>Semanas en el Top 10Semanas</th>\n",
       "      <th>horas vistas</th>\n",
       "      <th>DuraciÃ³n</th>\n",
       "      <th>Visualizaciones</th>\n",
       "      <th>year</th>\n",
       "      <th>month</th>\n",
       "      <th>day</th>\n",
       "    </tr>\n",
       "  </thead>\n",
       "  <tbody>\n",
       "    <tr>\n",
       "      <th>0</th>\n",
       "      <td>1</td>\n",
       "      <td>Lift: Un robo de primera clase</td>\n",
       "      <td>2</td>\n",
       "      <td>65.400.000</td>\n",
       "      <td>1:47</td>\n",
       "      <td>36.700.000</td>\n",
       "      <td>2024</td>\n",
       "      <td>01</td>\n",
       "      <td>14</td>\n",
       "    </tr>\n",
       "    <tr>\n",
       "      <th>1</th>\n",
       "      <td>2</td>\n",
       "      <td>La leyenda de TarzÃ¡n</td>\n",
       "      <td>1</td>\n",
       "      <td>14.400.000</td>\n",
       "      <td>1:50</td>\n",
       "      <td>7.900.000</td>\n",
       "      <td>2024</td>\n",
       "      <td>01</td>\n",
       "      <td>14</td>\n",
       "    </tr>\n",
       "    <tr>\n",
       "      <th>2</th>\n",
       "      <td>3</td>\n",
       "      <td>The Kitchen</td>\n",
       "      <td>1</td>\n",
       "      <td>10.200.000</td>\n",
       "      <td>1:49</td>\n",
       "      <td>5.600.000</td>\n",
       "      <td>2024</td>\n",
       "      <td>01</td>\n",
       "      <td>14</td>\n",
       "    </tr>\n",
       "    <tr>\n",
       "      <th>3</th>\n",
       "      <td>4</td>\n",
       "      <td>CuestiÃ³n de Sangre</td>\n",
       "      <td>1</td>\n",
       "      <td>12.700.000</td>\n",
       "      <td>2:19</td>\n",
       "      <td>5.500.000</td>\n",
       "      <td>2024</td>\n",
       "      <td>01</td>\n",
       "      <td>14</td>\n",
       "    </tr>\n",
       "    <tr>\n",
       "      <th>4</th>\n",
       "      <td>5</td>\n",
       "      <td>El justiciero: CapÃ­tulo final</td>\n",
       "      <td>3</td>\n",
       "      <td>8.300.000</td>\n",
       "      <td>1:49</td>\n",
       "      <td>4.600.000</td>\n",
       "      <td>2024</td>\n",
       "      <td>01</td>\n",
       "      <td>14</td>\n",
       "    </tr>\n",
       "  </tbody>\n",
       "</table>\n",
       "</div>"
      ],
      "text/plain": [
       "  N.Âº   PelÃ­culas (de habla inglesa) Semanas en el Top 10Semanas  \\\n",
       "0    1  Lift: Un robo de primera clase                           2   \n",
       "1    2           La leyenda de TarzÃ¡n                           1   \n",
       "2    3                     The Kitchen                           1   \n",
       "3    4             CuestiÃ³n de Sangre                           1   \n",
       "4    5  El justiciero: CapÃ­tulo final                           3   \n",
       "\n",
       "  horas vistas DuraciÃ³n Visualizaciones  year month day  \n",
       "0   65.400.000      1:47      36.700.000  2024    01  14  \n",
       "1   14.400.000      1:50       7.900.000  2024    01  14  \n",
       "2   10.200.000      1:49       5.600.000  2024    01  14  \n",
       "3   12.700.000      2:19       5.500.000  2024    01  14  \n",
       "4    8.300.000      1:49       4.600.000  2024    01  14  "
      ]
     },
     "execution_count": 157,
     "metadata": {},
     "output_type": "execute_result"
    }
   ],
   "source": [
    "data_final.head()"
   ]
  },
  {
   "cell_type": "code",
   "execution_count": 158,
   "id": "4d608555",
   "metadata": {},
   "outputs": [
    {
     "name": "stdout",
     "output_type": "stream",
     "text": [
      "<class 'pandas.core.frame.DataFrame'>\n",
      "Int64Index: 30 entries, 0 to 9\n",
      "Data columns (total 9 columns):\n",
      " #   Column                         Non-Null Count  Dtype \n",
      "---  ------                         --------------  ----- \n",
      " 0   N.Âº                           30 non-null     object\n",
      " 1   PelÃ­culas (de habla inglesa)  30 non-null     object\n",
      " 2   Semanas en el Top 10Semanas    30 non-null     object\n",
      " 3   horas vistas                   30 non-null     object\n",
      " 4   DuraciÃ³n                      30 non-null     object\n",
      " 5   Visualizaciones                30 non-null     object\n",
      " 6   year                           30 non-null     object\n",
      " 7   month                          30 non-null     object\n",
      " 8   day                            30 non-null     object\n",
      "dtypes: object(9)\n",
      "memory usage: 2.3+ KB\n"
     ]
    }
   ],
   "source": [
    "data_final.info()"
   ]
  },
  {
   "cell_type": "code",
   "execution_count": null,
   "id": "cf378b78",
   "metadata": {},
   "outputs": [],
   "source": []
  }
 ],
 "metadata": {
  "kernelspec": {
   "display_name": "clase",
   "language": "python",
   "name": "clase"
  },
  "language_info": {
   "codemirror_mode": {
    "name": "ipython",
    "version": 3
   },
   "file_extension": ".py",
   "mimetype": "text/x-python",
   "name": "python",
   "nbconvert_exporter": "python",
   "pygments_lexer": "ipython3",
   "version": "3.9.12"
  }
 },
 "nbformat": 4,
 "nbformat_minor": 5
}
