{
 "cells": [
  {
   "cell_type": "code",
   "execution_count": 1,
   "id": "23b91ac0",
   "metadata": {},
   "outputs": [],
   "source": [
    "CLIENT_ID = \"4109b2d9f5014671863bb2df1d1fbdd3\"\n",
    "CLIENT_SECRET = \"5cb719fae80c4191a9c0b288f51bfe50\""
   ]
  },
  {
   "cell_type": "code",
   "execution_count": null,
   "id": "89b6b75f",
   "metadata": {},
   "outputs": [],
   "source": [
    "#%pip install spotipy"
   ]
  },
  {
   "cell_type": "code",
   "execution_count": 2,
   "id": "c880a641",
   "metadata": {},
   "outputs": [],
   "source": [
    "import spotipy\n",
    "from spotipy.oauth2 import SpotifyClientCredentials\n",
    "\n",
    "#Initialize SpotiPy with user credentials\n",
    "sp = spotipy.Spotify(auth_manager=SpotifyClientCredentials(client_id=CLIENT_ID,\n",
    "                                                           client_secret=CLIENT_SECRET))\n"
   ]
  },
  {
   "cell_type": "code",
   "execution_count": 4,
   "id": "51afd13c",
   "metadata": {},
   "outputs": [],
   "source": [
    "#help(sp)"
   ]
  },
  {
   "cell_type": "code",
   "execution_count": 5,
   "id": "c3c37a17",
   "metadata": {},
   "outputs": [
    {
     "data": {
      "text/plain": [
       "dict_keys(['tracks'])"
      ]
     },
     "execution_count": 5,
     "metadata": {},
     "output_type": "execute_result"
    }
   ],
   "source": [
    "results = sp.search(q='Lady Gaga', limit=50)\n",
    "\n",
    "results.keys()"
   ]
  },
  {
   "cell_type": "code",
   "execution_count": 8,
   "id": "f28d9c92",
   "metadata": {},
   "outputs": [],
   "source": [
    "#results['tracks']"
   ]
  },
  {
   "cell_type": "code",
   "execution_count": 9,
   "id": "93876d48",
   "metadata": {},
   "outputs": [],
   "source": [
    "# 1. List Your Favorite Artists\n",
    "artists = [\"Muchachito Bombo Infierno\", 'J.A.M', 'Soil an Pimp Sessions', 'Vulfpeck']\n"
   ]
  },
  {
   "cell_type": "code",
   "execution_count": 17,
   "id": "c65bf9fc",
   "metadata": {},
   "outputs": [
    {
     "data": {
      "text/plain": [
       "'J.A.M'"
      ]
     },
     "execution_count": 17,
     "metadata": {},
     "output_type": "execute_result"
    }
   ],
   "source": [
    "sp.search(q='J.A.M', limit=5)['tracks']['items'][0]['name']"
   ]
  },
  {
   "cell_type": "code",
   "execution_count": 18,
   "id": "b664f38f",
   "metadata": {},
   "outputs": [
    {
     "data": {
      "text/plain": [
       "['J.A.M', 'J.A.M. (Just A Minute)', 'J.A.M.', 'leave him', 'J.A.M']"
      ]
     },
     "execution_count": 18,
     "metadata": {},
     "output_type": "execute_result"
    }
   ],
   "source": [
    "[e['name'] for e in sp.search(q='J.A.M', limit=5)['tracks']['items']]"
   ]
  },
  {
   "cell_type": "code",
   "execution_count": 19,
   "id": "d68f885e",
   "metadata": {},
   "outputs": [],
   "source": [
    "items = sp.search(q='Vulfpeck', limit=5)['tracks']['items']\n",
    "\n",
    "lst = []\n",
    "\n",
    "\n",
    "for e in items:\n",
    "    \n",
    "    lst.append(e['name'])"
   ]
  },
  {
   "cell_type": "code",
   "execution_count": 20,
   "id": "d9efa1cc",
   "metadata": {},
   "outputs": [
    {
     "data": {
      "text/plain": [
       "['Vulfpeck', 'Back Pocket', 'Vulfpeck', 'Wait for the Moment', 'Vulfpeck']"
      ]
     },
     "execution_count": 20,
     "metadata": {},
     "output_type": "execute_result"
    }
   ],
   "source": [
    "lst"
   ]
  },
  {
   "cell_type": "code",
   "execution_count": 21,
   "id": "3ca1ca72",
   "metadata": {},
   "outputs": [],
   "source": [
    "def get_top_tracks(artista: str, limit: int=5) -> list:\n",
    "    \n",
    "    items = sp.search(q=artista, limit=limit)['tracks']['items']\n",
    "    \n",
    "    res = [e['name'] for e in items]\n",
    "    \n",
    "    return res"
   ]
  },
  {
   "cell_type": "code",
   "execution_count": 22,
   "id": "83d7cab2",
   "metadata": {},
   "outputs": [
    {
     "data": {
      "text/plain": [
       "['Veneno en la Piel',\n",
       " 'Veneno en la Piel',\n",
       " 'Escuela de Calor',\n",
       " 'A Cara o Cruz',\n",
       " 'Escuela de Calor']"
      ]
     },
     "execution_count": 22,
     "metadata": {},
     "output_type": "execute_result"
    }
   ],
   "source": [
    "get_top_tracks('Radio Futura')"
   ]
  },
  {
   "cell_type": "code",
   "execution_count": 23,
   "id": "5bffe9fe",
   "metadata": {},
   "outputs": [
    {
     "data": {
      "text/plain": [
       "['Custer',\n",
       " 'Duality',\n",
       " 'Slipknot',\n",
       " 'Psychosocial',\n",
       " 'Wait and Bleed',\n",
       " 'The Devil in I',\n",
       " 'Before I Forget',\n",
       " 'Unsainted',\n",
       " 'Wait and Bleed',\n",
       " 'Spit It Out']"
      ]
     },
     "execution_count": 23,
     "metadata": {},
     "output_type": "execute_result"
    }
   ],
   "source": [
    "get_top_tracks('Slipknot', 10)"
   ]
  },
  {
   "cell_type": "code",
   "execution_count": 24,
   "id": "146c3c51",
   "metadata": {},
   "outputs": [
    {
     "data": {
      "text/plain": [
       "['the last story of the myth',\n",
       " 'Butterfly Effect',\n",
       " '夜間航路 - Album Mix',\n",
       " 'LIFE',\n",
       " 'capture the Initial \"F\"(2021 NEW TAKE)',\n",
       " 'THEME FROM LUPIN vs CAT’S EYE',\n",
       " '不可思議のカルテ',\n",
       " 'Acceleration']"
      ]
     },
     "execution_count": 24,
     "metadata": {},
     "output_type": "execute_result"
    }
   ],
   "source": [
    "get_top_tracks('Fox Capture Plan', 8)"
   ]
  },
  {
   "cell_type": "code",
   "execution_count": 25,
   "id": "8762f064",
   "metadata": {},
   "outputs": [
    {
     "data": {
      "text/plain": [
       "['Muchachito Bombo Infierno', 'J.A.M', 'Soil an Pimp Sessions', 'Vulfpeck']"
      ]
     },
     "execution_count": 25,
     "metadata": {},
     "output_type": "execute_result"
    }
   ],
   "source": [
    "artists"
   ]
  },
  {
   "cell_type": "code",
   "execution_count": 28,
   "id": "0e0db957",
   "metadata": {},
   "outputs": [],
   "source": [
    "res = []\n",
    "\n",
    "for art in artists:\n",
    "    \n",
    "    res.append({art: get_top_tracks(art, 10)})"
   ]
  },
  {
   "cell_type": "code",
   "execution_count": 29,
   "id": "dbe31ed6",
   "metadata": {},
   "outputs": [
    {
     "data": {
      "text/plain": [
       "[{'Muchachito Bombo Infierno': ['La quiero a morir',\n",
       "   'Muchacho malo',\n",
       "   'Siempre que quiera',\n",
       "   'Muchachitos Feat. Humbe',\n",
       "   'Tu nombre',\n",
       "   'Bombo Y Maracas',\n",
       "   'Luna',\n",
       "   'Tus labios son',\n",
       "   'Caraguapa',\n",
       "   'Será mejor']},\n",
       " {'J.A.M': ['J.A.M',\n",
       "   'J.A.M. (Just A Minute)',\n",
       "   'J.A.M.',\n",
       "   'leave him',\n",
       "   'J.A.M',\n",
       "   'Sing Without You - Reprise',\n",
       "   'J.A.M',\n",
       "   'Sign',\n",
       "   'J.A.M',\n",
       "   'After Brazil']},\n",
       " {'Soil an Pimp Sessions': ['Paraiso(『ミチコとハッチン』オープニングテーマ TVヴァージョン80秒)',\n",
       "   'Fantastic Planet',\n",
       "   'Paraiso',\n",
       "   'Double Trouble',\n",
       "   'In The Twilight',\n",
       "   'Blue Eyed Monster',\n",
       "   'Suffocation',\n",
       "   'Storm',\n",
       "   'Waltz For Goddess',\n",
       "   'Spartacus Love Theme']},\n",
       " {'Vulfpeck': ['Vulfpeck',\n",
       "   'Back Pocket',\n",
       "   'Vulfpeck',\n",
       "   'Wait for the Moment',\n",
       "   'Vulfpeck',\n",
       "   '1612',\n",
       "   'Simple Step',\n",
       "   'Animal Spirits',\n",
       "   'Dean Town',\n",
       "   '3 on E']}]"
      ]
     },
     "execution_count": 29,
     "metadata": {},
     "output_type": "execute_result"
    }
   ],
   "source": [
    "res"
   ]
  },
  {
   "cell_type": "code",
   "execution_count": 30,
   "id": "cd9e1789",
   "metadata": {},
   "outputs": [],
   "source": [
    "import pandas as pd\n",
    "\n",
    "df = pd.DataFrame(res)"
   ]
  },
  {
   "cell_type": "code",
   "execution_count": 31,
   "id": "48ad5461",
   "metadata": {},
   "outputs": [
    {
     "data": {
      "text/html": [
       "<div>\n",
       "<style scoped>\n",
       "    .dataframe tbody tr th:only-of-type {\n",
       "        vertical-align: middle;\n",
       "    }\n",
       "\n",
       "    .dataframe tbody tr th {\n",
       "        vertical-align: top;\n",
       "    }\n",
       "\n",
       "    .dataframe thead th {\n",
       "        text-align: right;\n",
       "    }\n",
       "</style>\n",
       "<table border=\"1\" class=\"dataframe\">\n",
       "  <thead>\n",
       "    <tr style=\"text-align: right;\">\n",
       "      <th></th>\n",
       "      <th>Muchachito Bombo Infierno</th>\n",
       "      <th>J.A.M</th>\n",
       "      <th>Soil an Pimp Sessions</th>\n",
       "      <th>Vulfpeck</th>\n",
       "    </tr>\n",
       "  </thead>\n",
       "  <tbody>\n",
       "    <tr>\n",
       "      <th>0</th>\n",
       "      <td>[La quiero a morir, Muchacho malo, Siempre que...</td>\n",
       "      <td>NaN</td>\n",
       "      <td>NaN</td>\n",
       "      <td>NaN</td>\n",
       "    </tr>\n",
       "    <tr>\n",
       "      <th>1</th>\n",
       "      <td>NaN</td>\n",
       "      <td>[J.A.M, J.A.M. (Just A Minute), J.A.M., leave ...</td>\n",
       "      <td>NaN</td>\n",
       "      <td>NaN</td>\n",
       "    </tr>\n",
       "    <tr>\n",
       "      <th>2</th>\n",
       "      <td>NaN</td>\n",
       "      <td>NaN</td>\n",
       "      <td>[Paraiso(『ミチコとハッチン』オープニングテーマ TVヴァージョン80秒),...</td>\n",
       "      <td>NaN</td>\n",
       "    </tr>\n",
       "    <tr>\n",
       "      <th>3</th>\n",
       "      <td>NaN</td>\n",
       "      <td>NaN</td>\n",
       "      <td>NaN</td>\n",
       "      <td>[Vulfpeck, Back Pocket, Vulfpeck, Wait for the...</td>\n",
       "    </tr>\n",
       "  </tbody>\n",
       "</table>\n",
       "</div>"
      ],
      "text/plain": [
       "                           Muchachito Bombo Infierno  \\\n",
       "0  [La quiero a morir, Muchacho malo, Siempre que...   \n",
       "1                                                NaN   \n",
       "2                                                NaN   \n",
       "3                                                NaN   \n",
       "\n",
       "                                               J.A.M  \\\n",
       "0                                                NaN   \n",
       "1  [J.A.M, J.A.M. (Just A Minute), J.A.M., leave ...   \n",
       "2                                                NaN   \n",
       "3                                                NaN   \n",
       "\n",
       "                               Soil an Pimp Sessions  \\\n",
       "0                                                NaN   \n",
       "1                                                NaN   \n",
       "2  [Paraiso(『ミチコとハッチン』オープニングテーマ TVヴァージョン80秒),...   \n",
       "3                                                NaN   \n",
       "\n",
       "                                            Vulfpeck  \n",
       "0                                                NaN  \n",
       "1                                                NaN  \n",
       "2                                                NaN  \n",
       "3  [Vulfpeck, Back Pocket, Vulfpeck, Wait for the...  "
      ]
     },
     "execution_count": 31,
     "metadata": {},
     "output_type": "execute_result"
    }
   ],
   "source": [
    "df"
   ]
  },
  {
   "cell_type": "code",
   "execution_count": 32,
   "id": "247dec72",
   "metadata": {},
   "outputs": [],
   "source": [
    "df = pd.DataFrame(sp.search(q='J.A.M', limit=5)['tracks']['items'])"
   ]
  },
  {
   "cell_type": "code",
   "execution_count": 33,
   "id": "5c320d34",
   "metadata": {},
   "outputs": [
    {
     "data": {
      "text/html": [
       "<div>\n",
       "<style scoped>\n",
       "    .dataframe tbody tr th:only-of-type {\n",
       "        vertical-align: middle;\n",
       "    }\n",
       "\n",
       "    .dataframe tbody tr th {\n",
       "        vertical-align: top;\n",
       "    }\n",
       "\n",
       "    .dataframe thead th {\n",
       "        text-align: right;\n",
       "    }\n",
       "</style>\n",
       "<table border=\"1\" class=\"dataframe\">\n",
       "  <thead>\n",
       "    <tr style=\"text-align: right;\">\n",
       "      <th></th>\n",
       "      <th>album</th>\n",
       "      <th>artists</th>\n",
       "      <th>available_markets</th>\n",
       "      <th>disc_number</th>\n",
       "      <th>duration_ms</th>\n",
       "      <th>explicit</th>\n",
       "      <th>external_ids</th>\n",
       "      <th>external_urls</th>\n",
       "      <th>href</th>\n",
       "      <th>id</th>\n",
       "      <th>is_local</th>\n",
       "      <th>name</th>\n",
       "      <th>popularity</th>\n",
       "      <th>preview_url</th>\n",
       "      <th>track_number</th>\n",
       "      <th>type</th>\n",
       "      <th>uri</th>\n",
       "    </tr>\n",
       "  </thead>\n",
       "  <tbody>\n",
       "    <tr>\n",
       "      <th>0</th>\n",
       "      <td>{'album_type': 'single', 'artists': [{'externa...</td>\n",
       "      <td>[{'external_urls': {'spotify': 'https://open.s...</td>\n",
       "      <td>[AR, AU, AT, BE, BO, BR, BG, CA, CL, CO, CR, C...</td>\n",
       "      <td>1</td>\n",
       "      <td>216480</td>\n",
       "      <td>True</td>\n",
       "      <td>{'isrc': 'QZDA42496200'}</td>\n",
       "      <td>{'spotify': 'https://open.spotify.com/track/3c...</td>\n",
       "      <td>https://api.spotify.com/v1/tracks/3cAYsZ7iU8NS...</td>\n",
       "      <td>3cAYsZ7iU8NSLncf28uA1R</td>\n",
       "      <td>False</td>\n",
       "      <td>J.A.M</td>\n",
       "      <td>25</td>\n",
       "      <td>https://p.scdn.co/mp3-preview/95a4a3568e4571a0...</td>\n",
       "      <td>1</td>\n",
       "      <td>track</td>\n",
       "      <td>spotify:track:3cAYsZ7iU8NSLncf28uA1R</td>\n",
       "    </tr>\n",
       "    <tr>\n",
       "      <th>1</th>\n",
       "      <td>{'album_type': 'album', 'artists': [{'external...</td>\n",
       "      <td>[{'external_urls': {'spotify': 'https://open.s...</td>\n",
       "      <td>[AR, AU, AT, BE, BO, BR, BG, CA, CL, CO, CR, C...</td>\n",
       "      <td>1</td>\n",
       "      <td>211582</td>\n",
       "      <td>False</td>\n",
       "      <td>{'isrc': 'QZES92250144'}</td>\n",
       "      <td>{'spotify': 'https://open.spotify.com/track/5R...</td>\n",
       "      <td>https://api.spotify.com/v1/tracks/5RIKETWpcUDM...</td>\n",
       "      <td>5RIKETWpcUDMc1QNVELJzf</td>\n",
       "      <td>False</td>\n",
       "      <td>J.A.M. (Just A Minute)</td>\n",
       "      <td>42</td>\n",
       "      <td>https://p.scdn.co/mp3-preview/1b04b797141914c2...</td>\n",
       "      <td>3</td>\n",
       "      <td>track</td>\n",
       "      <td>spotify:track:5RIKETWpcUDMc1QNVELJzf</td>\n",
       "    </tr>\n",
       "    <tr>\n",
       "      <th>2</th>\n",
       "      <td>{'album_type': 'single', 'artists': [{'externa...</td>\n",
       "      <td>[{'external_urls': {'spotify': 'https://open.s...</td>\n",
       "      <td>[AR, AU, AT, BE, BO, BR, BG, CA, CL, CO, CR, C...</td>\n",
       "      <td>1</td>\n",
       "      <td>198080</td>\n",
       "      <td>False</td>\n",
       "      <td>{'isrc': 'USHM91467024'}</td>\n",
       "      <td>{'spotify': 'https://open.spotify.com/track/5y...</td>\n",
       "      <td>https://api.spotify.com/v1/tracks/5yLxXqLZeRnf...</td>\n",
       "      <td>5yLxXqLZeRnfZLk5RvhjxK</td>\n",
       "      <td>False</td>\n",
       "      <td>J.A.M.</td>\n",
       "      <td>34</td>\n",
       "      <td>https://p.scdn.co/mp3-preview/99cfd7eff755deb2...</td>\n",
       "      <td>1</td>\n",
       "      <td>track</td>\n",
       "      <td>spotify:track:5yLxXqLZeRnfZLk5RvhjxK</td>\n",
       "    </tr>\n",
       "    <tr>\n",
       "      <th>3</th>\n",
       "      <td>{'album_type': 'single', 'artists': [{'externa...</td>\n",
       "      <td>[{'external_urls': {'spotify': 'https://open.s...</td>\n",
       "      <td>[AR, AU, AT, BE, BO, BR, BG, CA, CL, CO, CR, C...</td>\n",
       "      <td>1</td>\n",
       "      <td>156648</td>\n",
       "      <td>False</td>\n",
       "      <td>{'isrc': 'QZFYY2482864'}</td>\n",
       "      <td>{'spotify': 'https://open.spotify.com/track/5e...</td>\n",
       "      <td>https://api.spotify.com/v1/tracks/5ezATjbAonRo...</td>\n",
       "      <td>5ezATjbAonRoaRw41WzRsH</td>\n",
       "      <td>False</td>\n",
       "      <td>leave him</td>\n",
       "      <td>23</td>\n",
       "      <td>https://p.scdn.co/mp3-preview/9e8f6871b1d68ac0...</td>\n",
       "      <td>1</td>\n",
       "      <td>track</td>\n",
       "      <td>spotify:track:5ezATjbAonRoaRw41WzRsH</td>\n",
       "    </tr>\n",
       "    <tr>\n",
       "      <th>4</th>\n",
       "      <td>{'album_type': 'single', 'artists': [{'externa...</td>\n",
       "      <td>[{'external_urls': {'spotify': 'https://open.s...</td>\n",
       "      <td>[AR, AU, AT, BE, BO, BR, BG, CA, CL, CO, CR, C...</td>\n",
       "      <td>1</td>\n",
       "      <td>206020</td>\n",
       "      <td>False</td>\n",
       "      <td>{'isrc': 'AUBEC1710101'}</td>\n",
       "      <td>{'spotify': 'https://open.spotify.com/track/3F...</td>\n",
       "      <td>https://api.spotify.com/v1/tracks/3FzFUqFWx9e2...</td>\n",
       "      <td>3FzFUqFWx9e2lajbWsdt6L</td>\n",
       "      <td>False</td>\n",
       "      <td>J.A.M</td>\n",
       "      <td>26</td>\n",
       "      <td>https://p.scdn.co/mp3-preview/8ff42b361d3d69a3...</td>\n",
       "      <td>2</td>\n",
       "      <td>track</td>\n",
       "      <td>spotify:track:3FzFUqFWx9e2lajbWsdt6L</td>\n",
       "    </tr>\n",
       "  </tbody>\n",
       "</table>\n",
       "</div>"
      ],
      "text/plain": [
       "                                               album  \\\n",
       "0  {'album_type': 'single', 'artists': [{'externa...   \n",
       "1  {'album_type': 'album', 'artists': [{'external...   \n",
       "2  {'album_type': 'single', 'artists': [{'externa...   \n",
       "3  {'album_type': 'single', 'artists': [{'externa...   \n",
       "4  {'album_type': 'single', 'artists': [{'externa...   \n",
       "\n",
       "                                             artists  \\\n",
       "0  [{'external_urls': {'spotify': 'https://open.s...   \n",
       "1  [{'external_urls': {'spotify': 'https://open.s...   \n",
       "2  [{'external_urls': {'spotify': 'https://open.s...   \n",
       "3  [{'external_urls': {'spotify': 'https://open.s...   \n",
       "4  [{'external_urls': {'spotify': 'https://open.s...   \n",
       "\n",
       "                                   available_markets  disc_number  \\\n",
       "0  [AR, AU, AT, BE, BO, BR, BG, CA, CL, CO, CR, C...            1   \n",
       "1  [AR, AU, AT, BE, BO, BR, BG, CA, CL, CO, CR, C...            1   \n",
       "2  [AR, AU, AT, BE, BO, BR, BG, CA, CL, CO, CR, C...            1   \n",
       "3  [AR, AU, AT, BE, BO, BR, BG, CA, CL, CO, CR, C...            1   \n",
       "4  [AR, AU, AT, BE, BO, BR, BG, CA, CL, CO, CR, C...            1   \n",
       "\n",
       "   duration_ms  explicit              external_ids  \\\n",
       "0       216480      True  {'isrc': 'QZDA42496200'}   \n",
       "1       211582     False  {'isrc': 'QZES92250144'}   \n",
       "2       198080     False  {'isrc': 'USHM91467024'}   \n",
       "3       156648     False  {'isrc': 'QZFYY2482864'}   \n",
       "4       206020     False  {'isrc': 'AUBEC1710101'}   \n",
       "\n",
       "                                       external_urls  \\\n",
       "0  {'spotify': 'https://open.spotify.com/track/3c...   \n",
       "1  {'spotify': 'https://open.spotify.com/track/5R...   \n",
       "2  {'spotify': 'https://open.spotify.com/track/5y...   \n",
       "3  {'spotify': 'https://open.spotify.com/track/5e...   \n",
       "4  {'spotify': 'https://open.spotify.com/track/3F...   \n",
       "\n",
       "                                                href                      id  \\\n",
       "0  https://api.spotify.com/v1/tracks/3cAYsZ7iU8NS...  3cAYsZ7iU8NSLncf28uA1R   \n",
       "1  https://api.spotify.com/v1/tracks/5RIKETWpcUDM...  5RIKETWpcUDMc1QNVELJzf   \n",
       "2  https://api.spotify.com/v1/tracks/5yLxXqLZeRnf...  5yLxXqLZeRnfZLk5RvhjxK   \n",
       "3  https://api.spotify.com/v1/tracks/5ezATjbAonRo...  5ezATjbAonRoaRw41WzRsH   \n",
       "4  https://api.spotify.com/v1/tracks/3FzFUqFWx9e2...  3FzFUqFWx9e2lajbWsdt6L   \n",
       "\n",
       "   is_local                    name  popularity  \\\n",
       "0     False                   J.A.M          25   \n",
       "1     False  J.A.M. (Just A Minute)          42   \n",
       "2     False                  J.A.M.          34   \n",
       "3     False               leave him          23   \n",
       "4     False                   J.A.M          26   \n",
       "\n",
       "                                         preview_url  track_number   type  \\\n",
       "0  https://p.scdn.co/mp3-preview/95a4a3568e4571a0...             1  track   \n",
       "1  https://p.scdn.co/mp3-preview/1b04b797141914c2...             3  track   \n",
       "2  https://p.scdn.co/mp3-preview/99cfd7eff755deb2...             1  track   \n",
       "3  https://p.scdn.co/mp3-preview/9e8f6871b1d68ac0...             1  track   \n",
       "4  https://p.scdn.co/mp3-preview/8ff42b361d3d69a3...             2  track   \n",
       "\n",
       "                                    uri  \n",
       "0  spotify:track:3cAYsZ7iU8NSLncf28uA1R  \n",
       "1  spotify:track:5RIKETWpcUDMc1QNVELJzf  \n",
       "2  spotify:track:5yLxXqLZeRnfZLk5RvhjxK  \n",
       "3  spotify:track:5ezATjbAonRoaRw41WzRsH  \n",
       "4  spotify:track:3FzFUqFWx9e2lajbWsdt6L  "
      ]
     },
     "execution_count": 33,
     "metadata": {},
     "output_type": "execute_result"
    }
   ],
   "source": [
    "df"
   ]
  },
  {
   "cell_type": "code",
   "execution_count": 35,
   "id": "25119f6d",
   "metadata": {},
   "outputs": [
    {
     "data": {
      "text/plain": [
       "Index(['album', 'artists', 'available_markets', 'disc_number', 'duration_ms',\n",
       "       'explicit', 'external_ids', 'external_urls', 'href', 'id', 'is_local',\n",
       "       'name', 'popularity', 'preview_url', 'track_number', 'type', 'uri'],\n",
       "      dtype='object')"
      ]
     },
     "execution_count": 35,
     "metadata": {},
     "output_type": "execute_result"
    }
   ],
   "source": [
    "df.columns"
   ]
  },
  {
   "cell_type": "code",
   "execution_count": 36,
   "id": "215de2ef",
   "metadata": {},
   "outputs": [
    {
     "data": {
      "text/html": [
       "<div>\n",
       "<style scoped>\n",
       "    .dataframe tbody tr th:only-of-type {\n",
       "        vertical-align: middle;\n",
       "    }\n",
       "\n",
       "    .dataframe tbody tr th {\n",
       "        vertical-align: top;\n",
       "    }\n",
       "\n",
       "    .dataframe thead th {\n",
       "        text-align: right;\n",
       "    }\n",
       "</style>\n",
       "<table border=\"1\" class=\"dataframe\">\n",
       "  <thead>\n",
       "    <tr style=\"text-align: right;\">\n",
       "      <th></th>\n",
       "      <th>album</th>\n",
       "      <th>artists</th>\n",
       "      <th>available_markets</th>\n",
       "      <th>disc_number</th>\n",
       "      <th>duration_ms</th>\n",
       "      <th>explicit</th>\n",
       "      <th>external_ids</th>\n",
       "      <th>external_urls</th>\n",
       "      <th>href</th>\n",
       "      <th>id</th>\n",
       "      <th>is_local</th>\n",
       "      <th>name</th>\n",
       "      <th>popularity</th>\n",
       "      <th>preview_url</th>\n",
       "      <th>track_number</th>\n",
       "      <th>type</th>\n",
       "      <th>uri</th>\n",
       "    </tr>\n",
       "  </thead>\n",
       "  <tbody>\n",
       "    <tr>\n",
       "      <th>1</th>\n",
       "      <td>{'album_type': 'album', 'artists': [{'external...</td>\n",
       "      <td>[{'external_urls': {'spotify': 'https://open.s...</td>\n",
       "      <td>[AR, AU, AT, BE, BO, BR, BG, CA, CL, CO, CR, C...</td>\n",
       "      <td>1</td>\n",
       "      <td>211582</td>\n",
       "      <td>False</td>\n",
       "      <td>{'isrc': 'QZES92250144'}</td>\n",
       "      <td>{'spotify': 'https://open.spotify.com/track/5R...</td>\n",
       "      <td>https://api.spotify.com/v1/tracks/5RIKETWpcUDM...</td>\n",
       "      <td>5RIKETWpcUDMc1QNVELJzf</td>\n",
       "      <td>False</td>\n",
       "      <td>J.A.M. (Just A Minute)</td>\n",
       "      <td>42</td>\n",
       "      <td>https://p.scdn.co/mp3-preview/1b04b797141914c2...</td>\n",
       "      <td>3</td>\n",
       "      <td>track</td>\n",
       "      <td>spotify:track:5RIKETWpcUDMc1QNVELJzf</td>\n",
       "    </tr>\n",
       "    <tr>\n",
       "      <th>2</th>\n",
       "      <td>{'album_type': 'single', 'artists': [{'externa...</td>\n",
       "      <td>[{'external_urls': {'spotify': 'https://open.s...</td>\n",
       "      <td>[AR, AU, AT, BE, BO, BR, BG, CA, CL, CO, CR, C...</td>\n",
       "      <td>1</td>\n",
       "      <td>198080</td>\n",
       "      <td>False</td>\n",
       "      <td>{'isrc': 'USHM91467024'}</td>\n",
       "      <td>{'spotify': 'https://open.spotify.com/track/5y...</td>\n",
       "      <td>https://api.spotify.com/v1/tracks/5yLxXqLZeRnf...</td>\n",
       "      <td>5yLxXqLZeRnfZLk5RvhjxK</td>\n",
       "      <td>False</td>\n",
       "      <td>J.A.M.</td>\n",
       "      <td>34</td>\n",
       "      <td>https://p.scdn.co/mp3-preview/99cfd7eff755deb2...</td>\n",
       "      <td>1</td>\n",
       "      <td>track</td>\n",
       "      <td>spotify:track:5yLxXqLZeRnfZLk5RvhjxK</td>\n",
       "    </tr>\n",
       "    <tr>\n",
       "      <th>4</th>\n",
       "      <td>{'album_type': 'single', 'artists': [{'externa...</td>\n",
       "      <td>[{'external_urls': {'spotify': 'https://open.s...</td>\n",
       "      <td>[AR, AU, AT, BE, BO, BR, BG, CA, CL, CO, CR, C...</td>\n",
       "      <td>1</td>\n",
       "      <td>206020</td>\n",
       "      <td>False</td>\n",
       "      <td>{'isrc': 'AUBEC1710101'}</td>\n",
       "      <td>{'spotify': 'https://open.spotify.com/track/3F...</td>\n",
       "      <td>https://api.spotify.com/v1/tracks/3FzFUqFWx9e2...</td>\n",
       "      <td>3FzFUqFWx9e2lajbWsdt6L</td>\n",
       "      <td>False</td>\n",
       "      <td>J.A.M</td>\n",
       "      <td>26</td>\n",
       "      <td>https://p.scdn.co/mp3-preview/8ff42b361d3d69a3...</td>\n",
       "      <td>2</td>\n",
       "      <td>track</td>\n",
       "      <td>spotify:track:3FzFUqFWx9e2lajbWsdt6L</td>\n",
       "    </tr>\n",
       "    <tr>\n",
       "      <th>0</th>\n",
       "      <td>{'album_type': 'single', 'artists': [{'externa...</td>\n",
       "      <td>[{'external_urls': {'spotify': 'https://open.s...</td>\n",
       "      <td>[AR, AU, AT, BE, BO, BR, BG, CA, CL, CO, CR, C...</td>\n",
       "      <td>1</td>\n",
       "      <td>216480</td>\n",
       "      <td>True</td>\n",
       "      <td>{'isrc': 'QZDA42496200'}</td>\n",
       "      <td>{'spotify': 'https://open.spotify.com/track/3c...</td>\n",
       "      <td>https://api.spotify.com/v1/tracks/3cAYsZ7iU8NS...</td>\n",
       "      <td>3cAYsZ7iU8NSLncf28uA1R</td>\n",
       "      <td>False</td>\n",
       "      <td>J.A.M</td>\n",
       "      <td>25</td>\n",
       "      <td>https://p.scdn.co/mp3-preview/95a4a3568e4571a0...</td>\n",
       "      <td>1</td>\n",
       "      <td>track</td>\n",
       "      <td>spotify:track:3cAYsZ7iU8NSLncf28uA1R</td>\n",
       "    </tr>\n",
       "    <tr>\n",
       "      <th>3</th>\n",
       "      <td>{'album_type': 'single', 'artists': [{'externa...</td>\n",
       "      <td>[{'external_urls': {'spotify': 'https://open.s...</td>\n",
       "      <td>[AR, AU, AT, BE, BO, BR, BG, CA, CL, CO, CR, C...</td>\n",
       "      <td>1</td>\n",
       "      <td>156648</td>\n",
       "      <td>False</td>\n",
       "      <td>{'isrc': 'QZFYY2482864'}</td>\n",
       "      <td>{'spotify': 'https://open.spotify.com/track/5e...</td>\n",
       "      <td>https://api.spotify.com/v1/tracks/5ezATjbAonRo...</td>\n",
       "      <td>5ezATjbAonRoaRw41WzRsH</td>\n",
       "      <td>False</td>\n",
       "      <td>leave him</td>\n",
       "      <td>23</td>\n",
       "      <td>https://p.scdn.co/mp3-preview/9e8f6871b1d68ac0...</td>\n",
       "      <td>1</td>\n",
       "      <td>track</td>\n",
       "      <td>spotify:track:5ezATjbAonRoaRw41WzRsH</td>\n",
       "    </tr>\n",
       "  </tbody>\n",
       "</table>\n",
       "</div>"
      ],
      "text/plain": [
       "                                               album  \\\n",
       "1  {'album_type': 'album', 'artists': [{'external...   \n",
       "2  {'album_type': 'single', 'artists': [{'externa...   \n",
       "4  {'album_type': 'single', 'artists': [{'externa...   \n",
       "0  {'album_type': 'single', 'artists': [{'externa...   \n",
       "3  {'album_type': 'single', 'artists': [{'externa...   \n",
       "\n",
       "                                             artists  \\\n",
       "1  [{'external_urls': {'spotify': 'https://open.s...   \n",
       "2  [{'external_urls': {'spotify': 'https://open.s...   \n",
       "4  [{'external_urls': {'spotify': 'https://open.s...   \n",
       "0  [{'external_urls': {'spotify': 'https://open.s...   \n",
       "3  [{'external_urls': {'spotify': 'https://open.s...   \n",
       "\n",
       "                                   available_markets  disc_number  \\\n",
       "1  [AR, AU, AT, BE, BO, BR, BG, CA, CL, CO, CR, C...            1   \n",
       "2  [AR, AU, AT, BE, BO, BR, BG, CA, CL, CO, CR, C...            1   \n",
       "4  [AR, AU, AT, BE, BO, BR, BG, CA, CL, CO, CR, C...            1   \n",
       "0  [AR, AU, AT, BE, BO, BR, BG, CA, CL, CO, CR, C...            1   \n",
       "3  [AR, AU, AT, BE, BO, BR, BG, CA, CL, CO, CR, C...            1   \n",
       "\n",
       "   duration_ms  explicit              external_ids  \\\n",
       "1       211582     False  {'isrc': 'QZES92250144'}   \n",
       "2       198080     False  {'isrc': 'USHM91467024'}   \n",
       "4       206020     False  {'isrc': 'AUBEC1710101'}   \n",
       "0       216480      True  {'isrc': 'QZDA42496200'}   \n",
       "3       156648     False  {'isrc': 'QZFYY2482864'}   \n",
       "\n",
       "                                       external_urls  \\\n",
       "1  {'spotify': 'https://open.spotify.com/track/5R...   \n",
       "2  {'spotify': 'https://open.spotify.com/track/5y...   \n",
       "4  {'spotify': 'https://open.spotify.com/track/3F...   \n",
       "0  {'spotify': 'https://open.spotify.com/track/3c...   \n",
       "3  {'spotify': 'https://open.spotify.com/track/5e...   \n",
       "\n",
       "                                                href                      id  \\\n",
       "1  https://api.spotify.com/v1/tracks/5RIKETWpcUDM...  5RIKETWpcUDMc1QNVELJzf   \n",
       "2  https://api.spotify.com/v1/tracks/5yLxXqLZeRnf...  5yLxXqLZeRnfZLk5RvhjxK   \n",
       "4  https://api.spotify.com/v1/tracks/3FzFUqFWx9e2...  3FzFUqFWx9e2lajbWsdt6L   \n",
       "0  https://api.spotify.com/v1/tracks/3cAYsZ7iU8NS...  3cAYsZ7iU8NSLncf28uA1R   \n",
       "3  https://api.spotify.com/v1/tracks/5ezATjbAonRo...  5ezATjbAonRoaRw41WzRsH   \n",
       "\n",
       "   is_local                    name  popularity  \\\n",
       "1     False  J.A.M. (Just A Minute)          42   \n",
       "2     False                  J.A.M.          34   \n",
       "4     False                   J.A.M          26   \n",
       "0     False                   J.A.M          25   \n",
       "3     False               leave him          23   \n",
       "\n",
       "                                         preview_url  track_number   type  \\\n",
       "1  https://p.scdn.co/mp3-preview/1b04b797141914c2...             3  track   \n",
       "2  https://p.scdn.co/mp3-preview/99cfd7eff755deb2...             1  track   \n",
       "4  https://p.scdn.co/mp3-preview/8ff42b361d3d69a3...             2  track   \n",
       "0  https://p.scdn.co/mp3-preview/95a4a3568e4571a0...             1  track   \n",
       "3  https://p.scdn.co/mp3-preview/9e8f6871b1d68ac0...             1  track   \n",
       "\n",
       "                                    uri  \n",
       "1  spotify:track:5RIKETWpcUDMc1QNVELJzf  \n",
       "2  spotify:track:5yLxXqLZeRnfZLk5RvhjxK  \n",
       "4  spotify:track:3FzFUqFWx9e2lajbWsdt6L  \n",
       "0  spotify:track:3cAYsZ7iU8NSLncf28uA1R  \n",
       "3  spotify:track:5ezATjbAonRoaRw41WzRsH  "
      ]
     },
     "execution_count": 36,
     "metadata": {},
     "output_type": "execute_result"
    }
   ],
   "source": [
    "df.sort_values(by='popularity', ascending=False).head()"
   ]
  },
  {
   "cell_type": "code",
   "execution_count": 38,
   "id": "13ac4de0",
   "metadata": {},
   "outputs": [
    {
     "data": {
      "text/html": [
       "<div>\n",
       "<style scoped>\n",
       "    .dataframe tbody tr th:only-of-type {\n",
       "        vertical-align: middle;\n",
       "    }\n",
       "\n",
       "    .dataframe tbody tr th {\n",
       "        vertical-align: top;\n",
       "    }\n",
       "\n",
       "    .dataframe thead th {\n",
       "        text-align: right;\n",
       "    }\n",
       "</style>\n",
       "<table border=\"1\" class=\"dataframe\">\n",
       "  <thead>\n",
       "    <tr style=\"text-align: right;\">\n",
       "      <th></th>\n",
       "      <th>album</th>\n",
       "      <th>artists</th>\n",
       "      <th>available_markets</th>\n",
       "      <th>disc_number</th>\n",
       "      <th>duration_ms</th>\n",
       "      <th>explicit</th>\n",
       "      <th>external_ids</th>\n",
       "      <th>external_urls</th>\n",
       "      <th>href</th>\n",
       "      <th>id</th>\n",
       "      <th>is_local</th>\n",
       "      <th>name</th>\n",
       "      <th>popularity</th>\n",
       "      <th>preview_url</th>\n",
       "      <th>track_number</th>\n",
       "      <th>type</th>\n",
       "      <th>uri</th>\n",
       "    </tr>\n",
       "  </thead>\n",
       "  <tbody>\n",
       "    <tr>\n",
       "      <th>1</th>\n",
       "      <td>{'album_type': 'album', 'artists': [{'external...</td>\n",
       "      <td>[{'external_urls': {'spotify': 'https://open.s...</td>\n",
       "      <td>[AR, AU, AT, BE, BO, BR, BG, CA, CL, CO, CR, C...</td>\n",
       "      <td>1</td>\n",
       "      <td>211582</td>\n",
       "      <td>False</td>\n",
       "      <td>{'isrc': 'QZES92250144'}</td>\n",
       "      <td>{'spotify': 'https://open.spotify.com/track/5R...</td>\n",
       "      <td>https://api.spotify.com/v1/tracks/5RIKETWpcUDM...</td>\n",
       "      <td>5RIKETWpcUDMc1QNVELJzf</td>\n",
       "      <td>False</td>\n",
       "      <td>J.A.M. (Just A Minute)</td>\n",
       "      <td>42</td>\n",
       "      <td>https://p.scdn.co/mp3-preview/1b04b797141914c2...</td>\n",
       "      <td>3</td>\n",
       "      <td>track</td>\n",
       "      <td>spotify:track:5RIKETWpcUDMc1QNVELJzf</td>\n",
       "    </tr>\n",
       "  </tbody>\n",
       "</table>\n",
       "</div>"
      ],
      "text/plain": [
       "                                               album  \\\n",
       "1  {'album_type': 'album', 'artists': [{'external...   \n",
       "\n",
       "                                             artists  \\\n",
       "1  [{'external_urls': {'spotify': 'https://open.s...   \n",
       "\n",
       "                                   available_markets  disc_number  \\\n",
       "1  [AR, AU, AT, BE, BO, BR, BG, CA, CL, CO, CR, C...            1   \n",
       "\n",
       "   duration_ms  explicit              external_ids  \\\n",
       "1       211582     False  {'isrc': 'QZES92250144'}   \n",
       "\n",
       "                                       external_urls  \\\n",
       "1  {'spotify': 'https://open.spotify.com/track/5R...   \n",
       "\n",
       "                                                href                      id  \\\n",
       "1  https://api.spotify.com/v1/tracks/5RIKETWpcUDM...  5RIKETWpcUDMc1QNVELJzf   \n",
       "\n",
       "   is_local                    name  popularity  \\\n",
       "1     False  J.A.M. (Just A Minute)          42   \n",
       "\n",
       "                                         preview_url  track_number   type  \\\n",
       "1  https://p.scdn.co/mp3-preview/1b04b797141914c2...             3  track   \n",
       "\n",
       "                                    uri  \n",
       "1  spotify:track:5RIKETWpcUDMc1QNVELJzf  "
      ]
     },
     "execution_count": 38,
     "metadata": {},
     "output_type": "execute_result"
    }
   ],
   "source": [
    "df.sort_values(by='popularity', ascending=False).head(1)"
   ]
  },
  {
   "cell_type": "code",
   "execution_count": null,
   "id": "5156bccd",
   "metadata": {},
   "outputs": [],
   "source": [
    "# artistas relacionados"
   ]
  },
  {
   "cell_type": "code",
   "execution_count": 39,
   "id": "a5242716",
   "metadata": {},
   "outputs": [
    {
     "data": {
      "text/plain": [
       "'5e8hQQ7mqYUKlUmva9z9AK'"
      ]
     },
     "execution_count": 39,
     "metadata": {},
     "output_type": "execute_result"
    }
   ],
   "source": [
    "sp.search(q='J.A.M', limit=5)['tracks']['items'][0]['artists'][0]['id']"
   ]
  },
  {
   "cell_type": "code",
   "execution_count": 43,
   "id": "a85a2186",
   "metadata": {},
   "outputs": [],
   "source": [
    "artista_id = '6xt9sJmmyYwWkJv8A6ssiU'"
   ]
  },
  {
   "cell_type": "code",
   "execution_count": 44,
   "id": "2f8726b0",
   "metadata": {},
   "outputs": [
    {
     "data": {
      "text/plain": [
       "dict_keys(['artists'])"
      ]
     },
     "execution_count": 44,
     "metadata": {},
     "output_type": "execute_result"
    }
   ],
   "source": [
    "rel = sp.artist_related_artists(artista_id)\n",
    "\n",
    "rel.keys()"
   ]
  },
  {
   "cell_type": "code",
   "execution_count": 46,
   "id": "b4e5f44b",
   "metadata": {},
   "outputs": [
    {
     "data": {
      "text/plain": [
       "dict_keys(['external_urls', 'followers', 'genres', 'href', 'id', 'images', 'name', 'popularity', 'type', 'uri'])"
      ]
     },
     "execution_count": 46,
     "metadata": {},
     "output_type": "execute_result"
    }
   ],
   "source": [
    "rel['artists'][0].keys()"
   ]
  },
  {
   "cell_type": "code",
   "execution_count": 47,
   "id": "506a7fd3",
   "metadata": {},
   "outputs": [
    {
     "data": {
      "text/plain": [
       "'The Fearless Flyers'"
      ]
     },
     "execution_count": 47,
     "metadata": {},
     "output_type": "execute_result"
    }
   ],
   "source": [
    "rel['artists'][0]['name']"
   ]
  },
  {
   "cell_type": "code",
   "execution_count": 49,
   "id": "807d8716",
   "metadata": {},
   "outputs": [],
   "source": [
    "#rel['artists'][:2]"
   ]
  },
  {
   "cell_type": "code",
   "execution_count": 50,
   "id": "05023ea6",
   "metadata": {},
   "outputs": [
    {
     "data": {
      "text/plain": [
       "['The Fearless Flyers', 'Theo Katzman', 'Mark Lettieri']"
      ]
     },
     "execution_count": 50,
     "metadata": {},
     "output_type": "execute_result"
    }
   ],
   "source": [
    "[e['name'] for e in rel['artists'][:3]]"
   ]
  },
  {
   "cell_type": "code",
   "execution_count": 51,
   "id": "05275903",
   "metadata": {},
   "outputs": [],
   "source": [
    "res = []\n",
    "\n",
    "\n",
    "for e in rel['artists']:\n",
    "    \n",
    "    res.append(e['name'])"
   ]
  },
  {
   "cell_type": "code",
   "execution_count": 52,
   "id": "20a652c3",
   "metadata": {},
   "outputs": [
    {
     "data": {
      "text/plain": [
       "['The Fearless Flyers',\n",
       " 'Theo Katzman',\n",
       " 'Mark Lettieri',\n",
       " 'Woody Goss',\n",
       " 'Vulfmon',\n",
       " 'Vulfpeck',\n",
       " 'Dirty Loops',\n",
       " 'Joey Dosik',\n",
       " 'Cory Henry',\n",
       " 'Louis Cole',\n",
       " 'Ghost-Note',\n",
       " 'Nate Smith',\n",
       " 'Busty and the Bass',\n",
       " 'Scary Pockets',\n",
       " 'Snarky Puppy',\n",
       " 'Shaun Martin',\n",
       " 'Antwaun Stanley',\n",
       " 'The Funky Knuckles',\n",
       " 'Organ Freeman',\n",
       " 'Scary Goldings']"
      ]
     },
     "execution_count": 52,
     "metadata": {},
     "output_type": "execute_result"
    }
   ],
   "source": [
    "res"
   ]
  },
  {
   "cell_type": "code",
   "execution_count": 53,
   "id": "53c49190",
   "metadata": {},
   "outputs": [],
   "source": [
    "def related_artists(artista, limit=5):\n",
    "    \n",
    "    art_id = sp.search(q=artista, limit=1)['tracks']['items'][0]['artists'][0]['id']\n",
    "    \n",
    "    \n",
    "    rel = sp.artist_related_artists(art_id)\n",
    "    \n",
    "    \n",
    "    res = [e['name'] for e in rel['artists'][:limit]]\n",
    "    \n",
    "    \n",
    "    return res\n",
    "    "
   ]
  },
  {
   "cell_type": "code",
   "execution_count": 54,
   "id": "d66c8006",
   "metadata": {},
   "outputs": [
    {
     "data": {
      "text/plain": [
       "['Aerofeel5', 'Red Machine', 'Krypta', 'Reza Golroo', 'Pastiche']"
      ]
     },
     "execution_count": 54,
     "metadata": {},
     "output_type": "execute_result"
    }
   ],
   "source": [
    "related_artists('Vulfpeck')"
   ]
  },
  {
   "cell_type": "code",
   "execution_count": 55,
   "id": "2026cb2a",
   "metadata": {},
   "outputs": [
    {
     "data": {
      "text/plain": [
       "['Gabinete Caligari',\n",
       " 'Nacha Pop',\n",
       " 'Danza Invisible',\n",
       " 'Los Ronaldos',\n",
       " 'La Frontera']"
      ]
     },
     "execution_count": 55,
     "metadata": {},
     "output_type": "execute_result"
    }
   ],
   "source": [
    "related_artists('Radio Futura')"
   ]
  },
  {
   "cell_type": "code",
   "execution_count": 56,
   "id": "4bd93c97",
   "metadata": {},
   "outputs": [
    {
     "data": {
      "text/plain": [
       "['Kaiser Chiefs',\n",
       " 'The Libertines',\n",
       " 'Razorlight',\n",
       " \"Noel Gallagher's High Flying Birds\",\n",
       " 'Franz Ferdinand',\n",
       " 'Courteeners',\n",
       " 'Klaxons',\n",
       " 'Hard-FI',\n",
       " 'The Fratellis',\n",
       " 'Stereophonics']"
      ]
     },
     "execution_count": 56,
     "metadata": {},
     "output_type": "execute_result"
    }
   ],
   "source": [
    "related_artists('Kasabian', 10)"
   ]
  },
  {
   "cell_type": "code",
   "execution_count": 57,
   "id": "28a93b91",
   "metadata": {},
   "outputs": [
    {
     "data": {
      "text/plain": [
       "['Spice Girls',\n",
       " 'Christina Aguilera',\n",
       " 'Jennifer Lopez',\n",
       " 'Gwen Stefani',\n",
       " 'The Pussycat Dolls',\n",
       " 'Fergie',\n",
       " 'Kesha',\n",
       " 'Nelly Furtado',\n",
       " 'Avril Lavigne',\n",
       " 'Madonna']"
      ]
     },
     "execution_count": 57,
     "metadata": {},
     "output_type": "execute_result"
    }
   ],
   "source": [
    "related_artists('Britney Spears', 10)"
   ]
  },
  {
   "cell_type": "code",
   "execution_count": 58,
   "id": "2877f5af",
   "metadata": {},
   "outputs": [
    {
     "data": {
      "text/plain": [
       "['KISS',\n",
       " 'Aerosmith',\n",
       " 'Van Halen',\n",
       " \"Guns N' Roses\",\n",
       " 'Ozzy Osbourne',\n",
       " 'Black Sabbath',\n",
       " 'Iron Maiden',\n",
       " 'Alice Cooper',\n",
       " 'ZZ Top',\n",
       " 'Scorpions']"
      ]
     },
     "execution_count": 58,
     "metadata": {},
     "output_type": "execute_result"
    }
   ],
   "source": [
    "related_artists('acdc', 10)"
   ]
  },
  {
   "cell_type": "code",
   "execution_count": 65,
   "id": "ab60762c",
   "metadata": {},
   "outputs": [
    {
     "data": {
      "text/plain": [
       "'37i9dQZF1DWY7IeIP1cdjF'"
      ]
     },
     "execution_count": 65,
     "metadata": {},
     "output_type": "execute_result"
    }
   ],
   "source": [
    "# playlist\n",
    "\n",
    "sp.featured_playlists()['playlists']['items'][-1]['id']"
   ]
  },
  {
   "cell_type": "code",
   "execution_count": 66,
   "id": "8be981ae",
   "metadata": {},
   "outputs": [
    {
     "data": {
      "text/plain": [
       "'37i9dQZF1DWY7IeIP1cdjF'"
      ]
     },
     "execution_count": 66,
     "metadata": {},
     "output_type": "execute_result"
    }
   ],
   "source": [
    "play_id = sp.featured_playlists()['playlists']['items'][-1]['id']\n",
    "\n",
    "play_id"
   ]
  },
  {
   "cell_type": "code",
   "execution_count": 68,
   "id": "a7f27952",
   "metadata": {},
   "outputs": [],
   "source": [
    "#sp.playlist_tracks(play_id)"
   ]
  },
  {
   "cell_type": "code",
   "execution_count": 69,
   "id": "7ba716ba",
   "metadata": {},
   "outputs": [],
   "source": [
    "#help(sp)"
   ]
  },
  {
   "cell_type": "code",
   "execution_count": 70,
   "id": "5fa51dc6",
   "metadata": {},
   "outputs": [
    {
     "data": {
      "text/plain": [
       "dict_keys(['collaborative', 'description', 'external_urls', 'followers', 'href', 'id', 'images', 'name', 'owner', 'primary_color', 'public', 'snapshot_id', 'tracks', 'type', 'uri'])"
      ]
     },
     "execution_count": 70,
     "metadata": {},
     "output_type": "execute_result"
    }
   ],
   "source": [
    "sp.playlist(play_id).keys()"
   ]
  },
  {
   "cell_type": "code",
   "execution_count": 71,
   "id": "56397f9c",
   "metadata": {},
   "outputs": [
    {
     "data": {
      "text/plain": [
       "'Baila Reggaeton'"
      ]
     },
     "execution_count": 71,
     "metadata": {},
     "output_type": "execute_result"
    }
   ],
   "source": [
    "sp.playlist(play_id)['name']"
   ]
  },
  {
   "cell_type": "code",
   "execution_count": 72,
   "id": "024a16cc",
   "metadata": {},
   "outputs": [
    {
     "data": {
      "text/plain": [
       "'Reggaeton hits from Darell, Ozuna, Maluma and more.🔥🥵'"
      ]
     },
     "execution_count": 72,
     "metadata": {},
     "output_type": "execute_result"
    }
   ],
   "source": [
    "sp.playlist(play_id)['description']"
   ]
  },
  {
   "cell_type": "code",
   "execution_count": 73,
   "id": "64d3cd5f",
   "metadata": {},
   "outputs": [
    {
     "data": {
      "text/plain": [
       "'37i9dQZF1DWY7IeIP1cdjF'"
      ]
     },
     "execution_count": 73,
     "metadata": {},
     "output_type": "execute_result"
    }
   ],
   "source": [
    "sp.playlist(play_id)['id']"
   ]
  },
  {
   "cell_type": "code",
   "execution_count": 74,
   "id": "51696b48",
   "metadata": {},
   "outputs": [
    {
     "data": {
      "text/plain": [
       "dict_keys(['href', 'items', 'limit', 'next', 'offset', 'previous', 'total'])"
      ]
     },
     "execution_count": 74,
     "metadata": {},
     "output_type": "execute_result"
    }
   ],
   "source": [
    "sp.playlist_tracks(play_id).keys()"
   ]
  },
  {
   "cell_type": "code",
   "execution_count": 80,
   "id": "344f2744",
   "metadata": {},
   "outputs": [
    {
     "data": {
      "text/plain": [
       "'Lollipop - Remix'"
      ]
     },
     "execution_count": 80,
     "metadata": {},
     "output_type": "execute_result"
    }
   ],
   "source": [
    "tracks = sp.playlist_tracks(play_id)['items']\n",
    "\n",
    "tracks[0]['track']['name']"
   ]
  },
  {
   "cell_type": "code",
   "execution_count": 81,
   "id": "75398c31",
   "metadata": {},
   "outputs": [
    {
     "data": {
      "text/plain": [
       "['Lollipop - Remix',\n",
       " 'PERRO NEGRO',\n",
       " 'LA FALDA',\n",
       " 'SI SABE FERXXO',\n",
       " 'DILUVIO',\n",
       " 'OKI DOKI',\n",
       " 'LUNA',\n",
       " 'No Te Quieren Conmigo',\n",
       " 'BELLAKEO',\n",
       " 'BAD BOY',\n",
       " 'Gafas Negras',\n",
       " 'Perdió Este Culo',\n",
       " 'El Amor de tu Vida (feat. Lenny Tavárez & Best) - Remix',\n",
       " 'UNA NOTi',\n",
       " 'Pa Ti Estoy',\n",
       " 'Reggaeton Champagne',\n",
       " 'Tacos Gucci',\n",
       " 'QUEMA',\n",
       " 'Mi Otra Mitad (Remix)',\n",
       " 'CLASSY 101',\n",
       " 'UNA NOCHE EN MEDELLÍN - REMIX',\n",
       " 'El Cielo',\n",
       " 'Daytona',\n",
       " 'Columbia',\n",
       " 'Apocalipsis',\n",
       " 'QLONA',\n",
       " 'LUCES DE COLORES',\n",
       " 'Pórtate Mal',\n",
       " 'CUAL ES ESA',\n",
       " 'Chulo pt.2',\n",
       " 'Xxx_Rosario_xxX',\n",
       " 'Holanda',\n",
       " 'Mis Amigas',\n",
       " 'LALA',\n",
       " 'Karma',\n",
       " 'GATITA GANGSTER',\n",
       " 'Linea Del Perreo',\n",
       " 'Corazón Roto pt. 3',\n",
       " 'MALIANTEO',\n",
       " 'El Plan',\n",
       " 'La Bebe - Remix',\n",
       " 'UN PREVIEW',\n",
       " 'ID',\n",
       " 'Hey Mor',\n",
       " 'Ex-Special',\n",
       " 'PICARDÍA',\n",
       " 'POLARIS - Remix',\n",
       " 'Yankee 150',\n",
       " 'Pa la Proxima',\n",
       " 'Labios Mordidos (with KAROL G)']"
      ]
     },
     "execution_count": 81,
     "metadata": {},
     "output_type": "execute_result"
    }
   ],
   "source": [
    "[e['track']['name'] for e in tracks]"
   ]
  },
  {
   "cell_type": "code",
   "execution_count": 85,
   "id": "de3f8ba4",
   "metadata": {},
   "outputs": [
    {
     "data": {
      "text/plain": [
       "'Darell'"
      ]
     },
     "execution_count": 85,
     "metadata": {},
     "output_type": "execute_result"
    }
   ],
   "source": [
    "tracks[0]['track']['artists'][0]['name']"
   ]
  },
  {
   "cell_type": "code",
   "execution_count": 86,
   "id": "13d4eb15",
   "metadata": {},
   "outputs": [
    {
     "data": {
      "text/plain": [
       "['Darell',\n",
       " 'Bad Bunny',\n",
       " 'Myke Towers',\n",
       " 'Blessd',\n",
       " 'Rauw Alejandro',\n",
       " 'KAROL G',\n",
       " 'Feid',\n",
       " 'Gaby Music',\n",
       " 'Peso Pluma',\n",
       " 'Chris Jedi',\n",
       " 'Maluma',\n",
       " 'Bad Gyal',\n",
       " 'Gino Mella',\n",
       " 'Omar Courtz',\n",
       " 'Ozuna',\n",
       " 'Bellakath',\n",
       " 'Anuel AA',\n",
       " 'Ryan Castro',\n",
       " 'Elio Leiros',\n",
       " 'Feid',\n",
       " 'KAROL G',\n",
       " 'Sky Rompiendo',\n",
       " 'Cris Mj',\n",
       " 'Quevedo',\n",
       " 'Ñengo Flow',\n",
       " 'KAROL G',\n",
       " 'Omar Courtz',\n",
       " 'SOG',\n",
       " 'Feid',\n",
       " 'Bad Gyal',\n",
       " 'Saiko',\n",
       " 'Jhayco',\n",
       " 'Brray',\n",
       " 'Myke Towers',\n",
       " 'Yandel',\n",
       " 'KAROL G',\n",
       " 'Uzielito Mix',\n",
       " 'Brray',\n",
       " 'The Rudeboyz',\n",
       " 'Ozuna',\n",
       " 'Yng Lvcas',\n",
       " 'Bad Bunny',\n",
       " 'Young Miko',\n",
       " 'Ozuna',\n",
       " 'Jhayco',\n",
       " 'Rauw Alejandro',\n",
       " 'Saiko',\n",
       " 'Yandel',\n",
       " 'Cosculluela',\n",
       " 'Kali Uchis']"
      ]
     },
     "execution_count": 86,
     "metadata": {},
     "output_type": "execute_result"
    }
   ],
   "source": [
    "[e['track']['artists'][0]['name'] for e in tracks]"
   ]
  },
  {
   "cell_type": "code",
   "execution_count": 87,
   "id": "a3fd3cbd",
   "metadata": {},
   "outputs": [
    {
     "data": {
      "text/plain": [
       "['The Communards',\n",
       " 'Bronski Beat',\n",
       " 'Kajagoogoo',\n",
       " 'Fine Young Cannibals',\n",
       " 'Jimmy Somerville',\n",
       " 'Ultravox',\n",
       " 'ABC',\n",
       " 'Thompson Twins',\n",
       " 'Spandau Ballet',\n",
       " 'The Human League']"
      ]
     },
     "execution_count": 87,
     "metadata": {},
     "output_type": "execute_result"
    }
   ],
   "source": [
    "related_artists('Frankie Goes to Hollywood', 10)"
   ]
  },
  {
   "cell_type": "code",
   "execution_count": 88,
   "id": "c2772bf7",
   "metadata": {},
   "outputs": [
    {
     "name": "stdout",
     "output_type": "stream",
     "text": [
      "1. Éxitos España - 37i9dQZF1DXaxEKcoCdWHD\n",
      "2. PEGAO - 37i9dQZF1DX1HCSfq0nSal\n",
      "3. Viva Latino - 37i9dQZF1DX10zKzsJ2jva\n",
      "4. temardos - 37i9dQZF1DX8jrCoV9Ccve\n",
      "5. Viral España 2024 - 37i9dQZF1DWVJv1UsWItkB\n",
      "\n",
      "Chosen Playlist Details:\n",
      "Name: Éxitos España\n",
      "Description: Los hits de ahora en la playlist más grande de España. Feat. Quevedo\n",
      "Total Tracks: 50\n",
      "\n",
      "First 10 Tracks:\n",
      "Buscando Money\n",
      "M.A.I\n",
      "X'CLUSIVO\n",
      "LA ÚLTIMA\n",
      "Una Foto Remix (feat. Emilia)\n",
      "Japoni (feat. Camin, Moncho Chavea, Jthyago & Samueliyo Baby)\n",
      "Manos Rotas\n",
      "LA CAPI\n",
      "UNA BACHATA\n",
      "No Te Quieren Conmigo\n",
      "\n",
      "Track-Artist Mapping:\n",
      "Buscando Money: TWENTY SIX, Tayson Kryss\n",
      "M.A.I: Milo j\n",
      "X'CLUSIVO: Gonzy\n",
      "LA ÚLTIMA: Quevedo\n",
      "Una Foto Remix (feat. Emilia): Mesita, Nicki Nicole, Tiago PZK, Emilia\n",
      "Japoni (feat. Camin, Moncho Chavea, Jthyago & Samueliyo Baby): Oscar el Ruso, Samuel G, Omar Montes, Camin, Moncho Chavea, Jthyago, Samueliyo Baby\n",
      "Manos Rotas: DELLAFUENTE, Morad\n",
      "LA CAPI: Myke Towers\n",
      "UNA BACHATA: Lola Indigo, Saiko\n",
      "No Te Quieren Conmigo: Gaby Music, Lunay, Luar La L\n"
     ]
    }
   ],
   "source": [
    "# ejer 2\n",
    "\n",
    "\n",
    "# 1. Featured Exploration\n",
    "featured = sp.featured_playlists(limit=5)\n",
    "\n",
    "for idx, playlist in enumerate(featured['playlists']['items'], 1):\n",
    "    \n",
    "    print(f\"{idx}. {playlist['name']} - {playlist['id']}\")\n",
    "\n",
    "    \n",
    "    \n",
    "    \n",
    "# Let's choose the first playlist for simplicity (you can choose any)\n",
    "chosen_playlist_id = featured['playlists']['items'][0]['id']\n",
    "\n",
    "\n",
    "\n",
    "\n",
    "# 2. Deep Dive\n",
    "playlist_details = sp.playlist(chosen_playlist_id)\n",
    "print(\"\\nChosen Playlist Details:\")\n",
    "print(f\"Name: {playlist_details['name']}\")\n",
    "print(f\"Description: {playlist_details['description']}\")\n",
    "print(f\"Total Tracks: {playlist_details['tracks']['total']}\")\n",
    "\n",
    "\n",
    "\n",
    "\n",
    "# 3. Track-tastic\n",
    "tracks = sp.playlist_tracks(chosen_playlist_id, limit=10)\n",
    "print(\"\\nFirst 10 Tracks:\")\n",
    "for track in tracks['items']:\n",
    "    print(track['track']['name'])\n",
    "\n",
    "    \n",
    "    \n",
    "    \n",
    "    \n",
    "# 4. Artistic Flair\n",
    "track_artist_dict = {}\n",
    "for track_item in tracks['items']:\n",
    "    track_name = track_item['track']['name']\n",
    "    artists = [artist['name'] for artist in track_item['track']['artists']]\n",
    "    track_artist_dict[track_name] = artists\n",
    "\n",
    "    \n",
    "    \n",
    "    \n",
    "    \n",
    "print(\"\\nTrack-Artist Mapping:\")\n",
    "for track, artists in track_artist_dict.items():\n",
    "    print(f\"{track}: {', '.join(artists)}\")\n"
   ]
  },
  {
   "cell_type": "code",
   "execution_count": null,
   "id": "68c937e9",
   "metadata": {},
   "outputs": [],
   "source": [
    "import requests as req\n",
    "\n",
    "url = 'https://pokeapi.co/api/v2/ability/'\n",
    "\n",
    "res = req.get(url).json()"
   ]
  },
  {
   "cell_type": "code",
   "execution_count": null,
   "id": "15687585",
   "metadata": {},
   "outputs": [],
   "source": [
    "res"
   ]
  },
  {
   "cell_type": "code",
   "execution_count": null,
   "id": "6893c028",
   "metadata": {},
   "outputs": [],
   "source": []
  }
 ],
 "metadata": {
  "kernelspec": {
   "display_name": "clase",
   "language": "python",
   "name": "clase"
  },
  "language_info": {
   "codemirror_mode": {
    "name": "ipython",
    "version": 3
   },
   "file_extension": ".py",
   "mimetype": "text/x-python",
   "name": "python",
   "nbconvert_exporter": "python",
   "pygments_lexer": "ipython3",
   "version": "3.9.12"
  }
 },
 "nbformat": 4,
 "nbformat_minor": 5
}
