{
 "cells": [
  {
   "cell_type": "code",
   "execution_count": 1,
   "id": "23b91ac0",
   "metadata": {},
   "outputs": [],
   "source": [
    "CLIENT_ID = \"4109b2d9f5014671863bb2df1d1fbdd3\"\n",
    "CLIENT_SECRET = \"5cb719fae80c4191a9c0b288f51bfe50\""
   ]
  },
  {
   "cell_type": "code",
   "execution_count": 2,
   "id": "89b6b75f",
   "metadata": {},
   "outputs": [],
   "source": [
    "#%pip install spotipy"
   ]
  },
  {
   "cell_type": "code",
   "execution_count": 3,
   "id": "c880a641",
   "metadata": {},
   "outputs": [],
   "source": [
    "import spotipy\n",
    "from spotipy.oauth2 import SpotifyClientCredentials\n",
    "\n",
    "#Initialize SpotiPy with user credentials\n",
    "sp = spotipy.Spotify(auth_manager=SpotifyClientCredentials(client_id=CLIENT_ID,\n",
    "                                                           client_secret=CLIENT_SECRET))\n"
   ]
  },
  {
   "cell_type": "code",
   "execution_count": 4,
   "id": "c3c37a17",
   "metadata": {},
   "outputs": [
    {
     "data": {
      "text/plain": [
       "dict_keys(['tracks'])"
      ]
     },
     "execution_count": 4,
     "metadata": {},
     "output_type": "execute_result"
    }
   ],
   "source": [
    "results = sp.search(q='Lady Gaga', limit=50)\n",
    "\n",
    "results.keys()"
   ]
  },
  {
   "cell_type": "code",
   "execution_count": 11,
   "id": "93876d48",
   "metadata": {},
   "outputs": [],
   "source": [
    "# 1. List Your Favorite Artists\n",
    "artists = [\"Muchachito Bombo Infierno\", 'J.A.M', 'Soil an Pimp Sessions', 'Vulfpeck']\n"
   ]
  },
  {
   "cell_type": "code",
   "execution_count": 31,
   "id": "c65bf9fc",
   "metadata": {},
   "outputs": [
    {
     "data": {
      "text/plain": [
       "'J.A.M. (Just A Minute)'"
      ]
     },
     "execution_count": 31,
     "metadata": {},
     "output_type": "execute_result"
    }
   ],
   "source": [
    "sp.search(q='J.A.M', limit=5)['tracks']['items'][0]['name']"
   ]
  },
  {
   "cell_type": "code",
   "execution_count": 15,
   "id": "b664f38f",
   "metadata": {},
   "outputs": [
    {
     "data": {
      "text/plain": [
       "['J.A.M. (Just A Minute)',\n",
       " 'J.A.M.',\n",
       " 'J.A.M',\n",
       " 'Sing Without You - Reprise',\n",
       " 'J.A.M']"
      ]
     },
     "execution_count": 15,
     "metadata": {},
     "output_type": "execute_result"
    }
   ],
   "source": [
    "[e['name'] for e in sp.search(q='J.A.M', limit=5)['tracks']['items']]"
   ]
  },
  {
   "cell_type": "code",
   "execution_count": 21,
   "id": "d68f885e",
   "metadata": {},
   "outputs": [],
   "source": [
    "items = sp.search(q='Vulfpeck', limit=5)['tracks']['items']\n",
    "\n",
    "lst = []\n",
    "\n",
    "\n",
    "for e in items:\n",
    "    \n",
    "    lst.append(e['name'])"
   ]
  },
  {
   "cell_type": "code",
   "execution_count": 22,
   "id": "d9efa1cc",
   "metadata": {},
   "outputs": [
    {
     "data": {
      "text/plain": [
       "['Christmas in L.A.',\n",
       " 'Back Pocket',\n",
       " 'Wait for the Moment',\n",
       " 'Vulfpeck',\n",
       " 'Animal Spirits']"
      ]
     },
     "execution_count": 22,
     "metadata": {},
     "output_type": "execute_result"
    }
   ],
   "source": [
    "lst"
   ]
  },
  {
   "cell_type": "code",
   "execution_count": 24,
   "id": "3ca1ca72",
   "metadata": {},
   "outputs": [],
   "source": [
    "def get_top_tracks(artista: str, limit: int=5) -> list:\n",
    "    \n",
    "    items = sp.search(q=artista, limit=limit)['tracks']['items']\n",
    "    \n",
    "    res = [e['name'] for e in items]\n",
    "    \n",
    "    return res"
   ]
  },
  {
   "cell_type": "code",
   "execution_count": 25,
   "id": "83d7cab2",
   "metadata": {},
   "outputs": [
    {
     "data": {
      "text/plain": [
       "['Veneno en la Piel',\n",
       " 'Veneno en la Piel',\n",
       " 'Escuela de Calor',\n",
       " 'Escuela de Calor',\n",
       " 'A Cara o Cruz']"
      ]
     },
     "execution_count": 25,
     "metadata": {},
     "output_type": "execute_result"
    }
   ],
   "source": [
    "get_top_tracks('Radio Futura')"
   ]
  },
  {
   "cell_type": "code",
   "execution_count": 27,
   "id": "5bffe9fe",
   "metadata": {},
   "outputs": [
    {
     "data": {
      "text/plain": [
       "['Custer',\n",
       " 'Duality',\n",
       " 'Slipknot',\n",
       " 'Psychosocial',\n",
       " 'The Devil in I',\n",
       " 'Before I Forget',\n",
       " 'Wait and Bleed',\n",
       " 'Wait and Bleed',\n",
       " 'Spit It Out',\n",
       " 'Eyeless']"
      ]
     },
     "execution_count": 27,
     "metadata": {},
     "output_type": "execute_result"
    }
   ],
   "source": [
    "get_top_tracks('Slipknot', 10)"
   ]
  },
  {
   "cell_type": "code",
   "execution_count": 29,
   "id": "146c3c51",
   "metadata": {},
   "outputs": [
    {
     "data": {
      "text/plain": [
       "['the last story of the myth',\n",
       " 'Butterfly Effect',\n",
       " '不可思議のカルテ',\n",
       " 'LIFE',\n",
       " '夜間航路 - Album Mix',\n",
       " 'capture the Initial \"F\"(2021 NEW TAKE)',\n",
       " 'THEME FROM LUPIN vs CAT’S EYE',\n",
       " 'Acceleration']"
      ]
     },
     "execution_count": 29,
     "metadata": {},
     "output_type": "execute_result"
    }
   ],
   "source": [
    "get_top_tracks('Fox Capture Plan', 8)"
   ]
  },
  {
   "cell_type": "code",
   "execution_count": 32,
   "id": "8762f064",
   "metadata": {},
   "outputs": [
    {
     "data": {
      "text/plain": [
       "['Muchachito Bombo Infierno', 'J.A.M', 'Soil an Pimp Sessions', 'Vulfpeck']"
      ]
     },
     "execution_count": 32,
     "metadata": {},
     "output_type": "execute_result"
    }
   ],
   "source": [
    "artists"
   ]
  },
  {
   "cell_type": "code",
   "execution_count": 33,
   "id": "0e0db957",
   "metadata": {},
   "outputs": [],
   "source": [
    "res = []\n",
    "\n",
    "for art in artists:\n",
    "    \n",
    "    res.append(get_top_tracks(art, 10))"
   ]
  },
  {
   "cell_type": "code",
   "execution_count": 34,
   "id": "dbe31ed6",
   "metadata": {},
   "outputs": [
    {
     "data": {
      "text/plain": [
       "[['La quiero a morir',\n",
       "  'Muchachita Consentida',\n",
       "  'Siempre que quiera',\n",
       "  'Muchacho De Campo',\n",
       "  'Tu nombre',\n",
       "  'Muchacho Fracasado',\n",
       "  'Luna',\n",
       "  'Muchachitos Feat. Humbe',\n",
       "  'Será mejor',\n",
       "  'Muchacho Pobre'],\n",
       " ['J.A.M. (Just A Minute)',\n",
       "  'J.A.M.',\n",
       "  'J.A.M',\n",
       "  'Sing Without You - Reprise',\n",
       "  'J.A.M',\n",
       "  'Sign',\n",
       "  'J.A.M',\n",
       "  'J.A.M',\n",
       "  'After Brazil',\n",
       "  'J.A.M'],\n",
       " ['Paraiso(『ミチコとハッチン』オープニングテーマ TVヴァージョン80秒)',\n",
       "  'Paraiso',\n",
       "  'Fantastic Planet',\n",
       "  'Double Trouble',\n",
       "  'Blue Eyed Monster',\n",
       "  'Storm',\n",
       "  'In The Twilight',\n",
       "  'Waltz For Goddess',\n",
       "  'Crush!',\n",
       "  'Spartacus Love Theme'],\n",
       " ['Christmas in L.A.',\n",
       "  'Back Pocket',\n",
       "  'Wait for the Moment',\n",
       "  'Vulfpeck',\n",
       "  'Animal Spirits',\n",
       "  'Vulfpeck',\n",
       "  '1612',\n",
       "  'LAX',\n",
       "  'Vulfpeck',\n",
       "  'Simple Step']]"
      ]
     },
     "execution_count": 34,
     "metadata": {},
     "output_type": "execute_result"
    }
   ],
   "source": [
    "res"
   ]
  },
  {
   "cell_type": "code",
   "execution_count": 37,
   "id": "cd9e1789",
   "metadata": {},
   "outputs": [],
   "source": [
    "import pandas as pd\n",
    "\n",
    "df = pd.DataFrame(sp.search(q='J.A.M', limit=5)['tracks']['items'])"
   ]
  },
  {
   "cell_type": "code",
   "execution_count": 38,
   "id": "25119f6d",
   "metadata": {},
   "outputs": [
    {
     "data": {
      "text/plain": [
       "Index(['album', 'artists', 'available_markets', 'disc_number', 'duration_ms',\n",
       "       'explicit', 'external_ids', 'external_urls', 'href', 'id', 'is_local',\n",
       "       'name', 'popularity', 'preview_url', 'track_number', 'type', 'uri'],\n",
       "      dtype='object')"
      ]
     },
     "execution_count": 38,
     "metadata": {},
     "output_type": "execute_result"
    }
   ],
   "source": [
    "df.columns"
   ]
  },
  {
   "cell_type": "code",
   "execution_count": 41,
   "id": "215de2ef",
   "metadata": {},
   "outputs": [
    {
     "data": {
      "text/html": [
       "<div>\n",
       "<style scoped>\n",
       "    .dataframe tbody tr th:only-of-type {\n",
       "        vertical-align: middle;\n",
       "    }\n",
       "\n",
       "    .dataframe tbody tr th {\n",
       "        vertical-align: top;\n",
       "    }\n",
       "\n",
       "    .dataframe thead th {\n",
       "        text-align: right;\n",
       "    }\n",
       "</style>\n",
       "<table border=\"1\" class=\"dataframe\">\n",
       "  <thead>\n",
       "    <tr style=\"text-align: right;\">\n",
       "      <th></th>\n",
       "      <th>album</th>\n",
       "      <th>artists</th>\n",
       "      <th>available_markets</th>\n",
       "      <th>disc_number</th>\n",
       "      <th>duration_ms</th>\n",
       "      <th>explicit</th>\n",
       "      <th>external_ids</th>\n",
       "      <th>external_urls</th>\n",
       "      <th>href</th>\n",
       "      <th>id</th>\n",
       "      <th>is_local</th>\n",
       "      <th>name</th>\n",
       "      <th>popularity</th>\n",
       "      <th>preview_url</th>\n",
       "      <th>track_number</th>\n",
       "      <th>type</th>\n",
       "      <th>uri</th>\n",
       "    </tr>\n",
       "  </thead>\n",
       "  <tbody>\n",
       "    <tr>\n",
       "      <th>0</th>\n",
       "      <td>{'album_type': 'album', 'artists': [{'external...</td>\n",
       "      <td>[{'external_urls': {'spotify': 'https://open.s...</td>\n",
       "      <td>[AR, AU, AT, BE, BO, BR, BG, CA, CL, CO, CR, C...</td>\n",
       "      <td>1</td>\n",
       "      <td>211582</td>\n",
       "      <td>False</td>\n",
       "      <td>{'isrc': 'QZES92250144'}</td>\n",
       "      <td>{'spotify': 'https://open.spotify.com/track/5R...</td>\n",
       "      <td>https://api.spotify.com/v1/tracks/5RIKETWpcUDM...</td>\n",
       "      <td>5RIKETWpcUDMc1QNVELJzf</td>\n",
       "      <td>False</td>\n",
       "      <td>J.A.M. (Just A Minute)</td>\n",
       "      <td>41</td>\n",
       "      <td>https://p.scdn.co/mp3-preview/1b04b797141914c2...</td>\n",
       "      <td>3</td>\n",
       "      <td>track</td>\n",
       "      <td>spotify:track:5RIKETWpcUDMc1QNVELJzf</td>\n",
       "    </tr>\n",
       "    <tr>\n",
       "      <th>3</th>\n",
       "      <td>{'album_type': 'album', 'artists': [{'external...</td>\n",
       "      <td>[{'external_urls': {'spotify': 'https://open.s...</td>\n",
       "      <td>[CA, MX, US]</td>\n",
       "      <td>1</td>\n",
       "      <td>88684</td>\n",
       "      <td>False</td>\n",
       "      <td>{'isrc': 'JPVI01220480'}</td>\n",
       "      <td>{'spotify': 'https://open.spotify.com/track/31...</td>\n",
       "      <td>https://api.spotify.com/v1/tracks/31rOPMSe9q7G...</td>\n",
       "      <td>31rOPMSe9q7Got3QKIURdx</td>\n",
       "      <td>False</td>\n",
       "      <td>Sing Without You - Reprise</td>\n",
       "      <td>36</td>\n",
       "      <td>https://p.scdn.co/mp3-preview/404f385d2de36bb0...</td>\n",
       "      <td>3</td>\n",
       "      <td>track</td>\n",
       "      <td>spotify:track:31rOPMSe9q7Got3QKIURdx</td>\n",
       "    </tr>\n",
       "    <tr>\n",
       "      <th>1</th>\n",
       "      <td>{'album_type': 'single', 'artists': [{'externa...</td>\n",
       "      <td>[{'external_urls': {'spotify': 'https://open.s...</td>\n",
       "      <td>[AR, AU, AT, BE, BO, BR, BG, CA, CL, CO, CR, C...</td>\n",
       "      <td>1</td>\n",
       "      <td>198080</td>\n",
       "      <td>False</td>\n",
       "      <td>{'isrc': 'USHM91467024'}</td>\n",
       "      <td>{'spotify': 'https://open.spotify.com/track/5y...</td>\n",
       "      <td>https://api.spotify.com/v1/tracks/5yLxXqLZeRnf...</td>\n",
       "      <td>5yLxXqLZeRnfZLk5RvhjxK</td>\n",
       "      <td>False</td>\n",
       "      <td>J.A.M.</td>\n",
       "      <td>33</td>\n",
       "      <td>https://p.scdn.co/mp3-preview/99cfd7eff755deb2...</td>\n",
       "      <td>1</td>\n",
       "      <td>track</td>\n",
       "      <td>spotify:track:5yLxXqLZeRnfZLk5RvhjxK</td>\n",
       "    </tr>\n",
       "    <tr>\n",
       "      <th>2</th>\n",
       "      <td>{'album_type': 'single', 'artists': [{'externa...</td>\n",
       "      <td>[{'external_urls': {'spotify': 'https://open.s...</td>\n",
       "      <td>[AR, AU, AT, BE, BO, BR, BG, CA, CL, CO, CR, C...</td>\n",
       "      <td>1</td>\n",
       "      <td>206020</td>\n",
       "      <td>False</td>\n",
       "      <td>{'isrc': 'AUBEC1710101'}</td>\n",
       "      <td>{'spotify': 'https://open.spotify.com/track/3F...</td>\n",
       "      <td>https://api.spotify.com/v1/tracks/3FzFUqFWx9e2...</td>\n",
       "      <td>3FzFUqFWx9e2lajbWsdt6L</td>\n",
       "      <td>False</td>\n",
       "      <td>J.A.M</td>\n",
       "      <td>25</td>\n",
       "      <td>https://p.scdn.co/mp3-preview/8ff42b361d3d69a3...</td>\n",
       "      <td>2</td>\n",
       "      <td>track</td>\n",
       "      <td>spotify:track:3FzFUqFWx9e2lajbWsdt6L</td>\n",
       "    </tr>\n",
       "    <tr>\n",
       "      <th>4</th>\n",
       "      <td>{'album_type': 'single', 'artists': [{'externa...</td>\n",
       "      <td>[{'external_urls': {'spotify': 'https://open.s...</td>\n",
       "      <td>[AR, AU, AT, BE, BO, BR, BG, CA, CL, CO, CR, C...</td>\n",
       "      <td>1</td>\n",
       "      <td>269805</td>\n",
       "      <td>False</td>\n",
       "      <td>{'isrc': 'JPE871903644'}</td>\n",
       "      <td>{'spotify': 'https://open.spotify.com/track/0b...</td>\n",
       "      <td>https://api.spotify.com/v1/tracks/0bCqCWL5Bcbf...</td>\n",
       "      <td>0bCqCWL5BcbfoILaDj7MWp</td>\n",
       "      <td>False</td>\n",
       "      <td>J.A.M</td>\n",
       "      <td>2</td>\n",
       "      <td>https://p.scdn.co/mp3-preview/56cdea63f05079b1...</td>\n",
       "      <td>5</td>\n",
       "      <td>track</td>\n",
       "      <td>spotify:track:0bCqCWL5BcbfoILaDj7MWp</td>\n",
       "    </tr>\n",
       "  </tbody>\n",
       "</table>\n",
       "</div>"
      ],
      "text/plain": [
       "                                               album  \\\n",
       "0  {'album_type': 'album', 'artists': [{'external...   \n",
       "3  {'album_type': 'album', 'artists': [{'external...   \n",
       "1  {'album_type': 'single', 'artists': [{'externa...   \n",
       "2  {'album_type': 'single', 'artists': [{'externa...   \n",
       "4  {'album_type': 'single', 'artists': [{'externa...   \n",
       "\n",
       "                                             artists  \\\n",
       "0  [{'external_urls': {'spotify': 'https://open.s...   \n",
       "3  [{'external_urls': {'spotify': 'https://open.s...   \n",
       "1  [{'external_urls': {'spotify': 'https://open.s...   \n",
       "2  [{'external_urls': {'spotify': 'https://open.s...   \n",
       "4  [{'external_urls': {'spotify': 'https://open.s...   \n",
       "\n",
       "                                   available_markets  disc_number  \\\n",
       "0  [AR, AU, AT, BE, BO, BR, BG, CA, CL, CO, CR, C...            1   \n",
       "3                                       [CA, MX, US]            1   \n",
       "1  [AR, AU, AT, BE, BO, BR, BG, CA, CL, CO, CR, C...            1   \n",
       "2  [AR, AU, AT, BE, BO, BR, BG, CA, CL, CO, CR, C...            1   \n",
       "4  [AR, AU, AT, BE, BO, BR, BG, CA, CL, CO, CR, C...            1   \n",
       "\n",
       "   duration_ms  explicit              external_ids  \\\n",
       "0       211582     False  {'isrc': 'QZES92250144'}   \n",
       "3        88684     False  {'isrc': 'JPVI01220480'}   \n",
       "1       198080     False  {'isrc': 'USHM91467024'}   \n",
       "2       206020     False  {'isrc': 'AUBEC1710101'}   \n",
       "4       269805     False  {'isrc': 'JPE871903644'}   \n",
       "\n",
       "                                       external_urls  \\\n",
       "0  {'spotify': 'https://open.spotify.com/track/5R...   \n",
       "3  {'spotify': 'https://open.spotify.com/track/31...   \n",
       "1  {'spotify': 'https://open.spotify.com/track/5y...   \n",
       "2  {'spotify': 'https://open.spotify.com/track/3F...   \n",
       "4  {'spotify': 'https://open.spotify.com/track/0b...   \n",
       "\n",
       "                                                href                      id  \\\n",
       "0  https://api.spotify.com/v1/tracks/5RIKETWpcUDM...  5RIKETWpcUDMc1QNVELJzf   \n",
       "3  https://api.spotify.com/v1/tracks/31rOPMSe9q7G...  31rOPMSe9q7Got3QKIURdx   \n",
       "1  https://api.spotify.com/v1/tracks/5yLxXqLZeRnf...  5yLxXqLZeRnfZLk5RvhjxK   \n",
       "2  https://api.spotify.com/v1/tracks/3FzFUqFWx9e2...  3FzFUqFWx9e2lajbWsdt6L   \n",
       "4  https://api.spotify.com/v1/tracks/0bCqCWL5Bcbf...  0bCqCWL5BcbfoILaDj7MWp   \n",
       "\n",
       "   is_local                        name  popularity  \\\n",
       "0     False      J.A.M. (Just A Minute)          41   \n",
       "3     False  Sing Without You - Reprise          36   \n",
       "1     False                      J.A.M.          33   \n",
       "2     False                       J.A.M          25   \n",
       "4     False                       J.A.M           2   \n",
       "\n",
       "                                         preview_url  track_number   type  \\\n",
       "0  https://p.scdn.co/mp3-preview/1b04b797141914c2...             3  track   \n",
       "3  https://p.scdn.co/mp3-preview/404f385d2de36bb0...             3  track   \n",
       "1  https://p.scdn.co/mp3-preview/99cfd7eff755deb2...             1  track   \n",
       "2  https://p.scdn.co/mp3-preview/8ff42b361d3d69a3...             2  track   \n",
       "4  https://p.scdn.co/mp3-preview/56cdea63f05079b1...             5  track   \n",
       "\n",
       "                                    uri  \n",
       "0  spotify:track:5RIKETWpcUDMc1QNVELJzf  \n",
       "3  spotify:track:31rOPMSe9q7Got3QKIURdx  \n",
       "1  spotify:track:5yLxXqLZeRnfZLk5RvhjxK  \n",
       "2  spotify:track:3FzFUqFWx9e2lajbWsdt6L  \n",
       "4  spotify:track:0bCqCWL5BcbfoILaDj7MWp  "
      ]
     },
     "execution_count": 41,
     "metadata": {},
     "output_type": "execute_result"
    }
   ],
   "source": [
    "df.sort_values(by='popularity', ascending=False).head()"
   ]
  },
  {
   "cell_type": "code",
   "execution_count": 45,
   "id": "13ac4de0",
   "metadata": {},
   "outputs": [
    {
     "data": {
      "text/plain": [
       "array([{'album_type': 'album', 'artists': [{'external_urls': {'spotify': 'https://open.spotify.com/artist/6xt9sJmmyYwWkJv8A6ssiU'}, 'href': 'https://api.spotify.com/v1/artists/6xt9sJmmyYwWkJv8A6ssiU', 'id': '6xt9sJmmyYwWkJv8A6ssiU', 'name': 'Cory Wong', 'type': 'artist', 'uri': 'spotify:artist:6xt9sJmmyYwWkJv8A6ssiU'}], 'available_markets': ['AR', 'AU', 'AT', 'BE', 'BO', 'BR', 'BG', 'CA', 'CL', 'CO', 'CR', 'CY', 'CZ', 'DK', 'DO', 'DE', 'EC', 'EE', 'SV', 'FI', 'FR', 'GR', 'GT', 'HN', 'HK', 'HU', 'IS', 'IE', 'IT', 'LV', 'LT', 'LU', 'MY', 'MT', 'MX', 'NL', 'NZ', 'NI', 'NO', 'PA', 'PY', 'PE', 'PH', 'PL', 'PT', 'SG', 'SK', 'ES', 'SE', 'CH', 'TW', 'TR', 'UY', 'US', 'GB', 'AD', 'LI', 'MC', 'ID', 'JP', 'TH', 'VN', 'RO', 'IL', 'ZA', 'SA', 'AE', 'BH', 'QA', 'OM', 'KW', 'EG', 'MA', 'DZ', 'TN', 'LB', 'JO', 'PS', 'IN', 'BY', 'KZ', 'MD', 'UA', 'AL', 'BA', 'HR', 'ME', 'MK', 'RS', 'SI', 'KR', 'BD', 'PK', 'LK', 'GH', 'KE', 'NG', 'TZ', 'UG', 'AG', 'AM', 'BS', 'BB', 'BZ', 'BT', 'BW', 'BF', 'CV', 'CW', 'DM', 'FJ', 'GM', 'GE', 'GD', 'GW', 'GY', 'HT', 'JM', 'KI', 'LS', 'LR', 'MW', 'MV', 'ML', 'MH', 'FM', 'NA', 'NR', 'NE', 'PW', 'PG', 'WS', 'SM', 'ST', 'SN', 'SC', 'SL', 'SB', 'KN', 'LC', 'VC', 'SR', 'TL', 'TO', 'TT', 'TV', 'VU', 'AZ', 'BN', 'BI', 'KH', 'CM', 'TD', 'KM', 'GQ', 'SZ', 'GA', 'GN', 'KG', 'LA', 'MO', 'MR', 'MN', 'NP', 'RW', 'TG', 'UZ', 'ZW', 'BJ', 'MG', 'MU', 'MZ', 'AO', 'CI', 'DJ', 'ZM', 'CD', 'CG', 'IQ', 'LY', 'TJ', 'VE', 'ET', 'XK'], 'external_urls': {'spotify': 'https://open.spotify.com/album/5SBfou3NNkuYL0LeU004xy'}, 'href': 'https://api.spotify.com/v1/albums/5SBfou3NNkuYL0LeU004xy', 'id': '5SBfou3NNkuYL0LeU004xy', 'images': [{'height': 640, 'url': 'https://i.scdn.co/image/ab67616d0000b273b3295f3d9adf24bfe943fa92', 'width': 640}, {'height': 300, 'url': 'https://i.scdn.co/image/ab67616d00001e02b3295f3d9adf24bfe943fa92', 'width': 300}, {'height': 64, 'url': 'https://i.scdn.co/image/ab67616d00004851b3295f3d9adf24bfe943fa92', 'width': 64}], 'name': 'Power Station', 'release_date': '2022-04-29', 'release_date_precision': 'day', 'total_tracks': 15, 'type': 'album', 'uri': 'spotify:album:5SBfou3NNkuYL0LeU004xy'},\n",
       "       list([{'external_urls': {'spotify': 'https://open.spotify.com/artist/6xt9sJmmyYwWkJv8A6ssiU'}, 'href': 'https://api.spotify.com/v1/artists/6xt9sJmmyYwWkJv8A6ssiU', 'id': '6xt9sJmmyYwWkJv8A6ssiU', 'name': 'Cory Wong', 'type': 'artist', 'uri': 'spotify:artist:6xt9sJmmyYwWkJv8A6ssiU'}, {'external_urls': {'spotify': 'https://open.spotify.com/artist/2mV8aJphiSHYJf43DxL7Gt'}, 'href': 'https://api.spotify.com/v1/artists/2mV8aJphiSHYJf43DxL7Gt', 'id': '2mV8aJphiSHYJf43DxL7Gt', 'name': 'Chromeo', 'type': 'artist', 'uri': 'spotify:artist:2mV8aJphiSHYJf43DxL7Gt'}]),\n",
       "       list(['AR', 'AU', 'AT', 'BE', 'BO', 'BR', 'BG', 'CA', 'CL', 'CO', 'CR', 'CY', 'CZ', 'DK', 'DO', 'DE', 'EC', 'EE', 'SV', 'FI', 'FR', 'GR', 'GT', 'HN', 'HK', 'HU', 'IS', 'IE', 'IT', 'LV', 'LT', 'LU', 'MY', 'MT', 'MX', 'NL', 'NZ', 'NI', 'NO', 'PA', 'PY', 'PE', 'PH', 'PL', 'PT', 'SG', 'SK', 'ES', 'SE', 'CH', 'TW', 'TR', 'UY', 'US', 'GB', 'AD', 'LI', 'MC', 'ID', 'JP', 'TH', 'VN', 'RO', 'IL', 'ZA', 'SA', 'AE', 'BH', 'QA', 'OM', 'KW', 'EG', 'MA', 'DZ', 'TN', 'LB', 'JO', 'PS', 'IN', 'BY', 'KZ', 'MD', 'UA', 'AL', 'BA', 'HR', 'ME', 'MK', 'RS', 'SI', 'KR', 'BD', 'PK', 'LK', 'GH', 'KE', 'NG', 'TZ', 'UG', 'AG', 'AM', 'BS', 'BB', 'BZ', 'BT', 'BW', 'BF', 'CV', 'CW', 'DM', 'FJ', 'GM', 'GE', 'GD', 'GW', 'GY', 'HT', 'JM', 'KI', 'LS', 'LR', 'MW', 'MV', 'ML', 'MH', 'FM', 'NA', 'NR', 'NE', 'PW', 'PG', 'WS', 'SM', 'ST', 'SN', 'SC', 'SL', 'SB', 'KN', 'LC', 'VC', 'SR', 'TL', 'TO', 'TT', 'TV', 'VU', 'AZ', 'BN', 'BI', 'KH', 'CM', 'TD', 'KM', 'GQ', 'SZ', 'GA', 'GN', 'KG', 'LA', 'MO', 'MR', 'MN', 'NP', 'RW', 'TG', 'UZ', 'ZW', 'BJ', 'MG', 'MU', 'MZ', 'AO', 'CI', 'DJ', 'ZM', 'CD', 'CG', 'IQ', 'LY', 'TJ', 'VE', 'ET', 'XK']),\n",
       "       1, 211582, False, {'isrc': 'QZES92250144'},\n",
       "       {'spotify': 'https://open.spotify.com/track/5RIKETWpcUDMc1QNVELJzf'},\n",
       "       'https://api.spotify.com/v1/tracks/5RIKETWpcUDMc1QNVELJzf',\n",
       "       '5RIKETWpcUDMc1QNVELJzf', False, 'J.A.M. (Just A Minute)', 41,\n",
       "       'https://p.scdn.co/mp3-preview/1b04b797141914c26dc0836bf25b0ef69c87d4e7?cid=4109b2d9f5014671863bb2df1d1fbdd3',\n",
       "       3, 'track', 'spotify:track:5RIKETWpcUDMc1QNVELJzf'], dtype=object)"
      ]
     },
     "execution_count": 45,
     "metadata": {},
     "output_type": "execute_result"
    }
   ],
   "source": [
    "df.sort_values(by='popularity', ascending=False).values[0]"
   ]
  },
  {
   "cell_type": "code",
   "execution_count": 46,
   "id": "5156bccd",
   "metadata": {},
   "outputs": [],
   "source": [
    "# artistas relacionados"
   ]
  },
  {
   "cell_type": "code",
   "execution_count": 53,
   "id": "a5242716",
   "metadata": {},
   "outputs": [
    {
     "data": {
      "text/plain": [
       "'6xt9sJmmyYwWkJv8A6ssiU'"
      ]
     },
     "execution_count": 53,
     "metadata": {},
     "output_type": "execute_result"
    }
   ],
   "source": [
    "sp.search(q='J.A.M', limit=5)['tracks']['items'][0]['artists'][0]['id']"
   ]
  },
  {
   "cell_type": "code",
   "execution_count": 55,
   "id": "a85a2186",
   "metadata": {},
   "outputs": [],
   "source": [
    "artista_id = '6xt9sJmmyYwWkJv8A6ssiU'"
   ]
  },
  {
   "cell_type": "code",
   "execution_count": 57,
   "id": "2f8726b0",
   "metadata": {},
   "outputs": [
    {
     "data": {
      "text/plain": [
       "dict_keys(['artists'])"
      ]
     },
     "execution_count": 57,
     "metadata": {},
     "output_type": "execute_result"
    }
   ],
   "source": [
    "rel = sp.artist_related_artists(artista_id)\n",
    "\n",
    "rel.keys()"
   ]
  },
  {
   "cell_type": "code",
   "execution_count": 60,
   "id": "b4e5f44b",
   "metadata": {},
   "outputs": [
    {
     "data": {
      "text/plain": [
       "dict_keys(['external_urls', 'followers', 'genres', 'href', 'id', 'images', 'name', 'popularity', 'type', 'uri'])"
      ]
     },
     "execution_count": 60,
     "metadata": {},
     "output_type": "execute_result"
    }
   ],
   "source": [
    "rel['artists'][0].keys()"
   ]
  },
  {
   "cell_type": "code",
   "execution_count": 61,
   "id": "506a7fd3",
   "metadata": {},
   "outputs": [
    {
     "data": {
      "text/plain": [
       "'The Fearless Flyers'"
      ]
     },
     "execution_count": 61,
     "metadata": {},
     "output_type": "execute_result"
    }
   ],
   "source": [
    "rel['artists'][0]['name']"
   ]
  },
  {
   "cell_type": "code",
   "execution_count": 69,
   "id": "807d8716",
   "metadata": {},
   "outputs": [
    {
     "data": {
      "text/plain": [
       "[{'external_urls': {'spotify': 'https://open.spotify.com/artist/1JyLSGXC3aWzjY6ZdxvIXh'},\n",
       "  'followers': {'href': None, 'total': 160669},\n",
       "  'genres': ['instrumental funk'],\n",
       "  'href': 'https://api.spotify.com/v1/artists/1JyLSGXC3aWzjY6ZdxvIXh',\n",
       "  'id': '1JyLSGXC3aWzjY6ZdxvIXh',\n",
       "  'images': [{'height': 640,\n",
       "    'url': 'https://i.scdn.co/image/ab6761610000e5ebec5aa75fe447103bc6588d58',\n",
       "    'width': 640},\n",
       "   {'height': 320,\n",
       "    'url': 'https://i.scdn.co/image/ab67616100005174ec5aa75fe447103bc6588d58',\n",
       "    'width': 320},\n",
       "   {'height': 160,\n",
       "    'url': 'https://i.scdn.co/image/ab6761610000f178ec5aa75fe447103bc6588d58',\n",
       "    'width': 160}],\n",
       "  'name': 'The Fearless Flyers',\n",
       "  'popularity': 45,\n",
       "  'type': 'artist',\n",
       "  'uri': 'spotify:artist:1JyLSGXC3aWzjY6ZdxvIXh'},\n",
       " {'external_urls': {'spotify': 'https://open.spotify.com/artist/2a4lU7F8toqKpb5v6Ftqya'},\n",
       "  'followers': {'href': None, 'total': 77010},\n",
       "  'genres': ['retro soul'],\n",
       "  'href': 'https://api.spotify.com/v1/artists/2a4lU7F8toqKpb5v6Ftqya',\n",
       "  'id': '2a4lU7F8toqKpb5v6Ftqya',\n",
       "  'images': [{'height': 640,\n",
       "    'url': 'https://i.scdn.co/image/ab6761610000e5ebbd6d6884efde36c13c1054f7',\n",
       "    'width': 640},\n",
       "   {'height': 320,\n",
       "    'url': 'https://i.scdn.co/image/ab67616100005174bd6d6884efde36c13c1054f7',\n",
       "    'width': 320},\n",
       "   {'height': 160,\n",
       "    'url': 'https://i.scdn.co/image/ab6761610000f178bd6d6884efde36c13c1054f7',\n",
       "    'width': 160}],\n",
       "  'name': 'Theo Katzman',\n",
       "  'popularity': 45,\n",
       "  'type': 'artist',\n",
       "  'uri': 'spotify:artist:2a4lU7F8toqKpb5v6Ftqya'}]"
      ]
     },
     "execution_count": 69,
     "metadata": {},
     "output_type": "execute_result"
    }
   ],
   "source": [
    "rel['artists'][:2]"
   ]
  },
  {
   "cell_type": "code",
   "execution_count": 70,
   "id": "05023ea6",
   "metadata": {},
   "outputs": [
    {
     "data": {
      "text/plain": [
       "['The Fearless Flyers', 'Theo Katzman', 'Mark Lettieri']"
      ]
     },
     "execution_count": 70,
     "metadata": {},
     "output_type": "execute_result"
    }
   ],
   "source": [
    "[e['name'] for e in rel['artists'][:3]]"
   ]
  },
  {
   "cell_type": "code",
   "execution_count": 71,
   "id": "05275903",
   "metadata": {},
   "outputs": [],
   "source": [
    "res = []\n",
    "\n",
    "\n",
    "for e in rel['artists']:\n",
    "    \n",
    "    res.append(e['name'])"
   ]
  },
  {
   "cell_type": "code",
   "execution_count": 72,
   "id": "20a652c3",
   "metadata": {},
   "outputs": [
    {
     "data": {
      "text/plain": [
       "['The Fearless Flyers',\n",
       " 'Theo Katzman',\n",
       " 'Mark Lettieri',\n",
       " 'Woody Goss',\n",
       " 'Vulfmon',\n",
       " 'Vulfpeck',\n",
       " 'Dirty Loops',\n",
       " 'Joey Dosik',\n",
       " 'Cory Henry',\n",
       " 'Louis Cole',\n",
       " 'Ghost-Note',\n",
       " 'Nate Smith',\n",
       " 'Busty and the Bass',\n",
       " 'Scary Pockets',\n",
       " 'Snarky Puppy',\n",
       " 'Shaun Martin',\n",
       " 'Antwaun Stanley',\n",
       " 'Organ Freeman',\n",
       " 'The Funky Knuckles',\n",
       " 'Scary Goldings']"
      ]
     },
     "execution_count": 72,
     "metadata": {},
     "output_type": "execute_result"
    }
   ],
   "source": [
    "res"
   ]
  },
  {
   "cell_type": "code",
   "execution_count": 77,
   "id": "53c49190",
   "metadata": {},
   "outputs": [],
   "source": [
    "def related_artists(artista, limit=5):\n",
    "    \n",
    "    art_id = sp.search(q=artista, limit=1)['tracks']['items'][0]['artists'][0]['id']\n",
    "    \n",
    "    \n",
    "    rel = sp.artist_related_artists(art_id)\n",
    "    \n",
    "    \n",
    "    res = [e['name'] for e in rel['artists'][:limit]]\n",
    "    \n",
    "    \n",
    "    return res\n",
    "    "
   ]
  },
  {
   "cell_type": "code",
   "execution_count": 78,
   "id": "d66c8006",
   "metadata": {},
   "outputs": [
    {
     "data": {
      "text/plain": [
       "['The Fearless Flyers', 'Cory Wong', 'Theo Katzman', 'Snarky Puppy', 'Vulfmon']"
      ]
     },
     "execution_count": 78,
     "metadata": {},
     "output_type": "execute_result"
    }
   ],
   "source": [
    "related_artists('Vulfpeck')"
   ]
  },
  {
   "cell_type": "code",
   "execution_count": 79,
   "id": "2026cb2a",
   "metadata": {},
   "outputs": [
    {
     "data": {
      "text/plain": [
       "['Gabinete Caligari',\n",
       " 'Nacha Pop',\n",
       " 'Danza Invisible',\n",
       " 'Los Ronaldos',\n",
       " 'La Frontera']"
      ]
     },
     "execution_count": 79,
     "metadata": {},
     "output_type": "execute_result"
    }
   ],
   "source": [
    "related_artists('Radio Futura')"
   ]
  },
  {
   "cell_type": "code",
   "execution_count": 80,
   "id": "4bd93c97",
   "metadata": {},
   "outputs": [
    {
     "data": {
      "text/plain": [
       "['Gabinete Caligari',\n",
       " 'Nacha Pop',\n",
       " 'Danza Invisible',\n",
       " 'Los Ronaldos',\n",
       " 'La Frontera',\n",
       " 'Tequila',\n",
       " 'Tino Casal',\n",
       " 'Seguridad Social',\n",
       " 'La Unión',\n",
       " 'Los Rebeldes']"
      ]
     },
     "execution_count": 80,
     "metadata": {},
     "output_type": "execute_result"
    }
   ],
   "source": [
    "related_artists('Radio Futura', 10)"
   ]
  },
  {
   "cell_type": "code",
   "execution_count": 89,
   "id": "ab60762c",
   "metadata": {},
   "outputs": [
    {
     "data": {
      "text/plain": [
       "'37i9dQZF1DWUbj5dNZ89An'"
      ]
     },
     "execution_count": 89,
     "metadata": {},
     "output_type": "execute_result"
    }
   ],
   "source": [
    "# playlist\n",
    "\n",
    "sp.featured_playlists()['playlists']['items'][-1]['id']"
   ]
  },
  {
   "cell_type": "code",
   "execution_count": 90,
   "id": "8be981ae",
   "metadata": {},
   "outputs": [
    {
     "data": {
      "text/plain": [
       "'37i9dQZF1DWUbj5dNZ89An'"
      ]
     },
     "execution_count": 90,
     "metadata": {},
     "output_type": "execute_result"
    }
   ],
   "source": [
    "play_id = sp.featured_playlists()['playlists']['items'][-1]['id']\n",
    "\n",
    "play_id"
   ]
  },
  {
   "cell_type": "code",
   "execution_count": 91,
   "id": "a7f27952",
   "metadata": {},
   "outputs": [],
   "source": [
    "sp.playlist_tracks(play_id)"
   ]
  },
  {
   "cell_type": "code",
   "execution_count": 93,
   "id": "7ba716ba",
   "metadata": {},
   "outputs": [],
   "source": [
    "#help(sp)"
   ]
  },
  {
   "cell_type": "code",
   "execution_count": 95,
   "id": "5fa51dc6",
   "metadata": {},
   "outputs": [
    {
     "data": {
      "text/plain": [
       "dict_keys(['collaborative', 'description', 'external_urls', 'followers', 'href', 'id', 'images', 'name', 'owner', 'primary_color', 'public', 'snapshot_id', 'tracks', 'type', 'uri'])"
      ]
     },
     "execution_count": 95,
     "metadata": {},
     "output_type": "execute_result"
    }
   ],
   "source": [
    "sp.playlist(play_id).keys()"
   ]
  },
  {
   "cell_type": "code",
   "execution_count": 96,
   "id": "56397f9c",
   "metadata": {},
   "outputs": [
    {
     "data": {
      "text/plain": [
       "'Canta en el coche'"
      ]
     },
     "execution_count": 96,
     "metadata": {},
     "output_type": "execute_result"
    }
   ],
   "source": [
    "sp.playlist(play_id)['name']"
   ]
  },
  {
   "cell_type": "code",
   "execution_count": 97,
   "id": "024a16cc",
   "metadata": {},
   "outputs": [
    {
     "data": {
      "text/plain": [
       "'Canciones para disfrutar del viaje.'"
      ]
     },
     "execution_count": 97,
     "metadata": {},
     "output_type": "execute_result"
    }
   ],
   "source": [
    "sp.playlist(play_id)['description']"
   ]
  },
  {
   "cell_type": "code",
   "execution_count": 98,
   "id": "64d3cd5f",
   "metadata": {},
   "outputs": [
    {
     "data": {
      "text/plain": [
       "'37i9dQZF1DWUbj5dNZ89An'"
      ]
     },
     "execution_count": 98,
     "metadata": {},
     "output_type": "execute_result"
    }
   ],
   "source": [
    "sp.playlist(play_id)['id']"
   ]
  },
  {
   "cell_type": "code",
   "execution_count": 100,
   "id": "51696b48",
   "metadata": {},
   "outputs": [
    {
     "data": {
      "text/plain": [
       "dict_keys(['href', 'items', 'limit', 'next', 'offset', 'previous', 'total'])"
      ]
     },
     "execution_count": 100,
     "metadata": {},
     "output_type": "execute_result"
    }
   ],
   "source": [
    "sp.playlist_tracks(play_id).keys()"
   ]
  },
  {
   "cell_type": "code",
   "execution_count": 105,
   "id": "344f2744",
   "metadata": {},
   "outputs": [
    {
     "data": {
      "text/plain": [
       "'Flowers'"
      ]
     },
     "execution_count": 105,
     "metadata": {},
     "output_type": "execute_result"
    }
   ],
   "source": [
    "tracks = sp.playlist_tracks(play_id)['items']\n",
    "\n",
    "tracks[0]['track']['name']"
   ]
  },
  {
   "cell_type": "code",
   "execution_count": 106,
   "id": "75398c31",
   "metadata": {},
   "outputs": [
    {
     "data": {
      "text/plain": [
       "['Flowers',\n",
       " 'Si No Estás',\n",
       " 'Nochentera',\n",
       " 'LALA',\n",
       " 'Tacones Rojos',\n",
       " \"I Ain't Worried\",\n",
       " 'Mon Amour - Remix',\n",
       " 'AMARGURA',\n",
       " 'EL TONTO',\n",
       " 'Juramento eterno de sal',\n",
       " 'Algo Sencillito',\n",
       " 'Quevedo: Bzrp Music Sessions, Vol. 52',\n",
       " 'La Bachata',\n",
       " 'Tattoo',\n",
       " 'Llegó la Navidad',\n",
       " 'Ojitos Lindos',\n",
       " 'LAS 12',\n",
       " 'TQG',\n",
       " 'La Fiesta',\n",
       " 'Shakira: Bzrp Music Sessions, Vol. 53',\n",
       " 'BESO',\n",
       " 'VAGABUNDO',\n",
       " 'El Fin del Mundo',\n",
       " 'Cold Heart - PNAU Remix',\n",
       " 'SI ELLA SUPIERA',\n",
       " 'MIENTRAS ME CURO DEL CORA',\n",
       " 'Clavaito',\n",
       " 'Casanova',\n",
       " 'El Merengue',\n",
       " 'Hablando En Plata',\n",
       " 'CORAZÓN VACÍO',\n",
       " 'Tiroteo - Remix',\n",
       " 'Monotonía',\n",
       " 'Cuando Nadie Ve',\n",
       " 'Forget Me',\n",
       " 'DESPECHÁ',\n",
       " 'Fuera del mercado',\n",
       " 'Besos Moja2',\n",
       " 'Te Felicito',\n",
       " 'MERCHO',\n",
       " 'COCO LOCO',\n",
       " 'Madrid City',\n",
       " 'PROVENZA',\n",
       " 'PLAYA DEL INGLÉS',\n",
       " 'Bam Bam (feat. Ed Sheeran)',\n",
       " 'Flaca',\n",
       " 'Acróstico',\n",
       " 'Todo De Ti',\n",
       " 'Arranca (feat. Omega)',\n",
       " 'S91',\n",
       " 'El Mambo',\n",
       " 'Copa Vacía',\n",
       " 'Robarte un Beso',\n",
       " 'Bailando Bachata',\n",
       " 'Energía Bacana',\n",
       " 'pa quererte',\n",
       " 'Corazón partío',\n",
       " 'Arena y Sal',\n",
       " 'Cómo Te Atreves',\n",
       " 'Destino o casualidad',\n",
       " 'MAMIII',\n",
       " 'Miénteme',\n",
       " 'Como Camarón',\n",
       " 'Sobrio',\n",
       " 'AQYNE',\n",
       " 'Presiento',\n",
       " 'Pareja Del Año',\n",
       " 'Los Tragos',\n",
       " 'Cupido',\n",
       " 'Yo Te Esperaré',\n",
       " 'Salitre',\n",
       " 'Y, ¿Si Fuera Ella? - + Es +',\n",
       " 'El Pañuelo',\n",
       " 'VISTA AL MAR',\n",
       " '23',\n",
       " 'Una Noche Sin Pensar',\n",
       " 'Caminando por la vida',\n",
       " 'Ingobernable',\n",
       " \"Don't Go Yet\",\n",
       " 'Porfa no te vayas',\n",
       " 'Soldadito marinero',\n",
       " 'Una Vaina Loca',\n",
       " 'KESI - Remix',\n",
       " 'Quiero Decirte',\n",
       " 'Te Espero - feat. Maria Becerra',\n",
       " 'Agua',\n",
       " 'Tu Calorro',\n",
       " 'mariposas',\n",
       " 'RUMBATÓN',\n",
       " 'París',\n",
       " 'La Niña de la Escuela',\n",
       " 'Quieres',\n",
       " 'Índigo',\n",
       " 'Si Te Preguntan... - feat. Nicky Jam & Jay Wheeler',\n",
       " 'Amigos (con Maria Becerra)',\n",
       " 'Princesas',\n",
       " 'Madre Tierra (Oye)',\n",
       " 'Un Beso en Madrid',\n",
       " 'EL CONDENAO',\n",
       " 'Los Ángeles']"
      ]
     },
     "execution_count": 106,
     "metadata": {},
     "output_type": "execute_result"
    }
   ],
   "source": [
    "[e['track']['name'] for e in tracks]"
   ]
  },
  {
   "cell_type": "code",
   "execution_count": 111,
   "id": "de3f8ba4",
   "metadata": {},
   "outputs": [
    {
     "data": {
      "text/plain": [
       "'Miley Cyrus'"
      ]
     },
     "execution_count": 111,
     "metadata": {},
     "output_type": "execute_result"
    }
   ],
   "source": [
    "tracks[0]['track']['artists'][0]['name']"
   ]
  },
  {
   "cell_type": "code",
   "execution_count": 112,
   "id": "13d4eb15",
   "metadata": {},
   "outputs": [
    {
     "data": {
      "text/plain": [
       "['Miley Cyrus',\n",
       " 'iñigo quintero',\n",
       " 'Vicco',\n",
       " 'Myke Towers',\n",
       " 'Sebastian Yatra',\n",
       " 'OneRepublic',\n",
       " 'zzoilo',\n",
       " 'KAROL G',\n",
       " 'Lola Indigo',\n",
       " 'Álvaro De Luna',\n",
       " 'Marta Santos',\n",
       " 'Bizarrap',\n",
       " 'Manuel Turizo',\n",
       " 'Loreen',\n",
       " 'Melendi',\n",
       " 'Bad Bunny',\n",
       " 'Ana Mena',\n",
       " 'KAROL G',\n",
       " 'Pedro Capó',\n",
       " 'Bizarrap',\n",
       " 'ROSALÍA',\n",
       " 'Sebastian Yatra',\n",
       " 'La La Love You',\n",
       " 'Elton John',\n",
       " 'India Martinez',\n",
       " 'KAROL G',\n",
       " 'Chanel',\n",
       " 'Soolking',\n",
       " 'Marshmello',\n",
       " 'Melendi',\n",
       " 'Maria Becerra',\n",
       " 'Marc Seguí',\n",
       " 'Shakira',\n",
       " 'Morat',\n",
       " 'Lewis Capaldi',\n",
       " 'ROSALÍA',\n",
       " 'Danny Ocean',\n",
       " 'Wisin & Yandel',\n",
       " 'Shakira',\n",
       " 'LiL CaKe',\n",
       " 'Maluma',\n",
       " 'Ana Mena',\n",
       " 'KAROL G',\n",
       " 'Quevedo',\n",
       " 'Camila Cabello',\n",
       " 'Andrés Calamaro',\n",
       " 'Shakira',\n",
       " 'Rauw Alejandro',\n",
       " 'Becky G',\n",
       " 'KAROL G',\n",
       " 'Kiko Rivera',\n",
       " 'Shakira',\n",
       " 'Carlos Vives',\n",
       " 'Chayanne',\n",
       " 'Sebastian Yatra',\n",
       " 'Rels B',\n",
       " 'Alejandro Sanz',\n",
       " 'Omar Montes',\n",
       " 'Morat',\n",
       " 'Melendi',\n",
       " 'Becky G',\n",
       " 'TINI',\n",
       " 'Estopa',\n",
       " 'Maluma',\n",
       " 'Aitana',\n",
       " 'Morat',\n",
       " 'Sebastian Yatra',\n",
       " 'Reik',\n",
       " 'TINI',\n",
       " 'Cali Y El Dandee',\n",
       " 'Manuel Carrasco',\n",
       " 'Pablo Alborán',\n",
       " 'Romeo Santos',\n",
       " 'Quevedo',\n",
       " 'Morat',\n",
       " 'Sebastian Yatra',\n",
       " 'Melendi',\n",
       " 'C. Tangana',\n",
       " 'Camila Cabello',\n",
       " 'Beret',\n",
       " 'Fito y Fitipaldis',\n",
       " 'Fuego',\n",
       " 'Camilo',\n",
       " 'Abraham Mateo',\n",
       " 'Prince Royce',\n",
       " 'Jarabe De Palo',\n",
       " 'Estopa',\n",
       " 'sangiovanni',\n",
       " 'Daddy Yankee',\n",
       " 'Morat',\n",
       " 'Lola Indigo',\n",
       " 'Aitana',\n",
       " 'Camilo',\n",
       " 'Prince Royce',\n",
       " 'Pablo Alborán',\n",
       " 'Pereza',\n",
       " 'Chayanne',\n",
       " 'TINI',\n",
       " 'Lola Indigo',\n",
       " 'Aitana']"
      ]
     },
     "execution_count": 112,
     "metadata": {},
     "output_type": "execute_result"
    }
   ],
   "source": [
    "[e['track']['artists'][0]['name'] for e in tracks]"
   ]
  },
  {
   "cell_type": "code",
   "execution_count": 114,
   "id": "a3fd3cbd",
   "metadata": {},
   "outputs": [
    {
     "data": {
      "text/plain": [
       "['The Communards',\n",
       " 'Kajagoogoo',\n",
       " 'Bronski Beat',\n",
       " 'Fine Young Cannibals',\n",
       " 'Jimmy Somerville',\n",
       " 'Ultravox',\n",
       " 'ABC',\n",
       " 'Thompson Twins',\n",
       " 'Spandau Ballet',\n",
       " 'The Human League']"
      ]
     },
     "execution_count": 114,
     "metadata": {},
     "output_type": "execute_result"
    }
   ],
   "source": [
    "related_artists('Frankie Goes to Hollywood', 10)"
   ]
  },
  {
   "cell_type": "code",
   "execution_count": 115,
   "id": "c2772bf7",
   "metadata": {},
   "outputs": [
    {
     "name": "stdout",
     "output_type": "stream",
     "text": [
      "1. Éxitos España - 37i9dQZF1DXaxEKcoCdWHD\n",
      "2. PEGAO - 37i9dQZF1DX1HCSfq0nSal\n",
      "3. Viva Latino - 37i9dQZF1DX10zKzsJ2jva\n",
      "4. temardos - 37i9dQZF1DX8jrCoV9Ccve\n",
      "5. Viral España 2024 - 37i9dQZF1DWVJv1UsWItkB\n",
      "\n",
      "Chosen Playlist Details:\n",
      "Name: Éxitos España\n",
      "Description: Los hits de ahora en la playlist más grande de España. Feat. Nicki Nicole, Mesita, Emilia, Tiago PZK\n",
      "Total Tracks: 50\n",
      "\n",
      "First 10 Tracks:\n",
      "Una Foto Remix (feat. Emilia)\n",
      "Casanova\n",
      "Young Miko: Bzrp Music Sessions, Vol. 58\n",
      "Manos Rotas\n",
      "No Te Quieren Conmigo\n",
      "LA CAPI\n",
      "LUNA\n",
      "M.A.I\n",
      "LA FALDA\n",
      "MODELITO\n",
      "\n",
      "Track-Artist Mapping:\n",
      "Una Foto Remix (feat. Emilia): Mesita, Nicki Nicole, Tiago PZK, Emilia\n",
      "Casanova: Soolking, Lola Indigo, Rvfv\n",
      "Young Miko: Bzrp Music Sessions, Vol. 58: Bizarrap, Young Miko\n",
      "Manos Rotas: DELLAFUENTE, Morad\n",
      "No Te Quieren Conmigo: Gaby Music, Lunay, Luar La L\n",
      "LA CAPI: Myke Towers\n",
      "LUNA: Feid, ATL Jacob\n",
      "M.A.I: Milo j\n",
      "LA FALDA: Myke Towers\n",
      "MODELITO: Mora, YOVNGCHIMI\n"
     ]
    }
   ],
   "source": [
    "# ejer 2\n",
    "\n",
    "\n",
    "# 1. Featured Exploration\n",
    "featured = sp.featured_playlists(limit=5)\n",
    "\n",
    "for idx, playlist in enumerate(featured['playlists']['items'], 1):\n",
    "    \n",
    "    print(f\"{idx}. {playlist['name']} - {playlist['id']}\")\n",
    "\n",
    "    \n",
    "    \n",
    "    \n",
    "# Let's choose the first playlist for simplicity (you can choose any)\n",
    "chosen_playlist_id = featured['playlists']['items'][0]['id']\n",
    "\n",
    "\n",
    "\n",
    "\n",
    "# 2. Deep Dive\n",
    "playlist_details = sp.playlist(chosen_playlist_id)\n",
    "print(\"\\nChosen Playlist Details:\")\n",
    "print(f\"Name: {playlist_details['name']}\")\n",
    "print(f\"Description: {playlist_details['description']}\")\n",
    "print(f\"Total Tracks: {playlist_details['tracks']['total']}\")\n",
    "\n",
    "\n",
    "\n",
    "\n",
    "# 3. Track-tastic\n",
    "tracks = sp.playlist_tracks(chosen_playlist_id, limit=10)\n",
    "print(\"\\nFirst 10 Tracks:\")\n",
    "for track in tracks['items']:\n",
    "    print(track['track']['name'])\n",
    "\n",
    "    \n",
    "    \n",
    "    \n",
    "    \n",
    "# 4. Artistic Flair\n",
    "track_artist_dict = {}\n",
    "for track_item in tracks['items']:\n",
    "    track_name = track_item['track']['name']\n",
    "    artists = [artist['name'] for artist in track_item['track']['artists']]\n",
    "    track_artist_dict[track_name] = artists\n",
    "\n",
    "    \n",
    "    \n",
    "    \n",
    "    \n",
    "print(\"\\nTrack-Artist Mapping:\")\n",
    "for track, artists in track_artist_dict.items():\n",
    "    print(f\"{track}: {', '.join(artists)}\")\n"
   ]
  },
  {
   "cell_type": "code",
   "execution_count": 118,
   "id": "68c937e9",
   "metadata": {},
   "outputs": [],
   "source": [
    "import requests as req\n",
    "\n",
    "url = 'https://pokeapi.co/api/v2/ability/'\n",
    "\n",
    "res = req.get(url).json()"
   ]
  },
  {
   "cell_type": "code",
   "execution_count": 119,
   "id": "15687585",
   "metadata": {},
   "outputs": [
    {
     "data": {
      "text/plain": [
       "{'count': 367,\n",
       " 'next': 'https://pokeapi.co/api/v2/ability/?offset=20&limit=20',\n",
       " 'previous': None,\n",
       " 'results': [{'name': 'stench', 'url': 'https://pokeapi.co/api/v2/ability/1/'},\n",
       "  {'name': 'drizzle', 'url': 'https://pokeapi.co/api/v2/ability/2/'},\n",
       "  {'name': 'speed-boost', 'url': 'https://pokeapi.co/api/v2/ability/3/'},\n",
       "  {'name': 'battle-armor', 'url': 'https://pokeapi.co/api/v2/ability/4/'},\n",
       "  {'name': 'sturdy', 'url': 'https://pokeapi.co/api/v2/ability/5/'},\n",
       "  {'name': 'damp', 'url': 'https://pokeapi.co/api/v2/ability/6/'},\n",
       "  {'name': 'limber', 'url': 'https://pokeapi.co/api/v2/ability/7/'},\n",
       "  {'name': 'sand-veil', 'url': 'https://pokeapi.co/api/v2/ability/8/'},\n",
       "  {'name': 'static', 'url': 'https://pokeapi.co/api/v2/ability/9/'},\n",
       "  {'name': 'volt-absorb', 'url': 'https://pokeapi.co/api/v2/ability/10/'},\n",
       "  {'name': 'water-absorb', 'url': 'https://pokeapi.co/api/v2/ability/11/'},\n",
       "  {'name': 'oblivious', 'url': 'https://pokeapi.co/api/v2/ability/12/'},\n",
       "  {'name': 'cloud-nine', 'url': 'https://pokeapi.co/api/v2/ability/13/'},\n",
       "  {'name': 'compound-eyes', 'url': 'https://pokeapi.co/api/v2/ability/14/'},\n",
       "  {'name': 'insomnia', 'url': 'https://pokeapi.co/api/v2/ability/15/'},\n",
       "  {'name': 'color-change', 'url': 'https://pokeapi.co/api/v2/ability/16/'},\n",
       "  {'name': 'immunity', 'url': 'https://pokeapi.co/api/v2/ability/17/'},\n",
       "  {'name': 'flash-fire', 'url': 'https://pokeapi.co/api/v2/ability/18/'},\n",
       "  {'name': 'shield-dust', 'url': 'https://pokeapi.co/api/v2/ability/19/'},\n",
       "  {'name': 'own-tempo', 'url': 'https://pokeapi.co/api/v2/ability/20/'}]}"
      ]
     },
     "execution_count": 119,
     "metadata": {},
     "output_type": "execute_result"
    }
   ],
   "source": [
    "res"
   ]
  },
  {
   "cell_type": "code",
   "execution_count": null,
   "id": "6893c028",
   "metadata": {},
   "outputs": [],
   "source": []
  }
 ],
 "metadata": {
  "kernelspec": {
   "display_name": "clase",
   "language": "python",
   "name": "clase"
  },
  "language_info": {
   "codemirror_mode": {
    "name": "ipython",
    "version": 3
   },
   "file_extension": ".py",
   "mimetype": "text/x-python",
   "name": "python",
   "nbconvert_exporter": "python",
   "pygments_lexer": "ipython3",
   "version": "3.9.12"
  }
 },
 "nbformat": 4,
 "nbformat_minor": 5
}
