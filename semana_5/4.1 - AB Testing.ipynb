{
 "cells": [
  {
   "cell_type": "markdown",
   "metadata": {},
   "source": [
    "# 4.1- AB Testing\n",
    "\n",
    "![ab_test](images/ab_test.png)\n",
    "\n",
    "\n",
    "### Guía paso a paso\n",
    "\n",
    "Veremos todo el proceso de un test AB, desde formular la hipótesis, ponerla a prueba y finalmente interpretar los resultados. Usaremos los datos de [Kaggle](https://www.kaggle.com/zhangluyuan/ab-testing?select=ab_data.csv) que continen los resultados de un test AB de dos posibles paginas webs (la version vieja y la nueva)\n",
    "\n",
    "El proceso será como sigue:\n",
    "\n",
    "1. [Diseñar el experimento](#1.-Diseñar-el-experimento)\n",
    "2. [Obtener y preparar datos](#2.-Obtener-y-preparar-datos)\n",
    "3. [Visualizar los resultados](#3.-Visualizar-los-resultados)\n",
    "4. [Testear la hipótesis](#4.-Testear-la-hipótesis)\n",
    "5. [Interpretar resultados](#5.-Interpretar-resultados)\n",
    "\n",
    "Para contextualizar, imaginemos el siguiente caso de estudio:\n",
    "\n",
    "![abtest](images/abtest.jpg)\n",
    "\n",
    "> Trabajamos en el equipo de producto de una **compañia de e-commerce online**. El equipo de UX está trabajando muy duro en la nueva versión de la página del producto, con el objetivo de alcanzar tasas de conversión más altas. El PM (product manager) nos dice que la versión actual de la página consigue una **tasa de conversión del 13% de media anual**. El objetivo anual es un **incremento del 2%**, lo que implica que la nueva versión debe alcanzar el 15% de tasa de conversión.\n",
    "\n",
    "Antes de realizar el cambio definitivo de la página, es necesario realizar pruebas para comprobar que realmente funciona. Es en ese momento donde aparece el **test AB** realizado sobre un conjunto de usuarios."
   ]
  },
  {
   "cell_type": "markdown",
   "metadata": {},
   "source": [
    "***\n",
    "### 1. Diseñar el experimento\n",
    "\n",
    "\n",
    "#### Formulando una hipótesis\n",
    "\n",
    "Realizada la observación de la necesidad de un test, es necesario plantear una hipótesis. Dado que no sabemos si la nueva página funciona mejor o peor, usaremos el [test de dos colas](https://en.wikipedia.org/wiki/One-_and_two-tailed_tests):\n",
    "\n",
    "$$H_0: p = p_0$$\n",
    "$$H_1: p \\ne p_0$$\n",
    "\n",
    "donde $p$ y $p_0$ son las tasas de conversión del nuevo diseño de la web y el viejo diseño respectivamente. Además, establecemos un **intervalo de confianza del 95%**:\n",
    "\n",
    "$$\\alpha = 0.05$$\n",
    "\n",
    "El valor de $\\alpha$ es el umbral para ese intervalo de confianza, que lo que quiere decir es que \"si la probabilidad de observar un resultado, el $p$-valor, es menor que $\\alpha$, entonces podemos rechazar la hipótesis nula\". Nuestro $\\alpha=0.05$ indica un 5% de probabilidad, dando un intervalo de confianza, 1 - $\\alpha$, del 95%.\n",
    "\n",
    "\n",
    "\n",
    "#### Escogiendo las variables\n",
    "\n",
    "Para nuestro test necesitamos **dos grupos**:\n",
    "* Un grupo de `control` - Será el grupo que vea el viejo diseño de la web\n",
    "* Un grupo de `tratamiento`, o experimental - Será el grupo que vea el nuevo diseño de la página\n",
    "\n",
    "Esta será nuestra *variable independiente*. La razón de tener dos grupos aun cuando ya sabemos la tasa de conversión actual, es que queremos controlar otras variables que podrían afectar los resultados, como la estacionalidad. Teniendo un grupo de `control` podemos comparar directamente los resultados con el grupo de `tratamiento`, porque la única diferencia sistemática entre los dos grupos es el diseño de la página web del producto, y podemos asumir la diferencia entre ellos debido a ese diseño.\n",
    "\n",
    "La *variable dependiente*, la que tratamos de medir, es la `tasa de conversion`. Una manera de registrarla es a través de un registro binario:\n",
    "* `0` - Usuario que no compra durante su visita a la web.\n",
    "* `1` - Usuario que compra en la web.\n",
    "\n",
    "\n",
    "\n",
    "\n",
    "#### Escogiendo el tamaño de la muestra\n",
    "\n",
    "Es importante remarcar que no vamos a hacer el test en toda nuestra base de datos, por lo que en realidad lo que obtendremos serán estimaciones. El número de personas, o de sesiones, que decidamos capturar de cada grupo tendrá un efecto sobre la estimación de nuestras tasas de conversión. Cuanto más grande sea la muestra, más precisión tendrá nuestra estimación, y cuanto más precisa sea nuestra estimación más altas serán las posibilidades de detectar diferencias entre grupos si existieran.\n",
    "\n",
    "Por otro lado, cuanto más grande sea la muestra más caro e impracticable se vuelve el estudio.\n",
    "\n",
    "*Asi que, ¿cuánta gente debería haber en cada grupo?*\n",
    "\n",
    "Para estimar el tamaño en este caso, usaremos lo que se conoce potencia de una prueba estadística o el [poder estadístico](https://es.wikipedia.org/wiki/Poder_estad%C3%ADstico), que depende de varios valores: \n",
    "\n",
    "* **Poder del test** ($1 - \\beta$) - Representa la probabilidad de encontrar una diferencia estadísticamente significativa entre los grupos. Por convenio se suele establecer en 0.8\n",
    "\n",
    "* **Umbral (p-valor)** ($\\alpha$) - Valor crítico establecido anteriormente en 0.05\n",
    "\n",
    "* **Tamaño del efecto** - Como de grande es la diferencia esperada entre las tasas de conversión. Nuestro objetivo era el 2%"
   ]
  },
  {
   "cell_type": "code",
   "execution_count": 1,
   "metadata": {},
   "outputs": [],
   "source": [
    "# librerias\n",
    "\n",
    "import numpy as np\n",
    "import pandas as pd\n",
    "\n",
    "import scipy.stats as stats\n",
    "import statsmodels.stats.api as sms\n",
    "\n",
    "import pylab as plt\n",
    "import seaborn as sns\n",
    "\n",
    "%matplotlib inline"
   ]
  },
  {
   "cell_type": "markdown",
   "metadata": {},
   "source": [
    "https://www.statsmodels.org/dev/generated/statsmodels.stats.power.NormalIndPower.solve_power.html"
   ]
  },
  {
   "cell_type": "code",
   "execution_count": 11,
   "metadata": {},
   "outputs": [
    {
     "data": {
      "text/plain": [
       "-0.0576728617308947"
      ]
     },
     "execution_count": 11,
     "metadata": {},
     "output_type": "execute_result"
    }
   ],
   "source": [
    "# calcular el tamaño del efecto. 13% a 15%\n",
    "\n",
    "efecto = sms.proportion_effectsize(0.13, 0.15)\n",
    "\n",
    "efecto"
   ]
  },
  {
   "cell_type": "code",
   "execution_count": 13,
   "metadata": {},
   "outputs": [
    {
     "data": {
      "text/plain": [
       "4719.4740575998185"
      ]
     },
     "execution_count": 13,
     "metadata": {},
     "output_type": "execute_result"
    }
   ],
   "source": [
    "# tamaño de la muestra\n",
    "\n",
    "\n",
    "n_requerido = sms.NormalIndPower().solve_power(efecto,\n",
    "                                               power=0.8,\n",
    "                                               alpha=0.05)\n",
    "\n",
    "n_requerido"
   ]
  },
  {
   "cell_type": "markdown",
   "metadata": {},
   "source": [
    "Necesitamos **al menos 4720 observaciones para cada grupo**. \n",
    "\n",
    "Establecer el `poder estadístico` en 0.8 implica que si existe una diferencia significativa entre las tasas de conversión, tenemos un 80% de probabilidad de detectarla con este tamaño de la muestra."
   ]
  },
  {
   "cell_type": "markdown",
   "metadata": {},
   "source": [
    "***\n",
    "### 2. Obtener y preparar datos\n",
    "\n",
    "\n",
    "Obtenemos el dataframe y procedemos a examinarlos y prepararlos para el estudio. Escogeremos una muestra aleatoria de 4720 registros por cada grupo."
   ]
  },
  {
   "cell_type": "code",
   "execution_count": 14,
   "metadata": {},
   "outputs": [
    {
     "data": {
      "text/html": [
       "<div>\n",
       "<style scoped>\n",
       "    .dataframe tbody tr th:only-of-type {\n",
       "        vertical-align: middle;\n",
       "    }\n",
       "\n",
       "    .dataframe tbody tr th {\n",
       "        vertical-align: top;\n",
       "    }\n",
       "\n",
       "    .dataframe thead th {\n",
       "        text-align: right;\n",
       "    }\n",
       "</style>\n",
       "<table border=\"1\" class=\"dataframe\">\n",
       "  <thead>\n",
       "    <tr style=\"text-align: right;\">\n",
       "      <th></th>\n",
       "      <th>user_id</th>\n",
       "      <th>timestamp</th>\n",
       "      <th>group</th>\n",
       "      <th>landing_page</th>\n",
       "      <th>converted</th>\n",
       "    </tr>\n",
       "  </thead>\n",
       "  <tbody>\n",
       "    <tr>\n",
       "      <th>0</th>\n",
       "      <td>851104</td>\n",
       "      <td>2017-01-21 22:11:48.556739</td>\n",
       "      <td>control</td>\n",
       "      <td>old_page</td>\n",
       "      <td>0</td>\n",
       "    </tr>\n",
       "    <tr>\n",
       "      <th>1</th>\n",
       "      <td>804228</td>\n",
       "      <td>2017-01-12 08:01:45.159739</td>\n",
       "      <td>control</td>\n",
       "      <td>old_page</td>\n",
       "      <td>0</td>\n",
       "    </tr>\n",
       "    <tr>\n",
       "      <th>2</th>\n",
       "      <td>661590</td>\n",
       "      <td>2017-01-11 16:55:06.154213</td>\n",
       "      <td>treatment</td>\n",
       "      <td>new_page</td>\n",
       "      <td>0</td>\n",
       "    </tr>\n",
       "    <tr>\n",
       "      <th>3</th>\n",
       "      <td>853541</td>\n",
       "      <td>2017-01-08 18:28:03.143765</td>\n",
       "      <td>treatment</td>\n",
       "      <td>new_page</td>\n",
       "      <td>0</td>\n",
       "    </tr>\n",
       "    <tr>\n",
       "      <th>4</th>\n",
       "      <td>864975</td>\n",
       "      <td>2017-01-21 01:52:26.210827</td>\n",
       "      <td>control</td>\n",
       "      <td>old_page</td>\n",
       "      <td>1</td>\n",
       "    </tr>\n",
       "  </tbody>\n",
       "</table>\n",
       "</div>"
      ],
      "text/plain": [
       "   user_id                   timestamp      group landing_page  converted\n",
       "0   851104  2017-01-21 22:11:48.556739    control     old_page          0\n",
       "1   804228  2017-01-12 08:01:45.159739    control     old_page          0\n",
       "2   661590  2017-01-11 16:55:06.154213  treatment     new_page          0\n",
       "3   853541  2017-01-08 18:28:03.143765  treatment     new_page          0\n",
       "4   864975  2017-01-21 01:52:26.210827    control     old_page          1"
      ]
     },
     "execution_count": 14,
     "metadata": {},
     "output_type": "execute_result"
    }
   ],
   "source": [
    "df = pd.read_csv('data/ab_data.csv')\n",
    "\n",
    "df.head()"
   ]
  },
  {
   "cell_type": "code",
   "execution_count": 15,
   "metadata": {},
   "outputs": [
    {
     "name": "stdout",
     "output_type": "stream",
     "text": [
      "<class 'pandas.core.frame.DataFrame'>\n",
      "RangeIndex: 294478 entries, 0 to 294477\n",
      "Data columns (total 5 columns):\n",
      " #   Column        Non-Null Count   Dtype \n",
      "---  ------        --------------   ----- \n",
      " 0   user_id       294478 non-null  int64 \n",
      " 1   timestamp     294478 non-null  object\n",
      " 2   group         294478 non-null  object\n",
      " 3   landing_page  294478 non-null  object\n",
      " 4   converted     294478 non-null  int64 \n",
      "dtypes: int64(2), object(3)\n",
      "memory usage: 11.2+ MB\n"
     ]
    }
   ],
   "source": [
    "df.info()"
   ]
  },
  {
   "cell_type": "code",
   "execution_count": 16,
   "metadata": {},
   "outputs": [
    {
     "data": {
      "text/html": [
       "<div>\n",
       "<style scoped>\n",
       "    .dataframe tbody tr th:only-of-type {\n",
       "        vertical-align: middle;\n",
       "    }\n",
       "\n",
       "    .dataframe tbody tr th {\n",
       "        vertical-align: top;\n",
       "    }\n",
       "\n",
       "    .dataframe thead th {\n",
       "        text-align: right;\n",
       "    }\n",
       "</style>\n",
       "<table border=\"1\" class=\"dataframe\">\n",
       "  <thead>\n",
       "    <tr style=\"text-align: right;\">\n",
       "      <th>landing_page</th>\n",
       "      <th>new_page</th>\n",
       "      <th>old_page</th>\n",
       "    </tr>\n",
       "    <tr>\n",
       "      <th>group</th>\n",
       "      <th></th>\n",
       "      <th></th>\n",
       "    </tr>\n",
       "  </thead>\n",
       "  <tbody>\n",
       "    <tr>\n",
       "      <th>control</th>\n",
       "      <td>1928</td>\n",
       "      <td>145274</td>\n",
       "    </tr>\n",
       "    <tr>\n",
       "      <th>treatment</th>\n",
       "      <td>145311</td>\n",
       "      <td>1965</td>\n",
       "    </tr>\n",
       "  </tbody>\n",
       "</table>\n",
       "</div>"
      ],
      "text/plain": [
       "landing_page  new_page  old_page\n",
       "group                           \n",
       "control           1928    145274\n",
       "treatment       145311      1965"
      ]
     },
     "execution_count": 16,
     "metadata": {},
     "output_type": "execute_result"
    }
   ],
   "source": [
    "pd.crosstab(df.group, df.landing_page)"
   ]
  },
  {
   "cell_type": "code",
   "execution_count": 17,
   "metadata": {},
   "outputs": [
    {
     "data": {
      "image/png": "[encoded data removed]",
      "text/plain": [
       "<Figure size 640x480 with 1 Axes>"
      ]
     },
     "metadata": {},
     "output_type": "display_data"
    }
   ],
   "source": [
    "pd.crosstab(df.group, df.landing_page).plot(kind='bar');"
   ]
  },
  {
   "cell_type": "markdown",
   "metadata": {},
   "source": [
    "Eliminamos usuarios con varias visitas a la página web."
   ]
  },
  {
   "cell_type": "code",
   "execution_count": 22,
   "metadata": {},
   "outputs": [
    {
     "data": {
      "text/plain": [
       "Int64Index([805339, 754884, 722274, 783176, 898232, 899018, 904570, 842042,\n",
       "            881123, 858720],\n",
       "           dtype='int64')"
      ]
     },
     "execution_count": 22,
     "metadata": {},
     "output_type": "execute_result"
    }
   ],
   "source": [
    "sesiones = df.user_id.value_counts(ascending=False)\n",
    "\n",
    "sesiones[sesiones>1].index[:10]"
   ]
  },
  {
   "cell_type": "code",
   "execution_count": 24,
   "metadata": {},
   "outputs": [],
   "source": [
    "drop_usuarios = sesiones[sesiones>1].index\n",
    "\n",
    "df = df[~df.user_id.isin(drop_usuarios)]"
   ]
  },
  {
   "cell_type": "code",
   "execution_count": 25,
   "metadata": {},
   "outputs": [
    {
     "data": {
      "text/plain": [
       "(286690, 5)"
      ]
     },
     "execution_count": 25,
     "metadata": {},
     "output_type": "execute_result"
    }
   ],
   "source": [
    "df.shape"
   ]
  },
  {
   "cell_type": "code",
   "execution_count": 26,
   "metadata": {},
   "outputs": [
    {
     "data": {
      "text/html": [
       "<div>\n",
       "<style scoped>\n",
       "    .dataframe tbody tr th:only-of-type {\n",
       "        vertical-align: middle;\n",
       "    }\n",
       "\n",
       "    .dataframe tbody tr th {\n",
       "        vertical-align: top;\n",
       "    }\n",
       "\n",
       "    .dataframe thead th {\n",
       "        text-align: right;\n",
       "    }\n",
       "</style>\n",
       "<table border=\"1\" class=\"dataframe\">\n",
       "  <thead>\n",
       "    <tr style=\"text-align: right;\">\n",
       "      <th>landing_page</th>\n",
       "      <th>new_page</th>\n",
       "      <th>old_page</th>\n",
       "    </tr>\n",
       "    <tr>\n",
       "      <th>group</th>\n",
       "      <th></th>\n",
       "      <th></th>\n",
       "    </tr>\n",
       "  </thead>\n",
       "  <tbody>\n",
       "    <tr>\n",
       "      <th>control</th>\n",
       "      <td>0</td>\n",
       "      <td>143293</td>\n",
       "    </tr>\n",
       "    <tr>\n",
       "      <th>treatment</th>\n",
       "      <td>143397</td>\n",
       "      <td>0</td>\n",
       "    </tr>\n",
       "  </tbody>\n",
       "</table>\n",
       "</div>"
      ],
      "text/plain": [
       "landing_page  new_page  old_page\n",
       "group                           \n",
       "control              0    143293\n",
       "treatment       143397         0"
      ]
     },
     "execution_count": 26,
     "metadata": {},
     "output_type": "execute_result"
    }
   ],
   "source": [
    "pd.crosstab(df.group, df.landing_page)"
   ]
  },
  {
   "cell_type": "code",
   "execution_count": 27,
   "metadata": {},
   "outputs": [
    {
     "data": {
      "image/png": "[encoded data removed]",
      "text/plain": [
       "<Figure size 640x480 with 1 Axes>"
      ]
     },
     "metadata": {},
     "output_type": "display_data"
    }
   ],
   "source": [
    "pd.crosstab(df.group, df.landing_page).plot(kind='bar');"
   ]
  },
  {
   "cell_type": "markdown",
   "metadata": {},
   "source": [
    "**Muestreo**"
   ]
  },
  {
   "cell_type": "code",
   "execution_count": 44,
   "metadata": {},
   "outputs": [
    {
     "data": {
      "text/html": [
       "<div>\n",
       "<style scoped>\n",
       "    .dataframe tbody tr th:only-of-type {\n",
       "        vertical-align: middle;\n",
       "    }\n",
       "\n",
       "    .dataframe tbody tr th {\n",
       "        vertical-align: top;\n",
       "    }\n",
       "\n",
       "    .dataframe thead th {\n",
       "        text-align: right;\n",
       "    }\n",
       "</style>\n",
       "<table border=\"1\" class=\"dataframe\">\n",
       "  <thead>\n",
       "    <tr style=\"text-align: right;\">\n",
       "      <th></th>\n",
       "      <th>user_id</th>\n",
       "      <th>timestamp</th>\n",
       "      <th>group</th>\n",
       "      <th>landing_page</th>\n",
       "      <th>converted</th>\n",
       "    </tr>\n",
       "  </thead>\n",
       "  <tbody>\n",
       "    <tr>\n",
       "      <th>0</th>\n",
       "      <td>763854</td>\n",
       "      <td>2017-01-21 03:43:17.188315</td>\n",
       "      <td>control</td>\n",
       "      <td>old_page</td>\n",
       "      <td>0</td>\n",
       "    </tr>\n",
       "    <tr>\n",
       "      <th>1</th>\n",
       "      <td>690555</td>\n",
       "      <td>2017-01-18 06:38:13.079449</td>\n",
       "      <td>control</td>\n",
       "      <td>old_page</td>\n",
       "      <td>0</td>\n",
       "    </tr>\n",
       "    <tr>\n",
       "      <th>2</th>\n",
       "      <td>861520</td>\n",
       "      <td>2017-01-06 21:13:40.044766</td>\n",
       "      <td>control</td>\n",
       "      <td>old_page</td>\n",
       "      <td>0</td>\n",
       "    </tr>\n",
       "    <tr>\n",
       "      <th>3</th>\n",
       "      <td>630778</td>\n",
       "      <td>2017-01-05 16:42:36.995204</td>\n",
       "      <td>control</td>\n",
       "      <td>old_page</td>\n",
       "      <td>0</td>\n",
       "    </tr>\n",
       "    <tr>\n",
       "      <th>4</th>\n",
       "      <td>656634</td>\n",
       "      <td>2017-01-04 15:31:21.676130</td>\n",
       "      <td>control</td>\n",
       "      <td>old_page</td>\n",
       "      <td>0</td>\n",
       "    </tr>\n",
       "  </tbody>\n",
       "</table>\n",
       "</div>"
      ],
      "text/plain": [
       "   user_id                   timestamp    group landing_page  converted\n",
       "0   763854  2017-01-21 03:43:17.188315  control     old_page          0\n",
       "1   690555  2017-01-18 06:38:13.079449  control     old_page          0\n",
       "2   861520  2017-01-06 21:13:40.044766  control     old_page          0\n",
       "3   630778  2017-01-05 16:42:36.995204  control     old_page          0\n",
       "4   656634  2017-01-04 15:31:21.676130  control     old_page          0"
      ]
     },
     "execution_count": 44,
     "metadata": {},
     "output_type": "execute_result"
    }
   ],
   "source": [
    "control = df[df.group=='control'].sample(n=4720, random_state=22)\n",
    "\n",
    "tratamiento = df[df.group=='treatment'].sample(n=4720, random_state=22)\n",
    "\n",
    "\n",
    "ab_test = pd.concat([control, tratamiento], axis=0)\n",
    "\n",
    "ab_test.reset_index(drop=True, inplace=True)\n",
    "\n",
    "ab_test.head()"
   ]
  },
  {
   "cell_type": "code",
   "execution_count": 45,
   "metadata": {},
   "outputs": [
    {
     "data": {
      "text/html": [
       "<div>\n",
       "<style scoped>\n",
       "    .dataframe tbody tr th:only-of-type {\n",
       "        vertical-align: middle;\n",
       "    }\n",
       "\n",
       "    .dataframe tbody tr th {\n",
       "        vertical-align: top;\n",
       "    }\n",
       "\n",
       "    .dataframe thead th {\n",
       "        text-align: right;\n",
       "    }\n",
       "</style>\n",
       "<table border=\"1\" class=\"dataframe\">\n",
       "  <thead>\n",
       "    <tr style=\"text-align: right;\">\n",
       "      <th></th>\n",
       "      <th>user_id</th>\n",
       "      <th>timestamp</th>\n",
       "      <th>group</th>\n",
       "      <th>landing_page</th>\n",
       "      <th>converted</th>\n",
       "    </tr>\n",
       "  </thead>\n",
       "  <tbody>\n",
       "    <tr>\n",
       "      <th>9435</th>\n",
       "      <td>908512</td>\n",
       "      <td>2017-01-14 22:02:29.922674</td>\n",
       "      <td>treatment</td>\n",
       "      <td>new_page</td>\n",
       "      <td>0</td>\n",
       "    </tr>\n",
       "    <tr>\n",
       "      <th>9436</th>\n",
       "      <td>873211</td>\n",
       "      <td>2017-01-05 00:57:16.167151</td>\n",
       "      <td>treatment</td>\n",
       "      <td>new_page</td>\n",
       "      <td>0</td>\n",
       "    </tr>\n",
       "    <tr>\n",
       "      <th>9437</th>\n",
       "      <td>631276</td>\n",
       "      <td>2017-01-20 18:56:58.167809</td>\n",
       "      <td>treatment</td>\n",
       "      <td>new_page</td>\n",
       "      <td>0</td>\n",
       "    </tr>\n",
       "    <tr>\n",
       "      <th>9438</th>\n",
       "      <td>662301</td>\n",
       "      <td>2017-01-03 08:10:57.768806</td>\n",
       "      <td>treatment</td>\n",
       "      <td>new_page</td>\n",
       "      <td>0</td>\n",
       "    </tr>\n",
       "    <tr>\n",
       "      <th>9439</th>\n",
       "      <td>944623</td>\n",
       "      <td>2017-01-19 10:56:01.648653</td>\n",
       "      <td>treatment</td>\n",
       "      <td>new_page</td>\n",
       "      <td>1</td>\n",
       "    </tr>\n",
       "  </tbody>\n",
       "</table>\n",
       "</div>"
      ],
      "text/plain": [
       "      user_id                   timestamp      group landing_page  converted\n",
       "9435   908512  2017-01-14 22:02:29.922674  treatment     new_page          0\n",
       "9436   873211  2017-01-05 00:57:16.167151  treatment     new_page          0\n",
       "9437   631276  2017-01-20 18:56:58.167809  treatment     new_page          0\n",
       "9438   662301  2017-01-03 08:10:57.768806  treatment     new_page          0\n",
       "9439   944623  2017-01-19 10:56:01.648653  treatment     new_page          1"
      ]
     },
     "execution_count": 45,
     "metadata": {},
     "output_type": "execute_result"
    }
   ],
   "source": [
    "ab_test.tail()"
   ]
  },
  {
   "cell_type": "code",
   "execution_count": 46,
   "metadata": {},
   "outputs": [
    {
     "name": "stdout",
     "output_type": "stream",
     "text": [
      "<class 'pandas.core.frame.DataFrame'>\n",
      "RangeIndex: 9440 entries, 0 to 9439\n",
      "Data columns (total 5 columns):\n",
      " #   Column        Non-Null Count  Dtype \n",
      "---  ------        --------------  ----- \n",
      " 0   user_id       9440 non-null   int64 \n",
      " 1   timestamp     9440 non-null   object\n",
      " 2   group         9440 non-null   object\n",
      " 3   landing_page  9440 non-null   object\n",
      " 4   converted     9440 non-null   int64 \n",
      "dtypes: int64(2), object(3)\n",
      "memory usage: 368.9+ KB\n"
     ]
    }
   ],
   "source": [
    "ab_test.info()"
   ]
  },
  {
   "cell_type": "code",
   "execution_count": 47,
   "metadata": {},
   "outputs": [
    {
     "data": {
      "text/plain": [
       "control      4720\n",
       "treatment    4720\n",
       "Name: group, dtype: int64"
      ]
     },
     "execution_count": 47,
     "metadata": {},
     "output_type": "execute_result"
    }
   ],
   "source": [
    "ab_test.group.value_counts()"
   ]
  },
  {
   "cell_type": "markdown",
   "metadata": {},
   "source": [
    "Ya tenemos las muestras que necesitamos para realizar el estudio."
   ]
  },
  {
   "cell_type": "markdown",
   "metadata": {},
   "source": [
    "***\n",
    "### 3. Visualizar los resultados\n",
    "\n",
    "Realizamos algunos cálculos descriptivos:"
   ]
  },
  {
   "cell_type": "code",
   "execution_count": 49,
   "metadata": {},
   "outputs": [
    {
     "data": {
      "text/html": [
       "<style type=\"text/css\">\n",
       "</style>\n",
       "<table id=\"T_b0c30\">\n",
       "  <thead>\n",
       "    <tr>\n",
       "      <th class=\"blank level0\" >&nbsp;</th>\n",
       "      <th id=\"T_b0c30_level0_col0\" class=\"col_heading level0 col0\" >conversion_rate</th>\n",
       "      <th id=\"T_b0c30_level0_col1\" class=\"col_heading level0 col1\" >std</th>\n",
       "      <th id=\"T_b0c30_level0_col2\" class=\"col_heading level0 col2\" >sem</th>\n",
       "    </tr>\n",
       "    <tr>\n",
       "      <th class=\"index_name level0\" >group</th>\n",
       "      <th class=\"blank col0\" >&nbsp;</th>\n",
       "      <th class=\"blank col1\" >&nbsp;</th>\n",
       "      <th class=\"blank col2\" >&nbsp;</th>\n",
       "    </tr>\n",
       "  </thead>\n",
       "  <tbody>\n",
       "    <tr>\n",
       "      <th id=\"T_b0c30_level0_row0\" class=\"row_heading level0 row0\" >control</th>\n",
       "      <td id=\"T_b0c30_row0_col0\" class=\"data row0 col0\" >0.123</td>\n",
       "      <td id=\"T_b0c30_row0_col1\" class=\"data row0 col1\" >0.329</td>\n",
       "      <td id=\"T_b0c30_row0_col2\" class=\"data row0 col2\" >0.005</td>\n",
       "    </tr>\n",
       "    <tr>\n",
       "      <th id=\"T_b0c30_level0_row1\" class=\"row_heading level0 row1\" >treatment</th>\n",
       "      <td id=\"T_b0c30_row1_col0\" class=\"data row1 col0\" >0.126</td>\n",
       "      <td id=\"T_b0c30_row1_col1\" class=\"data row1 col1\" >0.331</td>\n",
       "      <td id=\"T_b0c30_row1_col2\" class=\"data row1 col2\" >0.005</td>\n",
       "    </tr>\n",
       "  </tbody>\n",
       "</table>\n"
      ],
      "text/plain": [
       "<pandas.io.formats.style.Styler at 0x283219670>"
      ]
     },
     "execution_count": 49,
     "metadata": {},
     "output_type": "execute_result"
    }
   ],
   "source": [
    "tasas_conversion = ab_test.groupby('group')['converted']\n",
    "\n",
    "tasas_conversion = tasas_conversion.agg([np.mean,\n",
    "                                         lambda x: np.std(x, ddof=0),\n",
    "                                         lambda x: stats.sem(x, ddof=0)])\n",
    "\n",
    "tasas_conversion.columns = ['conversion_rate', 'std', 'sem']\n",
    "\n",
    "\n",
    "tasas_conversion.style.format('{:.3f}')"
   ]
  },
  {
   "cell_type": "code",
   "execution_count": 50,
   "metadata": {},
   "outputs": [
    {
     "data": {
      "image/png": "[encoded data removed]",
      "text/plain": [
       "<Figure size 800x600 with 1 Axes>"
      ]
     },
     "metadata": {},
     "output_type": "display_data"
    }
   ],
   "source": [
    "plt.figure(figsize=(8,6))\n",
    "\n",
    "sns.barplot(x=ab_test['group'], \n",
    "            y=ab_test['converted'])\n",
    "\n",
    "plt.ylim(0, 0.17)\n",
    "\n",
    "plt.title('Tasa de conversión por grupo')\n",
    "plt.xlabel('Grupo')\n",
    "plt.ylabel('Convertido (proporción)');"
   ]
  },
  {
   "cell_type": "markdown",
   "metadata": {},
   "source": [
    "Las tasas de conversión para ambos grupos están muy cerca. La tasa de conversión del grupo de  `control` es menor que la esperada (12.3% vs 13% que nos habían dicho).\n",
    "\n",
    "Asi que el grupo de `tratamiento` tiene una tasa de conversión mayor. **¿Es esta diferencia estadísticamente significativa?**"
   ]
  },
  {
   "cell_type": "markdown",
   "metadata": {},
   "source": [
    "***\n",
    "### 4. Testear la hipótesis\n",
    "\n",
    "El último paso es testear nuestra hipótesis. Tenemos una muestra suficiente para usar el z-test. \n",
    "\n",
    "Podemos usar `statsmodels.stats.proportion` para obtener los $p$-valores y los intervalos de confianza:"
   ]
  },
  {
   "cell_type": "code",
   "execution_count": 51,
   "metadata": {},
   "outputs": [],
   "source": [
    "from statsmodels.stats.proportion import proportions_ztest, proportion_confint"
   ]
  },
  {
   "cell_type": "code",
   "execution_count": 53,
   "metadata": {},
   "outputs": [],
   "source": [
    "# selecciono los grupos\n",
    "\n",
    "control_res = ab_test[ab_test.group=='control']['converted']\n",
    "\n",
    "trat_res = ab_test[ab_test.group=='treatment']['converted']"
   ]
  },
  {
   "cell_type": "code",
   "execution_count": 55,
   "metadata": {},
   "outputs": [
    {
     "data": {
      "text/plain": [
       "593"
      ]
     },
     "execution_count": 55,
     "metadata": {},
     "output_type": "execute_result"
    }
   ],
   "source": [
    "sum(trat_res)"
   ]
  },
  {
   "cell_type": "code",
   "execution_count": 56,
   "metadata": {},
   "outputs": [],
   "source": [
    "impresiones = [control_res.shape[0], trat_res.shape[0]]  # entrar en al pagina, 4720\n",
    "\n",
    "conversiones = [sum(control_res), sum(trat_res)]    # comprar en la pagina\n",
    "\n",
    "\n",
    "z_score, p_valor = proportions_ztest(conversiones, nobs=impresiones)\n",
    "\n",
    "\n",
    "(control_a, trata_a), (control_b, trata_b) = proportion_confint(conversiones, nobs=impresiones, alpha=0.05)"
   ]
  },
  {
   "cell_type": "code",
   "execution_count": 58,
   "metadata": {},
   "outputs": [
    {
     "name": "stdout",
     "output_type": "stream",
     "text": [
      "z-score: -0.34\n",
      "p-valor: 0.732\n",
      "intervalo conf 95% para grupo control: [0.114, 0.133]\n",
      "intervalo conf 95% para grupo tratamiento: [0.116, 0.135]\n"
     ]
    }
   ],
   "source": [
    "print(f'z-score: {z_score:.2f}')\n",
    "\n",
    "print(f'p-valor: {p_valor:.3f}')\n",
    "\n",
    "print(f'intervalo conf 95% para grupo control: [{control_a:.3f}, {control_b:.3f}]')\n",
    "\n",
    "print(f'intervalo conf 95% para grupo tratamiento: [{trata_a:.3f}, {trata_b:.3f}]')"
   ]
  },
  {
   "cell_type": "markdown",
   "metadata": {},
   "source": [
    "***\n",
    "### 5. Interpretar resultados"
   ]
  },
  {
   "cell_type": "markdown",
   "metadata": {},
   "source": [
    "Dado que el $p$-valor=0.732 es mayor que $\\alpha$=0.05, no podemos rechazar la hipótesis nula $H_0$, lo que significa que el nuevo diseño de la página no tiene un rendimiento significativamente diferente del viejo diseño.\n",
    "\n",
    "Adicionalmente, si se observa el intervalo de confianza para el grupo de  `tratamiento`([0.116, 0.135], i.e. 11.6-13.5%) nos damos cuenta de que:\n",
    "1. Incluye nuestro valor base del 13% en la tasa de conversion\n",
    "2. No incluye nuestro valor objetivo del 15% (el 2% de subida que buscabamos)\n",
    "\n",
    "Todo esto implica que lo más probable es que la tasa de conversión del nuevo diseño sea similar al viejo diseño de la web, y no llegaría a ese 15% buscado. Esto probaría que el diseño no mejora nuestra tasa de conversión y que habría que volver a la mesa de diseño."
   ]
  }
 ],
 "metadata": {
  "finalized": {
   "timestamp": 1642164762242,
   "trusted": true
  },
  "kernelspec": {
   "display_name": "clase",
   "language": "python",
   "name": "clase"
  },
  "language_info": {
   "codemirror_mode": {
    "name": "ipython",
    "version": 3
   },
   "file_extension": ".py",
   "mimetype": "text/x-python",
   "name": "python",
   "nbconvert_exporter": "python",
   "pygments_lexer": "ipython3",
   "version": "3.9.12"
  },
  "varInspector": {
   "cols": {
    "lenName": 16,
    "lenType": 16,
    "lenVar": 40
   },
   "kernels_config": {
    "python": {
     "delete_cmd_postfix": "",
     "delete_cmd_prefix": "del ",
     "library": "var_list.py",
     "varRefreshCmd": "print(var_dic_list())"
    },
    "r": {
     "delete_cmd_postfix": ") ",
     "delete_cmd_prefix": "rm(",
     "library": "var_list.r",
     "varRefreshCmd": "cat(var_dic_list()) "
    }
   },
   "types_to_exclude": [
    "module",
    "function",
    "builtin_function_or_method",
    "instance",
    "_Feature"
   ],
   "window_display": false
  }
 },
 "nbformat": 4,
 "nbformat_minor": 4
}
