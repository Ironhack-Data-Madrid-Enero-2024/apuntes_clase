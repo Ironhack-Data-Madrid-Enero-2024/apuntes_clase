{
 "cells": [
  {
   "cell_type": "markdown",
   "id": "f0f777b0",
   "metadata": {
    "toc": true
   },
   "source": [
    "<h1>Table of Contents<span class=\"tocSkip\"></span></h1>\n",
    "<div class=\"toc\"><ul class=\"toc-item\"><li><span><a href=\"#Lambda-Functions\" data-toc-modified-id=\"Lambda-Functions-1\"><span class=\"toc-item-num\">1&nbsp;&nbsp;</span>Lambda Functions</a></span><ul class=\"toc-item\"><li><span><a href=\"#Summary\" data-toc-modified-id=\"Summary-1.1\"><span class=\"toc-item-num\">1.1&nbsp;&nbsp;</span>Summary</a></span></li></ul></li><li><span><a href=\"#Higher-Order-Functions:-Map,-Filter,-Reduce\" data-toc-modified-id=\"Higher-Order-Functions:-Map,-Filter,-Reduce-2\"><span class=\"toc-item-num\">2&nbsp;&nbsp;</span>Higher-Order Functions: Map, Filter, Reduce</a></span><ul class=\"toc-item\"><li><ul class=\"toc-item\"><li><span><a href=\"#Map\" data-toc-modified-id=\"Map-2.0.1\"><span class=\"toc-item-num\">2.0.1&nbsp;&nbsp;</span>Map</a></span><ul class=\"toc-item\"><li><span><a href=\"#Extra:-let's-do-it-with-lambda!\" data-toc-modified-id=\"Extra:-let's-do-it-with-lambda!-2.0.1.1\"><span class=\"toc-item-num\">2.0.1.1&nbsp;&nbsp;</span>Extra: let's do it with lambda!</a></span></li><li><span><a href=\"#💡-Check-for-understanding\" data-toc-modified-id=\"💡-Check-for-understanding-2.0.1.2\"><span class=\"toc-item-num\">2.0.1.2&nbsp;&nbsp;</span>💡 Check for understanding</a></span></li></ul></li><li><span><a href=\"#Filter\" data-toc-modified-id=\"Filter-2.0.2\"><span class=\"toc-item-num\">2.0.2&nbsp;&nbsp;</span>Filter</a></span><ul class=\"toc-item\"><li><span><a href=\"#💡-Check-for-understanding\" data-toc-modified-id=\"💡-Check-for-understanding-2.0.2.1\"><span class=\"toc-item-num\">2.0.2.1&nbsp;&nbsp;</span>💡 Check for understanding</a></span></li></ul></li><li><span><a href=\"#Reduce\" data-toc-modified-id=\"Reduce-2.0.3\"><span class=\"toc-item-num\">2.0.3&nbsp;&nbsp;</span>Reduce</a></span><ul class=\"toc-item\"><li><span><a href=\"#What-happened?\" data-toc-modified-id=\"What-happened?-2.0.3.1\"><span class=\"toc-item-num\">2.0.3.1&nbsp;&nbsp;</span>What happened?</a></span></li><li><span><a href=\"#💡-Check-for-understanding\" data-toc-modified-id=\"💡-Check-for-understanding-2.0.3.2\"><span class=\"toc-item-num\">2.0.3.2&nbsp;&nbsp;</span>💡 Check for understanding</a></span></li></ul></li></ul></li><li><span><a href=\"#Summary\" data-toc-modified-id=\"Summary-2.1\"><span class=\"toc-item-num\">2.1&nbsp;&nbsp;</span>Summary</a></span></li><li><span><a href=\"#Further-materials\" data-toc-modified-id=\"Further-materials-2.2\"><span class=\"toc-item-num\">2.2&nbsp;&nbsp;</span>Further materials</a></span></li></ul></li></ul></div>"
   ]
  },
  {
   "cell_type": "markdown",
   "id": "50011e88-750d-43f1-b6a4-91f427b5de03",
   "metadata": {
    "lang": "en"
   },
   "source": [
    "# Lambda Functions\n",
    "Lambda functions, also known as anonymous functions, are small, single-line functions in Python.\n",
    "\n",
    "They are created using the `lambda` keyword and are used when you need a quick and short function for a specific task without defining a formal function using the `def` keyword.\n",
    "\n",
    "**Syntax of a lambda**\n",
    "```python\n",
    "lambda arguments: expression(arguments)\n",
    "```\n",
    "\n",
    "It can also have default values:\n",
    "\n",
    "```python\n",
    "lambda param1, param2='default_value': expression(param1, param2)\n",
    "```\n",
    "\n",
    "Explanation:\n",
    "- `arguments`: The parameters (inputs) for the function, separated by commas (optional).\n",
    "- `expression`: The single expression that represents the function's logic.\n",
    "\n",
    "\n",
    "\n",
    "\n"
   ]
  },
  {
   "cell_type": "markdown",
   "id": "8e9bfbbc-6f30-4070-a774-9d6592320220",
   "metadata": {},
   "source": [
    "![](https://github.com/data-bootcamp-v4/lessons/blob/main/img/lambda.png?raw=true)"
   ]
  },
  {
   "cell_type": "markdown",
   "id": "c0684d5b-5b9d-41e8-84d2-9ccca82b86c3",
   "metadata": {},
   "source": [
    "**Lambda examples**"
   ]
  },
  {
   "cell_type": "code",
   "execution_count": 1,
   "id": "dc70ffce-9efb-4afe-88bc-b2f634d9b3f9",
   "metadata": {},
   "outputs": [],
   "source": [
    "def restar(a, b):\n",
    "    \n",
    "    return a-b"
   ]
  },
  {
   "cell_type": "code",
   "execution_count": 2,
   "id": "9a05b634-d567-434f-b6c5-6c83dac45429",
   "metadata": {},
   "outputs": [
    {
     "data": {
      "text/plain": [
       "-1"
      ]
     },
     "execution_count": 2,
     "metadata": {},
     "output_type": "execute_result"
    }
   ],
   "source": [
    "restar(8, 9)"
   ]
  },
  {
   "cell_type": "code",
   "execution_count": 3,
   "id": "4d5546fc",
   "metadata": {},
   "outputs": [
    {
     "data": {
      "text/plain": [
       "<function __main__.<lambda>(a, b)>"
      ]
     },
     "execution_count": 3,
     "metadata": {},
     "output_type": "execute_result"
    }
   ],
   "source": [
    "lambda a,b: a-b"
   ]
  },
  {
   "cell_type": "code",
   "execution_count": 4,
   "id": "5bf7a53a",
   "metadata": {},
   "outputs": [
    {
     "data": {
      "text/plain": [
       "-1"
      ]
     },
     "execution_count": 4,
     "metadata": {},
     "output_type": "execute_result"
    }
   ],
   "source": [
    "(lambda a,b: a-b)(2,3)"
   ]
  },
  {
   "cell_type": "code",
   "execution_count": 5,
   "id": "14a0324e",
   "metadata": {},
   "outputs": [],
   "source": [
    "restar2 = lambda a,b: a-b"
   ]
  },
  {
   "cell_type": "code",
   "execution_count": 6,
   "id": "215a2602",
   "metadata": {},
   "outputs": [
    {
     "data": {
      "text/plain": [
       "-1"
      ]
     },
     "execution_count": 6,
     "metadata": {},
     "output_type": "execute_result"
    }
   ],
   "source": [
    "restar2(8, 9)"
   ]
  },
  {
   "cell_type": "code",
   "execution_count": 10,
   "id": "e5021982",
   "metadata": {},
   "outputs": [],
   "source": [
    "data = [(2, 'apple'), (3, 'orange'), (1, 'banana')]"
   ]
  },
  {
   "cell_type": "code",
   "execution_count": 11,
   "id": "7aa5c58e",
   "metadata": {},
   "outputs": [
    {
     "data": {
      "text/plain": [
       "[(1, 'banana'), (2, 'apple'), (3, 'orange')]"
      ]
     },
     "execution_count": 11,
     "metadata": {},
     "output_type": "execute_result"
    }
   ],
   "source": [
    "sorted(data)"
   ]
  },
  {
   "cell_type": "code",
   "execution_count": 12,
   "id": "20668cce",
   "metadata": {},
   "outputs": [
    {
     "data": {
      "text/plain": [
       "[(2, 'apple'), (1, 'banana'), (3, 'orange')]"
      ]
     },
     "execution_count": 12,
     "metadata": {},
     "output_type": "execute_result"
    }
   ],
   "source": [
    "sorted(data, key=lambda elem: elem[1])"
   ]
  },
  {
   "cell_type": "markdown",
   "id": "c3da4f44-52ea-43a0-a2f0-46b2dda6ff0d",
   "metadata": {
    "jp-MarkdownHeadingCollapsed": true,
    "tags": []
   },
   "source": [
    "## Summary\n",
    "    - no name\n",
    "    - in-line\n",
    "    - on the spot\n",
    "    - not re-usable (unless you save them)\n",
    "    - they can take many parameters"
   ]
  },
  {
   "cell_type": "markdown",
   "id": "95974520-156c-4e83-853e-8997cdc93193",
   "metadata": {},
   "source": [
    "# Higher-Order Functions: Map, Filter, Reduce"
   ]
  },
  {
   "cell_type": "markdown",
   "id": "5e72efed-a030-4f6d-9d8f-74b5add4fbb5",
   "metadata": {},
   "source": [
    "Lambda functions are handy when you need a simple function for a short-lived task or as an argument to higher-order functions like map, filter, reduce and sorted."
   ]
  },
  {
   "cell_type": "markdown",
   "id": "a8a21137-95d8-4f46-8a37-4ac0c4b1406d",
   "metadata": {},
   "source": [
    "Higher-order functions are functions that take one or more functions as arguments or return a function as a result. "
   ]
  },
  {
   "cell_type": "markdown",
   "id": "e5f275cc-31bc-4f44-bb7f-5bce097407aa",
   "metadata": {},
   "source": [
    "### Map"
   ]
  },
  {
   "cell_type": "markdown",
   "id": "bd8c26fb-5ef3-448e-bbed-a075cb59eb8f",
   "metadata": {
    "lang": "en"
   },
   "source": [
    "The map() function takes a function and an iterable (such as a list) as arguments and applies the function to each element of the iterable, returning a new iterator with the results.\n",
    "\n",
    "```python\n",
    "map(function_to_apply, iterable)\n",
    "```"
   ]
  },
  {
   "cell_type": "markdown",
   "id": "14717a0d-c149-410c-9276-64d07f1b7a1a",
   "metadata": {},
   "source": [
    "```\n",
    "Note: An iterator is an object that produces values one at a time, allowing sequential access without knowing the underlying data structure. \n",
    "It can be used with loops or built-in functions like `next()` to retrieve the next value from the sequence until it is exhausted.\n",
    "```"
   ]
  },
  {
   "cell_type": "markdown",
   "id": "687c14e9-ce4a-45da-8b76-ddecc1f08057",
   "metadata": {},
   "source": [
    "![](https://github.com/data-bootcamp-v4/lessons/blob/main/img/map.png?raw=true)"
   ]
  },
  {
   "cell_type": "code",
   "execution_count": 13,
   "id": "79b16b14-e834-4704-9ddd-227ddf20eb7d",
   "metadata": {},
   "outputs": [
    {
     "data": {
      "text/plain": [
       "[4, 9, 16, 25, 36, 49]"
      ]
     },
     "execution_count": 13,
     "metadata": {},
     "output_type": "execute_result"
    }
   ],
   "source": [
    "lst = [2,3,4,5,6,7]\n",
    "\n",
    "nueva_lst = []\n",
    "\n",
    "\n",
    "for e in lst:\n",
    "    \n",
    "    nueva_lst.append(e**2)\n",
    "    \n",
    "nueva_lst"
   ]
  },
  {
   "cell_type": "code",
   "execution_count": 14,
   "id": "79329502",
   "metadata": {},
   "outputs": [],
   "source": [
    "def cuadrado(x):\n",
    "    \n",
    "    return x**2"
   ]
  },
  {
   "cell_type": "code",
   "execution_count": 15,
   "id": "f2fde0ac",
   "metadata": {},
   "outputs": [
    {
     "data": {
      "text/plain": [
       "64"
      ]
     },
     "execution_count": 15,
     "metadata": {},
     "output_type": "execute_result"
    }
   ],
   "source": [
    "cuadrado(8)"
   ]
  },
  {
   "cell_type": "code",
   "execution_count": 16,
   "id": "f7d65375",
   "metadata": {},
   "outputs": [
    {
     "data": {
      "text/plain": [
       "[2, 3, 4, 5, 6, 7]"
      ]
     },
     "execution_count": 16,
     "metadata": {},
     "output_type": "execute_result"
    }
   ],
   "source": [
    "lst"
   ]
  },
  {
   "cell_type": "code",
   "execution_count": 18,
   "id": "92c9e892",
   "metadata": {},
   "outputs": [
    {
     "data": {
      "text/plain": [
       "[4, 9, 16, 25, 36, 49]"
      ]
     },
     "execution_count": 18,
     "metadata": {},
     "output_type": "execute_result"
    }
   ],
   "source": [
    "list(map(cuadrado, lst))"
   ]
  },
  {
   "cell_type": "code",
   "execution_count": 20,
   "id": "a0a42aa4",
   "metadata": {},
   "outputs": [],
   "source": [
    "lst = [i for i in range(100000)]"
   ]
  },
  {
   "cell_type": "code",
   "execution_count": 21,
   "id": "d0417756-972d-4909-85ab-3ea0eeaf7290",
   "metadata": {},
   "outputs": [
    {
     "name": "stdout",
     "output_type": "stream",
     "text": [
      "CPU times: user 41.1 ms, sys: 2.38 ms, total: 43.5 ms\n",
      "Wall time: 42.6 ms\n"
     ]
    },
    {
     "data": {
      "text/plain": [
       "[0, 1, 4, 9, 16, 25, 36, 49, 64, 81]"
      ]
     },
     "execution_count": 21,
     "metadata": {},
     "output_type": "execute_result"
    }
   ],
   "source": [
    "%%time\n",
    "\n",
    "nueva_lst = []\n",
    "\n",
    "\n",
    "for e in lst:\n",
    "    \n",
    "    nueva_lst.append(e**2)\n",
    "    \n",
    "nueva_lst[:10]"
   ]
  },
  {
   "cell_type": "code",
   "execution_count": 22,
   "id": "3ed5cc3d-9001-412b-99a0-b891538d2a97",
   "metadata": {},
   "outputs": [
    {
     "name": "stdout",
     "output_type": "stream",
     "text": [
      "CPU times: user 4 µs, sys: 1e+03 ns, total: 5 µs\n",
      "Wall time: 8.11 µs\n"
     ]
    },
    {
     "data": {
      "text/plain": [
       "<map at 0x105eeb790>"
      ]
     },
     "execution_count": 22,
     "metadata": {},
     "output_type": "execute_result"
    }
   ],
   "source": [
    "%%time\n",
    "\n",
    "map(cuadrado, lst)"
   ]
  },
  {
   "cell_type": "code",
   "execution_count": 25,
   "id": "f3821978",
   "metadata": {},
   "outputs": [
    {
     "name": "stdout",
     "output_type": "stream",
     "text": [
      "CPU times: user 40.1 ms, sys: 2.11 ms, total: 42.3 ms\n",
      "Wall time: 41.3 ms\n"
     ]
    },
    {
     "data": {
      "text/plain": [
       "[0, 1, 4, 9, 16, 25, 36, 49, 64, 81]"
      ]
     },
     "execution_count": 25,
     "metadata": {},
     "output_type": "execute_result"
    }
   ],
   "source": [
    "%%time\n",
    "\n",
    "list(map(cuadrado, lst))[:10]"
   ]
  },
  {
   "cell_type": "code",
   "execution_count": 28,
   "id": "b60c8e69",
   "metadata": {},
   "outputs": [
    {
     "name": "stdout",
     "output_type": "stream",
     "text": [
      "CPU times: user 47.4 ms, sys: 2.74 ms, total: 50.1 ms\n",
      "Wall time: 48.7 ms\n"
     ]
    },
    {
     "data": {
      "text/plain": [
       "[0, 1, 4, 9, 16, 25, 36, 49, 64, 81]"
      ]
     },
     "execution_count": 28,
     "metadata": {},
     "output_type": "execute_result"
    }
   ],
   "source": [
    "%%time\n",
    "\n",
    "list(map(lambda x: x**2, lst))[:10]"
   ]
  },
  {
   "cell_type": "code",
   "execution_count": 29,
   "id": "d841eb15",
   "metadata": {},
   "outputs": [],
   "source": [
    "def cuadrado(x):\n",
    "    \n",
    "    return x**2"
   ]
  },
  {
   "cell_type": "code",
   "execution_count": 30,
   "id": "43e89c5e",
   "metadata": {},
   "outputs": [],
   "source": [
    "lst1 = [1,2]\n",
    "\n",
    "lst2 = [6,7]\n",
    "\n",
    "\n",
    "def sumar_lst(a, b):\n",
    "    \n",
    "    lst = []\n",
    "    \n",
    "    for i in range(len(a)):\n",
    "        \n",
    "        lst.append(a[i]+b[i])\n",
    "        \n",
    "    return lst"
   ]
  },
  {
   "cell_type": "code",
   "execution_count": 31,
   "id": "18e6ec30",
   "metadata": {},
   "outputs": [
    {
     "data": {
      "text/plain": [
       "[7, 9]"
      ]
     },
     "execution_count": 31,
     "metadata": {},
     "output_type": "execute_result"
    }
   ],
   "source": [
    "sumar_lst(lst1, lst2)"
   ]
  },
  {
   "cell_type": "code",
   "execution_count": 32,
   "id": "428703e7",
   "metadata": {},
   "outputs": [
    {
     "ename": "TypeError",
     "evalue": "object of type 'int' has no len()",
     "output_type": "error",
     "traceback": [
      "\u001b[0;31m---------------------------------------------------------------------------\u001b[0m",
      "\u001b[0;31mTypeError\u001b[0m                                 Traceback (most recent call last)",
      "Cell \u001b[0;32mIn[32], line 1\u001b[0m\n\u001b[0;32m----> 1\u001b[0m \u001b[38;5;28;43mlist\u001b[39;49m\u001b[43m(\u001b[49m\u001b[38;5;28;43mmap\u001b[39;49m\u001b[43m(\u001b[49m\u001b[43msumar_lst\u001b[49m\u001b[43m,\u001b[49m\u001b[43m \u001b[49m\u001b[43mlst1\u001b[49m\u001b[43m,\u001b[49m\u001b[43m \u001b[49m\u001b[43mlst2\u001b[49m\u001b[43m)\u001b[49m\u001b[43m)\u001b[49m\n",
      "Cell \u001b[0;32mIn[30], line 10\u001b[0m, in \u001b[0;36msumar_lst\u001b[0;34m(a, b)\u001b[0m\n\u001b[1;32m      6\u001b[0m \u001b[38;5;28;01mdef\u001b[39;00m \u001b[38;5;21msumar_lst\u001b[39m(a, b):\n\u001b[1;32m      8\u001b[0m     lst \u001b[38;5;241m=\u001b[39m []\n\u001b[0;32m---> 10\u001b[0m     \u001b[38;5;28;01mfor\u001b[39;00m i \u001b[38;5;129;01min\u001b[39;00m \u001b[38;5;28mrange\u001b[39m(\u001b[38;5;28;43mlen\u001b[39;49m\u001b[43m(\u001b[49m\u001b[43ma\u001b[49m\u001b[43m)\u001b[49m):\n\u001b[1;32m     12\u001b[0m         lst\u001b[38;5;241m.\u001b[39mappend(a[i]\u001b[38;5;241m+\u001b[39mb[i])\n\u001b[1;32m     14\u001b[0m     \u001b[38;5;28;01mreturn\u001b[39;00m lst\n",
      "\u001b[0;31mTypeError\u001b[0m: object of type 'int' has no len()"
     ]
    }
   ],
   "source": [
    "list(map(sumar_lst, lst1, lst2))"
   ]
  },
  {
   "cell_type": "code",
   "execution_count": 33,
   "id": "fef0dcd3",
   "metadata": {},
   "outputs": [],
   "source": [
    "def sumar_lst(a,b):\n",
    "    return a+b"
   ]
  },
  {
   "cell_type": "code",
   "execution_count": 34,
   "id": "83767f38",
   "metadata": {},
   "outputs": [
    {
     "data": {
      "text/plain": [
       "[7, 9]"
      ]
     },
     "execution_count": 34,
     "metadata": {},
     "output_type": "execute_result"
    }
   ],
   "source": [
    "list(map(sumar_lst, lst1, lst2))"
   ]
  },
  {
   "cell_type": "code",
   "execution_count": 35,
   "id": "73867051",
   "metadata": {},
   "outputs": [
    {
     "data": {
      "text/plain": [
       "[7, 9]"
      ]
     },
     "execution_count": 35,
     "metadata": {},
     "output_type": "execute_result"
    }
   ],
   "source": [
    "list(map(lambda a,b: a+b, lst1, lst2))"
   ]
  },
  {
   "cell_type": "code",
   "execution_count": 36,
   "id": "a4700d13",
   "metadata": {},
   "outputs": [
    {
     "data": {
      "text/plain": [
       "[7, 9]"
      ]
     },
     "execution_count": 36,
     "metadata": {},
     "output_type": "execute_result"
    }
   ],
   "source": [
    "list(map(lambda a,b: a+b, [1,2,3], [6,7]))"
   ]
  },
  {
   "cell_type": "code",
   "execution_count": 37,
   "id": "a2092a03",
   "metadata": {},
   "outputs": [
    {
     "data": {
      "text/plain": [
       "[1, 4, 9, 16]"
      ]
     },
     "execution_count": 37,
     "metadata": {},
     "output_type": "execute_result"
    }
   ],
   "source": [
    "list(map(lambda x: x**2, (1,2,3,4)))"
   ]
  },
  {
   "cell_type": "code",
   "execution_count": 38,
   "id": "a7a25a02",
   "metadata": {},
   "outputs": [
    {
     "data": {
      "text/plain": [
       "<map at 0x106a79ee0>"
      ]
     },
     "execution_count": 38,
     "metadata": {},
     "output_type": "execute_result"
    }
   ],
   "source": [
    "a = map(lambda x: x**2, (1,2,3,4))\n",
    "\n",
    "a"
   ]
  },
  {
   "cell_type": "code",
   "execution_count": 39,
   "id": "716f54f9",
   "metadata": {},
   "outputs": [
    {
     "name": "stdout",
     "output_type": "stream",
     "text": [
      "1\n",
      "4\n",
      "9\n",
      "16\n"
     ]
    }
   ],
   "source": [
    "for e in a:\n",
    "    print(e)"
   ]
  },
  {
   "cell_type": "markdown",
   "id": "b5139f56-04e1-4ca8-a270-9fe03307845d",
   "metadata": {},
   "source": [
    "### Filter"
   ]
  },
  {
   "cell_type": "markdown",
   "id": "c908137b-67f7-4855-899f-de29c1d0b8b8",
   "metadata": {
    "lang": "en"
   },
   "source": [
    "The filter() function takes a function and an iterable as arguments and returns an iterator with the elements for which the function returns True.\n",
    "\n",
    "```python\n",
    "filter(a_function, iterable)\n",
    "```"
   ]
  },
  {
   "cell_type": "markdown",
   "id": "a17c5120-c0b6-4844-b193-e60b775169c8",
   "metadata": {
    "lang": "en"
   },
   "source": [
    "Imagine you want to filter a list of numbers to get only even values."
   ]
  },
  {
   "cell_type": "code",
   "execution_count": 41,
   "id": "58681af9-de17-4b7f-954e-6b82b21a0f06",
   "metadata": {},
   "outputs": [
    {
     "data": {
      "text/plain": [
       "[0, 1, 2, 3, 4, 5, 6, 7, 8, 9]"
      ]
     },
     "execution_count": 41,
     "metadata": {},
     "output_type": "execute_result"
    }
   ],
   "source": [
    "lst[:10]"
   ]
  },
  {
   "cell_type": "code",
   "execution_count": 42,
   "id": "0458413b-4073-4b6f-a413-237f3efaea14",
   "metadata": {},
   "outputs": [],
   "source": [
    "def par(x):   # OJO, devuelve TRUE o FALSE\n",
    "    \n",
    "    return x%2==0"
   ]
  },
  {
   "cell_type": "code",
   "execution_count": 43,
   "id": "3ad631bc-2b05-4a75-b5ea-23a052563382",
   "metadata": {},
   "outputs": [
    {
     "data": {
      "text/plain": [
       "True"
      ]
     },
     "execution_count": 43,
     "metadata": {},
     "output_type": "execute_result"
    }
   ],
   "source": [
    "par(8)"
   ]
  },
  {
   "cell_type": "code",
   "execution_count": 44,
   "id": "737f30f8",
   "metadata": {},
   "outputs": [
    {
     "data": {
      "text/plain": [
       "False"
      ]
     },
     "execution_count": 44,
     "metadata": {},
     "output_type": "execute_result"
    }
   ],
   "source": [
    "par(9)"
   ]
  },
  {
   "cell_type": "code",
   "execution_count": 45,
   "id": "3244b64c",
   "metadata": {},
   "outputs": [
    {
     "data": {
      "text/plain": [
       "<filter at 0x106aead00>"
      ]
     },
     "execution_count": 45,
     "metadata": {},
     "output_type": "execute_result"
    }
   ],
   "source": [
    "filter(par, lst)"
   ]
  },
  {
   "cell_type": "code",
   "execution_count": 46,
   "id": "6d797a0f",
   "metadata": {},
   "outputs": [
    {
     "data": {
      "text/plain": [
       "[0, 2, 4, 6, 8, 10, 12, 14, 16, 18]"
      ]
     },
     "execution_count": 46,
     "metadata": {},
     "output_type": "execute_result"
    }
   ],
   "source": [
    "list(filter(par, lst))[:10]"
   ]
  },
  {
   "cell_type": "code",
   "execution_count": 48,
   "id": "1e6d93c0",
   "metadata": {},
   "outputs": [
    {
     "data": {
      "text/plain": [
       "[0, 2, 4, 6, 8, 10, 12, 14, 16, 18]"
      ]
     },
     "execution_count": 48,
     "metadata": {},
     "output_type": "execute_result"
    }
   ],
   "source": [
    "list(filter(lambda x: x%2==0, lst))[:10]"
   ]
  },
  {
   "cell_type": "markdown",
   "id": "94ec44d9-314b-4040-bd30-11bed2110061",
   "metadata": {
    "lang": "en"
   },
   "source": [
    "### Reduce"
   ]
  },
  {
   "cell_type": "markdown",
   "id": "be5ea359-69cf-4e80-b88d-af504cddb949",
   "metadata": {},
   "source": [
    "The reduce() function is not a built-in function in Python. It is available in the functools module, which means you must first import the functools library to use it.\n",
    "\n",
    "It applies a function cumulatively to the elements of an iterable, reducing it to a single value."
   ]
  },
  {
   "cell_type": "markdown",
   "id": "220db4b6-5e77-4078-9884-68fe085626fd",
   "metadata": {
    "lang": "en"
   },
   "source": [
    "```python\n",
    "reduce(function, iterable[, initial])\n",
    "```"
   ]
  },
  {
   "cell_type": "markdown",
   "id": "e838a99b-95b1-4581-bf8d-4b3436e9a9f3",
   "metadata": {},
   "source": [
    "![](https://github.com/data-bootcamp-v4/lessons/blob/main/img/reduce.png?raw=true)"
   ]
  },
  {
   "cell_type": "code",
   "execution_count": 49,
   "id": "800f95c5",
   "metadata": {},
   "outputs": [],
   "source": [
    "from functools import reduce"
   ]
  },
  {
   "cell_type": "code",
   "execution_count": 56,
   "id": "3824405b",
   "metadata": {},
   "outputs": [
    {
     "name": "stdout",
     "output_type": "stream",
     "text": [
      "CPU times: user 22 µs, sys: 0 ns, total: 22 µs\n",
      "Wall time: 41 µs\n"
     ]
    },
    {
     "data": {
      "text/plain": [
       "25"
      ]
     },
     "execution_count": 56,
     "metadata": {},
     "output_type": "execute_result"
    }
   ],
   "source": [
    "%%time\n",
    "\n",
    "lst = [3,4,5,6,7]\n",
    "\n",
    "sum(lst)"
   ]
  },
  {
   "cell_type": "code",
   "execution_count": 51,
   "id": "3a6adf41",
   "metadata": {},
   "outputs": [],
   "source": [
    "def suma(a,b):\n",
    "    \n",
    "    return a+b"
   ]
  },
  {
   "cell_type": "code",
   "execution_count": 57,
   "id": "33a8cba5",
   "metadata": {},
   "outputs": [
    {
     "name": "stdout",
     "output_type": "stream",
     "text": [
      "CPU times: user 5 µs, sys: 1e+03 ns, total: 6 µs\n",
      "Wall time: 10 µs\n"
     ]
    },
    {
     "data": {
      "text/plain": [
       "25"
      ]
     },
     "execution_count": 57,
     "metadata": {},
     "output_type": "execute_result"
    }
   ],
   "source": [
    "%%time\n",
    "\n",
    "reduce(suma, lst)"
   ]
  },
  {
   "cell_type": "code",
   "execution_count": 58,
   "id": "13222456-3f75-46f2-afe2-c829c28a6cd3",
   "metadata": {},
   "outputs": [
    {
     "name": "stdout",
     "output_type": "stream",
     "text": [
      "CPU times: user 6 µs, sys: 1 µs, total: 7 µs\n",
      "Wall time: 10 µs\n"
     ]
    },
    {
     "data": {
      "text/plain": [
       "25"
      ]
     },
     "execution_count": 58,
     "metadata": {},
     "output_type": "execute_result"
    }
   ],
   "source": [
    "%%time\n",
    "\n",
    "\n",
    "reduce(lambda a,b: a+b, lst)"
   ]
  },
  {
   "cell_type": "code",
   "execution_count": 54,
   "id": "fc50e9bb",
   "metadata": {},
   "outputs": [
    {
     "ename": "NameError",
     "evalue": "name 'prod' is not defined",
     "output_type": "error",
     "traceback": [
      "\u001b[0;31m---------------------------------------------------------------------------\u001b[0m",
      "\u001b[0;31mNameError\u001b[0m                                 Traceback (most recent call last)",
      "Cell \u001b[0;32mIn[54], line 1\u001b[0m\n\u001b[0;32m----> 1\u001b[0m \u001b[43mprod\u001b[49m\n",
      "\u001b[0;31mNameError\u001b[0m: name 'prod' is not defined"
     ]
    }
   ],
   "source": [
    "prod"
   ]
  },
  {
   "cell_type": "code",
   "execution_count": 55,
   "id": "baaea7dc",
   "metadata": {},
   "outputs": [
    {
     "data": {
      "text/plain": [
       "2520"
      ]
     },
     "execution_count": 55,
     "metadata": {},
     "output_type": "execute_result"
    }
   ],
   "source": [
    "reduce(lambda a,b: a*b, lst)"
   ]
  },
  {
   "cell_type": "markdown",
   "id": "6f4f5db0-72ee-4144-8dfb-9bba7e612a7a",
   "metadata": {
    "lang": "en"
   },
   "source": [
    "#### What happened?\n",
    "- We start with a list [2, 4, 7, 3] and pass the function add (x, y) to reduce ( ) along with this list, without an initial value\n",
    "\n",
    "- reduce() calls add(2, 4), and add() returns 6\n",
    "\n",
    "- reduce() calls sum(6, 7) (result of the previous call to sum() and the next element in the list as parameters), and sum() returns 13\n",
    "\n",
    "- reduce() calls sum(13, 3), and sum() returns 16\n",
    "\n",
    "Since there are no more elements left in the sequence, reduce() returns 16"
   ]
  },
  {
   "cell_type": "markdown",
   "id": "ccfb0ed7-5856-4f97-bf7a-4c0347ba241d",
   "metadata": {
    "lang": "en"
   },
   "source": [
    "## Summary"
   ]
  },
  {
   "cell_type": "markdown",
   "id": "4ce36198-c0d3-485f-adfe-d535b3e46914",
   "metadata": {},
   "source": [
    "`map, filter, reduce` are functions that take another function as an input argument and an iterable.\n",
    "\n",
    "- Map: returns an iterator that applies the function to each element of the iterable. The iterable has the same number of elements as the input iterable.\n",
    "- Filter: returns an iterator that contains elements for which the function returns `True`. Not necessarily of the same length as the original.\n",
    "- Reduce: returns a single element (though it can be a list). Applies the function cumulatively to the elements of the iterable, reducing it to a single value\n",
    "\n",
    "Notes:\n",
    "- More efficient ways than just loops\n",
    "- Define our own functions OR we can use lambdas\n",
    "- Reduce is something you need to import\n",
    "- Makes code easier to read\n",
    "- Processing is faster because objects are returned instead of lists, which can be more memory-efficient."
   ]
  },
  {
   "cell_type": "markdown",
   "id": "415f80b0-a36c-4bb5-947a-da4d99cfa770",
   "metadata": {},
   "source": [
    "![](https://github.com/data-bootcamp-v4/lessons/blob/main/img/map-reduce-filter.jpeg?raw=true)"
   ]
  },
  {
   "cell_type": "markdown",
   "id": "a63fa49d-d754-47aa-a30e-61fba379b85e",
   "metadata": {
    "tags": []
   },
   "source": [
    "## Further materials\n",
    " "
   ]
  },
  {
   "cell_type": "markdown",
   "id": "03284a79-c543-41eb-8148-49b1fb2be9d1",
   "metadata": {
    "lang": "en"
   },
   "source": [
    "Useful links:\n",
    "\n",
    "- [Higher-Order Functions in Python — map(), filter(), and reduce() (Medium log in required)](https://medium.com/swlh/higher-order-functions-in-python-map-filter-and-reduce-34299fee1b21)\n",
    "- [Map, Filter, Reduce (learnpython.org)](https://www.learnpython.org/en/Map,_Filter,_Reduce)\n",
    "- [map(), filter(), and reduce() in Python with Examples (StackAbuse)](https://stackabuse.com/map-filter-and-reduce-in-python-with-examples)\n",
    "- [Map, Filter, Reduce (MIT Edu)](http://web.mit.edu/6.005/www/sp16/classes/25-map-filter-reduce/)"
   ]
  }
 ],
 "metadata": {
  "kernelspec": {
   "display_name": "Python 3 (ipykernel)",
   "language": "python",
   "name": "python3"
  },
  "language_info": {
   "codemirror_mode": {
    "name": "ipython",
    "version": 3
   },
   "file_extension": ".py",
   "mimetype": "text/x-python",
   "name": "python",
   "nbconvert_exporter": "python",
   "pygments_lexer": "ipython3",
   "version": "3.9.12"
  },
  "toc": {
   "base_numbering": 1,
   "nav_menu": {},
   "number_sections": true,
   "sideBar": true,
   "skip_h1_title": false,
   "title_cell": "Table of Contents",
   "title_sidebar": "Contents",
   "toc_cell": true,
   "toc_position": {
    "height": "calc(100% - 180px)",
    "left": "10px",
    "top": "150px",
    "width": "261.818px"
   },
   "toc_section_display": true,
   "toc_window_display": true
  }
 },
 "nbformat": 4,
 "nbformat_minor": 5
}
