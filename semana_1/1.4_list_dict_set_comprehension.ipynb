{
 "cells": [
  {
   "cell_type": "markdown",
   "id": "ba169949",
   "metadata": {
    "toc": true
   },
   "source": [
    "<h1>Table of Contents<span class=\"tocSkip\"></span></h1>\n",
    "<div class=\"toc\"><ul class=\"toc-item\"><li><span><a href=\"#List-Comprehensions\" data-toc-modified-id=\"List-Comprehensions-1\"><span class=\"toc-item-num\">1&nbsp;&nbsp;</span>List Comprehensions</a></span><ul class=\"toc-item\"><li><span><a href=\"#Note\" data-toc-modified-id=\"Note-1.1\"><span class=\"toc-item-num\">1.1&nbsp;&nbsp;</span>Note</a></span></li><li><span><a href=\"#💡--Check-for-understanding\" data-toc-modified-id=\"💡--Check-for-understanding-1.2\"><span class=\"toc-item-num\">1.2&nbsp;&nbsp;</span>💡  Check for understanding</a></span></li><li><span><a href=\"#Conditions-(we-put-IF-in-the-comprehension)\" data-toc-modified-id=\"Conditions-(we-put-IF-in-the-comprehension)-1.3\"><span class=\"toc-item-num\">1.3&nbsp;&nbsp;</span>Conditions (we put IF in the comprehension)</a></span><ul class=\"toc-item\"><li><span><a href=\"#💡-Check-for-understanding\" data-toc-modified-id=\"💡-Check-for-understanding-1.3.1\"><span class=\"toc-item-num\">1.3.1&nbsp;&nbsp;</span>💡 Check for understanding</a></span></li></ul></li><li><span><a href=\"#If-/-Else-in-comprehension\" data-toc-modified-id=\"If-/-Else-in-comprehension-1.4\"><span class=\"toc-item-num\">1.4&nbsp;&nbsp;</span>If / Else in comprehension</a></span></li></ul></li><li><span><a href=\"#Dictionary-Comprehension\" data-toc-modified-id=\"Dictionary-Comprehension-2\"><span class=\"toc-item-num\">2&nbsp;&nbsp;</span>Dictionary Comprehension</a></span><ul class=\"toc-item\"><li><span><a href=\"#💡-Check-for-understanding\" data-toc-modified-id=\"💡-Check-for-understanding-2.1\"><span class=\"toc-item-num\">2.1&nbsp;&nbsp;</span>💡 Check for understanding</a></span></li></ul></li><li><span><a href=\"#Set-Comprehension\" data-toc-modified-id=\"Set-Comprehension-3\"><span class=\"toc-item-num\">3&nbsp;&nbsp;</span>Set Comprehension</a></span><ul class=\"toc-item\"><li><span><a href=\"#💡-Check-for-understanding\" data-toc-modified-id=\"💡-Check-for-understanding-3.1\"><span class=\"toc-item-num\">3.1&nbsp;&nbsp;</span>💡 Check for understanding</a></span></li></ul></li><li><span><a href=\"#Summary\" data-toc-modified-id=\"Summary-4\"><span class=\"toc-item-num\">4&nbsp;&nbsp;</span>Summary</a></span></li><li><span><a href=\"#Extra\" data-toc-modified-id=\"Extra-5\"><span class=\"toc-item-num\">5&nbsp;&nbsp;</span>Extra</a></span><ul class=\"toc-item\"><li><span><a href=\"#Nested-list-comprehensions\" data-toc-modified-id=\"Nested-list-comprehensions-5.1\"><span class=\"toc-item-num\">5.1&nbsp;&nbsp;</span>Nested list comprehensions</a></span></li><li><span><a href=\"#Dict-comprehension-from-two-lists\" data-toc-modified-id=\"Dict-comprehension-from-two-lists-5.2\"><span class=\"toc-item-num\">5.2&nbsp;&nbsp;</span>Dict comprehension from two lists</a></span></li></ul></li></ul></div>"
   ]
  },
  {
   "cell_type": "markdown",
   "id": "e1f3c60c-6a4c-4420-ab87-c2f6e0bd93ed",
   "metadata": {
    "lang": "en"
   },
   "source": [
    "# List Comprehensions"
   ]
  },
  {
   "cell_type": "markdown",
   "id": "1f2388fe-f609-4afb-98f7-5a7084d0d9b6",
   "metadata": {},
   "source": [
    "List comprehension is an easy to read, compact, and elegant way of **creating a list from any existing iterable object**.\n",
    "\n",
    "List comprehension is a single line of code that you write inside the square brackets. It has three components:\n",
    "\n",
    "- For loop\n",
    "- Condition and expression (optional)\n",
    "- Output\n"
   ]
  },
  {
   "cell_type": "markdown",
   "id": "456a017a-22bb-44ba-9c74-b25935d0d80e",
   "metadata": {},
   "source": [
    "![imagen_compr](https://stsewd.dev/charla-comprension-de-listas/img/listComprehensions.gif)"
   ]
  },
  {
   "cell_type": "markdown",
   "id": "f4e68458-5892-4ef8-8b7b-6d0e9d1ea311",
   "metadata": {
    "lang": "en"
   },
   "source": [
    "Let's look at an example, we'll leave the optional predicate (if or if/else for later). \n",
    "\n",
    "If we wanted to have a list like the following one, but with all the words in uppercase using a loop, we would do, without list comprehension:"
   ]
  },
  {
   "cell_type": "code",
   "execution_count": 1,
   "id": "velvet-madonna",
   "metadata": {},
   "outputs": [],
   "source": [
    "lst = []\n",
    "\n",
    "for i in range(10):\n",
    "    \n",
    "    lst.append(i)"
   ]
  },
  {
   "cell_type": "code",
   "execution_count": 2,
   "id": "c1754a5a",
   "metadata": {},
   "outputs": [
    {
     "data": {
      "text/plain": [
       "[0, 1, 2, 3, 4, 5, 6, 7, 8, 9]"
      ]
     },
     "execution_count": 2,
     "metadata": {},
     "output_type": "execute_result"
    }
   ],
   "source": [
    "lst"
   ]
  },
  {
   "cell_type": "code",
   "execution_count": 4,
   "id": "e3bc67b9",
   "metadata": {},
   "outputs": [
    {
     "data": {
      "text/plain": [
       "[0, 1, 2, 3, 4, 5, 6, 7, 8, 9]"
      ]
     },
     "execution_count": 4,
     "metadata": {},
     "output_type": "execute_result"
    }
   ],
   "source": [
    "lst = [i for i in range(10)]\n",
    "\n",
    "lst"
   ]
  },
  {
   "cell_type": "code",
   "execution_count": 5,
   "id": "2981b932",
   "metadata": {},
   "outputs": [
    {
     "name": "stdout",
     "output_type": "stream",
     "text": [
      "The Zen of Python, by Tim Peters\n",
      "\n",
      "Beautiful is better than ugly.\n",
      "Explicit is better than implicit.\n",
      "Simple is better than complex.\n",
      "Complex is better than complicated.\n",
      "Flat is better than nested.\n",
      "Sparse is better than dense.\n",
      "Readability counts.\n",
      "Special cases aren't special enough to break the rules.\n",
      "Although practicality beats purity.\n",
      "Errors should never pass silently.\n",
      "Unless explicitly silenced.\n",
      "In the face of ambiguity, refuse the temptation to guess.\n",
      "There should be one-- and preferably only one --obvious way to do it.\n",
      "Although that way may not be obvious at first unless you're Dutch.\n",
      "Now is better than never.\n",
      "Although never is often better than *right* now.\n",
      "If the implementation is hard to explain, it's a bad idea.\n",
      "If the implementation is easy to explain, it may be a good idea.\n",
      "Namespaces are one honking great idea -- let's do more of those!\n"
     ]
    }
   ],
   "source": [
    "import this"
   ]
  },
  {
   "cell_type": "code",
   "execution_count": 6,
   "id": "b18ad542",
   "metadata": {},
   "outputs": [],
   "source": [
    "palabras = ['adios', 'hola', 'luego']\n",
    "\n",
    "mayus = []\n",
    "\n",
    "\n",
    "for e in palabras:\n",
    "    \n",
    "    mayus.append(e.upper())"
   ]
  },
  {
   "cell_type": "code",
   "execution_count": 7,
   "id": "7574b02f",
   "metadata": {},
   "outputs": [
    {
     "data": {
      "text/plain": [
       "['ADIOS', 'HOLA', 'LUEGO']"
      ]
     },
     "execution_count": 7,
     "metadata": {},
     "output_type": "execute_result"
    }
   ],
   "source": [
    "mayus"
   ]
  },
  {
   "cell_type": "code",
   "execution_count": 9,
   "id": "e501b26d",
   "metadata": {},
   "outputs": [
    {
     "data": {
      "text/plain": [
       "['ADIOS', 'HOLA', 'LUEGO']"
      ]
     },
     "execution_count": 9,
     "metadata": {},
     "output_type": "execute_result"
    }
   ],
   "source": [
    "mayus = [e.upper() for e in palabras]\n",
    "\n",
    "mayus"
   ]
  },
  {
   "cell_type": "markdown",
   "id": "23be3165-a1c5-4dd9-a304-3e6138318860",
   "metadata": {
    "lang": "en"
   },
   "source": [
    "## Note\n",
    "\n",
    "List comprehension in Python offers a more concise way to generate lists **without** the need for **explicitly creating an empty list** to begin with and using the **`.append`** method."
   ]
  },
  {
   "cell_type": "markdown",
   "id": "138d7541-41bf-436c-bffb-e4e5a510daa6",
   "metadata": {
    "lang": "en"
   },
   "source": [
    "## Conditions (we put IF in the comprehension)"
   ]
  },
  {
   "cell_type": "markdown",
   "id": "a031ef24-f4e4-4f26-8f72-f194b9753142",
   "metadata": {},
   "source": [
    "In list comprehension, you can use the `if` and `else` syntax to include conditional statements for filtering and modifying elements while creating a new list. This allows you to conditionally include elements based on certain criteria.\n",
    "\n",
    "Let's look at just including `if` statement."
   ]
  },
  {
   "cell_type": "markdown",
   "id": "714b7bb9-4cad-47a4-97ca-0fcdb0c662ab",
   "metadata": {},
   "source": [
    "<img width=600 src=\"https://www.mrdbourke.com/content/images/2019/09/python-list-comprehension-article.png\">"
   ]
  },
  {
   "cell_type": "markdown",
   "id": "c420cf54-8049-402f-b4e7-8522f00d8d14",
   "metadata": {},
   "source": [
    "Let's create a list like the following one, but with all the **words** in uppercase using a loop (i.e. ignore the elements that are not strings)"
   ]
  },
  {
   "cell_type": "code",
   "execution_count": 10,
   "id": "36e710a5",
   "metadata": {},
   "outputs": [
    {
     "data": {
      "text/plain": [
       "[0, 2, 4, 6, 8]"
      ]
     },
     "execution_count": 10,
     "metadata": {},
     "output_type": "execute_result"
    }
   ],
   "source": [
    "lst = []\n",
    "\n",
    "for i in range(10):\n",
    "    \n",
    "    if i%2==0:     # numeros pares\n",
    "        lst.append(i)\n",
    "        \n",
    "    else:\n",
    "        continue   # esto va al siguiente paso del bucle\n",
    "    \n",
    "    \n",
    "lst"
   ]
  },
  {
   "cell_type": "code",
   "execution_count": 12,
   "id": "4a564491",
   "metadata": {},
   "outputs": [
    {
     "data": {
      "text/plain": [
       "[0, 2, 4, 6, 8]"
      ]
     },
     "execution_count": 12,
     "metadata": {},
     "output_type": "execute_result"
    }
   ],
   "source": [
    "lst = [i for i in range(10) if i%2==0]\n",
    "\n",
    "lst"
   ]
  },
  {
   "cell_type": "markdown",
   "id": "de3bd144-3e49-497b-9840-e05d5e3fd80e",
   "metadata": {
    "lang": "en"
   },
   "source": [
    "## If / Else in comprehension\n",
    "\n",
    "Let's look at the syntax when including an `else statement`, that is implemented if the condition is false."
   ]
  },
  {
   "cell_type": "markdown",
   "id": "fddaf8b8-f193-44ee-848f-bad9fb7dfcfe",
   "metadata": {},
   "source": [
    "```python\n",
    "new_list = [expression_if_true if condition else expression_if_false for item in original_list]\n",
    "```\n",
    "\n",
    "Explanation:\n",
    "- `new_list`: The resulting list created using list comprehension.\n",
    "- `expression_if_true`: The value to be included in the new list if the condition is true for the current item.\n",
    "- `condition`: The condition to be checked for each item in the original list.\n",
    "- `expression_if_false`: The value to be included in the new list if the condition is false for the current item.\n",
    "- `item`: The variable representing each element in the original list during iteration.\n"
   ]
  },
  {
   "cell_type": "code",
   "execution_count": 13,
   "id": "1cd66f87",
   "metadata": {},
   "outputs": [
    {
     "data": {
      "text/plain": [
       "[0, 2, 2, 4, 4, 6, 6, 8, 8, 10]"
      ]
     },
     "execution_count": 13,
     "metadata": {},
     "output_type": "execute_result"
    }
   ],
   "source": [
    "lst = []\n",
    "\n",
    "for i in range(10):\n",
    "    \n",
    "    if i%2==0:     # numeros pares\n",
    "        lst.append(i)\n",
    "        \n",
    "    elif i%2==1:   # numeros impares\n",
    "        lst.append(i+1)\n",
    "    \n",
    "    \n",
    "lst"
   ]
  },
  {
   "cell_type": "code",
   "execution_count": 15,
   "id": "51d6105c-82b9-4fce-854e-9813e9fa0c6b",
   "metadata": {},
   "outputs": [
    {
     "data": {
      "text/plain": [
       "[0, 2, 2, 4, 4, 6, 6, 8, 8, 10]"
      ]
     },
     "execution_count": 15,
     "metadata": {},
     "output_type": "execute_result"
    }
   ],
   "source": [
    "lst = [i if i%2==0 else i+1 for i in range(10)]\n",
    "\n",
    "\n",
    "lst"
   ]
  },
  {
   "cell_type": "code",
   "execution_count": 16,
   "id": "56e49b65",
   "metadata": {},
   "outputs": [
    {
     "ename": "SyntaxError",
     "evalue": "invalid syntax (2669499443.py, line 1)",
     "output_type": "error",
     "traceback": [
      "\u001b[0;36m  Cell \u001b[0;32mIn[16], line 1\u001b[0;36m\u001b[0m\n\u001b[0;31m    lst = [i for i in range(10) if i%2==0 else i+1 ]\u001b[0m\n\u001b[0m                                          ^\u001b[0m\n\u001b[0;31mSyntaxError\u001b[0m\u001b[0;31m:\u001b[0m invalid syntax\n"
     ]
    }
   ],
   "source": [
    "lst = [i for i in range(10) if i%2==0 else i+1 ]\n",
    "\n",
    "\n",
    "lst"
   ]
  },
  {
   "cell_type": "code",
   "execution_count": 17,
   "id": "81ff15d6",
   "metadata": {},
   "outputs": [
    {
     "data": {
      "text/plain": [
       "[10, 2, 2, 4, 4, 6, 6, 8, 8, 10]"
      ]
     },
     "execution_count": 17,
     "metadata": {},
     "output_type": "execute_result"
    }
   ],
   "source": [
    "lst = []\n",
    "\n",
    "for i in range(10):\n",
    "    \n",
    "    if i==0:     \n",
    "        lst.append(10)\n",
    "        \n",
    "    elif i%2==0:   # numeros pares\n",
    "        lst.append(i)\n",
    "        \n",
    "    elif i%2==1:   # numeros impares\n",
    "        lst.append(i+1)\n",
    "    \n",
    "    \n",
    "lst"
   ]
  },
  {
   "cell_type": "code",
   "execution_count": 18,
   "id": "9e561bcf",
   "metadata": {},
   "outputs": [
    {
     "data": {
      "text/plain": [
       "[10, 2, 2, 4, 4, 6, 6, 8, 8, 10]"
      ]
     },
     "execution_count": 18,
     "metadata": {},
     "output_type": "execute_result"
    }
   ],
   "source": [
    "lst = [10 if i==0 else(i if i%2==0 else i+1) for i in range(10)]\n",
    "\n",
    "lst"
   ]
  },
  {
   "cell_type": "markdown",
   "id": "71209dc0-4ad9-46e8-b17d-1012e91018cd",
   "metadata": {},
   "source": [
    "\n",
    "In the examples above, list comprehension filters and modifies elements based on specific conditions, creating a new list as a result. Using `if` and `else` in list comprehension adds flexibility to the process and allows for more complex transformations of the original list elements."
   ]
  },
  {
   "cell_type": "markdown",
   "id": "43e5bba4-6315-43d0-a904-6369c29ed147",
   "metadata": {
    "lang": "en"
   },
   "source": [
    "# Dictionary Comprehension"
   ]
  },
  {
   "cell_type": "markdown",
   "id": "b29128c6-0134-4b09-b823-580ad4078320",
   "metadata": {},
   "source": [
    "Just like list comprehension, dictionary comprehension offers a clean and efficient way to construct dictionaries in a single line of code.\n",
    "\n",
    "The general syntax for dictionary comprehension is:\n",
    "\n",
    "```python\n",
    "new_dict = {key_expression: value_expression for item in iterable}\n",
    "```"
   ]
  },
  {
   "cell_type": "code",
   "execution_count": 19,
   "id": "2ca6a9c3-9e8f-4aa5-bf04-199b728000fc",
   "metadata": {},
   "outputs": [
    {
     "data": {
      "text/plain": [
       "{'nombre': 'Yona', 'edad': 39, 'altura': 180}"
      ]
     },
     "execution_count": 19,
     "metadata": {},
     "output_type": "execute_result"
    }
   ],
   "source": [
    "dictio = {'nombre': 'Yona', 'edad': 39, 'altura': 180}\n",
    "\n",
    "dictio"
   ]
  },
  {
   "cell_type": "code",
   "execution_count": 20,
   "id": "101d16d7",
   "metadata": {},
   "outputs": [],
   "source": [
    "nuevo_dictio = {}\n",
    "\n",
    "\n",
    "for k,v in dictio.items():\n",
    "    \n",
    "    nuevo_dictio[k] = 2*v"
   ]
  },
  {
   "cell_type": "code",
   "execution_count": 21,
   "id": "2d178ed1",
   "metadata": {},
   "outputs": [
    {
     "data": {
      "text/plain": [
       "{'nombre': 'YonaYona', 'edad': 78, 'altura': 360}"
      ]
     },
     "execution_count": 21,
     "metadata": {},
     "output_type": "execute_result"
    }
   ],
   "source": [
    "nuevo_dictio"
   ]
  },
  {
   "cell_type": "code",
   "execution_count": 23,
   "id": "a7b077e8",
   "metadata": {},
   "outputs": [
    {
     "data": {
      "text/plain": [
       "{'nombre': 'YonaYona', 'edad': 78, 'altura': 360}"
      ]
     },
     "execution_count": 23,
     "metadata": {},
     "output_type": "execute_result"
    }
   ],
   "source": [
    "nuevo_dictio = {k: 2*v for k,v in dictio.items()}\n",
    "\n",
    "nuevo_dictio "
   ]
  },
  {
   "cell_type": "code",
   "execution_count": 24,
   "id": "18983033",
   "metadata": {},
   "outputs": [
    {
     "data": {
      "text/plain": [
       "{'a': 2, 'b': -5, 'c': 0, 'd': 90}"
      ]
     },
     "execution_count": 24,
     "metadata": {},
     "output_type": "execute_result"
    }
   ],
   "source": [
    "dictio_2 = {'a': 2, 'b': -5, 'c': 0, 'd': 90}\n",
    "\n",
    "dictio_2"
   ]
  },
  {
   "cell_type": "code",
   "execution_count": 25,
   "id": "5dade228",
   "metadata": {},
   "outputs": [],
   "source": [
    "nuevo_dictio = {}\n",
    "\n",
    "for k,v in dictio_2.items():\n",
    "    \n",
    "    if v==0:\n",
    "        nuevo_dictio[k] = 0\n",
    "        \n",
    "    elif v>0:\n",
    "        nuevo_dictio[k] = v*10\n",
    "        \n",
    "    elif v<0:\n",
    "        nuevo_dictio[k] = -v"
   ]
  },
  {
   "cell_type": "code",
   "execution_count": 26,
   "id": "383ffeef",
   "metadata": {},
   "outputs": [
    {
     "data": {
      "text/plain": [
       "{'a': 20, 'b': 5, 'c': 0, 'd': 900}"
      ]
     },
     "execution_count": 26,
     "metadata": {},
     "output_type": "execute_result"
    }
   ],
   "source": [
    "nuevo_dictio"
   ]
  },
  {
   "cell_type": "code",
   "execution_count": 31,
   "id": "eb73208c",
   "metadata": {},
   "outputs": [
    {
     "data": {
      "text/plain": [
       "{'a': 20, 'b': 5, 'c': 0, 'd': 900}"
      ]
     },
     "execution_count": 31,
     "metadata": {},
     "output_type": "execute_result"
    }
   ],
   "source": [
    "nuevo_dictio = {k:0 if v==0 else (v*10 if v>0 else -v) for k,v in dictio_2.items()}\n",
    "\n",
    "nuevo_dictio "
   ]
  },
  {
   "cell_type": "code",
   "execution_count": 30,
   "id": "4a2c5a8d",
   "metadata": {},
   "outputs": [
    {
     "ename": "SyntaxError",
     "evalue": "invalid syntax (2925476771.py, line 1)",
     "output_type": "error",
     "traceback": [
      "\u001b[0;36m  Cell \u001b[0;32mIn[30], line 1\u001b[0;36m\u001b[0m\n\u001b[0;31m    nuevo_dictio = {k:0 if v==0 else (k:v*10 if v>0 else k:-v) for k,v in dictio_2.items()}\u001b[0m\n\u001b[0m                                       ^\u001b[0m\n\u001b[0;31mSyntaxError\u001b[0m\u001b[0;31m:\u001b[0m invalid syntax\n"
     ]
    }
   ],
   "source": [
    "nuevo_dictio = {k:0 if v==0 else (k:v*10 if v>0 else k:-v) for k,v in dictio_2.items()}\n",
    "\n",
    "nuevo_dictio "
   ]
  },
  {
   "cell_type": "markdown",
   "id": "fd9c62ab-eda5-4aab-911b-b560db1af80f",
   "metadata": {},
   "source": [
    "# Set Comprehension"
   ]
  },
  {
   "cell_type": "markdown",
   "id": "f05288d7-5645-4ad1-a55f-bb767582f9b0",
   "metadata": {},
   "source": [
    "The syntax for set comprehension is quite similar to list comprehension:\n",
    "\n",
    "```python\n",
    "new_set = {expression for item in iterable}\n",
    "```"
   ]
  },
  {
   "cell_type": "markdown",
   "id": "32925503-a999-4711-8842-b5c83789857d",
   "metadata": {},
   "source": [
    "# Summary"
   ]
  },
  {
   "cell_type": "markdown",
   "id": "8b7cec96-24f0-4c9c-9b34-8f5993e7d421",
   "metadata": {},
   "source": [
    "- Comprehensions provide a quicker, more comfortable, and readable way to create lists, sets, and dictionaries.\n",
    "- Saves us some steps compared to traditional for loops (create empty list, use append method)\n",
    "- It supports conditions, enabling us to filter or modify elements during the creation process.\n",
    "- If an `else` statement is included, the order changes, offering flexibility in handling different conditions."
   ]
  },
  {
   "cell_type": "markdown",
   "id": "f64cdf34-69ab-4c28-a92a-6080ecc63d00",
   "metadata": {
    "lang": "es"
   },
   "source": [
    "# Extra"
   ]
  },
  {
   "cell_type": "markdown",
   "id": "79557943-bf12-4f38-bdc2-b7cf4747e92d",
   "metadata": {},
   "source": [
    "## Nested list comprehensions"
   ]
  },
  {
   "cell_type": "markdown",
   "id": "1c45b37a-5935-4b19-a8cf-409e1b593ca7",
   "metadata": {},
   "source": [
    "Nested list comprehensions in Python allow you to create lists of lists or perform more complex transformations with multiple levels of iteration. The syntax involves placing one or more list comprehensions inside another."
   ]
  },
  {
   "cell_type": "markdown",
   "id": "d29730b4-01f4-4adc-8a71-9c27f78bc070",
   "metadata": {},
   "source": [
    "```python\n",
    "new_list = [[expression for item in inner_list] for inner_list in outer_list]\n",
    "```"
   ]
  },
  {
   "cell_type": "markdown",
   "id": "65409460-79a2-4604-a701-d660cf88170f",
   "metadata": {},
   "source": [
    "Example: Flattening a List of Lists"
   ]
  },
  {
   "cell_type": "code",
   "execution_count": 34,
   "id": "dd5dd8c7-aabf-475d-84c1-ca01cd2020c2",
   "metadata": {},
   "outputs": [],
   "source": [
    "matriz = []\n",
    "\n",
    "\n",
    "for i in range(4):\n",
    "    \n",
    "    lst_tmp = []\n",
    "    \n",
    "    for j in range(4):\n",
    "        \n",
    "        lst_tmp.append(i+j+1)\n",
    "        \n",
    "        \n",
    "    matriz.append(lst_tmp)"
   ]
  },
  {
   "cell_type": "code",
   "execution_count": 35,
   "id": "b3fb6970-d377-4365-aab7-99a65f9146a3",
   "metadata": {},
   "outputs": [
    {
     "data": {
      "text/plain": [
       "[[1, 2, 3, 4], [2, 3, 4, 5], [3, 4, 5, 6], [4, 5, 6, 7]]"
      ]
     },
     "execution_count": 35,
     "metadata": {},
     "output_type": "execute_result"
    }
   ],
   "source": [
    "matriz"
   ]
  },
  {
   "cell_type": "code",
   "execution_count": 37,
   "id": "a89c12a0",
   "metadata": {},
   "outputs": [
    {
     "data": {
      "text/plain": [
       "[[1, 2, 3, 4], [2, 3, 4, 5], [3, 4, 5, 6], [4, 5, 6, 7]]"
      ]
     },
     "execution_count": 37,
     "metadata": {},
     "output_type": "execute_result"
    }
   ],
   "source": [
    "matriz = [[i+j+1 for j in range(4)] for i in range(4)]\n",
    "\n",
    "matriz "
   ]
  },
  {
   "cell_type": "code",
   "execution_count": 38,
   "id": "069a5e27",
   "metadata": {},
   "outputs": [
    {
     "data": {
      "text/plain": [
       "4"
      ]
     },
     "execution_count": 38,
     "metadata": {},
     "output_type": "execute_result"
    }
   ],
   "source": [
    "len(matriz)"
   ]
  },
  {
   "cell_type": "code",
   "execution_count": 40,
   "id": "c1b853dc",
   "metadata": {},
   "outputs": [
    {
     "data": {
      "text/plain": [
       "4"
      ]
     },
     "execution_count": 40,
     "metadata": {},
     "output_type": "execute_result"
    }
   ],
   "source": [
    "len(matriz[0])"
   ]
  },
  {
   "cell_type": "code",
   "execution_count": 41,
   "id": "69702f91",
   "metadata": {},
   "outputs": [
    {
     "data": {
      "text/plain": [
       "[1, 2, 3, 4, 2, 3, 4, 5, 3, 4, 5, 6, 4, 5, 6, 7]"
      ]
     },
     "execution_count": 41,
     "metadata": {},
     "output_type": "execute_result"
    }
   ],
   "source": [
    "# ahora 16 elementos\n",
    "\n",
    "los_16 = []\n",
    "\n",
    "\n",
    "for fila in matriz:\n",
    "    \n",
    "    for elem in fila:\n",
    "        \n",
    "        los_16.append(elem)\n",
    "\n",
    "        \n",
    "los_16"
   ]
  },
  {
   "cell_type": "code",
   "execution_count": 42,
   "id": "5daccd68",
   "metadata": {},
   "outputs": [
    {
     "data": {
      "text/plain": [
       "16"
      ]
     },
     "execution_count": 42,
     "metadata": {},
     "output_type": "execute_result"
    }
   ],
   "source": [
    "len(los_16)"
   ]
  },
  {
   "cell_type": "code",
   "execution_count": 44,
   "id": "f583091b",
   "metadata": {},
   "outputs": [
    {
     "data": {
      "text/plain": [
       "[1, 2, 3, 4, 2, 3, 4, 5, 3, 4, 5, 6, 4, 5, 6, 7]"
      ]
     },
     "execution_count": 44,
     "metadata": {},
     "output_type": "execute_result"
    }
   ],
   "source": [
    "los_16 = [elem for fila in matriz for elem in fila]\n",
    "\n",
    "los_16 "
   ]
  },
  {
   "cell_type": "code",
   "execution_count": 47,
   "id": "e6879e74",
   "metadata": {},
   "outputs": [
    {
     "data": {
      "text/plain": [
       "[4, 4, 4, 4, 5, 5, 5, 5, 6, 6, 6, 6, 7, 7, 7, 7]"
      ]
     },
     "execution_count": 47,
     "metadata": {},
     "output_type": "execute_result"
    }
   ],
   "source": [
    "los_16 = [elem for elem in fila for fila in matriz]\n",
    "\n",
    "los_16 "
   ]
  },
  {
   "cell_type": "code",
   "execution_count": 48,
   "id": "edee6627",
   "metadata": {},
   "outputs": [
    {
     "ename": "NameError",
     "evalue": "name 'b' is not defined",
     "output_type": "error",
     "traceback": [
      "\u001b[0;31m---------------------------------------------------------------------------\u001b[0m",
      "\u001b[0;31mNameError\u001b[0m                                 Traceback (most recent call last)",
      "Cell \u001b[0;32mIn[48], line 1\u001b[0m\n\u001b[0;32m----> 1\u001b[0m los_16 \u001b[38;5;241m=\u001b[39m [a \u001b[38;5;28;01mfor\u001b[39;00m a \u001b[38;5;129;01min\u001b[39;00m \u001b[43mb\u001b[49m \u001b[38;5;28;01mfor\u001b[39;00m b \u001b[38;5;129;01min\u001b[39;00m matriz]\n\u001b[1;32m      3\u001b[0m los_16 \n",
      "\u001b[0;31mNameError\u001b[0m: name 'b' is not defined"
     ]
    }
   ],
   "source": [
    "los_16 = [a for a in b for b in matriz]\n",
    "\n",
    "los_16 "
   ]
  },
  {
   "cell_type": "markdown",
   "id": "9f823b4b-8b6a-4c74-af3c-c46a60c87437",
   "metadata": {},
   "source": [
    "## Dict comprehension from two lists"
   ]
  },
  {
   "cell_type": "markdown",
   "id": "e0ac7032-bc56-40f6-8634-f05916f23840",
   "metadata": {
    "lang": "en"
   },
   "source": [
    "We can also use dictionary comprehension to create a dictionary from two lists, one will be the `keys`and the other one the `values`."
   ]
  },
  {
   "cell_type": "code",
   "execution_count": 54,
   "id": "5e44b9c5",
   "metadata": {},
   "outputs": [],
   "source": [
    "names = [\"venice\", \"sam\", \"clara\"]   # keys\n",
    "ages = [\"32\", \"21\", \"15\", '23']            # values"
   ]
  },
  {
   "cell_type": "code",
   "execution_count": 55,
   "id": "tough-peeing",
   "metadata": {
    "scrolled": true
   },
   "outputs": [
    {
     "data": {
      "text/plain": [
       "{'venice': '32', 'sam': '21', 'clara': '15'}"
      ]
     },
     "execution_count": 55,
     "metadata": {},
     "output_type": "execute_result"
    }
   ],
   "source": [
    "nuevo_d = {}\n",
    "\n",
    "for i in range(len(names)):\n",
    "    \n",
    "    nuevo_d[names[i]] = ages[i]\n",
    "    \n",
    "nuevo_d"
   ]
  },
  {
   "cell_type": "code",
   "execution_count": 56,
   "id": "constitutional-daughter",
   "metadata": {},
   "outputs": [
    {
     "data": {
      "text/plain": [
       "{'venice': '32', 'sam': '21', 'clara': '15'}"
      ]
     },
     "execution_count": 56,
     "metadata": {},
     "output_type": "execute_result"
    }
   ],
   "source": [
    "nuevo_d = {}\n",
    "\n",
    "for k,v in zip(names, ages):\n",
    "    \n",
    "    nuevo_d[k] = v\n",
    "    \n",
    "nuevo_d"
   ]
  },
  {
   "cell_type": "code",
   "execution_count": 57,
   "id": "0741d724",
   "metadata": {},
   "outputs": [
    {
     "data": {
      "text/plain": [
       "{'venice': '32', 'sam': '21', 'clara': '15'}"
      ]
     },
     "execution_count": 57,
     "metadata": {},
     "output_type": "execute_result"
    }
   ],
   "source": [
    "{k:v for k,v in zip(names, ages)}"
   ]
  },
  {
   "cell_type": "code",
   "execution_count": 58,
   "id": "dc9b1b63",
   "metadata": {},
   "outputs": [
    {
     "data": {
      "text/plain": [
       "[('venice', '32'), ('sam', '21'), ('clara', '15')]"
      ]
     },
     "execution_count": 58,
     "metadata": {},
     "output_type": "execute_result"
    }
   ],
   "source": [
    "list(zip(names, ages))"
   ]
  },
  {
   "cell_type": "code",
   "execution_count": 64,
   "id": "502cebf4",
   "metadata": {},
   "outputs": [
    {
     "data": {
      "text/plain": [
       "3"
      ]
     },
     "execution_count": 64,
     "metadata": {},
     "output_type": "execute_result"
    }
   ],
   "source": [
    "N = len(list(zip(names, ages)))\n",
    "\n",
    "N"
   ]
  },
  {
   "cell_type": "code",
   "execution_count": 65,
   "id": "940c24ef",
   "metadata": {},
   "outputs": [
    {
     "data": {
      "text/plain": [
       "['23']"
      ]
     },
     "execution_count": 65,
     "metadata": {},
     "output_type": "execute_result"
    }
   ],
   "source": [
    "ages[N:]"
   ]
  },
  {
   "cell_type": "code",
   "execution_count": 59,
   "id": "27644a36",
   "metadata": {},
   "outputs": [
    {
     "data": {
      "text/plain": [
       "{'venice': '32', 'sam': '21', 'clara': '15'}"
      ]
     },
     "execution_count": 59,
     "metadata": {},
     "output_type": "execute_result"
    }
   ],
   "source": [
    "dict(zip(names, ages))"
   ]
  },
  {
   "cell_type": "code",
   "execution_count": 60,
   "id": "ba3090ba",
   "metadata": {},
   "outputs": [
    {
     "data": {
      "text/plain": [
       "[('venice', '32', 'venice'), ('sam', '21', 'sam'), ('clara', '15', 'clara')]"
      ]
     },
     "execution_count": 60,
     "metadata": {},
     "output_type": "execute_result"
    }
   ],
   "source": [
    "list(zip(names, ages, names))"
   ]
  },
  {
   "cell_type": "code",
   "execution_count": 61,
   "id": "e35057c5",
   "metadata": {},
   "outputs": [
    {
     "ename": "ValueError",
     "evalue": "dictionary update sequence element #0 has length 3; 2 is required",
     "output_type": "error",
     "traceback": [
      "\u001b[0;31m---------------------------------------------------------------------------\u001b[0m",
      "\u001b[0;31mValueError\u001b[0m                                Traceback (most recent call last)",
      "Cell \u001b[0;32mIn[61], line 1\u001b[0m\n\u001b[0;32m----> 1\u001b[0m \u001b[38;5;28;43mdict\u001b[39;49m\u001b[43m(\u001b[49m\u001b[38;5;28;43mzip\u001b[39;49m\u001b[43m(\u001b[49m\u001b[43mnames\u001b[49m\u001b[43m,\u001b[49m\u001b[43m \u001b[49m\u001b[43mages\u001b[49m\u001b[43m,\u001b[49m\u001b[43m \u001b[49m\u001b[43mnames\u001b[49m\u001b[43m)\u001b[49m\u001b[43m)\u001b[49m\n",
      "\u001b[0;31mValueError\u001b[0m: dictionary update sequence element #0 has length 3; 2 is required"
     ]
    }
   ],
   "source": [
    "dict(zip(names, ages, names))"
   ]
  },
  {
   "cell_type": "code",
   "execution_count": null,
   "id": "8a6ea2c3",
   "metadata": {},
   "outputs": [],
   "source": []
  }
 ],
 "metadata": {
  "kernelspec": {
   "display_name": "Python 3 (ipykernel)",
   "language": "python",
   "name": "python3"
  },
  "language_info": {
   "codemirror_mode": {
    "name": "ipython",
    "version": 3
   },
   "file_extension": ".py",
   "mimetype": "text/x-python",
   "name": "python",
   "nbconvert_exporter": "python",
   "pygments_lexer": "ipython3",
   "version": "3.9.12"
  },
  "toc": {
   "base_numbering": 1,
   "nav_menu": {},
   "number_sections": true,
   "sideBar": true,
   "skip_h1_title": false,
   "title_cell": "Table of Contents",
   "title_sidebar": "Contents",
   "toc_cell": true,
   "toc_position": {},
   "toc_section_display": true,
   "toc_window_display": true
  }
 },
 "nbformat": 4,
 "nbformat_minor": 5
}
