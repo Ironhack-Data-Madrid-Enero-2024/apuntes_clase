{
 "cells": [
  {
   "cell_type": "markdown",
   "id": "7324777e",
   "metadata": {},
   "source": [
    "## Exercise: Managing Customer Orders\n",
    "\n",
    "As part of a business venture, you are starting an online store that sells various products. To ensure smooth operations, you need to develop a program that manages customer orders and inventory.\n",
    "\n",
    "Follow the steps below to complete the exercise:\n",
    "\n",
    "1. Define a list called `products` that contains the following items: \"t-shirt\", \"mug\", \"hat\", \"book\", \"keychain\".\n",
    "\n",
    "2. Create an empty dictionary called `inventory`.\n",
    "\n",
    "3. Ask the user to input the quantity of each product available in the inventory. Use the product names from the `products` list as keys in the `inventory` dictionary and assign the respective quantities as values.\n",
    "\n",
    "4. Create an empty set called `customer_orders`.\n",
    "\n",
    "5. Ask the user to input the name of three products that a customer wants to order (from those in the products list, meaning three products out of \"t-shirt\", \"mug\", \"hat\", \"book\" or \"keychain\". Add each product name to the `customer_orders` set.\n",
    "\n",
    "6. Print the products in the `customer_orders` set.\n",
    "\n",
    "7. Calculate the following order statistics:\n",
    "   - Total Products Ordered: The total number of products in the `customer_orders` set.\n",
    "   - Percentage of Products Ordered: The percentage of products ordered compared to the total available products.\n",
    "   \n",
    "   Store these statistics in a tuple called `order_status`.\n",
    "\n",
    "8. Print the order statistics using the following format:\n",
    "   ```\n",
    "   Order Statistics:\n",
    "   Total Products Ordered: <total_products_ordered>\n",
    "   Percentage of Products Ordered: <percentage_ordered>% \n",
    "   ```\n",
    "\n",
    "9. Update the inventory by subtracting 1 from the quantity of each product. Modify the `inventory` dictionary accordingly.\n",
    "\n",
    "10. Print the updated inventory, displaying the quantity of each product on separate lines.\n",
    "\n",
    "Solve the exercise by implementing the steps using the Python concepts of lists, dictionaries, sets, and basic input/output operations. "
   ]
  },
  {
   "cell_type": "code",
   "execution_count": 1,
   "id": "940576d9",
   "metadata": {},
   "outputs": [
    {
     "data": {
      "text/plain": [
       "['t-shirt', 'mug', 'hat', 'book', 'keychain']"
      ]
     },
     "execution_count": 1,
     "metadata": {},
     "output_type": "execute_result"
    }
   ],
   "source": [
    "# Step 1\n",
    "products = [\"t-shirt\", \"mug\", \"hat\", \"book\", \"keychain\"]\n",
    "\n",
    "products"
   ]
  },
  {
   "cell_type": "code",
   "execution_count": 3,
   "id": "ebe8266a",
   "metadata": {},
   "outputs": [
    {
     "data": {
      "text/plain": [
       "{}"
      ]
     },
     "execution_count": 3,
     "metadata": {},
     "output_type": "execute_result"
    }
   ],
   "source": [
    "# Step 2\n",
    "\n",
    "inventory = {}\n",
    "\n",
    "inventory = dict()\n",
    "\n",
    "inventory"
   ]
  },
  {
   "cell_type": "code",
   "execution_count": 8,
   "id": "7510e415",
   "metadata": {},
   "outputs": [
    {
     "name": "stdout",
     "output_type": "stream",
     "text": [
      "5\n"
     ]
    },
    {
     "data": {
      "text/plain": [
       "5"
      ]
     },
     "execution_count": 8,
     "metadata": {},
     "output_type": "execute_result"
    }
   ],
   "source": [
    "int(input())"
   ]
  },
  {
   "cell_type": "code",
   "execution_count": 9,
   "id": "aa884a08",
   "metadata": {},
   "outputs": [
    {
     "name": "stdout",
     "output_type": "stream",
     "text": [
      "Enter the quantity of t-shirts available: 5\n",
      "Enter the quantity of mugs available: 10\n",
      "Enter the quantity of hats available: 25\n",
      "Enter the quantity of books available: 300\n",
      "Enter the quantity of keychains available: 22\n"
     ]
    }
   ],
   "source": [
    "# Step 3\n",
    "\n",
    "\n",
    "quantity = int(input(\"Enter the quantity of t-shirts available: \"))\n",
    "inventory[\"t-shirt\"] = quantity\n",
    "\n",
    "quantity = int(input(\"Enter the quantity of mugs available: \"))\n",
    "inventory[\"mug\"] = quantity\n",
    "\n",
    "quantity = int(input(\"Enter the quantity of hats available: \"))\n",
    "inventory[\"hat\"] = quantity\n",
    "\n",
    "quantity = int(input(\"Enter the quantity of books available: \"))\n",
    "inventory[\"book\"] = quantity\n",
    "\n",
    "quantity = int(input(\"Enter the quantity of keychains available: \"))\n",
    "inventory[\"keychain\"] = quantity"
   ]
  },
  {
   "cell_type": "code",
   "execution_count": 10,
   "id": "f9ba6208",
   "metadata": {},
   "outputs": [
    {
     "data": {
      "text/plain": [
       "{'t-shirt': 5, 'mug': 10, 'hat': 25, 'book': 300, 'keychain': 22}"
      ]
     },
     "execution_count": 10,
     "metadata": {},
     "output_type": "execute_result"
    }
   ],
   "source": [
    "inventory"
   ]
  },
  {
   "cell_type": "code",
   "execution_count": 11,
   "id": "4b2d4e20",
   "metadata": {},
   "outputs": [
    {
     "data": {
      "text/plain": [
       "22"
      ]
     },
     "execution_count": 11,
     "metadata": {},
     "output_type": "execute_result"
    }
   ],
   "source": [
    "quantity"
   ]
  },
  {
   "cell_type": "code",
   "execution_count": 13,
   "id": "9436159f",
   "metadata": {},
   "outputs": [
    {
     "data": {
      "text/plain": [
       "set()"
      ]
     },
     "execution_count": 13,
     "metadata": {},
     "output_type": "execute_result"
    }
   ],
   "source": [
    "# Step 4\n",
    "\n",
    "customer_orders = set()\n",
    "\n",
    "customer_orders"
   ]
  },
  {
   "cell_type": "code",
   "execution_count": 14,
   "id": "607c61ba",
   "metadata": {},
   "outputs": [
    {
     "name": "stdout",
     "output_type": "stream",
     "text": [
      "Enter name of a product that a customer wants to order: book\n",
      "Enter name of another product that a customer wants to order: hat\n",
      "Enter name of one more product that a customer wants to order: mug\n"
     ]
    }
   ],
   "source": [
    "# Step 5\n",
    "\n",
    "\n",
    "product = input(\"Enter name of a product that a customer wants to order: \")  # 1er producto\n",
    "customer_orders.add(product)\n",
    "\n",
    "\n",
    "product = input(\"Enter name of another product that a customer wants to order: \")  # 2º producto\n",
    "customer_orders.add(product)\n",
    "\n",
    "\n",
    "product = input(\"Enter name of one more product that a customer wants to order: \")  # 3er producto\n",
    "customer_orders.add(product)"
   ]
  },
  {
   "cell_type": "code",
   "execution_count": 15,
   "id": "641dc92e",
   "metadata": {},
   "outputs": [
    {
     "data": {
      "text/plain": [
       "{'book', 'hat', 'mug'}"
      ]
     },
     "execution_count": 15,
     "metadata": {},
     "output_type": "execute_result"
    }
   ],
   "source": [
    "customer_orders"
   ]
  },
  {
   "cell_type": "code",
   "execution_count": 19,
   "id": "a9a30cea",
   "metadata": {},
   "outputs": [
    {
     "data": {
      "text/plain": [
       "'mug'"
      ]
     },
     "execution_count": 19,
     "metadata": {},
     "output_type": "execute_result"
    }
   ],
   "source": [
    "product"
   ]
  },
  {
   "cell_type": "code",
   "execution_count": 16,
   "id": "0dab604c",
   "metadata": {},
   "outputs": [
    {
     "name": "stdout",
     "output_type": "stream",
     "text": [
      "Products in customer orders: {'hat', 'mug', 'book'}\n"
     ]
    }
   ],
   "source": [
    "# Step 6\n",
    "print(\"Products in customer orders:\", customer_orders)\n"
   ]
  },
  {
   "cell_type": "code",
   "execution_count": 18,
   "id": "b088c124",
   "metadata": {},
   "outputs": [
    {
     "name": "stdout",
     "output_type": "stream",
     "text": [
      "<class 'dict'>\n"
     ]
    },
    {
     "ename": "AttributeError",
     "evalue": "'dict' object has no attribute 'add'",
     "output_type": "error",
     "traceback": [
      "\u001b[0;31m---------------------------------------------------------------------------\u001b[0m",
      "\u001b[0;31mAttributeError\u001b[0m                            Traceback (most recent call last)",
      "Cell \u001b[0;32mIn[18], line 5\u001b[0m\n\u001b[1;32m      1\u001b[0m var \u001b[38;5;241m=\u001b[39m {}\n\u001b[1;32m      3\u001b[0m \u001b[38;5;28mprint\u001b[39m(\u001b[38;5;28mtype\u001b[39m(var))\n\u001b[0;32m----> 5\u001b[0m \u001b[43mvar\u001b[49m\u001b[38;5;241;43m.\u001b[39;49m\u001b[43madd\u001b[49m(product)\n",
      "\u001b[0;31mAttributeError\u001b[0m: 'dict' object has no attribute 'add'"
     ]
    }
   ],
   "source": [
    "var = {}\n",
    "\n",
    "print(type(var))\n",
    "\n",
    "var.add(product)"
   ]
  },
  {
   "cell_type": "code",
   "execution_count": 20,
   "id": "0458093d",
   "metadata": {},
   "outputs": [
    {
     "data": {
      "text/plain": [
       "3"
      ]
     },
     "execution_count": 20,
     "metadata": {},
     "output_type": "execute_result"
    }
   ],
   "source": [
    "# Step 7\n",
    "\n",
    "total_products = len(customer_orders)\n",
    "\n",
    "total_products"
   ]
  },
  {
   "cell_type": "code",
   "execution_count": 21,
   "id": "644e6a80",
   "metadata": {},
   "outputs": [
    {
     "data": {
      "text/plain": [
       "60.0"
      ]
     },
     "execution_count": 21,
     "metadata": {},
     "output_type": "execute_result"
    }
   ],
   "source": [
    "porcen = total_products / len(products) * 100\n",
    "\n",
    "porcen"
   ]
  },
  {
   "cell_type": "code",
   "execution_count": 24,
   "id": "4a3e17ab",
   "metadata": {},
   "outputs": [
    {
     "data": {
      "text/plain": [
       "0.6"
      ]
     },
     "execution_count": 24,
     "metadata": {},
     "output_type": "execute_result"
    }
   ],
   "source": [
    "3/5"
   ]
  },
  {
   "cell_type": "code",
   "execution_count": 22,
   "id": "d848e81e",
   "metadata": {},
   "outputs": [
    {
     "data": {
      "text/plain": [
       "(3, 60.0)"
      ]
     },
     "execution_count": 22,
     "metadata": {},
     "output_type": "execute_result"
    }
   ],
   "source": [
    "order_status = (total_products, porcen)\n",
    "\n",
    "order_status"
   ]
  },
  {
   "cell_type": "code",
   "execution_count": 23,
   "id": "d1129b97",
   "metadata": {},
   "outputs": [
    {
     "name": "stdout",
     "output_type": "stream",
     "text": [
      "Order Statistics:\n",
      "Total Products Ordered: 3\n",
      "Percentage of Unique Products Ordered: 60.0\n"
     ]
    }
   ],
   "source": [
    "# Step 8\n",
    "print(\"Order Statistics:\")\n",
    "print(\"Total Products Ordered:\", order_status[0])\n",
    "print(\"Percentage of Unique Products Ordered:\", order_status[1])\n"
   ]
  },
  {
   "cell_type": "code",
   "execution_count": 25,
   "id": "2964d059",
   "metadata": {},
   "outputs": [
    {
     "data": {
      "text/plain": [
       "{'t-shirt': 5, 'mug': 10, 'hat': 25, 'book': 300, 'keychain': 22}"
      ]
     },
     "execution_count": 25,
     "metadata": {},
     "output_type": "execute_result"
    }
   ],
   "source": [
    "# Step 9\n",
    "\n",
    "inventory"
   ]
  },
  {
   "cell_type": "code",
   "execution_count": 26,
   "id": "e6a5f915",
   "metadata": {},
   "outputs": [
    {
     "data": {
      "text/plain": [
       "{'book', 'hat', 'mug'}"
      ]
     },
     "execution_count": 26,
     "metadata": {},
     "output_type": "execute_result"
    }
   ],
   "source": [
    "customer_orders"
   ]
  },
  {
   "cell_type": "code",
   "execution_count": 27,
   "id": "c667424c",
   "metadata": {},
   "outputs": [],
   "source": [
    "inventory['book'] = inventory['book']-1\n",
    "\n",
    "inventory['hat'] -= 1\n",
    "\n",
    "inventory['mug'] -= 1\n"
   ]
  },
  {
   "cell_type": "code",
   "execution_count": 28,
   "id": "dd9856c5",
   "metadata": {},
   "outputs": [
    {
     "data": {
      "text/plain": [
       "{'t-shirt': 5, 'mug': 9, 'hat': 24, 'book': 299, 'keychain': 22}"
      ]
     },
     "execution_count": 28,
     "metadata": {},
     "output_type": "execute_result"
    }
   ],
   "source": [
    "inventory"
   ]
  },
  {
   "cell_type": "code",
   "execution_count": 32,
   "id": "8b3b62ae",
   "metadata": {},
   "outputs": [],
   "source": [
    "for key in inventory.keys():\n",
    "    \n",
    "    inventory[key] -= 1"
   ]
  },
  {
   "cell_type": "code",
   "execution_count": 33,
   "id": "7bf4efcb",
   "metadata": {},
   "outputs": [
    {
     "data": {
      "text/plain": [
       "{'t-shirt': 4, 'mug': 8, 'hat': 23, 'book': 298, 'keychain': 21}"
      ]
     },
     "execution_count": 33,
     "metadata": {},
     "output_type": "execute_result"
    }
   ],
   "source": [
    "inventory"
   ]
  },
  {
   "cell_type": "code",
   "execution_count": 34,
   "id": "3ab995ed",
   "metadata": {},
   "outputs": [
    {
     "name": "stdout",
     "output_type": "stream",
     "text": [
      "Updated Inventory:\n",
      "t-shirt: 4\n",
      "mug: 8\n",
      "hat: 23\n",
      "book: 298\n",
      "keychain: 21\n"
     ]
    }
   ],
   "source": [
    "\n",
    "# Step 10\n",
    "print(\"Updated Inventory:\")\n",
    "print(\"t-shirt:\", inventory[\"t-shirt\"])\n",
    "print(\"mug:\", inventory[\"mug\"])\n",
    "print(\"hat:\", inventory[\"hat\"])\n",
    "print(\"book:\", inventory[\"book\"])\n",
    "print(\"keychain:\", inventory[\"keychain\"])\n"
   ]
  },
  {
   "cell_type": "code",
   "execution_count": 35,
   "id": "70af73a2",
   "metadata": {},
   "outputs": [
    {
     "name": "stdout",
     "output_type": "stream",
     "text": [
      "4\n",
      "8\n",
      "23\n",
      "298\n",
      "21\n"
     ]
    }
   ],
   "source": [
    "for valor in inventory.values():\n",
    "    \n",
    "    print(valor)"
   ]
  },
  {
   "cell_type": "code",
   "execution_count": 37,
   "id": "a1d2b885",
   "metadata": {},
   "outputs": [
    {
     "name": "stdout",
     "output_type": "stream",
     "text": [
      "('t-shirt', 4)\n",
      "('mug', 8)\n",
      "('hat', 23)\n",
      "('book', 298)\n",
      "('keychain', 21)\n"
     ]
    }
   ],
   "source": [
    "for tupla in inventory.items():\n",
    "    \n",
    "    print(tupla)"
   ]
  },
  {
   "cell_type": "code",
   "execution_count": 38,
   "id": "b81c4db3",
   "metadata": {},
   "outputs": [],
   "source": [
    "for tupla in inventory.items():\n",
    "    \n",
    "    inventory[tupla[0]] = tupla[1]-1"
   ]
  },
  {
   "cell_type": "code",
   "execution_count": 39,
   "id": "9ef1693c",
   "metadata": {},
   "outputs": [
    {
     "data": {
      "text/plain": [
       "{'t-shirt': 3, 'mug': 7, 'hat': 22, 'book': 297, 'keychain': 20}"
      ]
     },
     "execution_count": 39,
     "metadata": {},
     "output_type": "execute_result"
    }
   ],
   "source": [
    "inventory"
   ]
  },
  {
   "cell_type": "code",
   "execution_count": 40,
   "id": "680faa96",
   "metadata": {},
   "outputs": [],
   "source": [
    "for k,v in inventory.items():\n",
    "    \n",
    "    inventory[k] = v-1"
   ]
  },
  {
   "cell_type": "code",
   "execution_count": 41,
   "id": "4a751db1",
   "metadata": {},
   "outputs": [
    {
     "data": {
      "text/plain": [
       "{'t-shirt': 2, 'mug': 6, 'hat': 21, 'book': 296, 'keychain': 19}"
      ]
     },
     "execution_count": 41,
     "metadata": {},
     "output_type": "execute_result"
    }
   ],
   "source": [
    "inventory"
   ]
  },
  {
   "cell_type": "code",
   "execution_count": 42,
   "id": "d2c00b12",
   "metadata": {},
   "outputs": [
    {
     "data": {
      "text/plain": [
       "'keychain'"
      ]
     },
     "execution_count": 42,
     "metadata": {},
     "output_type": "execute_result"
    }
   ],
   "source": [
    "k"
   ]
  },
  {
   "cell_type": "code",
   "execution_count": 43,
   "id": "f04a25b6",
   "metadata": {},
   "outputs": [
    {
     "data": {
      "text/plain": [
       "20"
      ]
     },
     "execution_count": 43,
     "metadata": {},
     "output_type": "execute_result"
    }
   ],
   "source": [
    "v"
   ]
  },
  {
   "cell_type": "code",
   "execution_count": null,
   "id": "d22fa7f2",
   "metadata": {},
   "outputs": [],
   "source": []
  }
 ],
 "metadata": {
  "kernelspec": {
   "display_name": "clase",
   "language": "python",
   "name": "clase"
  },
  "language_info": {
   "codemirror_mode": {
    "name": "ipython",
    "version": 3
   },
   "file_extension": ".py",
   "mimetype": "text/x-python",
   "name": "python",
   "nbconvert_exporter": "python",
   "pygments_lexer": "ipython3",
   "version": "3.9.12"
  }
 },
 "nbformat": 4,
 "nbformat_minor": 5
}
