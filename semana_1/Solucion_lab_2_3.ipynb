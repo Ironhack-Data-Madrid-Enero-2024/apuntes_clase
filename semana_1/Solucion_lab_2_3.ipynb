{
 "cells": [
  {
   "cell_type": "markdown",
   "id": "ad6479bb",
   "metadata": {},
   "source": [
    "## Exercise: Managing Customer Orders Optimized\n",
    "\n",
    "In the last lab, you were starting an online store that sells various products. To ensure smooth operations, you developed a program that manages customer orders and inventory.\n",
    "\n",
    "You did so without using flow control. Let's go a step further and improve this code.\n",
    "\n",
    "Follow the steps below to complete the exercise:\n",
    "\n",
    "1. Look at your code from the lab data structures, and improve repeated code with loops.\n",
    "\n",
    "2. Instead of asking the user to input the name of three products that a customer wants to order, do the following:\n",
    "    \n",
    "    a. Prompt the user to enter the name of a product that a customer wants to order.\n",
    "    \n",
    "    b. Add the product name to the \"customer_orders\" set.\n",
    "    \n",
    "    c. Ask the user if they want to add another product (yes/no).\n",
    "    \n",
    "    d. Continue the loop until the user does not want to add another product.\n",
    "\n",
    "3. Instead of updating the inventory by subtracting 1 from the quantity of each product, only do it for  the products that were ordered (those in \"customer_orders\")."
   ]
  },
  {
   "cell_type": "code",
   "execution_count": 4,
   "id": "7e92fd03",
   "metadata": {},
   "outputs": [],
   "source": [
    "# Step 1: Improve repeated code with loops (this is done throughout the whole solution)\n",
    "\n",
    "products = [\"t-shirt\", \"mug\", \"hat\", \"book\", \"keychain\"]\n",
    "\n",
    "inventory = {}"
   ]
  },
  {
   "cell_type": "code",
   "execution_count": 7,
   "id": "4cd49db6",
   "metadata": {},
   "outputs": [
    {
     "name": "stdout",
     "output_type": "stream",
     "text": [
      "Numero de productos de t-shirt 5\n",
      "Numero de productos de mug 8\n",
      "Numero de productos de hat 9\n",
      "Numero de productos de book 3\n",
      "Numero de productos de keychain 5\n"
     ]
    }
   ],
   "source": [
    "for p in products:\n",
    "    \n",
    "    inventory[p] = int(input(f'Numero de productos de {p} '))"
   ]
  },
  {
   "cell_type": "code",
   "execution_count": 8,
   "id": "bbb88c79",
   "metadata": {},
   "outputs": [
    {
     "data": {
      "text/plain": [
       "{'t-shirt': 5, 'mug': 8, 'hat': 9, 'book': 3, 'keychain': 5}"
      ]
     },
     "execution_count": 8,
     "metadata": {},
     "output_type": "execute_result"
    }
   ],
   "source": [
    "inventory"
   ]
  },
  {
   "cell_type": "code",
   "execution_count": 9,
   "id": "3e47f983",
   "metadata": {},
   "outputs": [
    {
     "data": {
      "text/plain": [
       "'Numero de productos de keychain '"
      ]
     },
     "execution_count": 9,
     "metadata": {},
     "output_type": "execute_result"
    }
   ],
   "source": [
    "f'Numero de productos de {p} '"
   ]
  },
  {
   "cell_type": "code",
   "execution_count": 10,
   "id": "d6c8892f",
   "metadata": {},
   "outputs": [
    {
     "data": {
      "text/plain": [
       "'keychain'"
      ]
     },
     "execution_count": 10,
     "metadata": {},
     "output_type": "execute_result"
    }
   ],
   "source": [
    "p"
   ]
  },
  {
   "cell_type": "code",
   "execution_count": 11,
   "id": "603aabda",
   "metadata": {},
   "outputs": [
    {
     "data": {
      "text/plain": [
       "'Numero de productos de keychain'"
      ]
     },
     "execution_count": 11,
     "metadata": {},
     "output_type": "execute_result"
    }
   ],
   "source": [
    "'Numero de productos de ' + 'keychain'"
   ]
  },
  {
   "cell_type": "code",
   "execution_count": 14,
   "id": "4eacf52e",
   "metadata": {},
   "outputs": [
    {
     "data": {
      "text/plain": [
       "\"Numero de productos de {'t-shirt': 5, 'mug': 8, 'hat': 9, 'book': 3, 'keychain': 5} \""
      ]
     },
     "execution_count": 14,
     "metadata": {},
     "output_type": "execute_result"
    }
   ],
   "source": [
    "f'Numero de productos de {inventory} '"
   ]
  },
  {
   "cell_type": "code",
   "execution_count": 24,
   "id": "999110a5",
   "metadata": {},
   "outputs": [],
   "source": [
    "# Step 2\n",
    "\n",
    "# Initialize an empty set to store the customer orders\n",
    "customer_orders = set()\n",
    "\n",
    "# Initialize a variable for user input\n",
    "add_another = 'yes'"
   ]
  },
  {
   "cell_type": "code",
   "execution_count": 25,
   "id": "9c4ddef3",
   "metadata": {},
   "outputs": [
    {
     "name": "stdout",
     "output_type": "stream",
     "text": [
      "Introduce el nombre de un producto.... book\n",
      "A ver galán, ¿quieres otro producto?yes\n",
      "Introduce el nombre de un producto.... hat\n",
      "A ver galán, ¿quieres otro producto?yes\n",
      "Introduce el nombre de un producto.... mug\n",
      "A ver galán, ¿quieres otro producto?yes\n",
      "Introduce el nombre de un producto.... coche\n",
      "Alegre, eso no lo tengo.\n",
      "A ver galán, ¿quieres otro producto?no\n"
     ]
    }
   ],
   "source": [
    "while add_another=='yes':\n",
    "    \n",
    "    producto = input('Introduce el nombre de un producto.... ')\n",
    "    \n",
    "    if producto not in products:\n",
    "        \n",
    "        print('Alegre, eso no lo tengo.')\n",
    "    \n",
    "    else:\n",
    "        customer_orders.add(producto)\n",
    "    \n",
    "    add_another = input('A ver galán, ¿quieres otro producto?')"
   ]
  },
  {
   "cell_type": "code",
   "execution_count": 26,
   "id": "88e86325",
   "metadata": {},
   "outputs": [
    {
     "data": {
      "text/plain": [
       "{'book', 'hat', 'mug'}"
      ]
     },
     "execution_count": 26,
     "metadata": {},
     "output_type": "execute_result"
    }
   ],
   "source": [
    "customer_orders"
   ]
  },
  {
   "cell_type": "code",
   "execution_count": 27,
   "id": "0f902f0d",
   "metadata": {},
   "outputs": [
    {
     "data": {
      "text/plain": [
       "{'t-shirt': 5, 'mug': 8, 'hat': 9, 'book': 3, 'keychain': 5}"
      ]
     },
     "execution_count": 27,
     "metadata": {},
     "output_type": "execute_result"
    }
   ],
   "source": [
    "inventory"
   ]
  },
  {
   "cell_type": "code",
   "execution_count": 28,
   "id": "102b2917",
   "metadata": {},
   "outputs": [],
   "source": [
    "# Step 3\n",
    "\n",
    "for orden in customer_orders:\n",
    "    \n",
    "    inventory[orden] -= 1\n"
   ]
  },
  {
   "cell_type": "code",
   "execution_count": 29,
   "id": "177514d2",
   "metadata": {},
   "outputs": [
    {
     "data": {
      "text/plain": [
       "{'t-shirt': 5, 'mug': 7, 'hat': 8, 'book': 2, 'keychain': 5}"
      ]
     },
     "execution_count": 29,
     "metadata": {},
     "output_type": "execute_result"
    }
   ],
   "source": [
    "inventory"
   ]
  },
  {
   "cell_type": "code",
   "execution_count": 30,
   "id": "4baf0815",
   "metadata": {},
   "outputs": [],
   "source": [
    "customer_orders.add('coche')"
   ]
  },
  {
   "cell_type": "code",
   "execution_count": 31,
   "id": "2af217fd",
   "metadata": {},
   "outputs": [
    {
     "data": {
      "text/plain": [
       "{'book', 'coche', 'hat', 'mug'}"
      ]
     },
     "execution_count": 31,
     "metadata": {},
     "output_type": "execute_result"
    }
   ],
   "source": [
    "customer_orders"
   ]
  },
  {
   "cell_type": "code",
   "execution_count": 32,
   "id": "2efa1311",
   "metadata": {},
   "outputs": [
    {
     "ename": "KeyError",
     "evalue": "'coche'",
     "output_type": "error",
     "traceback": [
      "\u001b[0;31m---------------------------------------------------------------------------\u001b[0m",
      "\u001b[0;31mKeyError\u001b[0m                                  Traceback (most recent call last)",
      "Cell \u001b[0;32mIn[32], line 3\u001b[0m\n\u001b[1;32m      1\u001b[0m \u001b[38;5;28;01mfor\u001b[39;00m orden \u001b[38;5;129;01min\u001b[39;00m customer_orders:\n\u001b[0;32m----> 3\u001b[0m     inventory[orden] \u001b[38;5;241m-\u001b[39m\u001b[38;5;241m=\u001b[39m \u001b[38;5;241m1\u001b[39m\n",
      "\u001b[0;31mKeyError\u001b[0m: 'coche'"
     ]
    }
   ],
   "source": [
    "for orden in customer_orders:\n",
    "    \n",
    "    inventory[orden] -= 1"
   ]
  },
  {
   "cell_type": "code",
   "execution_count": 33,
   "id": "63a4a2be",
   "metadata": {},
   "outputs": [
    {
     "name": "stdout",
     "output_type": "stream",
     "text": [
      "6\n",
      "coche ---- ESO NO EXISTE\n",
      "2\n",
      "8\n"
     ]
    }
   ],
   "source": [
    "for orden in customer_orders:\n",
    "    \n",
    "    print(inventory.get(orden, f'{orden} ---- ESO NO EXISTE'))"
   ]
  },
  {
   "cell_type": "code",
   "execution_count": 34,
   "id": "753d7661",
   "metadata": {},
   "outputs": [
    {
     "name": "stdout",
     "output_type": "stream",
     "text": [
      "coche ---- ESO NO EXISTE\n"
     ]
    }
   ],
   "source": [
    "for orden in customer_orders:\n",
    "    \n",
    "    if orden in inventory.keys():\n",
    "        \n",
    "        inventory[orden] -= 1\n",
    "        \n",
    "        \n",
    "    else:\n",
    "        print(f'{orden} ---- ESO NO EXISTE')"
   ]
  },
  {
   "cell_type": "code",
   "execution_count": 35,
   "id": "558f02f9",
   "metadata": {},
   "outputs": [
    {
     "data": {
      "text/plain": [
       "{'t-shirt': 5, 'mug': 5, 'hat': 7, 'book': 1, 'keychain': 5}"
      ]
     },
     "execution_count": 35,
     "metadata": {},
     "output_type": "execute_result"
    }
   ],
   "source": [
    "inventory"
   ]
  },
  {
   "cell_type": "markdown",
   "id": "1ceabcd0",
   "metadata": {},
   "source": [
    "## Exercise: Managing Customer Orders with Functions\n",
    "\n",
    "In the previous exercise, you improved the code for managing customer orders by using loops and flow control. Now, let's take it a step further and refactor the code by introducing functions.\n",
    "\n",
    "Follow the steps below to complete the exercise:\n",
    "\n",
    "1. Define a function named `initialize_inventory` that takes `products` as a parameter. Inside the function, implement the code for initializing the inventory dictionary using a loop and user input.\n",
    "\n",
    "2. Define a function named `get_customer_orders` that takes no parameters. Inside the function, implement the code for prompting the user to enter the product names using a loop. The function should return the `customer_orders` set.\n",
    "\n",
    "3. Define a function named `update_inventory` that takes `customer_orders` and `inventory` as parameters. Inside the function, implement the code for updating the inventory dictionary based on the customer orders.\n",
    "\n",
    "4. Define a function named `calculate_order_statistics` that takes `customer_orders` and `products` as parameters. Inside the function, implement the code for calculating the order statistics (total products ordered, and percentage of unique products ordered). The function should return these values.\n",
    "\n",
    "5. Define a function named `print_order_statistics` that takes `order_statistics` as a parameter. Inside the function, implement the code for printing the order statistics.\n",
    "\n",
    "6. Define a function named `print_updated_inventory` that takes `inventory` as a parameter. Inside the function, implement the code for printing the updated inventory.\n",
    "\n",
    "7. Call the functions in the appropriate sequence to execute the program and manage customer orders.\n",
    "\n",
    "Hints for functions:\n",
    "\n",
    "- Consider the input parameters required for each function and their return values.\n",
    "- Utilize function parameters and return values to transfer data between functions.\n",
    "- Test your functions individually to ensure they work correctly.\n",
    "\n",
    "\n"
   ]
  },
  {
   "cell_type": "code",
   "execution_count": 36,
   "id": "46a8c494",
   "metadata": {},
   "outputs": [
    {
     "data": {
      "text/plain": [
       "['t-shirt', 'mug', 'hat', 'book', 'keychain']"
      ]
     },
     "execution_count": 36,
     "metadata": {},
     "output_type": "execute_result"
    }
   ],
   "source": [
    "products"
   ]
  },
  {
   "cell_type": "code",
   "execution_count": 38,
   "id": "57f131f3",
   "metadata": {},
   "outputs": [],
   "source": [
    "# Step 1\n",
    "\n",
    "\n",
    "# definicion de funcion\n",
    "\n",
    "\n",
    "def initialize_inventory(productos):\n",
    "    \n",
    "    inventory = {}\n",
    "    \n",
    "    for p in productos:\n",
    "        \n",
    "        inventory[p] = int(input(f'Numero de productos de {p} '))\n",
    "        \n",
    "    \n",
    "    return inventory"
   ]
  },
  {
   "cell_type": "code",
   "execution_count": 43,
   "id": "0c2f42f2",
   "metadata": {},
   "outputs": [
    {
     "data": {
      "text/plain": [
       "['t-shirt', 'mug', 'hat', 'book', 'keychain']"
      ]
     },
     "execution_count": 43,
     "metadata": {},
     "output_type": "execute_result"
    }
   ],
   "source": [
    "products"
   ]
  },
  {
   "cell_type": "code",
   "execution_count": 39,
   "id": "09763807",
   "metadata": {},
   "outputs": [
    {
     "name": "stdout",
     "output_type": "stream",
     "text": [
      "Numero de productos de t-shirt 7\n",
      "Numero de productos de mug 4\n",
      "Numero de productos de hat 9\n",
      "Numero de productos de book 3\n",
      "Numero de productos de keychain 5\n"
     ]
    },
    {
     "data": {
      "text/plain": [
       "{'t-shirt': 7, 'mug': 4, 'hat': 9, 'book': 3, 'keychain': 5}"
      ]
     },
     "execution_count": 39,
     "metadata": {},
     "output_type": "execute_result"
    }
   ],
   "source": [
    "# llamada a la funcion\n",
    "\n",
    "\n",
    "inventario = initialize_inventory(products)\n",
    "\n",
    "\n",
    "inventario"
   ]
  },
  {
   "cell_type": "code",
   "execution_count": 40,
   "id": "0c2a5d58",
   "metadata": {},
   "outputs": [
    {
     "data": {
      "text/plain": [
       "{'t-shirt': 7, 'mug': 4, 'hat': 9, 'book': 3, 'keychain': 5}"
      ]
     },
     "execution_count": 40,
     "metadata": {},
     "output_type": "execute_result"
    }
   ],
   "source": [
    "inventario"
   ]
  },
  {
   "cell_type": "code",
   "execution_count": 41,
   "id": "1b4d00de",
   "metadata": {},
   "outputs": [
    {
     "name": "stdout",
     "output_type": "stream",
     "text": [
      "Numero de productos de t-shirt 6\n",
      "Numero de productos de mug 6\n",
      "Numero de productos de hat 6\n",
      "Numero de productos de book 6\n",
      "Numero de productos de keychain 6\n"
     ]
    },
    {
     "data": {
      "text/plain": [
       "{'t-shirt': 6, 'mug': 6, 'hat': 6, 'book': 6, 'keychain': 6}"
      ]
     },
     "execution_count": 41,
     "metadata": {},
     "output_type": "execute_result"
    }
   ],
   "source": [
    "initialize_inventory(products)"
   ]
  },
  {
   "cell_type": "code",
   "execution_count": 42,
   "id": "8e47a731",
   "metadata": {},
   "outputs": [
    {
     "data": {
      "text/plain": [
       "{'t-shirt': 7, 'mug': 4, 'hat': 9, 'book': 3, 'keychain': 5}"
      ]
     },
     "execution_count": 42,
     "metadata": {},
     "output_type": "execute_result"
    }
   ],
   "source": [
    "inventario"
   ]
  },
  {
   "cell_type": "code",
   "execution_count": 44,
   "id": "1fcc31ec",
   "metadata": {},
   "outputs": [],
   "source": [
    "otros = ['coche', 'birra', 'cebollas', 'filetes']"
   ]
  },
  {
   "cell_type": "code",
   "execution_count": 45,
   "id": "4d24105c",
   "metadata": {},
   "outputs": [
    {
     "name": "stdout",
     "output_type": "stream",
     "text": [
      "Numero de productos de coche 45\n",
      "Numero de productos de birra 3\n",
      "Numero de productos de cebollas 8\n",
      "Numero de productos de filetes 5\n"
     ]
    },
    {
     "data": {
      "text/plain": [
       "{'coche': 45, 'birra': 3, 'cebollas': 8, 'filetes': 5}"
      ]
     },
     "execution_count": 45,
     "metadata": {},
     "output_type": "execute_result"
    }
   ],
   "source": [
    "inventario = initialize_inventory(otros)\n",
    "\n",
    "\n",
    "inventario"
   ]
  },
  {
   "cell_type": "code",
   "execution_count": 49,
   "id": "cbbd9b34",
   "metadata": {},
   "outputs": [],
   "source": [
    "# Step 2\n",
    "\n",
    "def get_customer_orders():\n",
    "    \n",
    "    global products   # esto es por eficiencia\n",
    "    \n",
    "    # Initialize an empty set to store the customer orders\n",
    "    customer_orders = set()\n",
    "\n",
    "    # Initialize a variable for user input\n",
    "    add_another = 'yes'\n",
    "    \n",
    "    \n",
    "    while add_another=='yes':\n",
    "    \n",
    "        producto = input('Introduce el nombre de un producto.... ')\n",
    "\n",
    "        if producto not in products:\n",
    "\n",
    "            print('Alegre, eso no lo tengo.')\n",
    "\n",
    "        else:\n",
    "            customer_orders.add(producto)\n",
    "\n",
    "        add_another = input('A ver galán, ¿quieres otro producto?')\n",
    "        \n",
    "        \n",
    "    return customer_orders"
   ]
  },
  {
   "cell_type": "code",
   "execution_count": 51,
   "id": "67d53b71",
   "metadata": {},
   "outputs": [
    {
     "name": "stdout",
     "output_type": "stream",
     "text": [
      "Introduce el nombre de un producto.... book\n",
      "A ver galán, ¿quieres otro producto?yes\n",
      "Introduce el nombre de un producto.... hat\n",
      "A ver galán, ¿quieres otro producto?no\n"
     ]
    },
    {
     "data": {
      "text/plain": [
       "{'book', 'hat'}"
      ]
     },
     "execution_count": 51,
     "metadata": {},
     "output_type": "execute_result"
    }
   ],
   "source": [
    "conjunto = get_customer_orders()\n",
    "\n",
    "conjunto"
   ]
  },
  {
   "cell_type": "code",
   "execution_count": 52,
   "id": "9378309e",
   "metadata": {},
   "outputs": [],
   "source": [
    "# Step 3\n",
    "\n",
    "def update_inventory(inventory, customer_orders):\n",
    "    \n",
    "    for orden in customer_orders:\n",
    "        \n",
    "        inventory[orden] -= 1\n",
    "        \n",
    "    return inventory"
   ]
  },
  {
   "cell_type": "code",
   "execution_count": 55,
   "id": "f756f885",
   "metadata": {},
   "outputs": [
    {
     "data": {
      "text/plain": [
       "{'t-shirt': 5, 'mug': 5, 'hat': 7, 'book': 1, 'keychain': 5}"
      ]
     },
     "execution_count": 55,
     "metadata": {},
     "output_type": "execute_result"
    }
   ],
   "source": [
    "inventory"
   ]
  },
  {
   "cell_type": "code",
   "execution_count": 56,
   "id": "1f831c1f",
   "metadata": {},
   "outputs": [
    {
     "data": {
      "text/plain": [
       "{'t-shirt': 5, 'mug': 5, 'hat': 6, 'book': 0, 'keychain': 5}"
      ]
     },
     "execution_count": 56,
     "metadata": {},
     "output_type": "execute_result"
    }
   ],
   "source": [
    "inventario = update_inventory(inventory, conjunto)\n",
    "\n",
    "inventario"
   ]
  },
  {
   "cell_type": "code",
   "execution_count": 57,
   "id": "25372ccc",
   "metadata": {},
   "outputs": [],
   "source": [
    "a = inventory\n",
    "\n",
    "\n",
    "b = conjunto"
   ]
  },
  {
   "cell_type": "code",
   "execution_count": 58,
   "id": "6ae92ddf",
   "metadata": {},
   "outputs": [
    {
     "data": {
      "text/plain": [
       "{'t-shirt': 5, 'mug': 5, 'hat': 5, 'book': -1, 'keychain': 5}"
      ]
     },
     "execution_count": 58,
     "metadata": {},
     "output_type": "execute_result"
    }
   ],
   "source": [
    "update_inventory(a, b)"
   ]
  },
  {
   "cell_type": "code",
   "execution_count": 59,
   "id": "b982e8d4",
   "metadata": {},
   "outputs": [
    {
     "data": {
      "text/plain": [
       "{'t-shirt': 5, 'mug': 5, 'hat': 4, 'book': -2, 'keychain': 5}"
      ]
     },
     "execution_count": 59,
     "metadata": {},
     "output_type": "execute_result"
    }
   ],
   "source": [
    "update_inventory(customer_orders=b, inventory=a)"
   ]
  },
  {
   "cell_type": "code",
   "execution_count": 60,
   "id": "4edfd65e",
   "metadata": {},
   "outputs": [
    {
     "ename": "TypeError",
     "evalue": "'set' object is not subscriptable",
     "output_type": "error",
     "traceback": [
      "\u001b[0;31m---------------------------------------------------------------------------\u001b[0m",
      "\u001b[0;31mTypeError\u001b[0m                                 Traceback (most recent call last)",
      "Cell \u001b[0;32mIn[60], line 1\u001b[0m\n\u001b[0;32m----> 1\u001b[0m \u001b[43mupdate_inventory\u001b[49m\u001b[43m(\u001b[49m\u001b[43mb\u001b[49m\u001b[43m,\u001b[49m\u001b[43m \u001b[49m\u001b[43ma\u001b[49m\u001b[43m)\u001b[49m\n",
      "Cell \u001b[0;32mIn[52], line 7\u001b[0m, in \u001b[0;36mupdate_inventory\u001b[0;34m(inventory, customer_orders)\u001b[0m\n\u001b[1;32m      3\u001b[0m \u001b[38;5;28;01mdef\u001b[39;00m \u001b[38;5;21mupdate_inventory\u001b[39m(inventory, customer_orders):\n\u001b[1;32m      5\u001b[0m     \u001b[38;5;28;01mfor\u001b[39;00m orden \u001b[38;5;129;01min\u001b[39;00m customer_orders:\n\u001b[0;32m----> 7\u001b[0m         inventory[orden] \u001b[38;5;241m-\u001b[39m\u001b[38;5;241m=\u001b[39m \u001b[38;5;241m1\u001b[39m\n\u001b[1;32m      9\u001b[0m     \u001b[38;5;28;01mreturn\u001b[39;00m inventory\n",
      "\u001b[0;31mTypeError\u001b[0m: 'set' object is not subscriptable"
     ]
    }
   ],
   "source": [
    "update_inventory(b, a)"
   ]
  },
  {
   "cell_type": "code",
   "execution_count": 61,
   "id": "e323fa8e",
   "metadata": {},
   "outputs": [],
   "source": [
    "# Step 4: Define the function for calculating order statistics\n",
    "\n",
    "\n",
    "def calculate_order_statistics(customer_orders, products):\n",
    "\n",
    "    \n",
    "    total_products_ordered = len(customer_orders)\n",
    "    \n",
    "    percentage_ordered = (total_products_ordered / len(products)) * 100\n",
    "    \n",
    "    \n",
    "    return total_products_ordered, percentage_ordered"
   ]
  },
  {
   "cell_type": "code",
   "execution_count": 62,
   "id": "f1b4c24b",
   "metadata": {},
   "outputs": [
    {
     "data": {
      "text/plain": [
       "(4, 80.0)"
      ]
     },
     "execution_count": 62,
     "metadata": {},
     "output_type": "execute_result"
    }
   ],
   "source": [
    "calculate_order_statistics(customer_orders, products)"
   ]
  },
  {
   "cell_type": "code",
   "execution_count": 63,
   "id": "04cc6762",
   "metadata": {},
   "outputs": [],
   "source": [
    "tupla = calculate_order_statistics(customer_orders, products)"
   ]
  },
  {
   "cell_type": "code",
   "execution_count": 64,
   "id": "32a61d10",
   "metadata": {
    "scrolled": true
   },
   "outputs": [
    {
     "data": {
      "text/plain": [
       "(4, 80.0)"
      ]
     },
     "execution_count": 64,
     "metadata": {},
     "output_type": "execute_result"
    }
   ],
   "source": [
    "tupla"
   ]
  },
  {
   "cell_type": "code",
   "execution_count": 68,
   "id": "7ae99b35",
   "metadata": {},
   "outputs": [
    {
     "data": {
      "text/plain": [
       "{'book', 'coche', 'hat', 'mug'}"
      ]
     },
     "execution_count": 68,
     "metadata": {},
     "output_type": "execute_result"
    }
   ],
   "source": [
    "customer_orders"
   ]
  },
  {
   "cell_type": "code",
   "execution_count": 70,
   "id": "d03f52cd",
   "metadata": {},
   "outputs": [],
   "source": [
    "total, porcen = calculate_order_statistics(conjunto, products)"
   ]
  },
  {
   "cell_type": "code",
   "execution_count": 71,
   "id": "dea15162",
   "metadata": {},
   "outputs": [
    {
     "data": {
      "text/plain": [
       "2"
      ]
     },
     "execution_count": 71,
     "metadata": {},
     "output_type": "execute_result"
    }
   ],
   "source": [
    "total"
   ]
  },
  {
   "cell_type": "code",
   "execution_count": 72,
   "id": "adf120d8",
   "metadata": {},
   "outputs": [
    {
     "data": {
      "text/plain": [
       "40.0"
      ]
     },
     "execution_count": 72,
     "metadata": {},
     "output_type": "execute_result"
    }
   ],
   "source": [
    "porcen"
   ]
  },
  {
   "cell_type": "code",
   "execution_count": 73,
   "id": "e2ae6ddb",
   "metadata": {},
   "outputs": [
    {
     "data": {
      "text/plain": [
       "{'book', 'hat'}"
      ]
     },
     "execution_count": 73,
     "metadata": {},
     "output_type": "execute_result"
    }
   ],
   "source": [
    "conjunto"
   ]
  },
  {
   "cell_type": "code",
   "execution_count": 74,
   "id": "cfc1197c",
   "metadata": {},
   "outputs": [],
   "source": [
    "# Step 5\n",
    "\n",
    "\n",
    "def print_order_statistics(stats):\n",
    "    \n",
    "    print('Total', stats[0])\n",
    "    print('Porcen', stats[1])"
   ]
  },
  {
   "cell_type": "code",
   "execution_count": 75,
   "id": "de68eee4",
   "metadata": {},
   "outputs": [
    {
     "name": "stdout",
     "output_type": "stream",
     "text": [
      "Total 4\n",
      "Porcen 80.0\n"
     ]
    }
   ],
   "source": [
    "print_order_statistics(tupla)"
   ]
  },
  {
   "cell_type": "code",
   "execution_count": 78,
   "id": "cd4693c0",
   "metadata": {},
   "outputs": [],
   "source": [
    "# Step 6\n",
    "\n",
    "def print_updated_inventory(inv):\n",
    "    \n",
    "    print(inv)\n",
    "    \n",
    "    print()\n",
    "    \n",
    "    for k,v in inv.items():\n",
    "        \n",
    "        print(f'El producto {k} tiene {v} elementos')"
   ]
  },
  {
   "cell_type": "code",
   "execution_count": 79,
   "id": "9dc53cb5",
   "metadata": {},
   "outputs": [
    {
     "name": "stdout",
     "output_type": "stream",
     "text": [
      "{'t-shirt': 5, 'mug': 5, 'hat': 4, 'book': -2, 'keychain': 5}\n",
      "\n",
      "El producto t-shirt tiene 5 elementos\n",
      "El producto mug tiene 5 elementos\n",
      "El producto hat tiene 4 elementos\n",
      "El producto book tiene -2 elementos\n",
      "El producto keychain tiene 5 elementos\n"
     ]
    }
   ],
   "source": [
    "print_updated_inventory(inventory)"
   ]
  },
  {
   "cell_type": "code",
   "execution_count": 81,
   "id": "25e50cb6",
   "metadata": {},
   "outputs": [
    {
     "name": "stdout",
     "output_type": "stream",
     "text": [
      "Numero de productos de t-shirt 5\n",
      "Numero de productos de mug 7\n",
      "Numero de productos de hat 8\n",
      "Numero de productos de book 3\n",
      "Numero de productos de keychain 9\n",
      "Introduce el nombre de un producto.... hat\n",
      "A ver galán, ¿quieres otro producto?yes\n",
      "Introduce el nombre de un producto.... book\n",
      "A ver galán, ¿quieres otro producto?yes\n",
      "Introduce el nombre de un producto.... coche\n",
      "Alegre, eso no lo tengo.\n",
      "A ver galán, ¿quieres otro producto?yes\n",
      "Introduce el nombre de un producto.... mug\n",
      "A ver galán, ¿quieres otro producto?no\n",
      "Total 3\n",
      "Porcen 60.0\n",
      "{'t-shirt': 5, 'mug': 6, 'hat': 7, 'book': 2, 'keychain': 9}\n",
      "\n",
      "El producto t-shirt tiene 5 elementos\n",
      "El producto mug tiene 6 elementos\n",
      "El producto hat tiene 7 elementos\n",
      "El producto book tiene 2 elementos\n",
      "El producto keychain tiene 9 elementos\n"
     ]
    }
   ],
   "source": [
    "# Step 7\n",
    "\n",
    "products = [\"t-shirt\", \"mug\", \"hat\", \"book\", \"keychain\"]\n",
    "\n",
    "inventory = initialize_inventory(products)   # paso 1\n",
    "\n",
    "customer_orders = get_customer_orders()   # paso 2\n",
    "\n",
    "inventory = update_inventory(inventory, customer_orders)  # paso 3\n",
    "\n",
    "order_statistics = calculate_order_statistics(customer_orders, products) # paso 4\n",
    "\n",
    "print_order_statistics(order_statistics)  # paso 5\n",
    "\n",
    "print_updated_inventory(inventory)    # paso 6\n",
    " "
   ]
  },
  {
   "cell_type": "code",
   "execution_count": 82,
   "id": "b173a590",
   "metadata": {},
   "outputs": [
    {
     "name": "stdout",
     "output_type": "stream",
     "text": [
      "Numero de productos de coche 6\n",
      "Numero de productos de moto 8\n",
      "Numero de productos de camion 3\n",
      "Numero de productos de grua 1\n",
      "Introduce el nombre de un producto.... grua\n",
      "A ver galán, ¿quieres otro producto?yes\n",
      "Introduce el nombre de un producto.... coche\n",
      "A ver galán, ¿quieres otro producto?yes\n",
      "Introduce el nombre de un producto.... moto\n",
      "A ver galán, ¿quieres otro producto?no\n",
      "Total 3\n",
      "Porcen 75.0\n",
      "{'coche': 5, 'moto': 7, 'camion': 3, 'grua': 0}\n",
      "\n",
      "El producto coche tiene 5 elementos\n",
      "El producto moto tiene 7 elementos\n",
      "El producto camion tiene 3 elementos\n",
      "El producto grua tiene 0 elementos\n"
     ]
    }
   ],
   "source": [
    "# Step 7.1\n",
    "\n",
    "products = ['coche', 'moto', 'camion', 'grua']\n",
    "\n",
    "inventory = initialize_inventory(products)   # paso 1\n",
    "\n",
    "customer_orders = get_customer_orders()   # paso 2\n",
    "\n",
    "inventory = update_inventory(inventory, customer_orders)  # paso 3\n",
    "\n",
    "order_statistics = calculate_order_statistics(customer_orders, products) # paso 4\n",
    "\n",
    "print_order_statistics(order_statistics)  # paso 5\n",
    "\n",
    "print_updated_inventory(inventory)    # paso 6\n",
    " "
   ]
  },
  {
   "cell_type": "code",
   "execution_count": 83,
   "id": "3f8780a1",
   "metadata": {},
   "outputs": [
    {
     "name": "stdout",
     "output_type": "stream",
     "text": [
      "8\n"
     ]
    }
   ],
   "source": [
    "x = print(8)"
   ]
  },
  {
   "cell_type": "code",
   "execution_count": 84,
   "id": "924bc294",
   "metadata": {},
   "outputs": [
    {
     "name": "stdout",
     "output_type": "stream",
     "text": [
      "None\n"
     ]
    }
   ],
   "source": [
    "print(x)"
   ]
  },
  {
   "cell_type": "code",
   "execution_count": 85,
   "id": "9c9481cf",
   "metadata": {},
   "outputs": [
    {
     "name": "stdout",
     "output_type": "stream",
     "text": [
      "{'coche': 5, 'moto': 7, 'camion': 3, 'grua': 0}\n",
      "\n",
      "El producto coche tiene 5 elementos\n",
      "El producto moto tiene 7 elementos\n",
      "El producto camion tiene 3 elementos\n",
      "El producto grua tiene 0 elementos\n"
     ]
    }
   ],
   "source": [
    "var = print_updated_inventory(inventory)"
   ]
  },
  {
   "cell_type": "code",
   "execution_count": 86,
   "id": "d0610806",
   "metadata": {},
   "outputs": [
    {
     "name": "stdout",
     "output_type": "stream",
     "text": [
      "None\n"
     ]
    }
   ],
   "source": [
    "print(var)"
   ]
  },
  {
   "cell_type": "code",
   "execution_count": null,
   "id": "cd01ef14",
   "metadata": {},
   "outputs": [],
   "source": []
  }
 ],
 "metadata": {
  "kernelspec": {
   "display_name": "clase",
   "language": "python",
   "name": "clase"
  },
  "language_info": {
   "codemirror_mode": {
    "name": "ipython",
    "version": 3
   },
   "file_extension": ".py",
   "mimetype": "text/x-python",
   "name": "python",
   "nbconvert_exporter": "python",
   "pygments_lexer": "ipython3",
   "version": "3.9.12"
  }
 },
 "nbformat": 4,
 "nbformat_minor": 5
}
