{
 "cells": [
  {
   "cell_type": "markdown",
   "id": "103c8f9f",
   "metadata": {
    "toc": true
   },
   "source": [
    "<h1>Table of Contents<span class=\"tocSkip\"></span></h1>\n",
    "<div class=\"toc\"><ul class=\"toc-item\"><li><span><a href=\"#Prework-review---Data-types-and-Data-structures\" data-toc-modified-id=\"Prework-review---Data-types-and-Data-structures-1\"><span class=\"toc-item-num\">1&nbsp;&nbsp;</span>Prework review - Data types and Data structures</a></span><ul class=\"toc-item\"><li><span><a href=\"#Data-Types\" data-toc-modified-id=\"Data-Types-1.1\"><span class=\"toc-item-num\">1.1&nbsp;&nbsp;</span>Data Types</a></span><ul class=\"toc-item\"><li><span><a href=\"#Arithmetic-Operators\" data-toc-modified-id=\"Arithmetic-Operators-1.1.1\"><span class=\"toc-item-num\">1.1.1&nbsp;&nbsp;</span>Arithmetic Operators</a></span></li><li><span><a href=\"#Assignment-Operators\" data-toc-modified-id=\"Assignment-Operators-1.1.2\"><span class=\"toc-item-num\">1.1.2&nbsp;&nbsp;</span>Assignment Operators</a></span></li><li><span><a href=\"#Comparison-Operators\" data-toc-modified-id=\"Comparison-Operators-1.1.3\"><span class=\"toc-item-num\">1.1.3&nbsp;&nbsp;</span>Comparison Operators</a></span></li><li><span><a href=\"#Logical-Operators\" data-toc-modified-id=\"Logical-Operators-1.1.4\"><span class=\"toc-item-num\">1.1.4&nbsp;&nbsp;</span>Logical Operators</a></span></li><li><span><a href=\"#Data-Type-Compatibility-and-Casting\" data-toc-modified-id=\"Data-Type-Compatibility-and-Casting-1.1.5\"><span class=\"toc-item-num\">1.1.5&nbsp;&nbsp;</span>Data Type Compatibility and Casting</a></span></li></ul></li><li><span><a href=\"#String-methods-and-functions\" data-toc-modified-id=\"String-methods-and-functions-1.2\"><span class=\"toc-item-num\">1.2&nbsp;&nbsp;</span>String methods and functions</a></span><ul class=\"toc-item\"><li><span><a href=\"#Formatting-Strings\" data-toc-modified-id=\"Formatting-Strings-1.2.1\"><span class=\"toc-item-num\">1.2.1&nbsp;&nbsp;</span>Formatting Strings</a></span></li><li><span><a href=\"#Input-and-output-functions\" data-toc-modified-id=\"Input-and-output-functions-1.2.2\"><span class=\"toc-item-num\">1.2.2&nbsp;&nbsp;</span>Input and output functions</a></span></li><li><span><a href=\"#💡-Check-for-understanding\" data-toc-modified-id=\"💡-Check-for-understanding-1.2.3\"><span class=\"toc-item-num\">1.2.3&nbsp;&nbsp;</span>💡 Check for understanding</a></span></li></ul></li><li><span><a href=\"#Data-structures\" data-toc-modified-id=\"Data-structures-1.3\"><span class=\"toc-item-num\">1.3&nbsp;&nbsp;</span>Data structures</a></span><ul class=\"toc-item\"><li><span><a href=\"#Lists\" data-toc-modified-id=\"Lists-1.3.1\"><span class=\"toc-item-num\">1.3.1&nbsp;&nbsp;</span>Lists</a></span><ul class=\"toc-item\"><li><span><a href=\"#Indexing-and-slicing\" data-toc-modified-id=\"Indexing-and-slicing-1.3.1.1\"><span class=\"toc-item-num\">1.3.1.1&nbsp;&nbsp;</span>Indexing and slicing</a></span></li><li><span><a href=\"#Modifying-List-Elements\" data-toc-modified-id=\"Modifying-List-Elements-1.3.1.2\"><span class=\"toc-item-num\">1.3.1.2&nbsp;&nbsp;</span>Modifying List Elements</a></span></li><li><span><a href=\"#List-Operators-and-functions\" data-toc-modified-id=\"List-Operators-and-functions-1.3.1.3\"><span class=\"toc-item-num\">1.3.1.3&nbsp;&nbsp;</span>List Operators and functions</a></span></li><li><span><a href=\"#💡-Check-for-understanding\" data-toc-modified-id=\"💡-Check-for-understanding-1.3.1.4\"><span class=\"toc-item-num\">1.3.1.4&nbsp;&nbsp;</span>💡 Check for understanding</a></span></li></ul></li><li><span><a href=\"#Dictionaries\" data-toc-modified-id=\"Dictionaries-1.3.2\"><span class=\"toc-item-num\">1.3.2&nbsp;&nbsp;</span>Dictionaries</a></span><ul class=\"toc-item\"><li><span><a href=\"#Accessing-values-using-the-keys\" data-toc-modified-id=\"Accessing-values-using-the-keys-1.3.2.1\"><span class=\"toc-item-num\">1.3.2.1&nbsp;&nbsp;</span>Accessing values using the keys</a></span></li><li><span><a href=\"#Adding-and-Modifying-Values\" data-toc-modified-id=\"Adding-and-Modifying-Values-1.3.2.2\"><span class=\"toc-item-num\">1.3.2.2&nbsp;&nbsp;</span>Adding and Modifying Values</a></span></li><li><span><a href=\"#Removing-Values\" data-toc-modified-id=\"Removing-Values-1.3.2.3\"><span class=\"toc-item-num\">1.3.2.3&nbsp;&nbsp;</span>Removing Values</a></span></li><li><span><a href=\"#Checking-Key-Existence\" data-toc-modified-id=\"Checking-Key-Existence-1.3.2.4\"><span class=\"toc-item-num\">1.3.2.4&nbsp;&nbsp;</span>Checking Key Existence</a></span></li><li><span><a href=\"#Dictionary-Methods\" data-toc-modified-id=\"Dictionary-Methods-1.3.2.5\"><span class=\"toc-item-num\">1.3.2.5&nbsp;&nbsp;</span>Dictionary Methods</a></span></li></ul></li><li><span><a href=\"#Sets\" data-toc-modified-id=\"Sets-1.3.3\"><span class=\"toc-item-num\">1.3.3&nbsp;&nbsp;</span>Sets</a></span></li><li><span><a href=\"#Tuples\" data-toc-modified-id=\"Tuples-1.3.4\"><span class=\"toc-item-num\">1.3.4&nbsp;&nbsp;</span>Tuples</a></span></li></ul></li><li><span><a href=\"#Summary\" data-toc-modified-id=\"Summary-1.4\"><span class=\"toc-item-num\">1.4&nbsp;&nbsp;</span>Summary</a></span></li><li><span><a href=\"#💡-Check-for-understanding\" data-toc-modified-id=\"💡-Check-for-understanding-1.5\"><span class=\"toc-item-num\">1.5&nbsp;&nbsp;</span>💡 Check for understanding</a></span></li></ul></li><li><span><a href=\"#Extra:-nested-dictionaries\" data-toc-modified-id=\"Extra:-nested-dictionaries-2\"><span class=\"toc-item-num\">2&nbsp;&nbsp;</span>Extra: nested dictionaries</a></span></li><li><span><a href=\"#Extra:-&quot;is&quot;-vs-&quot;==&quot;\" data-toc-modified-id=\"Extra:-&quot;is&quot;-vs-&quot;==&quot;-3\"><span class=\"toc-item-num\">3&nbsp;&nbsp;</span>Extra: \"is\" vs \"==\"</a></span></li></ul></div>"
   ]
  },
  {
   "cell_type": "markdown",
   "id": "813ac079-1796-4acf-9bd9-90702cb870d8",
   "metadata": {
    "tags": []
   },
   "source": [
    "# Prework review - Data types and Data structures"
   ]
  },
  {
   "cell_type": "markdown",
   "id": "be6c0098-5bdf-44d5-be00-4092f33415eb",
   "metadata": {},
   "source": [
    "## Data Types "
   ]
  },
  {
   "cell_type": "code",
   "execution_count": 39,
   "id": "edd123b9",
   "metadata": {},
   "outputs": [
    {
     "name": "stdout",
     "output_type": "stream",
     "text": [
      "The Zen of Python, by Tim Peters\n",
      "\n",
      "Beautiful is better than ugly.\n",
      "Explicit is better than implicit.\n",
      "Simple is better than complex.\n",
      "Complex is better than complicated.\n",
      "Flat is better than nested.\n",
      "Sparse is better than dense.\n",
      "Readability counts.\n",
      "Special cases aren't special enough to break the rules.\n",
      "Although practicality beats purity.\n",
      "Errors should never pass silently.\n",
      "Unless explicitly silenced.\n",
      "In the face of ambiguity, refuse the temptation to guess.\n",
      "There should be one-- and preferably only one --obvious way to do it.\n",
      "Although that way may not be obvious at first unless you're Dutch.\n",
      "Now is better than never.\n",
      "Although never is often better than *right* now.\n",
      "If the implementation is hard to explain, it's a bad idea.\n",
      "If the implementation is easy to explain, it may be a good idea.\n",
      "Namespaces are one honking great idea -- let's do more of those!\n"
     ]
    }
   ],
   "source": [
    "import this"
   ]
  },
  {
   "cell_type": "markdown",
   "id": "d5aaa7c3",
   "metadata": {},
   "source": [
    "Let's review the fundamental data types in Python:\n",
    "\n",
    "- Integer: Represents whole numbers (e.g., 10, 3, -5, 0).\n",
    "- Float: Represents decimal numbers (e.g., 20.2, 100.2403, -5.50).\n",
    "- String: Represents text or a group of characters (e.g., \"Hello, World!\", \"Python\").\n",
    "- Boolean: Represents either True or False.\n",
    "\n",
    "The `type()` function is used to check the data type of a variable."
   ]
  },
  {
   "cell_type": "code",
   "execution_count": 3,
   "id": "8bdc8664",
   "metadata": {},
   "outputs": [
    {
     "data": {
      "text/plain": [
       "10"
      ]
     },
     "execution_count": 3,
     "metadata": {},
     "output_type": "execute_result"
    }
   ],
   "source": [
    "numero = 10\n",
    "\n",
    "numero    # la ultima fila de la casilla hace print"
   ]
  },
  {
   "cell_type": "code",
   "execution_count": 4,
   "id": "ed543b5b",
   "metadata": {},
   "outputs": [
    {
     "data": {
      "text/plain": [
       "int"
      ]
     },
     "execution_count": 4,
     "metadata": {},
     "output_type": "execute_result"
    }
   ],
   "source": [
    "type(numero)"
   ]
  },
  {
   "cell_type": "code",
   "execution_count": 5,
   "id": "bb9320b2",
   "metadata": {},
   "outputs": [
    {
     "data": {
      "text/plain": [
       "3.14215926535"
      ]
     },
     "execution_count": 5,
     "metadata": {},
     "output_type": "execute_result"
    }
   ],
   "source": [
    "real = 3.14215926535  #pi, numero real, float\n",
    "\n",
    "real"
   ]
  },
  {
   "cell_type": "code",
   "execution_count": 6,
   "id": "ec951fe5",
   "metadata": {},
   "outputs": [
    {
     "data": {
      "text/plain": [
       "float"
      ]
     },
     "execution_count": 6,
     "metadata": {},
     "output_type": "execute_result"
    }
   ],
   "source": [
    "type(real)"
   ]
  },
  {
   "cell_type": "code",
   "execution_count": 10,
   "id": "63c50c28",
   "metadata": {},
   "outputs": [
    {
     "data": {
      "text/plain": [
       "\"Moe's  3.1234 50\""
      ]
     },
     "execution_count": 10,
     "metadata": {},
     "output_type": "execute_result"
    }
   ],
   "source": [
    "texto = \"Moe's  3.1234 50\"\n",
    "\n",
    "texto"
   ]
  },
  {
   "cell_type": "code",
   "execution_count": 11,
   "id": "4f90e3fa",
   "metadata": {},
   "outputs": [
    {
     "data": {
      "text/plain": [
       "str"
      ]
     },
     "execution_count": 11,
     "metadata": {},
     "output_type": "execute_result"
    }
   ],
   "source": [
    "type(texto)"
   ]
  },
  {
   "cell_type": "code",
   "execution_count": 12,
   "id": "a6552728",
   "metadata": {},
   "outputs": [
    {
     "data": {
      "text/plain": [
       "True"
      ]
     },
     "execution_count": 12,
     "metadata": {},
     "output_type": "execute_result"
    }
   ],
   "source": [
    "booleano = True\n",
    "\n",
    "booleano"
   ]
  },
  {
   "cell_type": "code",
   "execution_count": 13,
   "id": "aead31ed",
   "metadata": {},
   "outputs": [
    {
     "ename": "SyntaxError",
     "evalue": "cannot assign to True (3315852939.py, line 1)",
     "output_type": "error",
     "traceback": [
      "\u001b[0;36m  Cell \u001b[0;32mIn[13], line 1\u001b[0;36m\u001b[0m\n\u001b[0;31m    True = 0\u001b[0m\n\u001b[0m    ^\u001b[0m\n\u001b[0;31mSyntaxError\u001b[0m\u001b[0;31m:\u001b[0m cannot assign to True\n"
     ]
    }
   ],
   "source": [
    "True = 0"
   ]
  },
  {
   "cell_type": "code",
   "execution_count": 14,
   "id": "dbfefb18",
   "metadata": {},
   "outputs": [
    {
     "data": {
      "text/plain": [
       "bool"
      ]
     },
     "execution_count": 14,
     "metadata": {},
     "output_type": "execute_result"
    }
   ],
   "source": [
    "type(booleano)"
   ]
  },
  {
   "cell_type": "code",
   "execution_count": 15,
   "id": "eef61c8c",
   "metadata": {},
   "outputs": [
    {
     "data": {
      "text/plain": [
       "str"
      ]
     },
     "execution_count": 15,
     "metadata": {},
     "output_type": "execute_result"
    }
   ],
   "source": [
    "texto = 'True'\n",
    "\n",
    "type(texto)"
   ]
  },
  {
   "cell_type": "markdown",
   "id": "16dc4a43-6f9d-4f8d-b946-3fb5e67d4cb3",
   "metadata": {},
   "source": [
    "**Observation**"
   ]
  },
  {
   "cell_type": "markdown",
   "id": "38f2e106-8493-4df2-bd0c-9156462ea18b",
   "metadata": {},
   "source": [
    "In Python, Boolean values (True and False) are implicitly treated as integers, with True being equivalent to 1 and False being equivalent to 0."
   ]
  },
  {
   "cell_type": "code",
   "execution_count": 16,
   "id": "ad6316eb-49ee-4e30-8160-ffa29594fdba",
   "metadata": {},
   "outputs": [
    {
     "data": {
      "text/plain": [
       "4"
      ]
     },
     "execution_count": 16,
     "metadata": {},
     "output_type": "execute_result"
    }
   ],
   "source": [
    "int(4.14)"
   ]
  },
  {
   "cell_type": "code",
   "execution_count": 17,
   "id": "c111bfd0",
   "metadata": {
    "scrolled": true
   },
   "outputs": [
    {
     "data": {
      "text/plain": [
       "1"
      ]
     },
     "execution_count": 17,
     "metadata": {},
     "output_type": "execute_result"
    }
   ],
   "source": [
    "int(True)"
   ]
  },
  {
   "cell_type": "code",
   "execution_count": 18,
   "id": "51ff6f0d",
   "metadata": {},
   "outputs": [
    {
     "data": {
      "text/plain": [
       "0"
      ]
     },
     "execution_count": 18,
     "metadata": {},
     "output_type": "execute_result"
    }
   ],
   "source": [
    "int(False)"
   ]
  },
  {
   "cell_type": "markdown",
   "id": "3fae62dd-08db-4d54-a95f-8eb673ebba9b",
   "metadata": {},
   "source": [
    "### Arithmetic Operators "
   ]
  },
  {
   "cell_type": "markdown",
   "id": "1295c68f-a366-4459-80ab-bbc8502842f4",
   "metadata": {},
   "source": [
    "Arithmetic operators are used to perform mathematical calculations on numeric data types.\n",
    "- (+): Adds values.\n",
    "- (-): Subtracts values.\n",
    "- (*): Multiplies values.\n",
    "- (/): Divides values.\n",
    "- (//): Performs integer division.\n",
    "- (%): Returns remainder of division.\n",
    "- (**): Raises a value to a power.\n",
    "\n",
    "Arithmetic operators on strings in Python:\n",
    "\n",
    "- Addition (+): Concatenates two strings.\n",
    "- Multiplication (*): Repeats a string.\n",
    "- Others (-, /, %, **): Not applicable to strings."
   ]
  },
  {
   "cell_type": "code",
   "execution_count": 20,
   "id": "1f81cece",
   "metadata": {},
   "outputs": [
    {
     "name": "stdout",
     "output_type": "stream",
     "text": [
      "9\n"
     ]
    }
   ],
   "source": [
    "# sumar\n",
    "\n",
    "a = 3 + 6\n",
    "\n",
    "\n",
    "print(a)"
   ]
  },
  {
   "cell_type": "code",
   "execution_count": 21,
   "id": "f9e997ab",
   "metadata": {},
   "outputs": [
    {
     "data": {
      "text/plain": [
       "-3"
      ]
     },
     "execution_count": 21,
     "metadata": {},
     "output_type": "execute_result"
    }
   ],
   "source": [
    "# restar \n",
    "\n",
    "3 - 6"
   ]
  },
  {
   "cell_type": "code",
   "execution_count": 22,
   "id": "026306c4",
   "metadata": {},
   "outputs": [
    {
     "data": {
      "text/plain": [
       "18"
      ]
     },
     "execution_count": 22,
     "metadata": {},
     "output_type": "execute_result"
    }
   ],
   "source": [
    "# multiplicar\n",
    "\n",
    "3 * 6"
   ]
  },
  {
   "cell_type": "code",
   "execution_count": 23,
   "id": "0d46a393",
   "metadata": {},
   "outputs": [
    {
     "data": {
      "text/plain": [
       "0.5"
      ]
     },
     "execution_count": 23,
     "metadata": {},
     "output_type": "execute_result"
    }
   ],
   "source": [
    "# dividir\n",
    "\n",
    "3 / 6"
   ]
  },
  {
   "cell_type": "code",
   "execution_count": 24,
   "id": "cbb6d852",
   "metadata": {},
   "outputs": [
    {
     "data": {
      "text/plain": [
       "8"
      ]
     },
     "execution_count": 24,
     "metadata": {},
     "output_type": "execute_result"
    }
   ],
   "source": [
    "# potencia / raiz\n",
    "\n",
    "2 ** 3"
   ]
  },
  {
   "cell_type": "code",
   "execution_count": 26,
   "id": "d123ac90",
   "metadata": {},
   "outputs": [
    {
     "data": {
      "text/plain": [
       "1.4142135623730951"
      ]
     },
     "execution_count": 26,
     "metadata": {},
     "output_type": "execute_result"
    }
   ],
   "source": [
    "2 ** (0.5)  # raiz cuadrada de 2"
   ]
  },
  {
   "cell_type": "code",
   "execution_count": 27,
   "id": "6415320e",
   "metadata": {},
   "outputs": [
    {
     "data": {
      "text/plain": [
       "6.666666666666667"
      ]
     },
     "execution_count": 27,
     "metadata": {},
     "output_type": "execute_result"
    }
   ],
   "source": [
    "# division entera\n",
    "\n",
    "20 / 3"
   ]
  },
  {
   "cell_type": "code",
   "execution_count": 28,
   "id": "53a7ec45",
   "metadata": {},
   "outputs": [
    {
     "data": {
      "text/plain": [
       "6"
      ]
     },
     "execution_count": 28,
     "metadata": {},
     "output_type": "execute_result"
    }
   ],
   "source": [
    "20 // 3"
   ]
  },
  {
   "cell_type": "code",
   "execution_count": 29,
   "id": "fe37f3d1-149f-41f4-8c17-f1580420bea8",
   "metadata": {},
   "outputs": [
    {
     "data": {
      "text/plain": [
       "2"
      ]
     },
     "execution_count": 29,
     "metadata": {},
     "output_type": "execute_result"
    }
   ],
   "source": [
    "# modulo, resto de la division\n",
    "\n",
    "20 % 3"
   ]
  },
  {
   "cell_type": "markdown",
   "id": "904d03ac-4898-4aab-94d0-9aad79085c3e",
   "metadata": {},
   "source": [
    "### Assignment Operators"
   ]
  },
  {
   "cell_type": "markdown",
   "id": "6fb64855-9d00-4334-bb57-0c6006b24f7e",
   "metadata": {},
   "source": [
    "Assignment operators in Python are used to assign values to variables. They combine the assignment (=) operator with other operators (e.g., +=, -=, *=) to perform arithmetic or logical operations while assigning the result back to the variable."
   ]
  },
  {
   "cell_type": "raw",
   "id": "e65564b1",
   "metadata": {},
   "source": [
    "x += 3  is equivalent to x = x + 3"
   ]
  },
  {
   "cell_type": "code",
   "execution_count": 30,
   "id": "afe60028",
   "metadata": {},
   "outputs": [
    {
     "data": {
      "text/plain": [
       "4"
      ]
     },
     "execution_count": 30,
     "metadata": {},
     "output_type": "execute_result"
    }
   ],
   "source": [
    "numero = 4\n",
    "\n",
    "numero"
   ]
  },
  {
   "cell_type": "code",
   "execution_count": 31,
   "id": "cba25197",
   "metadata": {},
   "outputs": [
    {
     "data": {
      "text/plain": [
       "14"
      ]
     },
     "execution_count": 31,
     "metadata": {},
     "output_type": "execute_result"
    }
   ],
   "source": [
    "numero + 10"
   ]
  },
  {
   "cell_type": "code",
   "execution_count": 32,
   "id": "f4b88fdd",
   "metadata": {},
   "outputs": [
    {
     "data": {
      "text/plain": [
       "4"
      ]
     },
     "execution_count": 32,
     "metadata": {},
     "output_type": "execute_result"
    }
   ],
   "source": [
    "numero"
   ]
  },
  {
   "cell_type": "code",
   "execution_count": 33,
   "id": "cbdd6669-b0a7-4384-a71e-67ee5a4b50f4",
   "metadata": {},
   "outputs": [
    {
     "data": {
      "text/plain": [
       "14"
      ]
     },
     "execution_count": 33,
     "metadata": {},
     "output_type": "execute_result"
    }
   ],
   "source": [
    "numero = numero + 10\n",
    "\n",
    "numero "
   ]
  },
  {
   "cell_type": "code",
   "execution_count": 34,
   "id": "1ade94f1",
   "metadata": {},
   "outputs": [],
   "source": [
    "numero += 4"
   ]
  },
  {
   "cell_type": "code",
   "execution_count": 35,
   "id": "5d3ef0cd",
   "metadata": {},
   "outputs": [
    {
     "data": {
      "text/plain": [
       "18"
      ]
     },
     "execution_count": 35,
     "metadata": {},
     "output_type": "execute_result"
    }
   ],
   "source": [
    "numero "
   ]
  },
  {
   "cell_type": "code",
   "execution_count": 36,
   "id": "518decf3",
   "metadata": {},
   "outputs": [
    {
     "data": {
      "text/plain": [
       "36"
      ]
     },
     "execution_count": 36,
     "metadata": {},
     "output_type": "execute_result"
    }
   ],
   "source": [
    "numero *= 2\n",
    "\n",
    "numero "
   ]
  },
  {
   "cell_type": "code",
   "execution_count": 37,
   "id": "42b812a5",
   "metadata": {},
   "outputs": [
    {
     "data": {
      "text/plain": [
       "12.0"
      ]
     },
     "execution_count": 37,
     "metadata": {},
     "output_type": "execute_result"
    }
   ],
   "source": [
    "numero /= 3\n",
    "\n",
    "numero "
   ]
  },
  {
   "cell_type": "code",
   "execution_count": 38,
   "id": "42551d4c",
   "metadata": {},
   "outputs": [
    {
     "data": {
      "text/plain": [
       "10.0"
      ]
     },
     "execution_count": 38,
     "metadata": {},
     "output_type": "execute_result"
    }
   ],
   "source": [
    "numero -= 2\n",
    "\n",
    "numero "
   ]
  },
  {
   "cell_type": "markdown",
   "id": "949f7813-a73e-45ee-996a-165eac50c507",
   "metadata": {},
   "source": [
    "### Comparison Operators"
   ]
  },
  {
   "cell_type": "markdown",
   "id": "4930ea0e-10f2-4df0-973d-60255aa027bf",
   "metadata": {},
   "source": [
    "Comparison operators in Python are used to compare values and return a boolean result (True or False). They include operators such as == (equal to), != (not equal to), > (greater than), < (less than), >= (greater than or equal to), and <= (less than or equal to).\n"
   ]
  },
  {
   "cell_type": "code",
   "execution_count": 40,
   "id": "636e893c",
   "metadata": {},
   "outputs": [],
   "source": [
    "a = 9\n",
    "\n",
    "b = 5"
   ]
  },
  {
   "cell_type": "code",
   "execution_count": 43,
   "id": "9f27ade4",
   "metadata": {},
   "outputs": [
    {
     "data": {
      "text/plain": [
       "False"
      ]
     },
     "execution_count": 43,
     "metadata": {},
     "output_type": "execute_result"
    }
   ],
   "source": [
    "a == b   # ¿a es igual que b?"
   ]
  },
  {
   "cell_type": "code",
   "execution_count": 44,
   "id": "096c2525",
   "metadata": {},
   "outputs": [
    {
     "data": {
      "text/plain": [
       "True"
      ]
     },
     "execution_count": 44,
     "metadata": {},
     "output_type": "execute_result"
    }
   ],
   "source": [
    "a > b"
   ]
  },
  {
   "cell_type": "code",
   "execution_count": 45,
   "id": "90461a6f",
   "metadata": {},
   "outputs": [
    {
     "data": {
      "text/plain": [
       "True"
      ]
     },
     "execution_count": 45,
     "metadata": {},
     "output_type": "execute_result"
    }
   ],
   "source": [
    "a >= b"
   ]
  },
  {
   "cell_type": "code",
   "execution_count": 46,
   "id": "05c1d52c",
   "metadata": {},
   "outputs": [
    {
     "data": {
      "text/plain": [
       "False"
      ]
     },
     "execution_count": 46,
     "metadata": {},
     "output_type": "execute_result"
    }
   ],
   "source": [
    "a <= b"
   ]
  },
  {
   "cell_type": "code",
   "execution_count": 47,
   "id": "48c78ab2-c2ba-4792-af74-673d05cc06bb",
   "metadata": {},
   "outputs": [
    {
     "data": {
      "text/plain": [
       "True"
      ]
     },
     "execution_count": 47,
     "metadata": {},
     "output_type": "execute_result"
    }
   ],
   "source": [
    "a != b"
   ]
  },
  {
   "cell_type": "markdown",
   "id": "561b79f4-6ebe-46ac-953c-2e67084eb528",
   "metadata": {},
   "source": [
    "### Logical Operators"
   ]
  },
  {
   "cell_type": "markdown",
   "id": "ddeabd60-2024-4ac4-ab74-2636d5397a8b",
   "metadata": {},
   "source": [
    "Python's logical operators allow you to manipulate logical values (True or False) and make decisions based on conditions. The three logical operators in Python are:\n",
    "\n",
    "- `and`: Returns True if both conditions are True, otherwise False.\n",
    "- `or`: Returns True if at least one condition is True, otherwise False.\n",
    "- `not`: Negates the logical value of a condition."
   ]
  },
  {
   "cell_type": "code",
   "execution_count": 51,
   "id": "358ff59a-ace0-4cc5-840a-f1112835bf05",
   "metadata": {},
   "outputs": [
    {
     "data": {
      "text/plain": [
       "True"
      ]
     },
     "execution_count": 51,
     "metadata": {},
     "output_type": "execute_result"
    }
   ],
   "source": [
    "a < 80 and b > 0"
   ]
  },
  {
   "cell_type": "code",
   "execution_count": 55,
   "id": "2ebc6fe9",
   "metadata": {},
   "outputs": [
    {
     "data": {
      "text/plain": [
       "False"
      ]
     },
     "execution_count": 55,
     "metadata": {},
     "output_type": "execute_result"
    }
   ],
   "source": [
    "True and False"
   ]
  },
  {
   "cell_type": "code",
   "execution_count": 57,
   "id": "0700942a",
   "metadata": {},
   "outputs": [
    {
     "data": {
      "text/plain": [
       "False"
      ]
     },
     "execution_count": 57,
     "metadata": {},
     "output_type": "execute_result"
    }
   ],
   "source": [
    "a > 80 or b > 0"
   ]
  },
  {
   "cell_type": "code",
   "execution_count": 60,
   "id": "64f26df1",
   "metadata": {},
   "outputs": [
    {
     "data": {
      "text/plain": [
       "False"
      ]
     },
     "execution_count": 60,
     "metadata": {},
     "output_type": "execute_result"
    }
   ],
   "source": [
    "False or False"
   ]
  },
  {
   "cell_type": "code",
   "execution_count": 62,
   "id": "ade94df9",
   "metadata": {},
   "outputs": [
    {
     "data": {
      "text/plain": [
       "False"
      ]
     },
     "execution_count": 62,
     "metadata": {},
     "output_type": "execute_result"
    }
   ],
   "source": [
    "not True"
   ]
  },
  {
   "cell_type": "code",
   "execution_count": 63,
   "id": "1b53a6d5",
   "metadata": {},
   "outputs": [
    {
     "data": {
      "text/plain": [
       "True"
      ]
     },
     "execution_count": 63,
     "metadata": {},
     "output_type": "execute_result"
    }
   ],
   "source": [
    "not False"
   ]
  },
  {
   "cell_type": "code",
   "execution_count": 64,
   "id": "bc7a4786",
   "metadata": {},
   "outputs": [
    {
     "data": {
      "text/plain": [
       "90"
      ]
     },
     "execution_count": 64,
     "metadata": {},
     "output_type": "execute_result"
    }
   ],
   "source": [
    "a = 90\n",
    "\n",
    "a"
   ]
  },
  {
   "cell_type": "markdown",
   "id": "d696bfa4-d486-4b91-a715-1c5215b499e5",
   "metadata": {
    "tags": []
   },
   "source": [
    "### Data Type Compatibility and Casting"
   ]
  },
  {
   "cell_type": "markdown",
   "id": "3c8aa343-4b83-4b25-a4db-6d982a136003",
   "metadata": {},
   "source": [
    "Different data types in Python have specific rules for how they can be used together. Performing operations with incompatible data types can result in errors if the computer doesn't know how to perform it. "
   ]
  },
  {
   "cell_type": "code",
   "execution_count": 65,
   "id": "d9bab9cb",
   "metadata": {},
   "outputs": [
    {
     "data": {
      "text/plain": [
       "1.5"
      ]
     },
     "execution_count": 65,
     "metadata": {},
     "output_type": "execute_result"
    }
   ],
   "source": [
    "1 + 0.5"
   ]
  },
  {
   "cell_type": "code",
   "execution_count": 66,
   "id": "91c334e1",
   "metadata": {},
   "outputs": [
    {
     "ename": "TypeError",
     "evalue": "unsupported operand type(s) for +: 'int' and 'str'",
     "output_type": "error",
     "traceback": [
      "\u001b[0;31m---------------------------------------------------------------------------\u001b[0m",
      "\u001b[0;31mTypeError\u001b[0m                                 Traceback (most recent call last)",
      "Cell \u001b[0;32mIn[66], line 1\u001b[0m\n\u001b[0;32m----> 1\u001b[0m \u001b[38;5;241;43m1\u001b[39;49m\u001b[43m \u001b[49m\u001b[38;5;241;43m+\u001b[39;49m\u001b[43m \u001b[49m\u001b[38;5;124;43m'\u001b[39;49m\u001b[38;5;124;43m56\u001b[39;49m\u001b[38;5;124;43m'\u001b[39;49m\n",
      "\u001b[0;31mTypeError\u001b[0m: unsupported operand type(s) for +: 'int' and 'str'"
     ]
    }
   ],
   "source": [
    "1 + '56'"
   ]
  },
  {
   "cell_type": "code",
   "execution_count": 67,
   "id": "ce06aafe",
   "metadata": {},
   "outputs": [
    {
     "data": {
      "text/plain": [
       "'hola que tal?'"
      ]
     },
     "execution_count": 67,
     "metadata": {},
     "output_type": "execute_result"
    }
   ],
   "source": [
    "'hola ' + 'que tal?'"
   ]
  },
  {
   "cell_type": "code",
   "execution_count": 68,
   "id": "80fc4ae6",
   "metadata": {},
   "outputs": [
    {
     "ename": "TypeError",
     "evalue": "unsupported operand type(s) for -: 'str' and 'str'",
     "output_type": "error",
     "traceback": [
      "\u001b[0;31m---------------------------------------------------------------------------\u001b[0m",
      "\u001b[0;31mTypeError\u001b[0m                                 Traceback (most recent call last)",
      "Cell \u001b[0;32mIn[68], line 1\u001b[0m\n\u001b[0;32m----> 1\u001b[0m \u001b[38;5;124;43m'\u001b[39;49m\u001b[38;5;124;43mhola\u001b[39;49m\u001b[38;5;124;43m'\u001b[39;49m\u001b[43m \u001b[49m\u001b[38;5;241;43m-\u001b[39;49m\u001b[43m \u001b[49m\u001b[38;5;124;43m'\u001b[39;49m\u001b[38;5;124;43mh\u001b[39;49m\u001b[38;5;124;43m'\u001b[39;49m\n",
      "\u001b[0;31mTypeError\u001b[0m: unsupported operand type(s) for -: 'str' and 'str'"
     ]
    }
   ],
   "source": [
    "'hola' - 'h'"
   ]
  },
  {
   "cell_type": "code",
   "execution_count": 70,
   "id": "533d0ad6",
   "metadata": {},
   "outputs": [
    {
     "data": {
      "text/plain": [
       "'hola hola '"
      ]
     },
     "execution_count": 70,
     "metadata": {},
     "output_type": "execute_result"
    }
   ],
   "source": [
    "'hola ' * 2"
   ]
  },
  {
   "cell_type": "markdown",
   "id": "edf71839-14e4-4f6d-a856-0968ea7b0dab",
   "metadata": {},
   "source": [
    "Data type casting in Python allows you to convert values from one type to another, as long as the computer knows how to do it (as long as it makes sense to do so). You can use the following functions for type conversion:\n",
    "\n",
    "- `int()`: Converts a value to an integer.\n",
    "- `float()`: Converts a value to a float.\n",
    "- `str()`: Converts a value to a string.\n",
    "- `bool()`: Converts a value to a boolean."
   ]
  },
  {
   "cell_type": "code",
   "execution_count": 72,
   "id": "b49b25cd",
   "metadata": {},
   "outputs": [
    {
     "data": {
      "text/plain": [
       "90.0"
      ]
     },
     "execution_count": 72,
     "metadata": {},
     "output_type": "execute_result"
    }
   ],
   "source": [
    "# enteros a reales (int to float)\n",
    "\n",
    "\n",
    "x = 90\n",
    "\n",
    "float(x)"
   ]
  },
  {
   "cell_type": "code",
   "execution_count": 75,
   "id": "2d54a410",
   "metadata": {},
   "outputs": [
    {
     "data": {
      "text/plain": [
       "3"
      ]
     },
     "execution_count": 75,
     "metadata": {},
     "output_type": "execute_result"
    }
   ],
   "source": [
    "# de real a entero\n",
    "\n",
    "x = 3.945677\n",
    "\n",
    "int(x)   # trunca"
   ]
  },
  {
   "cell_type": "code",
   "execution_count": 76,
   "id": "86f0a27e",
   "metadata": {},
   "outputs": [
    {
     "data": {
      "text/plain": [
       "4"
      ]
     },
     "execution_count": 76,
     "metadata": {},
     "output_type": "execute_result"
    }
   ],
   "source": [
    "# redondeo\n",
    "\n",
    "round(x)"
   ]
  },
  {
   "cell_type": "code",
   "execution_count": 81,
   "id": "01eef247",
   "metadata": {},
   "outputs": [
    {
     "data": {
      "text/plain": [
       "6"
      ]
     },
     "execution_count": 81,
     "metadata": {},
     "output_type": "execute_result"
    }
   ],
   "source": [
    "x = 5.5781\n",
    "\n",
    "\n",
    "round(x)"
   ]
  },
  {
   "cell_type": "code",
   "execution_count": 82,
   "id": "a9063e15",
   "metadata": {},
   "outputs": [
    {
     "data": {
      "text/plain": [
       "5.578"
      ]
     },
     "execution_count": 82,
     "metadata": {},
     "output_type": "execute_result"
    }
   ],
   "source": [
    "round(x, 3)"
   ]
  },
  {
   "cell_type": "code",
   "execution_count": 83,
   "id": "b149e36d",
   "metadata": {},
   "outputs": [
    {
     "data": {
      "text/plain": [
       "6"
      ]
     },
     "execution_count": 83,
     "metadata": {},
     "output_type": "execute_result"
    }
   ],
   "source": [
    "x = 5.5\n",
    "\n",
    "round(x)"
   ]
  },
  {
   "cell_type": "markdown",
   "id": "a8cbf612-31f9-4eb6-88ae-72e89fd9fa6b",
   "metadata": {
    "tags": []
   },
   "source": [
    "## String methods and functions"
   ]
  },
  {
   "cell_type": "code",
   "execution_count": 84,
   "id": "a11498db",
   "metadata": {},
   "outputs": [
    {
     "data": {
      "text/plain": [
       "'Hola alegre, como te va?'"
      ]
     },
     "execution_count": 84,
     "metadata": {},
     "output_type": "execute_result"
    }
   ],
   "source": [
    "texto = 'Hola alegre, como te va?'\n",
    "\n",
    "texto"
   ]
  },
  {
   "cell_type": "code",
   "execution_count": 85,
   "id": "047bc022",
   "metadata": {},
   "outputs": [
    {
     "data": {
      "text/plain": [
       "24"
      ]
     },
     "execution_count": 85,
     "metadata": {},
     "output_type": "execute_result"
    }
   ],
   "source": [
    "len(texto)   # longitud del texto"
   ]
  },
  {
   "cell_type": "code",
   "execution_count": 87,
   "id": "04ed9025",
   "metadata": {},
   "outputs": [
    {
     "data": {
      "text/plain": [
       "'hola alegre, como te va?'"
      ]
     },
     "execution_count": 87,
     "metadata": {},
     "output_type": "execute_result"
    }
   ],
   "source": [
    "texto.lower()"
   ]
  },
  {
   "cell_type": "code",
   "execution_count": 88,
   "id": "d3c39a54",
   "metadata": {},
   "outputs": [
    {
     "data": {
      "text/plain": [
       "'HOLA ALEGRE, COMO TE VA?'"
      ]
     },
     "execution_count": 88,
     "metadata": {},
     "output_type": "execute_result"
    }
   ],
   "source": [
    "texto.upper()"
   ]
  },
  {
   "cell_type": "code",
   "execution_count": 89,
   "id": "ee43a33c",
   "metadata": {},
   "outputs": [
    {
     "data": {
      "text/plain": [
       "'Hola Alegre, Como Te Va?'"
      ]
     },
     "execution_count": 89,
     "metadata": {},
     "output_type": "execute_result"
    }
   ],
   "source": [
    "texto.title()"
   ]
  },
  {
   "cell_type": "code",
   "execution_count": 91,
   "id": "b98693ef",
   "metadata": {},
   "outputs": [
    {
     "data": {
      "text/plain": [
       "'Hola alegre, como te va?'"
      ]
     },
     "execution_count": 91,
     "metadata": {},
     "output_type": "execute_result"
    }
   ],
   "source": [
    "texto.lower().capitalize()"
   ]
  },
  {
   "cell_type": "code",
   "execution_count": 94,
   "id": "3825dd52-176e-4b08-8f5a-72a7e855246d",
   "metadata": {
    "scrolled": true
   },
   "outputs": [
    {
     "data": {
      "text/plain": [
       "'Hola_alegre,_como_te_va?'"
      ]
     },
     "execution_count": 94,
     "metadata": {},
     "output_type": "execute_result"
    }
   ],
   "source": [
    "texto.replace(' ', '_')   # primero lo que hay, luego lo que quiero"
   ]
  },
  {
   "cell_type": "code",
   "execution_count": 95,
   "id": "dac6bdc3",
   "metadata": {},
   "outputs": [
    {
     "data": {
      "text/plain": [
       "'Holaalegre,comoteva?'"
      ]
     },
     "execution_count": 95,
     "metadata": {},
     "output_type": "execute_result"
    }
   ],
   "source": [
    "texto.replace(' ', '') "
   ]
  },
  {
   "cell_type": "code",
   "execution_count": 97,
   "id": "f4b9f659",
   "metadata": {},
   "outputs": [
    {
     "data": {
      "text/plain": [
       "['Hola', 'alegre,', 'como', 'te', 'va?']"
      ]
     },
     "execution_count": 97,
     "metadata": {},
     "output_type": "execute_result"
    }
   ],
   "source": [
    "texto.split()   # convierte texto a lista, por defecto es el espacio"
   ]
  },
  {
   "cell_type": "code",
   "execution_count": 98,
   "id": "3de18c90",
   "metadata": {},
   "outputs": [
    {
     "data": {
      "text/plain": [
       "['Hola al', 'gr', ', como t', ' va?']"
      ]
     },
     "execution_count": 98,
     "metadata": {},
     "output_type": "execute_result"
    }
   ],
   "source": [
    "texto.split('e')"
   ]
  },
  {
   "cell_type": "code",
   "execution_count": 99,
   "id": "5f682e7b",
   "metadata": {},
   "outputs": [
    {
     "data": {
      "text/plain": [
       "list"
      ]
     },
     "execution_count": 99,
     "metadata": {},
     "output_type": "execute_result"
    }
   ],
   "source": [
    "lista = texto.split()\n",
    "\n",
    "type(lista)"
   ]
  },
  {
   "cell_type": "code",
   "execution_count": 100,
   "id": "be9c4f47",
   "metadata": {},
   "outputs": [
    {
     "data": {
      "text/plain": [
       "'Hola💃alegre,💃como💃te💃va?'"
      ]
     },
     "execution_count": 100,
     "metadata": {},
     "output_type": "execute_result"
    }
   ],
   "source": [
    "'💃'.join(lista)"
   ]
  },
  {
   "cell_type": "code",
   "execution_count": 103,
   "id": "39d0be30",
   "metadata": {},
   "outputs": [
    {
     "data": {
      "text/plain": [
       "True"
      ]
     },
     "execution_count": 103,
     "metadata": {},
     "output_type": "execute_result"
    }
   ],
   "source": [
    "texto.startswith('Hol')"
   ]
  },
  {
   "cell_type": "code",
   "execution_count": 104,
   "id": "b358eba2",
   "metadata": {},
   "outputs": [
    {
     "data": {
      "text/plain": [
       "False"
      ]
     },
     "execution_count": 104,
     "metadata": {},
     "output_type": "execute_result"
    }
   ],
   "source": [
    "texto.endswith('Hol')"
   ]
  },
  {
   "cell_type": "code",
   "execution_count": 105,
   "id": "c737b202",
   "metadata": {},
   "outputs": [
    {
     "data": {
      "text/plain": [
       "True"
      ]
     },
     "execution_count": 105,
     "metadata": {},
     "output_type": "execute_result"
    }
   ],
   "source": [
    "texto.endswith('?')"
   ]
  },
  {
   "cell_type": "code",
   "execution_count": 108,
   "id": "e963d8c0",
   "metadata": {},
   "outputs": [
    {
     "data": {
      "text/plain": [
       "3"
      ]
     },
     "execution_count": 108,
     "metadata": {},
     "output_type": "execute_result"
    }
   ],
   "source": [
    "texto.count('e')"
   ]
  },
  {
   "cell_type": "code",
   "execution_count": 109,
   "id": "100096d5",
   "metadata": {},
   "outputs": [],
   "source": [
    "#help(str)"
   ]
  },
  {
   "cell_type": "code",
   "execution_count": 111,
   "id": "93fbcf58",
   "metadata": {},
   "outputs": [],
   "source": [
    "#help(int)"
   ]
  },
  {
   "cell_type": "code",
   "execution_count": 113,
   "id": "648e5ef2",
   "metadata": {},
   "outputs": [],
   "source": [
    "#help(list)"
   ]
  },
  {
   "cell_type": "markdown",
   "id": "c8e5fa40-7c11-4e77-9fd1-9dc90aa9dc99",
   "metadata": {},
   "source": [
    "### Formatting Strings"
   ]
  },
  {
   "cell_type": "markdown",
   "id": "e4962711-4fa0-45b3-b486-43ca59736b9a",
   "metadata": {},
   "source": [
    "Let's look at different ways to format strings in Python. String formatting allows you to incorporate variables or values into a string in a structured and readable manner.\n",
    "\n",
    "We'll look at three ways:\n",
    "\n",
    "1. The first example uses f-strings (formatted string literals), denoted by the 'f' at the beginning of the string. Inside the curly braces, you can include variables or expressions that will be evaluated and replaced with their respective values when the string is created."
   ]
  },
  {
   "cell_type": "code",
   "execution_count": 116,
   "id": "39b2c29a-31ed-4473-9d59-923144e99631",
   "metadata": {},
   "outputs": [
    {
     "data": {
      "text/plain": [
       "'Hola, mi nombre es Yona'"
      ]
     },
     "execution_count": 116,
     "metadata": {},
     "output_type": "execute_result"
    }
   ],
   "source": [
    "name = 'Yona'\n",
    "\n",
    "f'Hola, mi nombre es {name}'   # f delante, f de format"
   ]
  },
  {
   "cell_type": "markdown",
   "id": "22e6bc39-2e31-4c25-8e59-555351158f56",
   "metadata": {},
   "source": [
    "2. The second example uses the `format` method to insert the value of the variable `name` into the string. Within the string, you will find a placeholder `{}` where the value will be placed. The `format` method is called on the string and takes the value to be inserted as an argument."
   ]
  },
  {
   "cell_type": "code",
   "execution_count": 117,
   "id": "c1de1fa8-6f77-4d63-b891-0af08348848b",
   "metadata": {},
   "outputs": [
    {
     "data": {
      "text/plain": [
       "'Hola, mi nombre es Yooooo'"
      ]
     },
     "execution_count": 117,
     "metadata": {},
     "output_type": "execute_result"
    }
   ],
   "source": [
    "'Hola, mi nombre es {}'.format('Yooooo')"
   ]
  },
  {
   "cell_type": "markdown",
   "id": "af664ac1-bc02-4910-9acf-6073796cd6c3",
   "metadata": {},
   "source": [
    "3. The third example demonstrates simple concatenation. The string \"Hello my name is\" is concatenated with a space and the variable `name` using the `+` operator."
   ]
  },
  {
   "cell_type": "code",
   "execution_count": 118,
   "id": "b6520eb5-93fe-4eed-ad2f-4c311bf94c90",
   "metadata": {},
   "outputs": [
    {
     "data": {
      "text/plain": [
       "'Yona'"
      ]
     },
     "execution_count": 118,
     "metadata": {},
     "output_type": "execute_result"
    }
   ],
   "source": [
    "name"
   ]
  },
  {
   "cell_type": "code",
   "execution_count": 120,
   "id": "93928821",
   "metadata": {},
   "outputs": [
    {
     "data": {
      "text/plain": [
       "'Hola, mi nombre es Yona. Como estas?'"
      ]
     },
     "execution_count": 120,
     "metadata": {},
     "output_type": "execute_result"
    }
   ],
   "source": [
    "'Hola, mi nombre es ' + name + '. Como estas?' "
   ]
  },
  {
   "cell_type": "markdown",
   "id": "3ff8ff64-1add-44a2-8c45-edd9e04d80dc",
   "metadata": {},
   "source": [
    "### Input and output functions\n",
    "\n",
    "Input and output are concepts in programming that allow us to interact with the user and display information on the screen. In Python, we commonly use the console as the standard input and output device.\n",
    "\n",
    "**Input**:\n",
    "To get input from the user, we use the `input()` function. It displays a message on the console and waits for the user to enter a value. The value entered by the user is returned as a **string**.\n",
    "\n",
    "Here's an example:\n",
    "```python\n",
    "name = input(\"Enter your name: \")\n",
    "print(\"Hello, \" + name + \"!\")\n",
    "```\n",
    "In this example, the `input()` function displays the message \"Enter your name: \" on the console. The user can then enter their name, and the input is assigned to the variable `name`. Finally, the program prints a greeting message using the entered name.\n",
    "\n",
    "**Output**:\n",
    "To display information or results on the console, we use the `print()` function. It takes one or more values as arguments (**strings**) and displays them as output.\n",
    "\n",
    "Here's an example:\n",
    "```python\n",
    "age = 25\n",
    "print(\"Your age is:\", age)\n",
    "```\n",
    "In this example, the `print()` function displays the string \"Your age is:\" followed by the value of the `age` variable. The output will be \"Your age is: 25\".\n",
    "\n",
    "You can also format the output using placeholders or string concatenation, as shown in the previous examples."
   ]
  },
  {
   "cell_type": "code",
   "execution_count": 125,
   "id": "764e181e",
   "metadata": {},
   "outputs": [
    {
     "name": "stdout",
     "output_type": "stream",
     "text": [
      "Por favor, dime tu nombre....Yo\n"
     ]
    }
   ],
   "source": [
    "variable = input('Por favor, dime tu nombre....')"
   ]
  },
  {
   "cell_type": "code",
   "execution_count": 126,
   "id": "2db55f43",
   "metadata": {},
   "outputs": [
    {
     "data": {
      "text/plain": [
       "'Yo'"
      ]
     },
     "execution_count": 126,
     "metadata": {},
     "output_type": "execute_result"
    }
   ],
   "source": [
    "variable"
   ]
  },
  {
   "cell_type": "code",
   "execution_count": 127,
   "id": "35739002",
   "metadata": {},
   "outputs": [
    {
     "data": {
      "text/plain": [
       "'Hola Yo'"
      ]
     },
     "execution_count": 127,
     "metadata": {},
     "output_type": "execute_result"
    }
   ],
   "source": [
    "f'Hola {variable}'"
   ]
  },
  {
   "cell_type": "markdown",
   "id": "56148c6d-d9c7-4b30-9223-8e5532c48423",
   "metadata": {},
   "source": [
    "When using the `print()` function in Python, it's important to note that it does not have a return value. If you assign the result of a `print()` statement to a variable or return it in a function, the value will be `None`."
   ]
  },
  {
   "cell_type": "markdown",
   "id": "650b4a94-6a3e-4a82-9359-c53d92766a7e",
   "metadata": {},
   "source": [
    "### 💡 Check for understanding\n",
    "\n",
    "Create a program that asks the user to enter their age. The program should then calculate and display the user's age after 10 years.\n",
    "\n",
    "Instructions:\n",
    "1. Prompt the user to enter their age using the `input()` function and store it in a variable.\n",
    "2. Convert the user's input from a string to an integer using the `int()` function and store it in another variable.\n",
    "3. Add 10 to the user's age using the `+` operator and store the result in a third variable.\n",
    "4. Display the user's age after 10 years by printing the result.\n",
    "\n",
    "Example Output:\n",
    "Enter your age: 25\n",
    "Your age after 10 years: 35\n",
    "\n",
    "Note: Ensure that you handle any potential errors related to casting."
   ]
  },
  {
   "cell_type": "code",
   "execution_count": null,
   "id": "7f52e656-21a5-412a-b56a-0f8805366f49",
   "metadata": {},
   "outputs": [],
   "source": [
    "# Your code goes here"
   ]
  },
  {
   "cell_type": "markdown",
   "id": "5299fd13-4e98-45c7-84f2-48a5538bead3",
   "metadata": {
    "tags": []
   },
   "source": [
    "## Data structures    "
   ]
  },
  {
   "cell_type": "markdown",
   "id": "58ae4a1d-6039-4f07-b159-9df5fcd2f78e",
   "metadata": {},
   "source": [
    "Data structures are fundamental components in programming that provide a way to manage and **work with collections of values** or entities. "
   ]
  },
  {
   "cell_type": "markdown",
   "id": "7f2bedf8-c0fc-4456-b75f-b0347a4e7256",
   "metadata": {},
   "source": [
    "Data structures in Python can be categorized as either mutable or immutable.\n",
    "\n",
    "- **Mutable** data structures, like lists, dictionaries, and sets, can be modified after they are created.\n",
    "- **Immutable** data structures, such as strings and tuples, cannot be changed once defined."
   ]
  },
  {
   "cell_type": "markdown",
   "id": "0e14084d-5a12-43ab-a188-4fd74344529d",
   "metadata": {},
   "source": [
    "Python Data Structures:\n",
    "- **Lists**: Ordered, mutable collections that store elements of different types and allow indexing, appending, removing, and modifying. [ ]\n",
    "- **Dictionaries**: Ordered (from Python 3.6), mutable key-value pairs for efficient lookup and organization of data. { }\n",
    "- **Sets**: Unordered, mutable collections of unique elements with set operations like union and intersection. { }\n",
    "- **Tuples**: Ordered, immutable collections commonly used for fixed values. ( )"
   ]
  },
  {
   "cell_type": "markdown",
   "id": "4d1afcd5-c5df-4997-986c-7dcf26773a75",
   "metadata": {},
   "source": [
    "### Lists"
   ]
  },
  {
   "cell_type": "markdown",
   "id": "ee2daf21-6f62-4894-b26e-1daf7cca89cb",
   "metadata": {},
   "source": [
    "To create a list, you can simply assign a sequence of elements to a variable using the square brackets notation."
   ]
  },
  {
   "cell_type": "code",
   "execution_count": 128,
   "id": "7e458d22-4aa7-433d-a4c1-2acf4e499df5",
   "metadata": {},
   "outputs": [
    {
     "data": {
      "text/plain": [
       "[0, 1, 2, 'hola', True, 12]"
      ]
     },
     "execution_count": 128,
     "metadata": {},
     "output_type": "execute_result"
    }
   ],
   "source": [
    "lista = [0, 1, 2, 'hola', True, 12]\n",
    "\n",
    "lista"
   ]
  },
  {
   "cell_type": "code",
   "execution_count": 129,
   "id": "356b59de",
   "metadata": {},
   "outputs": [],
   "source": [
    "lista.append(8)"
   ]
  },
  {
   "cell_type": "code",
   "execution_count": 130,
   "id": "1f2ac6ef",
   "metadata": {},
   "outputs": [
    {
     "data": {
      "text/plain": [
       "[0, 1, 2, 'hola', True, 12, 8]"
      ]
     },
     "execution_count": 130,
     "metadata": {},
     "output_type": "execute_result"
    }
   ],
   "source": [
    "lista"
   ]
  },
  {
   "cell_type": "code",
   "execution_count": 131,
   "id": "885ce8e1",
   "metadata": {},
   "outputs": [],
   "source": [
    "lista.remove(8)"
   ]
  },
  {
   "cell_type": "code",
   "execution_count": 132,
   "id": "5f4cbf2e",
   "metadata": {},
   "outputs": [
    {
     "data": {
      "text/plain": [
       "[0, 1, 2, 'hola', True, 12]"
      ]
     },
     "execution_count": 132,
     "metadata": {},
     "output_type": "execute_result"
    }
   ],
   "source": [
    "lista"
   ]
  },
  {
   "cell_type": "markdown",
   "id": "247eb050-d743-4747-b10b-34ffaddc5333",
   "metadata": {},
   "source": [
    "#### Indexing and slicing"
   ]
  },
  {
   "cell_type": "markdown",
   "id": "d52e7632-b450-413f-934d-9a17af6e0bbf",
   "metadata": {},
   "source": [
    "In Python, indexing allows you to access elements within a list using their unique index values. Indexing syntax is as follows:\n",
    "\n",
    "```python\n",
    "list_name[index]\n",
    "```\n",
    "\n",
    "The index starts from 0 for the first element and can also be negative to refer to elements from the end of the list (e.g., -1 for the last element)."
   ]
  },
  {
   "cell_type": "markdown",
   "id": "72cb0ec6-7a8d-436c-af9e-860ec95df4c7",
   "metadata": {},
   "source": [
    "##### Slicing"
   ]
  },
  {
   "cell_type": "markdown",
   "id": "d31d9634-14ca-4ced-8e0e-ad16ce634a80",
   "metadata": {},
   "source": [
    "In Python, slicing allows you to extract a portion of a sequence using the syntax `sequence[start:end:step]`. The `start` index is inclusive, the `end` index is exclusive, and the `step` value (optional) controls the increment between elements in the slice. \n",
    "\n",
    "Note that if you omit a value, such as `x[:stop]`, it is automatically replaced with a default value: the first element for `start`, the last element for `end`, and `1` for `step`."
   ]
  },
  {
   "cell_type": "markdown",
   "id": "836a8d24-29ff-4cc6-89e6-562a1ce789e4",
   "metadata": {},
   "source": [
    "<img src=\"https://education-team-2020.s3-eu-west-1.amazonaws.com/data-analytics/prework/unit1/zero_based_indexing_python.png\" width=400 height=400>"
   ]
  },
  {
   "cell_type": "code",
   "execution_count": 133,
   "id": "e33d27d0",
   "metadata": {},
   "outputs": [
    {
     "data": {
      "text/plain": [
       "[0, 1, 2, 'hola', True, 12]"
      ]
     },
     "execution_count": 133,
     "metadata": {},
     "output_type": "execute_result"
    }
   ],
   "source": [
    "lista"
   ]
  },
  {
   "cell_type": "code",
   "execution_count": 134,
   "id": "7b5cdb3c",
   "metadata": {},
   "outputs": [
    {
     "data": {
      "text/plain": [
       "0"
      ]
     },
     "execution_count": 134,
     "metadata": {},
     "output_type": "execute_result"
    }
   ],
   "source": [
    "lista[0]"
   ]
  },
  {
   "cell_type": "code",
   "execution_count": 135,
   "id": "3672ef68",
   "metadata": {},
   "outputs": [
    {
     "data": {
      "text/plain": [
       "6"
      ]
     },
     "execution_count": 135,
     "metadata": {},
     "output_type": "execute_result"
    }
   ],
   "source": [
    "len(lista)"
   ]
  },
  {
   "cell_type": "code",
   "execution_count": 136,
   "id": "187ca049",
   "metadata": {},
   "outputs": [
    {
     "ename": "IndexError",
     "evalue": "list index out of range",
     "output_type": "error",
     "traceback": [
      "\u001b[0;31m---------------------------------------------------------------------------\u001b[0m",
      "\u001b[0;31mIndexError\u001b[0m                                Traceback (most recent call last)",
      "Cell \u001b[0;32mIn[136], line 1\u001b[0m\n\u001b[0;32m----> 1\u001b[0m \u001b[43mlista\u001b[49m\u001b[43m[\u001b[49m\u001b[38;5;241;43m6\u001b[39;49m\u001b[43m]\u001b[49m\n",
      "\u001b[0;31mIndexError\u001b[0m: list index out of range"
     ]
    }
   ],
   "source": [
    "lista[6]"
   ]
  },
  {
   "cell_type": "code",
   "execution_count": 137,
   "id": "36f543e6",
   "metadata": {},
   "outputs": [
    {
     "data": {
      "text/plain": [
       "12"
      ]
     },
     "execution_count": 137,
     "metadata": {},
     "output_type": "execute_result"
    }
   ],
   "source": [
    "lista[5]"
   ]
  },
  {
   "cell_type": "code",
   "execution_count": 139,
   "id": "0712255c",
   "metadata": {},
   "outputs": [
    {
     "data": {
      "text/plain": [
       "True"
      ]
     },
     "execution_count": 139,
     "metadata": {},
     "output_type": "execute_result"
    }
   ],
   "source": [
    "lista[-2]"
   ]
  },
  {
   "cell_type": "code",
   "execution_count": 141,
   "id": "1fb22337",
   "metadata": {},
   "outputs": [
    {
     "data": {
      "text/plain": [
       "[0, 1, 2, 'hola', True, 12]"
      ]
     },
     "execution_count": 141,
     "metadata": {},
     "output_type": "execute_result"
    }
   ],
   "source": [
    "lista"
   ]
  },
  {
   "cell_type": "code",
   "execution_count": 144,
   "id": "8e9238d8",
   "metadata": {},
   "outputs": [
    {
     "data": {
      "text/plain": [
       "[0, 2, True]"
      ]
     },
     "execution_count": 144,
     "metadata": {},
     "output_type": "execute_result"
    }
   ],
   "source": [
    "lista[0:5:2]    # start:stop:step"
   ]
  },
  {
   "cell_type": "code",
   "execution_count": 145,
   "id": "ccdeac57",
   "metadata": {},
   "outputs": [
    {
     "data": {
      "text/plain": [
       "[0, 2, True]"
      ]
     },
     "execution_count": 145,
     "metadata": {},
     "output_type": "execute_result"
    }
   ],
   "source": [
    "lista[::2]"
   ]
  },
  {
   "cell_type": "code",
   "execution_count": 146,
   "id": "449b6e3e",
   "metadata": {},
   "outputs": [
    {
     "data": {
      "text/plain": [
       "[12, True, 'hola', 2, 1, 0]"
      ]
     },
     "execution_count": 146,
     "metadata": {},
     "output_type": "execute_result"
    }
   ],
   "source": [
    "lista[::-1]"
   ]
  },
  {
   "cell_type": "code",
   "execution_count": 147,
   "id": "98148c87",
   "metadata": {},
   "outputs": [
    {
     "data": {
      "text/plain": [
       "[0, 1, 2]"
      ]
     },
     "execution_count": 147,
     "metadata": {},
     "output_type": "execute_result"
    }
   ],
   "source": [
    "lista[0:3]"
   ]
  },
  {
   "cell_type": "code",
   "execution_count": 148,
   "id": "69ea326f",
   "metadata": {},
   "outputs": [
    {
     "data": {
      "text/plain": [
       "[0, 1, 2, 'hola', True, 12]"
      ]
     },
     "execution_count": 148,
     "metadata": {},
     "output_type": "execute_result"
    }
   ],
   "source": [
    "lista"
   ]
  },
  {
   "cell_type": "code",
   "execution_count": 149,
   "id": "f9c4e57b",
   "metadata": {},
   "outputs": [
    {
     "data": {
      "text/plain": [
       "[12, True, 'hola', 2, 1, 0]"
      ]
     },
     "execution_count": 149,
     "metadata": {},
     "output_type": "execute_result"
    }
   ],
   "source": [
    "lista = lista[::-1]\n",
    "\n",
    "lista"
   ]
  },
  {
   "cell_type": "markdown",
   "id": "4046120b-1143-4979-84f3-7e65e656bb9c",
   "metadata": {},
   "source": [
    "#### Modifying List Elements\n",
    "\n",
    "Lists are mutable, meaning you can modify their elements after creation. You can assign new values to specific elements using their index."
   ]
  },
  {
   "cell_type": "code",
   "execution_count": 151,
   "id": "02c65c42-e5e6-4382-ae11-508a3b7b04e5",
   "metadata": {},
   "outputs": [],
   "source": [
    "lista[0] = 'hola que tal'"
   ]
  },
  {
   "cell_type": "code",
   "execution_count": 152,
   "id": "cf85e2a6",
   "metadata": {},
   "outputs": [
    {
     "data": {
      "text/plain": [
       "['hola que tal', True, 'hola', 2, 1, 0]"
      ]
     },
     "execution_count": 152,
     "metadata": {},
     "output_type": "execute_result"
    }
   ],
   "source": [
    "lista"
   ]
  },
  {
   "cell_type": "markdown",
   "id": "d2750a99-22c5-4d89-9043-10062b5c7c01",
   "metadata": {},
   "source": [
    "#### List Operators and functions\n",
    "\n",
    "Lists support various operations, such as concatenation (+) to combine two lists or repetition (*) to repeat a list."
   ]
  },
  {
   "cell_type": "code",
   "execution_count": 153,
   "id": "e322817e-499f-48f7-be5b-17bfdf948104",
   "metadata": {},
   "outputs": [],
   "source": [
    "lista1 = [1,2,3]\n",
    "\n",
    "lista2 = [6,7,8]"
   ]
  },
  {
   "cell_type": "code",
   "execution_count": 155,
   "id": "28d2dc7c",
   "metadata": {},
   "outputs": [
    {
     "data": {
      "text/plain": [
       "[6, 7, 8]"
      ]
     },
     "execution_count": 155,
     "metadata": {},
     "output_type": "execute_result"
    }
   ],
   "source": [
    "lista2"
   ]
  },
  {
   "cell_type": "code",
   "execution_count": 157,
   "id": "acc0a088",
   "metadata": {},
   "outputs": [],
   "source": [
    "nueva = lista1 + lista2"
   ]
  },
  {
   "cell_type": "code",
   "execution_count": 158,
   "id": "cd8e4ed6",
   "metadata": {},
   "outputs": [
    {
     "data": {
      "text/plain": [
       "[1, 2, 3, 6, 7, 8]"
      ]
     },
     "execution_count": 158,
     "metadata": {},
     "output_type": "execute_result"
    }
   ],
   "source": [
    "nueva"
   ]
  },
  {
   "cell_type": "code",
   "execution_count": 159,
   "id": "e5547cb2",
   "metadata": {},
   "outputs": [
    {
     "data": {
      "text/plain": [
       "[1, 2, 3, 6, 7, 8]"
      ]
     },
     "execution_count": 159,
     "metadata": {},
     "output_type": "execute_result"
    }
   ],
   "source": [
    "nueva_lista = lista1 + lista2\n",
    "\n",
    "nueva_lista"
   ]
  },
  {
   "cell_type": "code",
   "execution_count": 160,
   "id": "0c56f4c0",
   "metadata": {},
   "outputs": [
    {
     "data": {
      "text/plain": [
       "[1, 2, 3, 6, 7, 8]"
      ]
     },
     "execution_count": 160,
     "metadata": {},
     "output_type": "execute_result"
    }
   ],
   "source": [
    "nuevaLista = lista1 + lista2\n",
    "\n",
    "nuevaLista"
   ]
  },
  {
   "cell_type": "code",
   "execution_count": 161,
   "id": "ecd231ef",
   "metadata": {},
   "outputs": [
    {
     "data": {
      "text/plain": [
       "3"
      ]
     },
     "execution_count": 161,
     "metadata": {},
     "output_type": "execute_result"
    }
   ],
   "source": [
    "max(lista1)"
   ]
  },
  {
   "cell_type": "code",
   "execution_count": 162,
   "id": "c0804c03",
   "metadata": {},
   "outputs": [
    {
     "data": {
      "text/plain": [
       "1"
      ]
     },
     "execution_count": 162,
     "metadata": {},
     "output_type": "execute_result"
    }
   ],
   "source": [
    "min(lista1)"
   ]
  },
  {
   "cell_type": "code",
   "execution_count": 167,
   "id": "bd9f7620",
   "metadata": {},
   "outputs": [
    {
     "data": {
      "text/plain": [
       "'d'"
      ]
     },
     "execution_count": 167,
     "metadata": {},
     "output_type": "execute_result"
    }
   ],
   "source": [
    "lista_nueva = [' ', 'b', 'c', 'a', 'd']\n",
    "\n",
    "max(lista_nueva)"
   ]
  },
  {
   "cell_type": "code",
   "execution_count": 168,
   "id": "5ee19719",
   "metadata": {},
   "outputs": [
    {
     "data": {
      "text/plain": [
       "' '"
      ]
     },
     "execution_count": 168,
     "metadata": {},
     "output_type": "execute_result"
    }
   ],
   "source": [
    "min(lista_nueva)"
   ]
  },
  {
   "cell_type": "markdown",
   "id": "a18f13da-24e3-4d49-a992-df63e7802495",
   "metadata": {},
   "source": [
    "#### 💡 Check for understanding\n",
    "\n",
    "Look at the error we get if we execute the following line again. Why do you think it is?"
   ]
  },
  {
   "cell_type": "code",
   "execution_count": 171,
   "id": "5988d2f1-cdf3-4354-a88d-bf0cdf6c3550",
   "metadata": {},
   "outputs": [],
   "source": [
    "lista.remove(True)"
   ]
  },
  {
   "cell_type": "code",
   "execution_count": 172,
   "id": "b8abd190-21ed-44d8-b66c-e33331334f5f",
   "metadata": {},
   "outputs": [
    {
     "data": {
      "text/plain": [
       "['hola que tal', 'hola', 2, 1, 0]"
      ]
     },
     "execution_count": 172,
     "metadata": {},
     "output_type": "execute_result"
    }
   ],
   "source": [
    "lista"
   ]
  },
  {
   "cell_type": "code",
   "execution_count": 173,
   "id": "901d905a",
   "metadata": {},
   "outputs": [
    {
     "data": {
      "text/plain": [
       "0"
      ]
     },
     "execution_count": 173,
     "metadata": {},
     "output_type": "execute_result"
    }
   ],
   "source": [
    "lista.pop()"
   ]
  },
  {
   "cell_type": "code",
   "execution_count": 174,
   "id": "f270684d",
   "metadata": {},
   "outputs": [
    {
     "data": {
      "text/plain": [
       "['hola que tal', 'hola', 2, 1]"
      ]
     },
     "execution_count": 174,
     "metadata": {},
     "output_type": "execute_result"
    }
   ],
   "source": [
    "lista"
   ]
  },
  {
   "cell_type": "code",
   "execution_count": 175,
   "id": "6e477337",
   "metadata": {},
   "outputs": [
    {
     "data": {
      "text/plain": [
       "'hola'"
      ]
     },
     "execution_count": 175,
     "metadata": {},
     "output_type": "execute_result"
    }
   ],
   "source": [
    "lista.pop(1)"
   ]
  },
  {
   "cell_type": "code",
   "execution_count": 176,
   "id": "b6bfd754",
   "metadata": {},
   "outputs": [
    {
     "data": {
      "text/plain": [
       "['hola que tal', 2, 1]"
      ]
     },
     "execution_count": 176,
     "metadata": {},
     "output_type": "execute_result"
    }
   ],
   "source": [
    "lista"
   ]
  },
  {
   "cell_type": "code",
   "execution_count": 178,
   "id": "f3607bcc",
   "metadata": {},
   "outputs": [
    {
     "data": {
      "text/plain": [
       "0"
      ]
     },
     "execution_count": 178,
     "metadata": {},
     "output_type": "execute_result"
    }
   ],
   "source": [
    "lista.index('hola que tal')"
   ]
  },
  {
   "cell_type": "markdown",
   "id": "f6854f7a-87c4-4954-8f27-b70e2b2207e6",
   "metadata": {},
   "source": [
    "Note: The method `sort()` is a list method that sorts the list in-place, while the function `sorted()` is a built-in Python function that returns a new sorted list without modifying the original list."
   ]
  },
  {
   "cell_type": "code",
   "execution_count": 179,
   "id": "046ed1d3",
   "metadata": {},
   "outputs": [
    {
     "data": {
      "text/plain": [
       "[0, 1, 2, 3, 4, 5, 6, 7, 8, 9]"
      ]
     },
     "execution_count": 179,
     "metadata": {},
     "output_type": "execute_result"
    }
   ],
   "source": [
    "sorted([5,6,7,8,9,0,1,2,3,4])"
   ]
  },
  {
   "cell_type": "code",
   "execution_count": 185,
   "id": "ef6bda81",
   "metadata": {},
   "outputs": [],
   "source": [
    "[5,6,7,8,9,0,1,2,3,4].sort()"
   ]
  },
  {
   "cell_type": "code",
   "execution_count": 184,
   "id": "1300a587",
   "metadata": {},
   "outputs": [
    {
     "name": "stdout",
     "output_type": "stream",
     "text": [
      "None\n"
     ]
    }
   ],
   "source": [
    "print(var)"
   ]
  },
  {
   "cell_type": "code",
   "execution_count": 186,
   "id": "927b3b24",
   "metadata": {},
   "outputs": [
    {
     "data": {
      "text/plain": [
       "[9, 8, 7, 6, 5, 4, 3, 2, 1, 0]"
      ]
     },
     "execution_count": 186,
     "metadata": {},
     "output_type": "execute_result"
    }
   ],
   "source": [
    "sorted([5,6,7,8,9,0,1,2,3,4], reverse=True)"
   ]
  },
  {
   "cell_type": "code",
   "execution_count": 188,
   "id": "bdfa2dcf",
   "metadata": {},
   "outputs": [],
   "source": [
    "#help(list)"
   ]
  },
  {
   "cell_type": "markdown",
   "id": "41b4719e-5d86-4eb7-ac6d-c103f210420f",
   "metadata": {},
   "source": [
    "### Dictionaries "
   ]
  },
  {
   "cell_type": "markdown",
   "id": "31594a7d-b5d4-480c-94bc-8657361b9b12",
   "metadata": {},
   "source": [
    "In Python, dictionaries are created using curly braces {} and consist of key-value pairs separated by commas. Keys in a dictionary must be unique, and if a key already exists, assigning a new value to that key will overwrite the existing value."
   ]
  },
  {
   "cell_type": "code",
   "execution_count": 190,
   "id": "2fe5eb48",
   "metadata": {},
   "outputs": [
    {
     "data": {
      "text/plain": [
       "{'nombre': 'Yona', 'key': 'value', True: [1, 2, 3]}"
      ]
     },
     "execution_count": 190,
     "metadata": {},
     "output_type": "execute_result"
    }
   ],
   "source": [
    "dictio = {'nombre': 'Yona',    # clave-valor\n",
    "          'key': 'value', \n",
    "          True: [1,2,3]}\n",
    "\n",
    "dictio"
   ]
  },
  {
   "cell_type": "markdown",
   "id": "6dc7b2bd-e15f-4f9d-8702-906dd24f39c7",
   "metadata": {},
   "source": [
    "#### Accessing values using the keys"
   ]
  },
  {
   "cell_type": "markdown",
   "id": "c266d2c8-0a13-4914-952e-094e8dafb858",
   "metadata": {},
   "source": [
    "To access values in a dictionary, use the corresponding key in square brackets [], noting that keys are case-sensitive."
   ]
  },
  {
   "cell_type": "code",
   "execution_count": 191,
   "id": "41e59644",
   "metadata": {},
   "outputs": [
    {
     "ename": "KeyError",
     "evalue": "0",
     "output_type": "error",
     "traceback": [
      "\u001b[0;31m---------------------------------------------------------------------------\u001b[0m",
      "\u001b[0;31mKeyError\u001b[0m                                  Traceback (most recent call last)",
      "Cell \u001b[0;32mIn[191], line 1\u001b[0m\n\u001b[0;32m----> 1\u001b[0m \u001b[43mdictio\u001b[49m\u001b[43m[\u001b[49m\u001b[38;5;241;43m0\u001b[39;49m\u001b[43m]\u001b[49m\n",
      "\u001b[0;31mKeyError\u001b[0m: 0"
     ]
    }
   ],
   "source": [
    "dictio[0]"
   ]
  },
  {
   "cell_type": "code",
   "execution_count": 192,
   "id": "0289c5d8",
   "metadata": {},
   "outputs": [
    {
     "data": {
      "text/plain": [
       "'Yona'"
      ]
     },
     "execution_count": 192,
     "metadata": {},
     "output_type": "execute_result"
    }
   ],
   "source": [
    "dictio['nombre']"
   ]
  },
  {
   "cell_type": "code",
   "execution_count": 193,
   "id": "2721957d",
   "metadata": {},
   "outputs": [
    {
     "data": {
      "text/plain": [
       "[1, 2, 3]"
      ]
     },
     "execution_count": 193,
     "metadata": {},
     "output_type": "execute_result"
    }
   ],
   "source": [
    "dictio[True]"
   ]
  },
  {
   "cell_type": "code",
   "execution_count": 194,
   "id": "bac38889",
   "metadata": {},
   "outputs": [],
   "source": [
    "dictio[True] = 'hola que tal'"
   ]
  },
  {
   "cell_type": "code",
   "execution_count": 195,
   "id": "b662bf2d",
   "metadata": {},
   "outputs": [
    {
     "data": {
      "text/plain": [
       "'hola que tal'"
      ]
     },
     "execution_count": 195,
     "metadata": {},
     "output_type": "execute_result"
    }
   ],
   "source": [
    "dictio[True]"
   ]
  },
  {
   "cell_type": "code",
   "execution_count": 196,
   "id": "e3bfa896",
   "metadata": {},
   "outputs": [
    {
     "data": {
      "text/plain": [
       "{'nombre': 'Yona', 'key': 'value', True: 'hola que tal'}"
      ]
     },
     "execution_count": 196,
     "metadata": {},
     "output_type": "execute_result"
    }
   ],
   "source": [
    "dictio"
   ]
  },
  {
   "cell_type": "markdown",
   "id": "c6436cc8-c6c3-4f23-9799-a2e407fa762b",
   "metadata": {},
   "source": [
    "#### Adding and Modifying Values\n",
    "\n",
    "To add a new key-value pair to a dictionary, use the syntax `<dictionary_name>[<key>] = value`."
   ]
  },
  {
   "cell_type": "markdown",
   "id": "232d29c6-d3b5-43fe-b78a-d4b21cbf0c81",
   "metadata": {},
   "source": [
    "Values inside a dictionary can be any data type, including lists or dictionaries itself."
   ]
  },
  {
   "cell_type": "markdown",
   "id": "b70a4adb-82b6-4599-998a-a2937d430dfa",
   "metadata": {},
   "source": [
    "**Note**: Value associated with the key 'subjects' is a list. According to this, if we want to access 'science', we need first to access the `subjects` key in the dictionary. Then, as the `value` is a list, we need to access the corresponding element of the list.\n",
    "\n",
    "To access the value 'science' in the `student_data` dictionary, you can use the expression `student_data['subjects'][1]`."
   ]
  },
  {
   "cell_type": "code",
   "execution_count": 197,
   "id": "8ca10f21-f39e-4a1d-a726-7e820f1b3181",
   "metadata": {},
   "outputs": [
    {
     "ename": "KeyError",
     "evalue": "0",
     "output_type": "error",
     "traceback": [
      "\u001b[0;31m---------------------------------------------------------------------------\u001b[0m",
      "\u001b[0;31mKeyError\u001b[0m                                  Traceback (most recent call last)",
      "Cell \u001b[0;32mIn[197], line 1\u001b[0m\n\u001b[0;32m----> 1\u001b[0m \u001b[43mdictio\u001b[49m\u001b[43m[\u001b[49m\u001b[38;5;241;43m0\u001b[39;49m\u001b[43m]\u001b[49m\n",
      "\u001b[0;31mKeyError\u001b[0m: 0"
     ]
    }
   ],
   "source": [
    "dictio[0]"
   ]
  },
  {
   "cell_type": "code",
   "execution_count": 199,
   "id": "38345915",
   "metadata": {},
   "outputs": [],
   "source": [
    "#help(dict)"
   ]
  },
  {
   "cell_type": "code",
   "execution_count": 201,
   "id": "fb5c795e",
   "metadata": {},
   "outputs": [
    {
     "data": {
      "text/plain": [
       "'La clave esa no existe cukin.....'"
      ]
     },
     "execution_count": 201,
     "metadata": {},
     "output_type": "execute_result"
    }
   ],
   "source": [
    "dictio.get(0, 'La clave esa no existe cukin.....')"
   ]
  },
  {
   "cell_type": "code",
   "execution_count": 202,
   "id": "22ac94db",
   "metadata": {},
   "outputs": [
    {
     "data": {
      "text/plain": [
       "'Yona'"
      ]
     },
     "execution_count": 202,
     "metadata": {},
     "output_type": "execute_result"
    }
   ],
   "source": [
    "dictio.get('nombre', 'La clave esa no existe cukin.....')"
   ]
  },
  {
   "cell_type": "code",
   "execution_count": 203,
   "id": "757bd644",
   "metadata": {},
   "outputs": [],
   "source": [
    "lista_de_dictios = [{'nombre': 'Yona'},\n",
    "                    {'nombre': 'Jaime'},\n",
    "                    {'nombre': 'Paloma'}]"
   ]
  },
  {
   "cell_type": "code",
   "execution_count": 204,
   "id": "d705d475",
   "metadata": {},
   "outputs": [
    {
     "data": {
      "text/plain": [
       "list"
      ]
     },
     "execution_count": 204,
     "metadata": {},
     "output_type": "execute_result"
    }
   ],
   "source": [
    "type(lista_de_dictios)"
   ]
  },
  {
   "cell_type": "code",
   "execution_count": 206,
   "id": "bd303758",
   "metadata": {},
   "outputs": [
    {
     "data": {
      "text/plain": [
       "{'nombre': 'Paloma'}"
      ]
     },
     "execution_count": 206,
     "metadata": {},
     "output_type": "execute_result"
    }
   ],
   "source": [
    "lista_de_dictios[2]"
   ]
  },
  {
   "cell_type": "code",
   "execution_count": 207,
   "id": "09d90b02",
   "metadata": {},
   "outputs": [
    {
     "data": {
      "text/plain": [
       "'Paloma'"
      ]
     },
     "execution_count": 207,
     "metadata": {},
     "output_type": "execute_result"
    }
   ],
   "source": [
    "lista_de_dictios[2]['nombre']"
   ]
  },
  {
   "cell_type": "markdown",
   "id": "c7b44f4f-0e56-4753-a8dd-23cf93160c23",
   "metadata": {},
   "source": [
    "#### Removing Values\n",
    "\n",
    "You can remove a key-value pair from a dictionary using the `del` keyword or the `pop` method."
   ]
  },
  {
   "cell_type": "code",
   "execution_count": 209,
   "id": "90903cb7-7644-4702-9321-f8464f89faed",
   "metadata": {},
   "outputs": [
    {
     "data": {
      "text/plain": [
       "'value'"
      ]
     },
     "execution_count": 209,
     "metadata": {},
     "output_type": "execute_result"
    }
   ],
   "source": [
    "dictio.pop('key')"
   ]
  },
  {
   "cell_type": "code",
   "execution_count": 210,
   "id": "df4e2caf",
   "metadata": {},
   "outputs": [
    {
     "data": {
      "text/plain": [
       "{'nombre': 'Yona', True: 'hola que tal'}"
      ]
     },
     "execution_count": 210,
     "metadata": {},
     "output_type": "execute_result"
    }
   ],
   "source": [
    "dictio"
   ]
  },
  {
   "cell_type": "markdown",
   "id": "341c8a07-81d4-43e5-a40e-26a9b0053a33",
   "metadata": {},
   "source": [
    "#### Checking Key Existence\n",
    "\n",
    "To check if a key exists in a dictionary, you can use the `in` keyword:"
   ]
  },
  {
   "cell_type": "code",
   "execution_count": null,
   "id": "07046873-9b8a-4446-a48b-bfd9c935cd20",
   "metadata": {},
   "outputs": [],
   "source": [
    "#help(dict)"
   ]
  },
  {
   "cell_type": "markdown",
   "id": "37d42539-6e81-4aed-98f8-3f70ffc0e992",
   "metadata": {},
   "source": [
    "#### Dictionary Methods"
   ]
  },
  {
   "cell_type": "markdown",
   "id": "18885f64-dce9-4375-a4b1-37df897855cc",
   "metadata": {},
   "source": [
    "Python dictionaries provide several useful methods:\n",
    "- **`.keys()`**: Returns a view object containing all the keys in the dictionary.\n",
    "- **`.values()`**: Returns a view object containing all the values in the dictionary.\n",
    "- **`.items()`**: Returns a view object containing all the key-value pairs in the dictionary as tuples.\n",
    "- **`get(key)`**: Returns the value associated with the specified key. If the key is not found, it returns a default value (None by default) instead of raising an error."
   ]
  },
  {
   "cell_type": "code",
   "execution_count": 212,
   "id": "ec475c8b-b2b5-4c87-afc1-2ced5166a10f",
   "metadata": {},
   "outputs": [
    {
     "data": {
      "text/plain": [
       "dict_keys(['nombre', True])"
      ]
     },
     "execution_count": 212,
     "metadata": {},
     "output_type": "execute_result"
    }
   ],
   "source": [
    "dictio.keys()"
   ]
  },
  {
   "cell_type": "code",
   "execution_count": 213,
   "id": "74063b33",
   "metadata": {},
   "outputs": [
    {
     "data": {
      "text/plain": [
       "dict_values(['Yona', 'hola que tal'])"
      ]
     },
     "execution_count": 213,
     "metadata": {},
     "output_type": "execute_result"
    }
   ],
   "source": [
    "dictio.values()"
   ]
  },
  {
   "cell_type": "code",
   "execution_count": 214,
   "id": "43939a2c",
   "metadata": {},
   "outputs": [
    {
     "data": {
      "text/plain": [
       "dict_items([('nombre', 'Yona'), (True, 'hola que tal')])"
      ]
     },
     "execution_count": 214,
     "metadata": {},
     "output_type": "execute_result"
    }
   ],
   "source": [
    "dictio.items()"
   ]
  },
  {
   "cell_type": "markdown",
   "id": "5108d421-4f84-454a-81fe-c0b26759aba5",
   "metadata": {},
   "source": [
    "In Python, the `print()` function displays the value passed to it and outputs it to the console. If the value is `None`, the function explicitly displays the word `None` as the output. In Jupyter Notebook, variables are automatically displayed as output when mentioned in a cell, but if the value is `None`, the notebook environment shows nothing instead of displaying `None`."
   ]
  },
  {
   "cell_type": "code",
   "execution_count": 215,
   "id": "0d544aaf",
   "metadata": {},
   "outputs": [],
   "source": [
    "lista = [1,2,3,4]"
   ]
  },
  {
   "cell_type": "code",
   "execution_count": 216,
   "id": "0f2dcbe2",
   "metadata": {},
   "outputs": [
    {
     "data": {
      "text/plain": [
       "[1, 2, 3, 4]"
      ]
     },
     "execution_count": 216,
     "metadata": {},
     "output_type": "execute_result"
    }
   ],
   "source": [
    "lista"
   ]
  },
  {
   "cell_type": "code",
   "execution_count": 217,
   "id": "e5030666",
   "metadata": {},
   "outputs": [
    {
     "data": {
      "text/plain": [
       "4"
      ]
     },
     "execution_count": 217,
     "metadata": {},
     "output_type": "execute_result"
    }
   ],
   "source": [
    "num = lista.pop()\n",
    "\n",
    "num"
   ]
  },
  {
   "cell_type": "code",
   "execution_count": 220,
   "id": "3da7f4bd",
   "metadata": {},
   "outputs": [
    {
     "name": "stdout",
     "output_type": "stream",
     "text": [
      "None\n"
     ]
    }
   ],
   "source": [
    "num = lista.remove(2)\n",
    "\n",
    "print(num)"
   ]
  },
  {
   "cell_type": "code",
   "execution_count": 221,
   "id": "b6591224",
   "metadata": {},
   "outputs": [
    {
     "data": {
      "text/plain": [
       "[1]"
      ]
     },
     "execution_count": 221,
     "metadata": {},
     "output_type": "execute_result"
    }
   ],
   "source": [
    "lista"
   ]
  },
  {
   "cell_type": "code",
   "execution_count": 222,
   "id": "9cf09552",
   "metadata": {},
   "outputs": [],
   "source": [
    "lista.append(num)"
   ]
  },
  {
   "cell_type": "code",
   "execution_count": 223,
   "id": "d7e11571",
   "metadata": {},
   "outputs": [
    {
     "data": {
      "text/plain": [
       "[1, None]"
      ]
     },
     "execution_count": 223,
     "metadata": {},
     "output_type": "execute_result"
    }
   ],
   "source": [
    "lista"
   ]
  },
  {
   "cell_type": "code",
   "execution_count": 224,
   "id": "15f5238d",
   "metadata": {},
   "outputs": [],
   "source": [
    "lista.insert(2, 89)"
   ]
  },
  {
   "cell_type": "code",
   "execution_count": 225,
   "id": "c446cc9c",
   "metadata": {},
   "outputs": [
    {
     "data": {
      "text/plain": [
       "[1, None, 89]"
      ]
     },
     "execution_count": 225,
     "metadata": {},
     "output_type": "execute_result"
    }
   ],
   "source": [
    "lista"
   ]
  },
  {
   "cell_type": "code",
   "execution_count": 226,
   "id": "ae1d3658",
   "metadata": {},
   "outputs": [
    {
     "data": {
      "text/plain": [
       "[True, 1, None, 89]"
      ]
     },
     "execution_count": 226,
     "metadata": {},
     "output_type": "execute_result"
    }
   ],
   "source": [
    "lista.insert(0, True)\n",
    "\n",
    "lista"
   ]
  },
  {
   "cell_type": "markdown",
   "id": "09533aba-5aaa-4316-b8ae-29313652c73c",
   "metadata": {},
   "source": [
    "### Sets\n",
    "\n",
    "Sets in Python are unordered collections of unique elements defined using curly braces {} or the set() function. They can contain elements of different data types, do not allow duplicates, and are mutable. Sets support operations like union, intersection, and difference."
   ]
  },
  {
   "cell_type": "code",
   "execution_count": 227,
   "id": "31d4f47d",
   "metadata": {},
   "outputs": [],
   "source": [
    "conjunto = {1,1,1,1,2,2,2,2,2,2,3,3,3,3,3,3,3}"
   ]
  },
  {
   "cell_type": "code",
   "execution_count": 228,
   "id": "00840eca",
   "metadata": {},
   "outputs": [
    {
     "data": {
      "text/plain": [
       "{1, 2, 3}"
      ]
     },
     "execution_count": 228,
     "metadata": {},
     "output_type": "execute_result"
    }
   ],
   "source": [
    "conjunto"
   ]
  },
  {
   "cell_type": "code",
   "execution_count": 230,
   "id": "bb6c36c8",
   "metadata": {},
   "outputs": [
    {
     "data": {
      "text/plain": [
       "[1, 1, 1, 1, 1, 2, 2, 2, 2, 2, 23, 3, 3, 3, 3, 3]"
      ]
     },
     "execution_count": 230,
     "metadata": {},
     "output_type": "execute_result"
    }
   ],
   "source": [
    "lista = [1,1,1,1,1,2,2,2,2,2,23,3,3,3,3,3]\n",
    "\n",
    "lista"
   ]
  },
  {
   "cell_type": "code",
   "execution_count": 232,
   "id": "928ebeab",
   "metadata": {},
   "outputs": [
    {
     "data": {
      "text/plain": [
       "[1, 2, 3, 23]"
      ]
     },
     "execution_count": 232,
     "metadata": {},
     "output_type": "execute_result"
    }
   ],
   "source": [
    "list(set(lista))"
   ]
  },
  {
   "cell_type": "code",
   "execution_count": 233,
   "id": "e636d51c",
   "metadata": {},
   "outputs": [],
   "source": [
    "set_1 = {1, 2, 3}\n",
    "set_2 = {3, 4, 5}"
   ]
  },
  {
   "cell_type": "code",
   "execution_count": 234,
   "id": "3771046b",
   "metadata": {},
   "outputs": [
    {
     "data": {
      "text/plain": [
       "{1, 2, 3, 4, 5}"
      ]
     },
     "execution_count": 234,
     "metadata": {},
     "output_type": "execute_result"
    }
   ],
   "source": [
    "set_1.union(set_2)"
   ]
  },
  {
   "cell_type": "code",
   "execution_count": 235,
   "id": "37f4c193",
   "metadata": {},
   "outputs": [
    {
     "data": {
      "text/plain": [
       "{3}"
      ]
     },
     "execution_count": 235,
     "metadata": {},
     "output_type": "execute_result"
    }
   ],
   "source": [
    "set_1.intersection(set_2)"
   ]
  },
  {
   "cell_type": "code",
   "execution_count": 237,
   "id": "79114c9f",
   "metadata": {},
   "outputs": [
    {
     "data": {
      "text/plain": [
       "{3}"
      ]
     },
     "execution_count": 237,
     "metadata": {},
     "output_type": "execute_result"
    }
   ],
   "source": [
    "set_1 & set_2    # intersection"
   ]
  },
  {
   "cell_type": "code",
   "execution_count": 238,
   "id": "522bf88a",
   "metadata": {},
   "outputs": [
    {
     "data": {
      "text/plain": [
       "{1, 2, 3, 4, 5}"
      ]
     },
     "execution_count": 238,
     "metadata": {},
     "output_type": "execute_result"
    }
   ],
   "source": [
    "set_1 | set_2    # union"
   ]
  },
  {
   "cell_type": "code",
   "execution_count": 239,
   "id": "1dca1bf3",
   "metadata": {},
   "outputs": [
    {
     "data": {
      "text/plain": [
       "False"
      ]
     },
     "execution_count": 239,
     "metadata": {},
     "output_type": "execute_result"
    }
   ],
   "source": [
    "set_1.issubset(set_2)"
   ]
  },
  {
   "cell_type": "code",
   "execution_count": 241,
   "id": "b7c86aa1",
   "metadata": {},
   "outputs": [
    {
     "data": {
      "text/plain": [
       "True"
      ]
     },
     "execution_count": 241,
     "metadata": {},
     "output_type": "execute_result"
    }
   ],
   "source": [
    "{2, 3}.issubset(set_1)"
   ]
  },
  {
   "cell_type": "code",
   "execution_count": 244,
   "id": "23c0eda5",
   "metadata": {},
   "outputs": [
    {
     "data": {
      "text/plain": [
       "True"
      ]
     },
     "execution_count": 244,
     "metadata": {},
     "output_type": "execute_result"
    }
   ],
   "source": [
    "set_1.issuperset({2, 3})"
   ]
  },
  {
   "cell_type": "markdown",
   "id": "5c6f9ada-6dd4-4131-8754-e5097570c354",
   "metadata": {},
   "source": [
    "### Tuples\n",
    "\n",
    "Tuples are immutable and defined using parentheses (). They can store elements of different types, and once created, their elements cannot be modified. Tuples are often used to group related data together."
   ]
  },
  {
   "cell_type": "code",
   "execution_count": 245,
   "id": "cee6451b-a0f4-4701-ad28-a1ef0a7dcfad",
   "metadata": {},
   "outputs": [
    {
     "data": {
      "text/plain": [
       "(1, 2, 3, 4)"
      ]
     },
     "execution_count": 245,
     "metadata": {},
     "output_type": "execute_result"
    }
   ],
   "source": [
    "tupla = (1,2,3,4)\n",
    "\n",
    "tupla"
   ]
  },
  {
   "cell_type": "code",
   "execution_count": 246,
   "id": "4d71e0d3",
   "metadata": {},
   "outputs": [
    {
     "data": {
      "text/plain": [
       "tuple"
      ]
     },
     "execution_count": 246,
     "metadata": {},
     "output_type": "execute_result"
    }
   ],
   "source": [
    "type(tupla)"
   ]
  },
  {
   "cell_type": "code",
   "execution_count": 247,
   "id": "77f6133c",
   "metadata": {},
   "outputs": [
    {
     "ename": "AttributeError",
     "evalue": "'tuple' object has no attribute 'append'",
     "output_type": "error",
     "traceback": [
      "\u001b[0;31m---------------------------------------------------------------------------\u001b[0m",
      "\u001b[0;31mAttributeError\u001b[0m                            Traceback (most recent call last)",
      "Cell \u001b[0;32mIn[247], line 1\u001b[0m\n\u001b[0;32m----> 1\u001b[0m \u001b[43mtupla\u001b[49m\u001b[38;5;241;43m.\u001b[39;49m\u001b[43mappend\u001b[49m(\u001b[38;5;241m0\u001b[39m)\n",
      "\u001b[0;31mAttributeError\u001b[0m: 'tuple' object has no attribute 'append'"
     ]
    }
   ],
   "source": [
    "tupla.append(0)"
   ]
  },
  {
   "cell_type": "code",
   "execution_count": 249,
   "id": "1a373d14",
   "metadata": {},
   "outputs": [
    {
     "data": {
      "text/plain": [
       "3"
      ]
     },
     "execution_count": 249,
     "metadata": {},
     "output_type": "execute_result"
    }
   ],
   "source": [
    "tupla[2]"
   ]
  },
  {
   "cell_type": "code",
   "execution_count": 250,
   "id": "74ead262",
   "metadata": {},
   "outputs": [
    {
     "ename": "TypeError",
     "evalue": "'tuple' object does not support item assignment",
     "output_type": "error",
     "traceback": [
      "\u001b[0;31m---------------------------------------------------------------------------\u001b[0m",
      "\u001b[0;31mTypeError\u001b[0m                                 Traceback (most recent call last)",
      "Cell \u001b[0;32mIn[250], line 1\u001b[0m\n\u001b[0;32m----> 1\u001b[0m \u001b[43mtupla\u001b[49m\u001b[43m[\u001b[49m\u001b[38;5;241;43m2\u001b[39;49m\u001b[43m]\u001b[49m \u001b[38;5;241m=\u001b[39m \u001b[38;5;124m'\u001b[39m\u001b[38;5;124mhola\u001b[39m\u001b[38;5;124m'\u001b[39m\n",
      "\u001b[0;31mTypeError\u001b[0m: 'tuple' object does not support item assignment"
     ]
    }
   ],
   "source": [
    "tupla[2] = 'hola'"
   ]
  },
  {
   "cell_type": "code",
   "execution_count": 251,
   "id": "830dae0f",
   "metadata": {},
   "outputs": [
    {
     "data": {
      "text/plain": [
       "[1, 2, 3, 4]"
      ]
     },
     "execution_count": 251,
     "metadata": {},
     "output_type": "execute_result"
    }
   ],
   "source": [
    "tupla = list(tupla)\n",
    "\n",
    "tupla"
   ]
  },
  {
   "cell_type": "code",
   "execution_count": 252,
   "id": "37d33e19",
   "metadata": {},
   "outputs": [],
   "source": [
    "tupla[2] = 'hola'"
   ]
  },
  {
   "cell_type": "code",
   "execution_count": 253,
   "id": "635ca966",
   "metadata": {},
   "outputs": [
    {
     "data": {
      "text/plain": [
       "[1, 2, 'hola', 4]"
      ]
     },
     "execution_count": 253,
     "metadata": {},
     "output_type": "execute_result"
    }
   ],
   "source": [
    "tupla"
   ]
  },
  {
   "cell_type": "code",
   "execution_count": 254,
   "id": "b994337d",
   "metadata": {},
   "outputs": [
    {
     "data": {
      "text/plain": [
       "(1, 2, 'hola', 4)"
      ]
     },
     "execution_count": 254,
     "metadata": {},
     "output_type": "execute_result"
    }
   ],
   "source": [
    "tuple(tupla)"
   ]
  },
  {
   "cell_type": "markdown",
   "id": "f1d43f6e-6746-4488-b6a3-aabe1a57bf46",
   "metadata": {},
   "source": [
    "## Summary\n",
    "\n",
    "It is always crucial to know what kind of variable you have in your hands because this determines how to retrieve the data. \n",
    "\n",
    "- lists and tuples -> accessed by **index**\n",
    "- dictionaries -> accessed by **key** (misleadingly, the key can be a number but usually is a string)\n",
    "- sets ->  since sets are unordered, they do not support indexing or retrieval of elements by position\n",
    "\n",
    "\n",
    "To identify these types:\n",
    "- Lists are easily recognizable as they begin and end with square brackets `[ ]`.\n",
    "- Dictionaries are enclosed in curly brackets `{ }`.\n",
    "- Sets are also enclosed in curly brackets `{ }`, but they lack key-value pairs.\n",
    "- Tuples are indicated by parentheses `( )`."
   ]
  },
  {
   "cell_type": "markdown",
   "id": "1e02990b-5522-4ee2-aa1e-c9e3b7b2601c",
   "metadata": {},
   "source": [
    "![](https://github.com/data-bootcamp-v4/lessons/blob/main/img/data-structures.png?raw=true)"
   ]
  },
  {
   "cell_type": "markdown",
   "id": "08143668-d89c-40a4-8e3d-4058f0a6b66d",
   "metadata": {},
   "source": [
    "## 💡 Check for understanding"
   ]
  },
  {
   "cell_type": "markdown",
   "id": "81d83946-739d-47b6-949d-3d80322f8c47",
   "metadata": {},
   "source": [
    "Write a program that allows the user to enter the grades of five students. The program should store these grades in a list and then display the average grade."
   ]
  },
  {
   "cell_type": "code",
   "execution_count": null,
   "id": "f29748e1-523c-4ba3-a74c-c17d4314717e",
   "metadata": {},
   "outputs": [],
   "source": [
    "# Write your code here"
   ]
  },
  {
   "cell_type": "markdown",
   "id": "05fb5689-6131-4ebb-97af-6408f8813217",
   "metadata": {},
   "source": [
    "**Please refer to the following hint only if you have attempted the Check for Understanding and are still confused. Do not read it before giving it a try.**:\n",
    "\n",
    "Here's a step-by-step guide:\n",
    "\n",
    "1. Create an empty list to store the grades.\n",
    "2. Use the `input()` function to get the grade from the user for each student. Append each grade to the list.\n",
    "3. Calculate the average grade by summing up all the grades in the list and dividing by the number of grades.\n",
    "4. Display the average grade to the user."
   ]
  },
  {
   "cell_type": "markdown",
   "id": "6aabbf00-3eba-412b-860a-e7f9727ff71e",
   "metadata": {},
   "source": [
    "# Extra: nested dictionaries "
   ]
  },
  {
   "cell_type": "markdown",
   "id": "5f25699d-f74f-4136-90e6-2bf44d44d967",
   "metadata": {},
   "source": [
    "In Python, a nested dictionary is a dictionary where the values are themselves dictionaries. This can be useful when you need to organize data into multiple levels or categories. Here are some key points about nested dictionaries:\n",
    "\n",
    "- A nested dictionary can have multiple levels of nesting, with each level representing a specific category or subcategory.\n",
    "- You can access the values in a nested dictionary by specifying the keys at each level.\n",
    "- You can add, modify, or remove elements from a nested dictionary, just like with regular dictionaries.\n",
    "- Each level of a nested dictionary can have different keys and values, providing flexibility in structuring your data.\n"
   ]
  },
  {
   "cell_type": "code",
   "execution_count": null,
   "id": "89c96830-96e2-4178-b3a1-8afed9b641e4",
   "metadata": {},
   "outputs": [],
   "source": [
    "# Creating a nested dictionary\n",
    "student_data = {\n",
    "    'John': {\n",
    "        'age': 20,\n",
    "        'major': 'Computer Science',\n",
    "        'grades': [85, 90, 78]\n",
    "    },\n",
    "    'Jane': {\n",
    "        'age': 22,\n",
    "        'major': 'Biology',\n",
    "        'grades': [92, 88, 95]\n",
    "    }\n",
    "}"
   ]
  },
  {
   "cell_type": "code",
   "execution_count": null,
   "id": "a25cd58c-19dc-4e35-b133-3b4b1ae61321",
   "metadata": {},
   "outputs": [],
   "source": [
    "# Accessing values in a nested dictionary\n",
    "john_age = student_data['John']['age']\n",
    "jane_major = student_data['Jane']['major']\n",
    "john_grades = student_data['John']['grades']\n",
    "\n",
    "print(john_age)  # Output: 20\n",
    "print(jane_major)  # Output: Biology\n",
    "print(john_grades)  # Output: [85, 90, 78]"
   ]
  },
  {
   "cell_type": "code",
   "execution_count": null,
   "id": "a7bf9651-8ca7-4809-9f2b-ac77ec1b868a",
   "metadata": {},
   "outputs": [],
   "source": [
    "# Modifying values in a nested dictionary\n",
    "student_data['John']['major'] = 'Electrical Engineering'\n",
    "student_data['Jane']['grades'].append(97)"
   ]
  },
  {
   "cell_type": "code",
   "execution_count": null,
   "id": "6c496256-0870-4455-96a9-0aefa9bd6c31",
   "metadata": {},
   "outputs": [],
   "source": [
    "# Adding a new student to the nested dictionary\n",
    "student_data['Sarah'] = {\n",
    "    'age': 19,\n",
    "    'major': 'Physics',\n",
    "    'grades': [90, 91, 88]\n",
    "}"
   ]
  },
  {
   "cell_type": "code",
   "execution_count": null,
   "id": "870021a8-0342-4068-8569-102655de8152",
   "metadata": {},
   "outputs": [],
   "source": [
    "# Removing a student from the nested dictionary\n",
    "del student_data['John']\n",
    "\n",
    "print(student_data)"
   ]
  },
  {
   "cell_type": "code",
   "execution_count": null,
   "id": "bd09ff80-cfac-48ab-a78d-e653bf9d85f0",
   "metadata": {},
   "outputs": [],
   "source": [
    "student_data.keys()"
   ]
  },
  {
   "cell_type": "code",
   "execution_count": null,
   "id": "a049c2d5-d318-4f0e-95e2-5d3945e84def",
   "metadata": {},
   "outputs": [],
   "source": [
    "student_data.values()"
   ]
  },
  {
   "cell_type": "markdown",
   "id": "da05cac7-13d8-4ecd-bb6e-c244c29ede11",
   "metadata": {},
   "source": [
    "As you can see, the `keys` of a dictionary can be either:\n",
    "\n",
    "- strings \n",
    "- numbers\n",
    "\n",
    "In this above example, the dictionary `keys` which are strings. In this particular case, the `values` are also dictionaries."
   ]
  },
  {
   "cell_type": "code",
   "execution_count": null,
   "id": "3f9406c7-6da3-430f-a99c-db109cced171",
   "metadata": {},
   "outputs": [],
   "source": [
    "student_data[\"Jane\"].keys()"
   ]
  },
  {
   "cell_type": "code",
   "execution_count": null,
   "id": "2b9ec1e3-7e34-4340-863f-09b442c113ba",
   "metadata": {},
   "outputs": [],
   "source": [
    "student_data[\"Jane\"].values()"
   ]
  },
  {
   "cell_type": "markdown",
   "id": "12cf0a81-5f6b-434b-aef2-ebb9afc191ce",
   "metadata": {},
   "source": [
    "💡Check for understanding: how would you access the first grade of Jane?"
   ]
  },
  {
   "cell_type": "code",
   "execution_count": null,
   "id": "607b21fe-fbd6-430a-b94e-df80ee7864f7",
   "metadata": {},
   "outputs": [],
   "source": [
    "# Try it yourself here"
   ]
  },
  {
   "cell_type": "markdown",
   "id": "2976667a-d51a-4188-ba3a-67a47097d071",
   "metadata": {},
   "source": [
    "We mentioned nested dictionaries (dictionaries inside dictionaries) but as you can see in the example, we can also have lists inside dictionaries. "
   ]
  },
  {
   "cell_type": "markdown",
   "id": "b1f00c61-f13c-4155-a7d4-d663de273a44",
   "metadata": {},
   "source": [
    "You can also have lists in which each element is a dictionary. Therefore the amount of possible combinations and levels of nesting is endless."
   ]
  },
  {
   "cell_type": "code",
   "execution_count": null,
   "id": "78d88957-0a66-4df7-b656-5edaeaf43a6c",
   "metadata": {},
   "outputs": [],
   "source": [
    "my_data = [{'Mike': [25,23000],'Jane': [38, 40000],'Bill': [45,35000]},{'Developers': ['Mike','Bill']},{'HR': ['Jane']}]\n",
    "my_data"
   ]
  },
  {
   "cell_type": "markdown",
   "id": "b6a957c4-d529-4fa9-a1d2-dfea3e59adcc",
   "metadata": {},
   "source": [
    "This is an example of a nested list with three elements, and each element is a dictionary. When working with nested data structures like this, it is important to understand the type of variable you are dealing with.\n",
    "\n",
    "Let's check the type of the variable `my_data`:"
   ]
  },
  {
   "cell_type": "code",
   "execution_count": null,
   "id": "1482c0ca-8477-4b4b-8e15-c5a137a62bf9",
   "metadata": {},
   "outputs": [],
   "source": [
    "type(my_data)"
   ]
  },
  {
   "cell_type": "markdown",
   "id": "a87a5836-1c86-4a1e-8a12-5201daa9e4b5",
   "metadata": {},
   "source": [
    "Let's access the first element of the list. Since the variable is a **list**, we use **indexing**. Indexing allows us to retrieve specific elements from a list by their position. In this case, to access the first element, we use the index 0 since Python starts counting from 0."
   ]
  },
  {
   "cell_type": "code",
   "execution_count": null,
   "id": "247f2ac8-bcaf-46f8-bd70-25a9e51e69eb",
   "metadata": {},
   "outputs": [],
   "source": [
    "my_data[0]"
   ]
  },
  {
   "cell_type": "markdown",
   "id": "88fe62d8-d888-4e97-8856-959ee1bd47aa",
   "metadata": {},
   "source": [
    "This element is a dictionary, which can be determined by its structure and the presence of key-value pairs. However, if you're unsure about the data type, you can use the `type()` function to confirm it."
   ]
  },
  {
   "cell_type": "code",
   "execution_count": null,
   "id": "9a049816-1098-4799-82a8-003fa5ccd263",
   "metadata": {},
   "outputs": [],
   "source": [
    "type(my_data[0])"
   ]
  },
  {
   "cell_type": "markdown",
   "id": "635d4205-cc13-4a0b-aa87-c0898da9d3dd",
   "metadata": {},
   "source": [
    "Now let's access the data of 'Jane'. Since this element is a **dictionary**, we need to access its values using the corresponding **keys**."
   ]
  },
  {
   "cell_type": "code",
   "execution_count": null,
   "id": "062356f6-f02c-4d11-9dd0-2e55cfa438b8",
   "metadata": {},
   "outputs": [],
   "source": [
    "my_data[0]['Jane']"
   ]
  },
  {
   "cell_type": "markdown",
   "id": "089625c7-dfd1-4b7a-b490-9821eb84572d",
   "metadata": {},
   "source": [
    "As we can see, we get another **list**. To access the last element of this list, we can use its **index**."
   ]
  },
  {
   "cell_type": "code",
   "execution_count": null,
   "id": "9bd9d9ac-91c9-48df-8973-18de70bfa330",
   "metadata": {},
   "outputs": [],
   "source": [
    "type(my_data[0]['Jane']) # Let's make sure its a list"
   ]
  },
  {
   "cell_type": "code",
   "execution_count": null,
   "id": "fefcc28d-84b9-4e6e-815b-e924a99ff32e",
   "metadata": {},
   "outputs": [],
   "source": [
    "my_data[0]['Jane'][1]"
   ]
  },
  {
   "cell_type": "markdown",
   "id": "b7107a1a-b95b-4af4-bff4-91a42d435d55",
   "metadata": {},
   "source": [
    "# Extra: \"is\" vs \"==\" "
   ]
  },
  {
   "cell_type": "markdown",
   "id": "644820c4-1c6a-4793-8153-4a34d6b822de",
   "metadata": {},
   "source": [
    "- `==` compares the values of two objects and returns `True` if they are equal.\n",
    "- `is` compares the identity of two objects and returns `True` if they refer to the same object in memory.\n",
    "- `id()` is a built-in function in Python that returns the unique identifier (memory address) of an object. Each object has a distinct `id()` value, allowing us to differentiate between different objects even if they have the same values."
   ]
  },
  {
   "cell_type": "code",
   "execution_count": 255,
   "id": "4733a76e-fa9f-4c21-b277-3ecca378139c",
   "metadata": {},
   "outputs": [],
   "source": [
    "a = [1, 2]\n",
    "b = [1, 2]"
   ]
  },
  {
   "cell_type": "code",
   "execution_count": 256,
   "id": "299e3991",
   "metadata": {},
   "outputs": [
    {
     "data": {
      "text/plain": [
       "True"
      ]
     },
     "execution_count": 256,
     "metadata": {},
     "output_type": "execute_result"
    }
   ],
   "source": [
    "a == b"
   ]
  },
  {
   "cell_type": "code",
   "execution_count": 257,
   "id": "1d425367",
   "metadata": {},
   "outputs": [
    {
     "data": {
      "text/plain": [
       "False"
      ]
     },
     "execution_count": 257,
     "metadata": {},
     "output_type": "execute_result"
    }
   ],
   "source": [
    "a is b"
   ]
  },
  {
   "cell_type": "code",
   "execution_count": 258,
   "id": "ffc2e69c",
   "metadata": {},
   "outputs": [
    {
     "data": {
      "text/plain": [
       "4426545152"
      ]
     },
     "execution_count": 258,
     "metadata": {},
     "output_type": "execute_result"
    }
   ],
   "source": [
    "id(a)"
   ]
  },
  {
   "cell_type": "code",
   "execution_count": 259,
   "id": "fa03ab2e",
   "metadata": {},
   "outputs": [
    {
     "data": {
      "text/plain": [
       "4426500480"
      ]
     },
     "execution_count": 259,
     "metadata": {},
     "output_type": "execute_result"
    }
   ],
   "source": [
    "id(b)"
   ]
  },
  {
   "cell_type": "code",
   "execution_count": 260,
   "id": "bed2dafe",
   "metadata": {},
   "outputs": [],
   "source": [
    "a = b"
   ]
  },
  {
   "cell_type": "code",
   "execution_count": 261,
   "id": "ea273aed",
   "metadata": {},
   "outputs": [
    {
     "data": {
      "text/plain": [
       "True"
      ]
     },
     "execution_count": 261,
     "metadata": {},
     "output_type": "execute_result"
    }
   ],
   "source": [
    "a == b"
   ]
  },
  {
   "cell_type": "code",
   "execution_count": 262,
   "id": "723509f5",
   "metadata": {},
   "outputs": [
    {
     "data": {
      "text/plain": [
       "True"
      ]
     },
     "execution_count": 262,
     "metadata": {},
     "output_type": "execute_result"
    }
   ],
   "source": [
    "a is b"
   ]
  },
  {
   "cell_type": "code",
   "execution_count": 263,
   "id": "b1a6e04f",
   "metadata": {},
   "outputs": [],
   "source": [
    "a.append('hola')"
   ]
  },
  {
   "cell_type": "code",
   "execution_count": 264,
   "id": "599f3ee4",
   "metadata": {},
   "outputs": [
    {
     "data": {
      "text/plain": [
       "[1, 2, 'hola']"
      ]
     },
     "execution_count": 264,
     "metadata": {},
     "output_type": "execute_result"
    }
   ],
   "source": [
    "a"
   ]
  },
  {
   "cell_type": "code",
   "execution_count": 265,
   "id": "3825db7f",
   "metadata": {},
   "outputs": [
    {
     "data": {
      "text/plain": [
       "[1, 2, 'hola']"
      ]
     },
     "execution_count": 265,
     "metadata": {},
     "output_type": "execute_result"
    }
   ],
   "source": [
    "b"
   ]
  },
  {
   "cell_type": "code",
   "execution_count": 267,
   "id": "360498f9",
   "metadata": {},
   "outputs": [],
   "source": [
    "lst2 = lista[:]"
   ]
  },
  {
   "cell_type": "code",
   "execution_count": 268,
   "id": "014a3d33",
   "metadata": {},
   "outputs": [
    {
     "data": {
      "text/plain": [
       "[1, 1, 1, 1, 1, 2, 2, 2, 2, 2, 23, 3, 3, 3, 3, 3, 'hola']"
      ]
     },
     "execution_count": 268,
     "metadata": {},
     "output_type": "execute_result"
    }
   ],
   "source": [
    "lista.append('hola')\n",
    "\n",
    "lista"
   ]
  },
  {
   "cell_type": "code",
   "execution_count": 269,
   "id": "28be1efa",
   "metadata": {},
   "outputs": [
    {
     "data": {
      "text/plain": [
       "[1, 1, 1, 1, 1, 2, 2, 2, 2, 2, 23, 3, 3, 3, 3, 3]"
      ]
     },
     "execution_count": 269,
     "metadata": {},
     "output_type": "execute_result"
    }
   ],
   "source": [
    "lst2"
   ]
  },
  {
   "cell_type": "code",
   "execution_count": null,
   "id": "b54773f1",
   "metadata": {},
   "outputs": [],
   "source": []
  }
 ],
 "metadata": {
  "kernelspec": {
   "display_name": "Python 3 (ipykernel)",
   "language": "python",
   "name": "python3"
  },
  "language_info": {
   "codemirror_mode": {
    "name": "ipython",
    "version": 3
   },
   "file_extension": ".py",
   "mimetype": "text/x-python",
   "name": "python",
   "nbconvert_exporter": "python",
   "pygments_lexer": "ipython3",
   "version": "3.9.12"
  },
  "toc": {
   "base_numbering": 1,
   "nav_menu": {},
   "number_sections": true,
   "sideBar": true,
   "skip_h1_title": false,
   "title_cell": "Table of Contents",
   "title_sidebar": "Contents",
   "toc_cell": true,
   "toc_position": {
    "height": "537.273px",
    "left": "1007.99px",
    "top": "110.824px",
    "width": "165px"
   },
   "toc_section_display": true,
   "toc_window_display": true
  }
 },
 "nbformat": 4,
 "nbformat_minor": 5
}
