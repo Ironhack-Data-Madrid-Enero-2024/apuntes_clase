{
 "cells": [
  {
   "cell_type": "code",
   "execution_count": 1,
   "id": "b8c39b9b",
   "metadata": {},
   "outputs": [],
   "source": [
    "products = [\"t-shirt\", \"mug\", \"hat\", \"book\", \"keychain\"]\n"
   ]
  },
  {
   "cell_type": "code",
   "execution_count": 3,
   "id": "2cbc554a",
   "metadata": {},
   "outputs": [],
   "source": [
    "# Step 1: Define the function for initializing the inventory\n",
    "\n",
    "\n",
    "def initialize_inventory(products):\n",
    "    \n",
    "    inventory = {}\n",
    "    \n",
    "    for product in products:\n",
    "        \n",
    "        valid_input = False\n",
    "        \n",
    "        \n",
    "        while not valid_input:\n",
    "            \n",
    "            try:\n",
    "                \n",
    "                quantity = int(input(f\"Enter the quantity of {product}s available: \"))\n",
    "                \n",
    "                if quantity >= 0:\n",
    "                    inventory[product] = quantity\n",
    "                    valid_input = True\n",
    "                    \n",
    "                    \n",
    "                else:\n",
    "                    print(\"Quantity cannot be negative. Please enter a valid quantity.\")\n",
    "                    \n",
    "                    \n",
    "            except ValueError:\n",
    "                print(\"Invalid input. Please enter a valid quantity.\")\n",
    "                \n",
    "                \n",
    "                \n",
    "    return inventory"
   ]
  },
  {
   "cell_type": "code",
   "execution_count": 5,
   "id": "8ebf9f14",
   "metadata": {},
   "outputs": [
    {
     "name": "stdout",
     "output_type": "stream",
     "text": [
      "Enter the quantity of t-shirts available: rfer\n",
      "Invalid input. Please enter a valid quantity.\n",
      "Enter the quantity of t-shirts available: fefe\n",
      "Invalid input. Please enter a valid quantity.\n",
      "Enter the quantity of t-shirts available: -5\n",
      "Quantity cannot be negative. Please enter a valid quantity.\n",
      "Enter the quantity of t-shirts available: -5\n",
      "Quantity cannot be negative. Please enter a valid quantity.\n",
      "Enter the quantity of t-shirts available: 3\n",
      "Enter the quantity of mugs available: 4\n",
      "Enter the quantity of hats available: 5\n",
      "Enter the quantity of books available: 6\n",
      "Enter the quantity of keychains available: 7\n"
     ]
    },
    {
     "data": {
      "text/plain": [
       "{'t-shirt': 3, 'mug': 4, 'hat': 5, 'book': 6, 'keychain': 7}"
      ]
     },
     "execution_count": 5,
     "metadata": {},
     "output_type": "execute_result"
    }
   ],
   "source": [
    "inventory = initialize_inventory(products)\n",
    "\n",
    "inventory"
   ]
  },
  {
   "cell_type": "code",
   "execution_count": 6,
   "id": "a1cdd984",
   "metadata": {},
   "outputs": [],
   "source": [
    "# Step 2: Define the function for getting customer orders\n",
    "\n",
    "\n",
    "def get_customer_orders(inventory):\n",
    "    \n",
    "    \n",
    "    valid_input = False\n",
    "    \n",
    "    \n",
    "    \n",
    "    while not valid_input:\n",
    "        \n",
    "        \n",
    "        try:\n",
    "            num_orders = int(input(\"Enter the number of customer orders: \"))\n",
    "            \n",
    "            if num_orders >= 0:\n",
    "                valid_input = True\n",
    "            else:\n",
    "                print(\"Number of orders cannot be negative. Please enter a valid number.\")\n",
    "                \n",
    "                \n",
    "        except ValueError:\n",
    "            print(\"Invalid input. Please enter a valid number.\")\n",
    "            \n",
    "            \n",
    "            \n",
    "            \n",
    "    customer_orders = set()\n",
    "    \n",
    "    \n",
    "    for _ in range(num_orders):\n",
    "        \n",
    "        \n",
    "        valid_product = False\n",
    "        \n",
    "        \n",
    "        while not valid_product:\n",
    "            \n",
    "            \n",
    "            product_name = input(\"Enter the name of a product that a customer wants to order: \")\n",
    "            \n",
    "            \n",
    "            try:\n",
    "                \n",
    "                if product_name in inventory.keys() and inventory[product_name] > 0:\n",
    "                    \n",
    "                    customer_orders.add(product_name)\n",
    "                    valid_product = True\n",
    "                    \n",
    "                    \n",
    "                else:\n",
    "                    if product_name not in inventory:\n",
    "                        raise ValueError(f\"Error: {product_name} is not available in the inventory.\")\n",
    "                    else:\n",
    "                        raise ValueError(f\"Error: {product_name} is out of stock.\")\n",
    "                        \n",
    "            except ValueError as e:\n",
    "                print(str(e))\n",
    "                \n",
    "                \n",
    "\n",
    "    return customer_orders"
   ]
  },
  {
   "cell_type": "code",
   "execution_count": 10,
   "id": "517eb846",
   "metadata": {},
   "outputs": [
    {
     "name": "stdout",
     "output_type": "stream",
     "text": [
      "Enter the number of customer orders: 3\n",
      "Enter the name of a product that a customer wants to order: book\n",
      "Enter the name of a product that a customer wants to order: book\n",
      "Enter the name of a product that a customer wants to order: hat\n"
     ]
    },
    {
     "data": {
      "text/plain": [
       "{'book', 'hat'}"
      ]
     },
     "execution_count": 10,
     "metadata": {},
     "output_type": "execute_result"
    }
   ],
   "source": [
    "customer_orders = get_customer_orders(inventory)\n",
    "\n",
    "customer_orders"
   ]
  },
  {
   "cell_type": "code",
   "execution_count": 11,
   "id": "3b2c6b54",
   "metadata": {},
   "outputs": [],
   "source": [
    "# Step 3: Define the function for updating the inventory\n",
    "\n",
    "def update_inventory(customer_orders, inventory):\n",
    "    \n",
    "    \n",
    "    inventory = {product: inventory[product] - 1 if product in customer_orders else inventory[product] \n",
    "                 for product in inventory}\n",
    "    \n",
    "    \n",
    "    inventory = {product: quantity for product, quantity in inventory.items() if quantity > 0}\n",
    "    \n",
    "    \n",
    "    return inventory"
   ]
  },
  {
   "cell_type": "code",
   "execution_count": 12,
   "id": "b1a3eaba",
   "metadata": {},
   "outputs": [
    {
     "data": {
      "text/plain": [
       "{'t-shirt': 3, 'mug': 4, 'hat': 5, 'book': 6, 'keychain': 7}"
      ]
     },
     "execution_count": 12,
     "metadata": {},
     "output_type": "execute_result"
    }
   ],
   "source": [
    "inventory"
   ]
  },
  {
   "cell_type": "code",
   "execution_count": 13,
   "id": "3139b17c",
   "metadata": {},
   "outputs": [
    {
     "data": {
      "text/plain": [
       "{'t-shirt': 3, 'mug': 4, 'hat': 4, 'book': 5, 'keychain': 7}"
      ]
     },
     "execution_count": 13,
     "metadata": {},
     "output_type": "execute_result"
    }
   ],
   "source": [
    "inventory = update_inventory(customer_orders, inventory)\n",
    "\n",
    "inventory"
   ]
  },
  {
   "cell_type": "code",
   "execution_count": 14,
   "id": "dbf43375",
   "metadata": {},
   "outputs": [],
   "source": [
    "# Step 4: Define the function for calculating order statistics\n",
    "\n",
    "def calculate_order_statistics(customer_orders, products):\n",
    "    \n",
    "    total_products_ordered = len(customer_orders)\n",
    "    percentage_ordered = (total_products_ordered / len(products)) * 100\n",
    "    return total_products_ordered, percentage_ordered\n",
    "\n",
    "\n",
    "\n",
    "\n",
    "# Step 5: Define the function for printing order statistics\n",
    "def print_order_statistics(order_statistics):\n",
    "    print(\"\\nOrder Statistics:\")\n",
    "    print(\"Total Products Ordered:\", order_statistics[0])\n",
    "    print(\"Percentage of Unique Products Ordered:\", order_statistics[1])\n",
    "    \n",
    "    \n",
    "\n",
    "# Step 6: Define the function for printing the updated inventory\n",
    "def print_updated_inventory(inventory):\n",
    "    print(\"\\nUpdated Inventory:\")\n",
    "    [print(f\"{product}: {quantity}\") for product, quantity in inventory.items()]"
   ]
  },
  {
   "cell_type": "code",
   "execution_count": 15,
   "id": "8b6603ef",
   "metadata": {},
   "outputs": [],
   "source": [
    "# Step 7: Define the function for calculating the total price of the customer order\n",
    "\n",
    "\n",
    "def calculate_total_price(customer_orders):\n",
    "    \n",
    "    total_price = 0\n",
    "    \n",
    "    \n",
    "    for product in customer_orders:\n",
    "        \n",
    "        \n",
    "        valid_input = False\n",
    "        \n",
    "        \n",
    "        while not valid_input:\n",
    "            \n",
    "            try:\n",
    "                price = float(input(f\"Enter the price of {product}: \"))\n",
    "                \n",
    "                if price >= 0:\n",
    "                    total_price += price\n",
    "                    valid_input = True\n",
    "                    \n",
    "                    \n",
    "                else:\n",
    "                    print(\"Price cannot be negative. Please enter a valid price.\")\n",
    "                    \n",
    "                    \n",
    "            except ValueError:\n",
    "                print(\"Invalid input. Please enter a valid price.\")\n",
    "                \n",
    "                \n",
    "    return total_price"
   ]
  },
  {
   "cell_type": "code",
   "execution_count": 16,
   "id": "5115f20c",
   "metadata": {},
   "outputs": [
    {
     "name": "stdout",
     "output_type": "stream",
     "text": [
      "Enter the price of hat: 120\n",
      "Enter the price of book: 450\n"
     ]
    },
    {
     "data": {
      "text/plain": [
       "570.0"
      ]
     },
     "execution_count": 16,
     "metadata": {},
     "output_type": "execute_result"
    }
   ],
   "source": [
    "calculate_total_price(customer_orders)"
   ]
  },
  {
   "cell_type": "code",
   "execution_count": 17,
   "id": "88a3f2c1",
   "metadata": {},
   "outputs": [
    {
     "name": "stdout",
     "output_type": "stream",
     "text": [
      "Enter the quantity of t-shirts available: 20\n",
      "Enter the quantity of mugs available: 3\n",
      "Enter the quantity of hats available: 6\n",
      "Enter the quantity of books available: 80\n",
      "Enter the quantity of keychains available: 32\n",
      "Enter the number of customer orders: 3\n",
      "Enter the name of a product that a customer wants to order: t-shirt\n",
      "Enter the name of a product that a customer wants to order: hat\n",
      "Enter the name of a product that a customer wants to order: book\n",
      "\n",
      "Order Statistics:\n",
      "Total Products Ordered: 3\n",
      "Percentage of Unique Products Ordered: 60.0\n",
      "\n",
      "Updated Inventory:\n",
      "t-shirt: 19\n",
      "mug: 3\n",
      "hat: 5\n",
      "book: 79\n",
      "keychain: 32\n",
      "Enter the price of hat: 120\n",
      "Enter the price of t-shirt: 9000\n",
      "Enter the price of book: 23445\n",
      "Total Price: 32565.0\n"
     ]
    }
   ],
   "source": [
    "# Step 8: Call the functions in the appropriate sequence to manage customer orders\n",
    "\n",
    "\n",
    "products = [\"t-shirt\", \"mug\", \"hat\", \"book\", \"keychain\"]\n",
    "\n",
    "\n",
    "inventory = initialize_inventory(products)\n",
    "\n",
    "\n",
    "customer_orders = get_customer_orders(inventory)\n",
    "\n",
    "\n",
    "inventory = update_inventory(customer_orders, inventory)\n",
    "\n",
    "\n",
    "order_statistics = calculate_order_statistics(customer_orders, products)\n",
    "\n",
    "\n",
    "print_order_statistics(order_statistics)\n",
    "\n",
    "\n",
    "print_updated_inventory(inventory)\n",
    "\n",
    "\n",
    "total_price = calculate_total_price(customer_orders)\n",
    "\n",
    "\n",
    "print(\"Total Price:\", total_price)"
   ]
  },
  {
   "cell_type": "code",
   "execution_count": null,
   "id": "6e17eeba",
   "metadata": {},
   "outputs": [],
   "source": []
  }
 ],
 "metadata": {
  "kernelspec": {
   "display_name": "clase",
   "language": "python",
   "name": "clase"
  },
  "language_info": {
   "codemirror_mode": {
    "name": "ipython",
    "version": 3
   },
   "file_extension": ".py",
   "mimetype": "text/x-python",
   "name": "python",
   "nbconvert_exporter": "python",
   "pygments_lexer": "ipython3",
   "version": "3.9.12"
  }
 },
 "nbformat": 4,
 "nbformat_minor": 5
}
