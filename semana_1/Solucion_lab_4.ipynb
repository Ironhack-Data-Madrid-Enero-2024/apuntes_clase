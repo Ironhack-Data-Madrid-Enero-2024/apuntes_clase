{
 "cells": [
  {
   "cell_type": "code",
   "execution_count": 2,
   "id": "e5eb8ff7",
   "metadata": {},
   "outputs": [
    {
     "data": {
      "text/plain": [
       "['t-shirt', 'mug', 'hat', 'book', 'keychain']"
      ]
     },
     "execution_count": 2,
     "metadata": {},
     "output_type": "execute_result"
    }
   ],
   "source": [
    "products = [\"t-shirt\", \"mug\", \"hat\", \"book\", \"keychain\"]\n",
    "\n",
    "products"
   ]
  },
  {
   "cell_type": "code",
   "execution_count": 3,
   "id": "3e8064d9",
   "metadata": {},
   "outputs": [],
   "source": [
    "# Step 1\n",
    "\n",
    "\n",
    "# definicion de funcion\n",
    "\n",
    "\n",
    "def initialize_inventory(productos):\n",
    "    \n",
    "    inventory = {}\n",
    "    \n",
    "    for p in productos:\n",
    "        \n",
    "        inventory[p] = int(input(f'Numero de productos de {p} '))\n",
    "        \n",
    "    \n",
    "    return inventory"
   ]
  },
  {
   "cell_type": "code",
   "execution_count": 4,
   "id": "d5e14b11",
   "metadata": {},
   "outputs": [],
   "source": [
    "def initialize_inventory(productos):\n",
    "    \n",
    "    return {p: int(input(f'Numero de productos de {p} ')) for p in productos}"
   ]
  },
  {
   "cell_type": "code",
   "execution_count": 5,
   "id": "e5d6e4a5",
   "metadata": {},
   "outputs": [
    {
     "name": "stdout",
     "output_type": "stream",
     "text": [
      "Numero de productos de t-shirt 4\n",
      "Numero de productos de mug 5\n",
      "Numero de productos de hat 6\n",
      "Numero de productos de book 8\n",
      "Numero de productos de keychain 9\n"
     ]
    },
    {
     "data": {
      "text/plain": [
       "{'t-shirt': 4, 'mug': 5, 'hat': 6, 'book': 8, 'keychain': 9}"
      ]
     },
     "execution_count": 5,
     "metadata": {},
     "output_type": "execute_result"
    }
   ],
   "source": [
    "initialize_inventory(products)"
   ]
  },
  {
   "cell_type": "code",
   "execution_count": 6,
   "id": "3dbbb5e3",
   "metadata": {},
   "outputs": [],
   "source": [
    "initialize_inventory2 = lambda productos: {p: int(input(f'Numero de productos de {p} ')) for p in productos}"
   ]
  },
  {
   "cell_type": "code",
   "execution_count": 9,
   "id": "6c12c25c",
   "metadata": {},
   "outputs": [
    {
     "name": "stdout",
     "output_type": "stream",
     "text": [
      "Numero de productos de t-shirt 5\n",
      "Numero de productos de mug 4\n",
      "Numero de productos de hat 3\n",
      "Numero de productos de book 2\n",
      "Numero de productos de keychain 5\n"
     ]
    },
    {
     "data": {
      "text/plain": [
       "{'t-shirt': 5, 'mug': 4, 'hat': 3, 'book': 2, 'keychain': 5}"
      ]
     },
     "execution_count": 9,
     "metadata": {},
     "output_type": "execute_result"
    }
   ],
   "source": [
    "inventario = initialize_inventory2(products)\n",
    "\n",
    "inventario"
   ]
  },
  {
   "cell_type": "code",
   "execution_count": 20,
   "id": "6579bb73",
   "metadata": {},
   "outputs": [],
   "source": [
    "# Step 2\n",
    "\n",
    "def get_customer_orders():\n",
    "    \n",
    "    customer_orders = set()\n",
    "    \n",
    "    cuantos = int(input('Alegre, cuantos quieres...'))\n",
    "    \n",
    "    for i in range(cuantos):\n",
    "        \n",
    "        producto = input('Introduce el nombre de un producto.... ')\n",
    "\n",
    "        if producto not in products:\n",
    "            \n",
    "            print('Alegre, eso no lo tengo.')\n",
    "\n",
    "        else:\n",
    "            customer_orders.add(producto)\n",
    "            \n",
    "    return customer_orders"
   ]
  },
  {
   "cell_type": "code",
   "execution_count": 21,
   "id": "4dbaf8bd",
   "metadata": {},
   "outputs": [
    {
     "name": "stdout",
     "output_type": "stream",
     "text": [
      "Alegre, cuantos quieres...2\n",
      "Introduce el nombre de un producto.... hat\n",
      "Introduce el nombre de un producto.... book\n"
     ]
    },
    {
     "data": {
      "text/plain": [
       "{'book', 'hat'}"
      ]
     },
     "execution_count": 21,
     "metadata": {},
     "output_type": "execute_result"
    }
   ],
   "source": [
    "get_customer_orders()"
   ]
  },
  {
   "cell_type": "code",
   "execution_count": 22,
   "id": "4eb93553",
   "metadata": {},
   "outputs": [],
   "source": [
    "def get_customer_orders():\n",
    "    \n",
    "\n",
    "    \n",
    "    customer_orders = {input('Introduce el nombre de un producto.... ') \n",
    "                       for i in range(int(input('Alegre, cuantos quieres...')))\n",
    "                      }\n",
    "    \n",
    "    return customer_orders"
   ]
  },
  {
   "cell_type": "code",
   "execution_count": 23,
   "id": "81420226",
   "metadata": {},
   "outputs": [
    {
     "name": "stdout",
     "output_type": "stream",
     "text": [
      "Alegre, cuantos quieres...2\n",
      "Introduce el nombre de un producto.... hat\n",
      "Introduce el nombre de un producto.... book\n"
     ]
    },
    {
     "data": {
      "text/plain": [
       "{'book', 'hat'}"
      ]
     },
     "execution_count": 23,
     "metadata": {},
     "output_type": "execute_result"
    }
   ],
   "source": [
    "get_customer_orders()"
   ]
  },
  {
   "cell_type": "code",
   "execution_count": 35,
   "id": "5581c81c",
   "metadata": {},
   "outputs": [],
   "source": [
    "get_customer_orders = lambda : {input('Introduce el nombre de un producto.... ') \n",
    "                                for i in range(int(input('Alegre, cuantos quieres...')))}"
   ]
  },
  {
   "cell_type": "code",
   "execution_count": 36,
   "id": "97d1b3d2",
   "metadata": {},
   "outputs": [
    {
     "name": "stdout",
     "output_type": "stream",
     "text": [
      "Alegre, cuantos quieres...2\n",
      "Introduce el nombre de un producto.... hat\n",
      "Introduce el nombre de un producto.... book\n"
     ]
    },
    {
     "data": {
      "text/plain": [
       "{'book', 'hat'}"
      ]
     },
     "execution_count": 36,
     "metadata": {},
     "output_type": "execute_result"
    }
   ],
   "source": [
    "get_customer_orders()"
   ]
  },
  {
   "cell_type": "code",
   "execution_count": 37,
   "id": "2d80e5a2",
   "metadata": {},
   "outputs": [
    {
     "name": "stdout",
     "output_type": "stream",
     "text": [
      "Alegre, cuantos quieres...2\n",
      "Introduce el nombre de un producto.... hat\n",
      "Introduce el nombre de un producto.... book\n"
     ]
    },
    {
     "data": {
      "text/plain": [
       "{'book', 'hat'}"
      ]
     },
     "execution_count": 37,
     "metadata": {},
     "output_type": "execute_result"
    }
   ],
   "source": [
    "conjunto = get_customer_orders()\n",
    "\n",
    "conjunto"
   ]
  },
  {
   "cell_type": "code",
   "execution_count": 38,
   "id": "a4154529",
   "metadata": {},
   "outputs": [],
   "source": [
    "# Step 3\n",
    "\n",
    "def update_inventory(inventory, customer_orders):\n",
    "    \n",
    "    for orden in customer_orders:\n",
    "        \n",
    "        inventory[orden] -= 1\n",
    "        \n",
    "    return inventory"
   ]
  },
  {
   "cell_type": "code",
   "execution_count": 49,
   "id": "87d6961c",
   "metadata": {},
   "outputs": [],
   "source": [
    "def update_inventory(inventory: dict, customer_orders: set):\n",
    "        \n",
    "    return {k: v-1 if k in customer_orders else v for k,v in inventory.items()}"
   ]
  },
  {
   "cell_type": "code",
   "execution_count": 50,
   "id": "d4d06be2",
   "metadata": {},
   "outputs": [
    {
     "data": {
      "text/plain": [
       "{'t-shirt': 5, 'mug': 4, 'hat': 3, 'book': 2, 'keychain': 5}"
      ]
     },
     "execution_count": 50,
     "metadata": {},
     "output_type": "execute_result"
    }
   ],
   "source": [
    "inventario"
   ]
  },
  {
   "cell_type": "code",
   "execution_count": 51,
   "id": "9c4f7937",
   "metadata": {},
   "outputs": [
    {
     "data": {
      "text/plain": [
       "{'t-shirt': 5, 'mug': 4, 'hat': 2, 'book': 1, 'keychain': 5}"
      ]
     },
     "execution_count": 51,
     "metadata": {},
     "output_type": "execute_result"
    }
   ],
   "source": [
    "update_inventory(inventario, conjunto)"
   ]
  },
  {
   "cell_type": "code",
   "execution_count": 52,
   "id": "d79ee79d",
   "metadata": {},
   "outputs": [],
   "source": [
    "update_inventory = lambda inv, ords: {k: v-1 if k in ords else v \n",
    "                                      for k,v in inv.items()}"
   ]
  },
  {
   "cell_type": "code",
   "execution_count": 53,
   "id": "d7c7e749",
   "metadata": {},
   "outputs": [
    {
     "data": {
      "text/plain": [
       "{'t-shirt': 5, 'mug': 4, 'hat': 2, 'book': 1, 'keychain': 5}"
      ]
     },
     "execution_count": 53,
     "metadata": {},
     "output_type": "execute_result"
    }
   ],
   "source": [
    "update_inventory(inventario, conjunto)"
   ]
  },
  {
   "cell_type": "code",
   "execution_count": 54,
   "id": "57514900",
   "metadata": {},
   "outputs": [
    {
     "data": {
      "text/plain": [
       "{'t-shirt': 5, 'mug': 4, 'hat': 2, 'book': 1, 'keychain': 5}"
      ]
     },
     "execution_count": 54,
     "metadata": {},
     "output_type": "execute_result"
    }
   ],
   "source": [
    "inventario = update_inventory(inventario, conjunto)\n",
    "\n",
    "inventario"
   ]
  },
  {
   "cell_type": "code",
   "execution_count": 57,
   "id": "36e679fb",
   "metadata": {},
   "outputs": [
    {
     "data": {
      "text/plain": [
       "5"
      ]
     },
     "execution_count": 57,
     "metadata": {},
     "output_type": "execute_result"
    }
   ],
   "source": [
    "inventario.pop('keychain')"
   ]
  },
  {
   "cell_type": "code",
   "execution_count": 58,
   "id": "9e616f2c",
   "metadata": {},
   "outputs": [
    {
     "data": {
      "text/plain": [
       "{'t-shirt': 5, 'mug': 4, 'hat': 2, 'book': 1}"
      ]
     },
     "execution_count": 58,
     "metadata": {},
     "output_type": "execute_result"
    }
   ],
   "source": [
    "inventario"
   ]
  },
  {
   "cell_type": "code",
   "execution_count": 59,
   "id": "154f0eb2",
   "metadata": {},
   "outputs": [],
   "source": [
    "for k,v in inventario.items():\n",
    "    \n",
    "    if v<=0:\n",
    "        \n",
    "        inventario.pop(k)"
   ]
  },
  {
   "cell_type": "code",
   "execution_count": 60,
   "id": "4a71dd50",
   "metadata": {},
   "outputs": [
    {
     "data": {
      "text/plain": [
       "{'t-shirt': 5, 'mug': 4, 'hat': 2, 'book': 1}"
      ]
     },
     "execution_count": 60,
     "metadata": {},
     "output_type": "execute_result"
    }
   ],
   "source": [
    "inventario"
   ]
  },
  {
   "cell_type": "code",
   "execution_count": 63,
   "id": "fb5451f8",
   "metadata": {},
   "outputs": [
    {
     "data": {
      "text/plain": [
       "{'t-shirt': 5, 'mug': 4}"
      ]
     },
     "execution_count": 63,
     "metadata": {},
     "output_type": "execute_result"
    }
   ],
   "source": [
    "{k:v for k,v in inventario.items() if v>2}"
   ]
  },
  {
   "cell_type": "code",
   "execution_count": 65,
   "id": "0daf4337",
   "metadata": {},
   "outputs": [],
   "source": [
    "# Step 4: Define the function for calculating order statistics\n",
    "\n",
    "\n",
    "def calculate_order_statistics(customer_orders, products):\n",
    "\n",
    "    \n",
    "    total_products_ordered = len(customer_orders)\n",
    "    \n",
    "    percentage_ordered = (total_products_ordered / len(products)) * 100\n",
    "    \n",
    "    \n",
    "    return total_products_ordered, percentage_ordered"
   ]
  },
  {
   "cell_type": "code",
   "execution_count": 66,
   "id": "c165770f",
   "metadata": {},
   "outputs": [],
   "source": [
    "# Step 4: Define the function for calculating order statistics\n",
    "\n",
    "\n",
    "def calculate_order_statistics(customer_orders, products):\n",
    "\n",
    "    return len(customer_orders), (len(customer_orders) / len(products)) * 100"
   ]
  },
  {
   "cell_type": "code",
   "execution_count": 68,
   "id": "829a4128",
   "metadata": {},
   "outputs": [
    {
     "data": {
      "text/plain": [
       "(2, 40.0)"
      ]
     },
     "execution_count": 68,
     "metadata": {},
     "output_type": "execute_result"
    }
   ],
   "source": [
    "calculate_order_statistics(conjunto, products)"
   ]
  },
  {
   "cell_type": "code",
   "execution_count": 73,
   "id": "5ff09f41",
   "metadata": {},
   "outputs": [],
   "source": [
    "calculate_order_statistics = lambda ords, prods: [len(ords), (len(ords) / len(prods)) * 100]"
   ]
  },
  {
   "cell_type": "code",
   "execution_count": 74,
   "id": "83b6c916",
   "metadata": {},
   "outputs": [
    {
     "data": {
      "text/plain": [
       "[2, 40.0]"
      ]
     },
     "execution_count": 74,
     "metadata": {},
     "output_type": "execute_result"
    }
   ],
   "source": [
    "calculate_order_statistics(conjunto, products)"
   ]
  },
  {
   "cell_type": "code",
   "execution_count": 75,
   "id": "298e386b",
   "metadata": {},
   "outputs": [],
   "source": [
    "stats = calculate_order_statistics(conjunto, products)"
   ]
  },
  {
   "cell_type": "code",
   "execution_count": 76,
   "id": "57d6fc49",
   "metadata": {},
   "outputs": [
    {
     "name": "stdout",
     "output_type": "stream",
     "text": [
      "Total 2\n",
      "Porcen 40.0\n"
     ]
    }
   ],
   "source": [
    "print('Total', stats[0])\n",
    "print('Porcen', stats[1])"
   ]
  },
  {
   "cell_type": "code",
   "execution_count": 77,
   "id": "bb0b56bc",
   "metadata": {},
   "outputs": [
    {
     "data": {
      "text/plain": [
       "<function __main__.<lambda>(x)>"
      ]
     },
     "execution_count": 77,
     "metadata": {},
     "output_type": "execute_result"
    }
   ],
   "source": [
    "lambda x: [e**2 \\\n",
    "           for e in x]"
   ]
  },
  {
   "cell_type": "code",
   "execution_count": null,
   "id": "38f0ee8b",
   "metadata": {},
   "outputs": [],
   "source": []
  }
 ],
 "metadata": {
  "kernelspec": {
   "display_name": "clase",
   "language": "python",
   "name": "clase"
  },
  "language_info": {
   "codemirror_mode": {
    "name": "ipython",
    "version": 3
   },
   "file_extension": ".py",
   "mimetype": "text/x-python",
   "name": "python",
   "nbconvert_exporter": "python",
   "pygments_lexer": "ipython3",
   "version": "3.9.12"
  }
 },
 "nbformat": 4,
 "nbformat_minor": 5
}
